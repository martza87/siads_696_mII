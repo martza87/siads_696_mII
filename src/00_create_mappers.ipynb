{
 "cells": [
  {
   "cell_type": "markdown",
   "id": "219d0f4d",
   "metadata": {},
   "source": [
    "# Create Mapper Datasets\n",
    "## 00_create_mappers"
   ]
  },
  {
   "cell_type": "markdown",
   "id": "c8a11e79",
   "metadata": {},
   "source": [
    "| Date | User | Change Type | Remarks |  \n",
    "| ---- | ---- | ----------- | ------- |\n",
    "| 02/10/2025   | Adrienne | Created | Created mapper datasets | "
   ]
  },
  {
   "cell_type": "markdown",
   "id": "954e9d58",
   "metadata": {},
   "source": [
    "# Content\n",
    "\n",
    "* [Introduction](#introduction)\n",
    "* [Load Data](#load-data)\n",
    "* [Create Mapper Functions](#create-mapper-functions)"
   ]
  },
  {
   "cell_type": "markdown",
   "id": "1a8410d8",
   "metadata": {},
   "source": [
    "## Introduction"
   ]
  },
  {
   "cell_type": "markdown",
   "id": "8335b41a",
   "metadata": {},
   "source": [
    "The mapper combines the various HCPCS encodings (compiled by Adrienne) in a single dataframe. It expands the coding range from `code_range_start` to `code_range_end` and maps it to the corresponding description."
   ]
  },
  {
   "cell_type": "code",
   "execution_count": 5,
   "id": "3036f17f",
   "metadata": {},
   "outputs": [],
   "source": [
    "import pandas as pd\n",
    "import numpy as np\n",
    "import matplotlib.pyplot as plt\n",
    "import seaborn as sns\n",
    "from sklearn.preprocessing import LabelEncoder"
   ]
  },
  {
   "cell_type": "markdown",
   "id": "f3624c35",
   "metadata": {},
   "source": [
    "## Load Data"
   ]
  },
  {
   "cell_type": "code",
   "execution_count": 16,
   "id": "a004a4a4",
   "metadata": {},
   "outputs": [],
   "source": [
    "path = \"../data/raw\"\n",
    "hcpcs_1_map = pd.read_excel(f\"{path}/HCPCS Code Ranges.xlsx\", sheet_name='HCPCS Level I', dtype=str)\n",
    "hcpcs_2_map = pd.read_excel(f\"{path}/HCPCS Code Ranges.xlsx\", sheet_name='HCPCS Level II', dtype=str)\n",
    "cpt_map = pd.read_excel(f\"{path}/HCPCS Code Ranges.xlsx\", sheet_name='CPT Category II', dtype=str)"
   ]
  },
  {
   "cell_type": "markdown",
   "id": "6bb203ca",
   "metadata": {},
   "source": [
    "## Create Mapper Functions"
   ]
  },
  {
   "cell_type": "code",
   "execution_count": 14,
   "id": "a6492f95",
   "metadata": {},
   "outputs": [],
   "source": [
    "def extend_values(val: int, maxlen):\n",
    "  if len(str(val)) < maxlen:\n",
    "    return (maxlen - len(str(val))) * \"0\" + str(val)\n",
    "  else:\n",
    "    return str(val)"
   ]
  },
  {
   "cell_type": "code",
   "execution_count": 15,
   "id": "3bdd0a1c",
   "metadata": {},
   "outputs": [],
   "source": [
    "def create_mapper(raw: pd.DataFrame, dset: ''):\n",
    "  out = {\n",
    "    'code': [],\n",
    "    'category': [],\n",
    "    'description': []\n",
    "  }\n",
    "  for idx, row in raw.iterrows():\n",
    "    if dset == 'hcpcs_1':\n",
    "      row['code_range_start_int'] = int(row['code_range_start'])\n",
    "      row['code_range_end_int'] = int(row['code_range_end'])\n",
    "      \n",
    "      value = np.arange(row['code_range_start_int'], row['code_range_end_int']+1)\n",
    "      value = list(map(lambda x: extend_values(x, 5), value))\n",
    "      out['code'].append(value)\n",
    "      out['category'].append(len(value) * [\"HCPCS_level_1\"])\n",
    "      out['description'].append(len(value) * [row['range_description']])\n",
    "    \n",
    "    elif row['code_range_start'][0].isalpha():\n",
    "      if pd.isna(row['code_range_end']):\n",
    "        out['code'].append([row['code_range_start']])\n",
    "        out['category'].append([\"HCPCS_level_2\"])\n",
    "        out['description'].append([row['range_description']])\n",
    "      else:\n",
    "        try:\n",
    "          start_letter = row['code_range_start'][0]\n",
    "          start_num, end_num = int(row['code_range_start'][1:]), int(row['code_range_end'][1:])\n",
    "          value = np.arange(start_num, end_num+1)\n",
    "          value = list(map(lambda x: extend_values(x, 4), value))\n",
    "          value = [f\"{start_letter}{i}\" for i in value]\n",
    "          out['code'].append(value)\n",
    "          out['category'].append(len(value) * [\"HCPCS_level_2\"])\n",
    "          out['description'].append(len(value) * [row['range_description']])\n",
    "        except:\n",
    "          pass\n",
    "    \n",
    "    elif row['code_range_start'][-1].isalpha():\n",
    "      try:\n",
    "        end_letter = row['code_range_start'][-1]\n",
    "        start_num, end_num = int(row['code_range_start'][:-1]), int(row['code_range_end'][:-1])\n",
    "        value = np.arange(start_num, end_num+1)\n",
    "        value = list(map(lambda x: extend_values(x, 4), value))\n",
    "        value = [f\"{i}{end_letter}\" for i in value]\n",
    "        out['code'].append(value)\n",
    "        out['category'].append(len(value) * [\"CPT\"])\n",
    "        out['description'].append(len(value) * [row['range_description']])\n",
    "      except:\n",
    "        pass\n",
    "\n",
    "  out = {k: [i for sublist in v for i in sublist] for k, v in out.items()}\n",
    "  out = pd.DataFrame(out)\n",
    "  \n",
    "  return out"
   ]
  },
  {
   "cell_type": "markdown",
   "id": "c190db9a",
   "metadata": {},
   "source": [
    "## Create Maps"
   ]
  },
  {
   "cell_type": "code",
   "execution_count": 17,
   "id": "2afbd718",
   "metadata": {},
   "outputs": [],
   "source": [
    "hcpcs_1_map = create_mapper(hcpcs_1_map, 'hcpcs_1')\n",
    "hcpcs_2_map = create_mapper(hcpcs_2_map, '')\n",
    "cpt_map = create_mapper(cpt_map, '')"
   ]
  },
  {
   "cell_type": "code",
   "execution_count": 18,
   "id": "98171f63",
   "metadata": {},
   "outputs": [
    {
     "data": {
      "text/html": [
       "<div>\n",
       "<style scoped>\n",
       "    .dataframe tbody tr th:only-of-type {\n",
       "        vertical-align: middle;\n",
       "    }\n",
       "\n",
       "    .dataframe tbody tr th {\n",
       "        vertical-align: top;\n",
       "    }\n",
       "\n",
       "    .dataframe thead th {\n",
       "        text-align: right;\n",
       "    }\n",
       "</style>\n",
       "<table border=\"1\" class=\"dataframe\">\n",
       "  <thead>\n",
       "    <tr style=\"text-align: right;\">\n",
       "      <th></th>\n",
       "      <th>code</th>\n",
       "      <th>category</th>\n",
       "      <th>description</th>\n",
       "    </tr>\n",
       "  </thead>\n",
       "  <tbody>\n",
       "    <tr>\n",
       "      <th>0</th>\n",
       "      <td>99201</td>\n",
       "      <td>HCPCS_level_1</td>\n",
       "      <td>Evaluation and Management (E/M) Codes</td>\n",
       "    </tr>\n",
       "    <tr>\n",
       "      <th>1</th>\n",
       "      <td>99202</td>\n",
       "      <td>HCPCS_level_1</td>\n",
       "      <td>Evaluation and Management (E/M) Codes</td>\n",
       "    </tr>\n",
       "    <tr>\n",
       "      <th>2</th>\n",
       "      <td>99203</td>\n",
       "      <td>HCPCS_level_1</td>\n",
       "      <td>Evaluation and Management (E/M) Codes</td>\n",
       "    </tr>\n",
       "    <tr>\n",
       "      <th>3</th>\n",
       "      <td>99204</td>\n",
       "      <td>HCPCS_level_1</td>\n",
       "      <td>Evaluation and Management (E/M) Codes</td>\n",
       "    </tr>\n",
       "    <tr>\n",
       "      <th>4</th>\n",
       "      <td>99205</td>\n",
       "      <td>HCPCS_level_1</td>\n",
       "      <td>Evaluation and Management (E/M) Codes</td>\n",
       "    </tr>\n",
       "  </tbody>\n",
       "</table>\n",
       "</div>"
      ],
      "text/plain": [
       "    code       category                             description\n",
       "0  99201  HCPCS_level_1  Evaluation and Management (E/M) Codes \n",
       "1  99202  HCPCS_level_1  Evaluation and Management (E/M) Codes \n",
       "2  99203  HCPCS_level_1  Evaluation and Management (E/M) Codes \n",
       "3  99204  HCPCS_level_1  Evaluation and Management (E/M) Codes \n",
       "4  99205  HCPCS_level_1  Evaluation and Management (E/M) Codes "
      ]
     },
     "execution_count": 18,
     "metadata": {},
     "output_type": "execute_result"
    }
   ],
   "source": [
    "combined_mapper = pd.concat([hcpcs_1_map, hcpcs_2_map, cpt_map], axis=0)\n",
    "combined_mapper.head()"
   ]
  },
  {
   "cell_type": "markdown",
   "id": "62982717",
   "metadata": {},
   "source": [
    "## Save Datasets"
   ]
  },
  {
   "cell_type": "code",
   "execution_count": 21,
   "id": "3cb0bc41",
   "metadata": {},
   "outputs": [],
   "source": [
    "mapper_path = \"../data/mappers\"\n",
    "\n",
    "hcpcs_1_map.to_pickle(f\"{mapper_path}/hcpcs_1_map.pkl\")\n",
    "hcpcs_2_map.to_pickle(f\"{mapper_path}/hcpcs_2_map.pkl\")\n",
    "cpt_map.to_pickle(f\"{mapper_path}/cpt_map.pkl\")\n",
    "combined_mapper.to_pickle(f\"{mapper_path}/combined_mapper.pkl\")"
   ]
  }
 ],
 "metadata": {
  "kernelspec": {
   "display_name": ".venv (3.13.7)",
   "language": "python",
   "name": "python3"
  },
  "language_info": {
   "codemirror_mode": {
    "name": "ipython",
    "version": 3
   },
   "file_extension": ".py",
   "mimetype": "text/x-python",
   "name": "python",
   "nbconvert_exporter": "python",
   "pygments_lexer": "ipython3",
   "version": "3.13.7"
  }
 },
 "nbformat": 4,
 "nbformat_minor": 5
}
