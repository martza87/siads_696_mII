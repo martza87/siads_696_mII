{
 "cells": [
  {
   "cell_type": "markdown",
   "metadata": {},
   "source": [
    "# Supervised Learning"
   ]
  },
  {
   "cell_type": "markdown",
   "metadata": {},
   "source": [
    "# 05_supervised_learning_model"
   ]
  },
  {
   "cell_type": "markdown",
   "metadata": {},
   "source": [
    "| Date | User | Change Type | Remarks |  \n",
    "| ---- | ---- | ----------- | ------- |\n",
    "| 30/10/2025   | Martin | Created   | Notebook created for supervised learning model | \n",
    "| 01/10/2025   | Martin | Add   | Added XGBoost and FFNN sections | \n",
    "| 05/10/2025   | Martin | Updated   | Tested on dummy target class. FF NN not tested yet | "
   ]
  },
  {
   "cell_type": "markdown",
   "metadata": {
    "vscode": {
     "languageId": "plaintext"
    }
   },
   "source": [
    "# Content\n",
    "\n",
    "* [Introduction](#introduction)\n",
    "* [Load Data](#load-data)\n",
    "* [Cost List](#cost-list)\n",
    "* [Supervised Learning](#supervised-learning)"
   ]
  },
  {
   "cell_type": "markdown",
   "metadata": {},
   "source": [
    "# Introduction"
   ]
  },
  {
   "cell_type": "code",
   "execution_count": 185,
   "metadata": {},
   "outputs": [
    {
     "name": "stdout",
     "output_type": "stream",
     "text": [
      "The watermark extension is already loaded. To reload it, use:\n",
      "  %reload_ext watermark\n"
     ]
    }
   ],
   "source": [
    "%load_ext watermark"
   ]
  },
  {
   "cell_type": "code",
   "execution_count": 186,
   "metadata": {},
   "outputs": [],
   "source": [
    "import pandas as pd\n",
    "import numpy as np\n",
    "import matplotlib.pyplot as plt\n",
    "import seaborn as sns\n",
    "\n",
    "from sklearn.preprocessing import LabelEncoder"
   ]
  },
  {
   "cell_type": "markdown",
   "metadata": {},
   "source": [
    "# Load Data"
   ]
  },
  {
   "cell_type": "code",
   "execution_count": 187,
   "metadata": {},
   "outputs": [],
   "source": [
    "path = \"../data/clean\"\n",
    "df = pd.read_pickle(f\"{path}/patient_level.pkl\")"
   ]
  },
  {
   "cell_type": "code",
   "execution_count": 188,
   "metadata": {},
   "outputs": [
    {
     "data": {
      "text/html": [
       "<div>\n",
       "<style scoped>\n",
       "    .dataframe tbody tr th:only-of-type {\n",
       "        vertical-align: middle;\n",
       "    }\n",
       "\n",
       "    .dataframe tbody tr th {\n",
       "        vertical-align: top;\n",
       "    }\n",
       "\n",
       "    .dataframe thead th {\n",
       "        text-align: right;\n",
       "    }\n",
       "</style>\n",
       "<table border=\"1\" class=\"dataframe\">\n",
       "  <thead>\n",
       "    <tr style=\"text-align: right;\">\n",
       "      <th></th>\n",
       "      <th>patient_medicare_number</th>\n",
       "      <th>patient_first_name</th>\n",
       "      <th>patient_last_name</th>\n",
       "      <th>gender</th>\n",
       "      <th>birthdate</th>\n",
       "      <th>number_of_claims</th>\n",
       "      <th>drg_ls</th>\n",
       "      <th>combined_diagnosis_ls</th>\n",
       "      <th>combined_hcpcs_ls</th>\n",
       "      <th>billablePeriod_start_ls</th>\n",
       "      <th>billablePeriod_end_ls</th>\n",
       "      <th>location_of_bill_ls</th>\n",
       "      <th>total_value</th>\n",
       "    </tr>\n",
       "  </thead>\n",
       "  <tbody>\n",
       "    <tr>\n",
       "      <th>1</th>\n",
       "      <td>1S00E00AA10</td>\n",
       "      <td>Brandon214</td>\n",
       "      <td>Roob72</td>\n",
       "      <td>female</td>\n",
       "      <td>1946-01-15</td>\n",
       "      <td>3</td>\n",
       "      <td>[]</td>\n",
       "      <td>[O039, O039, B085, B002, O039, J029]</td>\n",
       "      <td>[G0444, 99241, G0444, G9572]</td>\n",
       "      <td>[2013-04-23, 2016-01-15, 2020-06-02]</td>\n",
       "      <td>[2013-04-23, 2016-01-15, 2020-06-02]</td>\n",
       "      <td>[002]</td>\n",
       "      <td>15458.12</td>\n",
       "    </tr>\n",
       "    <tr>\n",
       "      <th>3</th>\n",
       "      <td>1S00E00AA23</td>\n",
       "      <td>B.</td>\n",
       "      <td>Hagene</td>\n",
       "      <td>female</td>\n",
       "      <td>NaN</td>\n",
       "      <td>1</td>\n",
       "      <td>[]</td>\n",
       "      <td>[J329, E785, P292]</td>\n",
       "      <td>[G0444, G9572]</td>\n",
       "      <td>[2014-04-13]</td>\n",
       "      <td>[2014-04-13]</td>\n",
       "      <td>[]</td>\n",
       "      <td>840.21</td>\n",
       "    </tr>\n",
       "    <tr>\n",
       "      <th>5</th>\n",
       "      <td>1S00E00AA25</td>\n",
       "      <td>Carlota980</td>\n",
       "      <td>Gamez720</td>\n",
       "      <td>female</td>\n",
       "      <td>1947-04-15</td>\n",
       "      <td>2</td>\n",
       "      <td>[]</td>\n",
       "      <td>[E669, D649, K635, O039, M810, J329, E669, D64...</td>\n",
       "      <td>[G0444, 99241]</td>\n",
       "      <td>[2012-07-18, 2021-11-23]</td>\n",
       "      <td>[2012-07-18, 2021-11-23]</td>\n",
       "      <td>[002]</td>\n",
       "      <td>85.55</td>\n",
       "    </tr>\n",
       "    <tr>\n",
       "      <th>6</th>\n",
       "      <td>1S00E00AA32</td>\n",
       "      <td>Denny560</td>\n",
       "      <td>Watsica258</td>\n",
       "      <td>male</td>\n",
       "      <td>1945-06-09</td>\n",
       "      <td>3</td>\n",
       "      <td>[]</td>\n",
       "      <td>[P292, E669, I2510, B349, J329, I10, E669, I25...</td>\n",
       "      <td>[99241, 99241, 99241]</td>\n",
       "      <td>[2015-05-12, 2021-02-20, 2021-03-20]</td>\n",
       "      <td>[2015-05-12, 2021-02-20, 2021-03-20]</td>\n",
       "      <td>[002, 002, 002]</td>\n",
       "      <td>85.55</td>\n",
       "    </tr>\n",
       "    <tr>\n",
       "      <th>10</th>\n",
       "      <td>1S00E00AA54</td>\n",
       "      <td>Lashawnda5</td>\n",
       "      <td>Greenfelder433</td>\n",
       "      <td>female</td>\n",
       "      <td>1950-12-23</td>\n",
       "      <td>11</td>\n",
       "      <td>[]</td>\n",
       "      <td>[E119, R739, E781, E8881, D649, E11319, P292, ...</td>\n",
       "      <td>[G0444, 99241, 99241, 99241, 99241, G0444, 992...</td>\n",
       "      <td>[2012-10-27, 2013-01-26, 2014-06-21, 2014-07-2...</td>\n",
       "      <td>[2012-10-27, 2013-01-26, 2014-06-21, 2014-07-2...</td>\n",
       "      <td>[002, 002, 002, 002, 002, 002, 002, 002, 002, ...</td>\n",
       "      <td>142.58</td>\n",
       "    </tr>\n",
       "  </tbody>\n",
       "</table>\n",
       "</div>"
      ],
      "text/plain": [
       "   patient_medicare_number patient_first_name patient_last_name  gender  \\\n",
       "1              1S00E00AA10         Brandon214            Roob72  female   \n",
       "3              1S00E00AA23                 B.            Hagene  female   \n",
       "5              1S00E00AA25         Carlota980          Gamez720  female   \n",
       "6              1S00E00AA32           Denny560        Watsica258    male   \n",
       "10             1S00E00AA54         Lashawnda5    Greenfelder433  female   \n",
       "\n",
       "     birthdate  number_of_claims drg_ls  \\\n",
       "1   1946-01-15                 3     []   \n",
       "3          NaN                 1     []   \n",
       "5   1947-04-15                 2     []   \n",
       "6   1945-06-09                 3     []   \n",
       "10  1950-12-23                11     []   \n",
       "\n",
       "                                combined_diagnosis_ls  \\\n",
       "1                [O039, O039, B085, B002, O039, J029]   \n",
       "3                                  [J329, E785, P292]   \n",
       "5   [E669, D649, K635, O039, M810, J329, E669, D64...   \n",
       "6   [P292, E669, I2510, B349, J329, I10, E669, I25...   \n",
       "10  [E119, R739, E781, E8881, D649, E11319, P292, ...   \n",
       "\n",
       "                                    combined_hcpcs_ls  \\\n",
       "1                        [G0444, 99241, G0444, G9572]   \n",
       "3                                      [G0444, G9572]   \n",
       "5                                      [G0444, 99241]   \n",
       "6                               [99241, 99241, 99241]   \n",
       "10  [G0444, 99241, 99241, 99241, 99241, G0444, 992...   \n",
       "\n",
       "                              billablePeriod_start_ls  \\\n",
       "1                [2013-04-23, 2016-01-15, 2020-06-02]   \n",
       "3                                        [2014-04-13]   \n",
       "5                            [2012-07-18, 2021-11-23]   \n",
       "6                [2015-05-12, 2021-02-20, 2021-03-20]   \n",
       "10  [2012-10-27, 2013-01-26, 2014-06-21, 2014-07-2...   \n",
       "\n",
       "                                billablePeriod_end_ls  \\\n",
       "1                [2013-04-23, 2016-01-15, 2020-06-02]   \n",
       "3                                        [2014-04-13]   \n",
       "5                            [2012-07-18, 2021-11-23]   \n",
       "6                [2015-05-12, 2021-02-20, 2021-03-20]   \n",
       "10  [2012-10-27, 2013-01-26, 2014-06-21, 2014-07-2...   \n",
       "\n",
       "                                  location_of_bill_ls  total_value  \n",
       "1                                               [002]     15458.12  \n",
       "3                                                  []       840.21  \n",
       "5                                               [002]        85.55  \n",
       "6                                     [002, 002, 002]        85.55  \n",
       "10  [002, 002, 002, 002, 002, 002, 002, 002, 002, ...       142.58  "
      ]
     },
     "execution_count": 188,
     "metadata": {},
     "output_type": "execute_result"
    }
   ],
   "source": [
    "df.head()"
   ]
  },
  {
   "cell_type": "code",
   "execution_count": 189,
   "metadata": {},
   "outputs": [],
   "source": [
    "df_hcpcs = pd.read_pickle(f\"{path}/hcpcs_tfidf.pkl\")\n",
    "df_enc = pd.read_pickle(f\"{path}/patient_level_lab_enc.pkl\")"
   ]
  },
  {
   "cell_type": "markdown",
   "metadata": {},
   "source": [
    "# Cost List\n",
    "\n",
    "Get the cost of procedures from claims with single HCPCS based on the existing claims list"
   ]
  },
  {
   "cell_type": "code",
   "execution_count": 190,
   "metadata": {},
   "outputs": [],
   "source": [
    "def get_price_list_from_hcpcs(df: pd.DataFrame, price_selection: str):\n",
    "  \"\"\"Retrieve the price of each HCPCS code from those claims that only have 1 code\n",
    "\n",
    "  Args:\n",
    "      df (pd.DataFrame): Patient Level dataset\n",
    "      price_selection (str): Any aggregation function for group by (\"max\", \"min\", \"mean\"). \n",
    "          How to handle when multiple claims have the same singular code\n",
    "\n",
    "  Returns:\n",
    "      pd.DataFrame: Cost of each HCPCS\n",
    "  \"\"\"\n",
    "  temp = df.copy()\n",
    "  temp['hcpcs_len'] = temp['combined_hcpcs_ls'].str.len()\n",
    "\n",
    "  # Get only those with single HCPC values\n",
    "  cost = temp[temp['hcpcs_len'] == 1]\n",
    "\n",
    "  # Only the select only the hcpcs codes and total bill\n",
    "  cost['hcpcs_code'] = cost['combined_hcpcs_ls'].str[0]\n",
    "  cost = cost[['hcpcs_code', 'total_value']]\n",
    "\n",
    "  # Based on cost selection\n",
    "  cost = cost.groupby('hcpcs_code').agg(price_selection)\n",
    "  cost['total_value'] = np.round(cost['total_value'], 2)\n",
    "  cost = cost.reset_index()\n",
    "  cost = cost.rename({\n",
    "    'total_value': 'cost'\n",
    "  }, axis=1)\n",
    "\n",
    "  return cost"
   ]
  },
  {
   "cell_type": "code",
   "execution_count": 191,
   "metadata": {},
   "outputs": [
    {
     "name": "stderr",
     "output_type": "stream",
     "text": [
      "C:\\Users\\User\\AppData\\Local\\Temp\\ipykernel_24796\\3427604465.py:19: SettingWithCopyWarning: \n",
      "A value is trying to be set on a copy of a slice from a DataFrame.\n",
      "Try using .loc[row_indexer,col_indexer] = value instead\n",
      "\n",
      "See the caveats in the documentation: https://pandas.pydata.org/pandas-docs/stable/user_guide/indexing.html#returning-a-view-versus-a-copy\n",
      "  cost['hcpcs_code'] = cost['combined_hcpcs_ls'].str[0]\n"
     ]
    }
   ],
   "source": [
    "cost = get_price_list_from_hcpcs(df, price_selection='mean')"
   ]
  },
  {
   "cell_type": "code",
   "execution_count": 192,
   "metadata": {},
   "outputs": [
    {
     "data": {
      "text/html": [
       "<div>\n",
       "<style scoped>\n",
       "    .dataframe tbody tr th:only-of-type {\n",
       "        vertical-align: middle;\n",
       "    }\n",
       "\n",
       "    .dataframe tbody tr th {\n",
       "        vertical-align: top;\n",
       "    }\n",
       "\n",
       "    .dataframe thead th {\n",
       "        text-align: right;\n",
       "    }\n",
       "</style>\n",
       "<table border=\"1\" class=\"dataframe\">\n",
       "  <thead>\n",
       "    <tr style=\"text-align: right;\">\n",
       "      <th></th>\n",
       "      <th>hcpcs_code</th>\n",
       "      <th>cost</th>\n",
       "    </tr>\n",
       "  </thead>\n",
       "  <tbody>\n",
       "    <tr>\n",
       "      <th>0</th>\n",
       "      <td>99221</td>\n",
       "      <td>5666.37</td>\n",
       "    </tr>\n",
       "    <tr>\n",
       "      <th>1</th>\n",
       "      <td>99241</td>\n",
       "      <td>2370.06</td>\n",
       "    </tr>\n",
       "    <tr>\n",
       "      <th>2</th>\n",
       "      <td>G0107</td>\n",
       "      <td>36515.28</td>\n",
       "    </tr>\n",
       "    <tr>\n",
       "      <th>3</th>\n",
       "      <td>G0151</td>\n",
       "      <td>526.33</td>\n",
       "    </tr>\n",
       "    <tr>\n",
       "      <th>4</th>\n",
       "      <td>G0152</td>\n",
       "      <td>1041.51</td>\n",
       "    </tr>\n",
       "  </tbody>\n",
       "</table>\n",
       "</div>"
      ],
      "text/plain": [
       "  hcpcs_code      cost\n",
       "0      99221   5666.37\n",
       "1      99241   2370.06\n",
       "2      G0107  36515.28\n",
       "3      G0151    526.33\n",
       "4      G0152   1041.51"
      ]
     },
     "execution_count": 192,
     "metadata": {},
     "output_type": "execute_result"
    }
   ],
   "source": [
    "cost.head()"
   ]
  },
  {
   "cell_type": "markdown",
   "metadata": {},
   "source": [
    "# Supervised Learning\n",
    "\n",
    "Assumption: All the data is already numerically encoded"
   ]
  },
  {
   "cell_type": "markdown",
   "metadata": {},
   "source": [
    "## Additional data processing"
   ]
  },
  {
   "cell_type": "code",
   "execution_count": 193,
   "metadata": {},
   "outputs": [],
   "source": [
    "SEED = 43"
   ]
  },
  {
   "cell_type": "markdown",
   "metadata": {},
   "source": [
    "Creating a temporary random cluster assignment to test supervised learning pipelines"
   ]
  },
  {
   "cell_type": "code",
   "execution_count": 194,
   "metadata": {},
   "outputs": [
    {
     "name": "stderr",
     "output_type": "stream",
     "text": [
      "C:\\Users\\User\\AppData\\Local\\Temp\\ipykernel_24796\\2420392122.py:8: PerformanceWarning: DataFrame is highly fragmented.  This is usually the result of calling `frame.insert` many times, which has poor performance.  Consider joining all columns at once using pd.concat(axis=1) instead. To get a de-fragmented frame, use `newframe = frame.copy()`\n",
      "  df_enc['temp_class'] = temporary_class\n"
     ]
    }
   ],
   "source": [
    "NUM_CLUSTERS = 5\n",
    "\n",
    "enc_cols = [i for i in df_enc.columns if i.endswith('enc')]\n",
    "df_enc = df_enc[enc_cols]\n",
    "\n",
    "rng = np.random.default_rng()\n",
    "temporary_class = rng.integers(low=0, high=NUM_CLUSTERS, size=df_enc.shape[0])\n",
    "df_enc['temp_class'] = temporary_class"
   ]
  },
  {
   "cell_type": "code",
   "execution_count": 195,
   "metadata": {},
   "outputs": [],
   "source": [
    "rng = np.random.default_rng()\n",
    "temporary_class = rng.integers(low=0, high=NUM_CLUSTERS, size=df_hcpcs.shape[0])\n",
    "df_hcpcs['temp_class'] = temporary_class\n",
    "df_hcpcs = df_hcpcs.reset_index(drop=True)"
   ]
  },
  {
   "cell_type": "code",
   "execution_count": 196,
   "metadata": {},
   "outputs": [],
   "source": [
    "# Additional processing for HCPCS TFIDF df\n",
    "df_hcpcs = df_hcpcs.drop('birthdate', axis=1)\n",
    "\n",
    "avg_num_claims = int(np.mean(df_hcpcs[~df_hcpcs['number_of_claims'].isna()]['number_of_claims']))\n",
    "df_hcpcs['number_of_claims'] = df_hcpcs['number_of_claims'].fillna(avg_num_claims)\n",
    "\n",
    "\n",
    "fill = df_hcpcs[df_hcpcs['gender'].isna()].shape[0]\n",
    "gender_fill = [['male', 'female'][rng.integers(low=0, high=2)] for _ in range(fill)]\n",
    "df_hcpcs.loc[df_hcpcs['gender'].isna(), 'gender'] = gender_fill\n",
    "\n",
    "le_gender = LabelEncoder()\n",
    "df_hcpcs['gender'] = le_gender.fit_transform(df_hcpcs['gender'])"
   ]
  },
  {
   "cell_type": "code",
   "execution_count": 197,
   "metadata": {},
   "outputs": [],
   "source": [
    "# Perform additional steps here"
   ]
  },
  {
   "cell_type": "markdown",
   "metadata": {},
   "source": [
    "## Split Data\n",
    "\n",
    "Create train, validation and test splits in __stratified__ manner\n",
    "\n",
    "- Train: 70%\n",
    "- Validation: 15%\n",
    "- Test: 15%"
   ]
  },
  {
   "cell_type": "code",
   "execution_count": 198,
   "metadata": {},
   "outputs": [],
   "source": [
    "from sklearn.model_selection import train_test_split\n",
    "from sklearn.dummy import DummyClassifier\n",
    "from sklearn.metrics import accuracy_score, precision_score, recall_score, roc_auc_score, f1_score, confusion_matrix, ConfusionMatrixDisplay\n",
    "\n",
    "from sklearn.multiclass import OneVsOneClassifier, OneVsRestClassifier\n",
    "from sklearn.linear_model import LogisticRegression\n",
    "from sklearn.tree import DecisionTreeClassifier\n",
    "from sklearn.ensemble import RandomForestClassifier\n",
    "from xgboost import XGBClassifier\n",
    "\n",
    "from sklearn.model_selection import StratifiedShuffleSplit"
   ]
  },
  {
   "cell_type": "code",
   "execution_count": 225,
   "metadata": {},
   "outputs": [
    {
     "data": {
      "text/html": [
       "<div>\n",
       "<style scoped>\n",
       "    .dataframe tbody tr th:only-of-type {\n",
       "        vertical-align: middle;\n",
       "    }\n",
       "\n",
       "    .dataframe tbody tr th {\n",
       "        vertical-align: top;\n",
       "    }\n",
       "\n",
       "    .dataframe thead th {\n",
       "        text-align: right;\n",
       "    }\n",
       "</style>\n",
       "<table border=\"1\" class=\"dataframe\">\n",
       "  <thead>\n",
       "    <tr style=\"text-align: right;\">\n",
       "      <th></th>\n",
       "      <th>category_0_enc</th>\n",
       "      <th>category_1_enc</th>\n",
       "      <th>category_2_enc</th>\n",
       "      <th>category_3_enc</th>\n",
       "      <th>category_4_enc</th>\n",
       "      <th>category_5_enc</th>\n",
       "      <th>category_6_enc</th>\n",
       "      <th>category_7_enc</th>\n",
       "      <th>category_8_enc</th>\n",
       "      <th>category_9_enc</th>\n",
       "      <th>...</th>\n",
       "      <th>hcpcs_567_enc</th>\n",
       "      <th>hcpcs_568_enc</th>\n",
       "      <th>hcpcs_569_enc</th>\n",
       "      <th>hcpcs_570_enc</th>\n",
       "      <th>hcpcs_571_enc</th>\n",
       "      <th>hcpcs_572_enc</th>\n",
       "      <th>hcpcs_573_enc</th>\n",
       "      <th>hcpcs_574_enc</th>\n",
       "      <th>hcpcs_575_enc</th>\n",
       "      <th>target</th>\n",
       "    </tr>\n",
       "  </thead>\n",
       "  <tbody>\n",
       "    <tr>\n",
       "      <th>0</th>\n",
       "      <td>1</td>\n",
       "      <td>3</td>\n",
       "      <td>3</td>\n",
       "      <td>3</td>\n",
       "      <td>3</td>\n",
       "      <td>3</td>\n",
       "      <td>3</td>\n",
       "      <td>3</td>\n",
       "      <td>3</td>\n",
       "      <td>3</td>\n",
       "      <td>...</td>\n",
       "      <td>40</td>\n",
       "      <td>40</td>\n",
       "      <td>40</td>\n",
       "      <td>40</td>\n",
       "      <td>40</td>\n",
       "      <td>40</td>\n",
       "      <td>40</td>\n",
       "      <td>40</td>\n",
       "      <td>40</td>\n",
       "      <td>0</td>\n",
       "    </tr>\n",
       "    <tr>\n",
       "      <th>1</th>\n",
       "      <td>1</td>\n",
       "      <td>1</td>\n",
       "      <td>1</td>\n",
       "      <td>1</td>\n",
       "      <td>3</td>\n",
       "      <td>3</td>\n",
       "      <td>3</td>\n",
       "      <td>3</td>\n",
       "      <td>3</td>\n",
       "      <td>3</td>\n",
       "      <td>...</td>\n",
       "      <td>40</td>\n",
       "      <td>40</td>\n",
       "      <td>40</td>\n",
       "      <td>40</td>\n",
       "      <td>40</td>\n",
       "      <td>40</td>\n",
       "      <td>40</td>\n",
       "      <td>40</td>\n",
       "      <td>40</td>\n",
       "      <td>2</td>\n",
       "    </tr>\n",
       "    <tr>\n",
       "      <th>2</th>\n",
       "      <td>2</td>\n",
       "      <td>2</td>\n",
       "      <td>1</td>\n",
       "      <td>1</td>\n",
       "      <td>1</td>\n",
       "      <td>3</td>\n",
       "      <td>3</td>\n",
       "      <td>3</td>\n",
       "      <td>3</td>\n",
       "      <td>3</td>\n",
       "      <td>...</td>\n",
       "      <td>40</td>\n",
       "      <td>40</td>\n",
       "      <td>40</td>\n",
       "      <td>40</td>\n",
       "      <td>40</td>\n",
       "      <td>40</td>\n",
       "      <td>40</td>\n",
       "      <td>40</td>\n",
       "      <td>40</td>\n",
       "      <td>0</td>\n",
       "    </tr>\n",
       "    <tr>\n",
       "      <th>3</th>\n",
       "      <td>2</td>\n",
       "      <td>3</td>\n",
       "      <td>3</td>\n",
       "      <td>3</td>\n",
       "      <td>3</td>\n",
       "      <td>3</td>\n",
       "      <td>3</td>\n",
       "      <td>3</td>\n",
       "      <td>3</td>\n",
       "      <td>3</td>\n",
       "      <td>...</td>\n",
       "      <td>40</td>\n",
       "      <td>40</td>\n",
       "      <td>40</td>\n",
       "      <td>40</td>\n",
       "      <td>40</td>\n",
       "      <td>40</td>\n",
       "      <td>40</td>\n",
       "      <td>40</td>\n",
       "      <td>40</td>\n",
       "      <td>3</td>\n",
       "    </tr>\n",
       "    <tr>\n",
       "      <th>4</th>\n",
       "      <td>1</td>\n",
       "      <td>3</td>\n",
       "      <td>3</td>\n",
       "      <td>3</td>\n",
       "      <td>3</td>\n",
       "      <td>3</td>\n",
       "      <td>3</td>\n",
       "      <td>3</td>\n",
       "      <td>3</td>\n",
       "      <td>3</td>\n",
       "      <td>...</td>\n",
       "      <td>40</td>\n",
       "      <td>40</td>\n",
       "      <td>40</td>\n",
       "      <td>40</td>\n",
       "      <td>40</td>\n",
       "      <td>40</td>\n",
       "      <td>40</td>\n",
       "      <td>40</td>\n",
       "      <td>40</td>\n",
       "      <td>0</td>\n",
       "    </tr>\n",
       "  </tbody>\n",
       "</table>\n",
       "<p>5 rows × 1729 columns</p>\n",
       "</div>"
      ],
      "text/plain": [
       "   category_0_enc  category_1_enc  category_2_enc  category_3_enc  \\\n",
       "0               1               3               3               3   \n",
       "1               1               1               1               1   \n",
       "2               2               2               1               1   \n",
       "3               2               3               3               3   \n",
       "4               1               3               3               3   \n",
       "\n",
       "   category_4_enc  category_5_enc  category_6_enc  category_7_enc  \\\n",
       "0               3               3               3               3   \n",
       "1               3               3               3               3   \n",
       "2               1               3               3               3   \n",
       "3               3               3               3               3   \n",
       "4               3               3               3               3   \n",
       "\n",
       "   category_8_enc  category_9_enc  ...  hcpcs_567_enc  hcpcs_568_enc  \\\n",
       "0               3               3  ...             40             40   \n",
       "1               3               3  ...             40             40   \n",
       "2               3               3  ...             40             40   \n",
       "3               3               3  ...             40             40   \n",
       "4               3               3  ...             40             40   \n",
       "\n",
       "   hcpcs_569_enc  hcpcs_570_enc  hcpcs_571_enc  hcpcs_572_enc  hcpcs_573_enc  \\\n",
       "0             40             40             40             40             40   \n",
       "1             40             40             40             40             40   \n",
       "2             40             40             40             40             40   \n",
       "3             40             40             40             40             40   \n",
       "4             40             40             40             40             40   \n",
       "\n",
       "   hcpcs_574_enc  hcpcs_575_enc  target  \n",
       "0             40             40       0  \n",
       "1             40             40       2  \n",
       "2             40             40       0  \n",
       "3             40             40       3  \n",
       "4             40             40       0  \n",
       "\n",
       "[5 rows x 1729 columns]"
      ]
     },
     "execution_count": 225,
     "metadata": {},
     "output_type": "execute_result"
    }
   ],
   "source": [
    "df = df_enc.copy()\n",
    "df = df.rename({\n",
    "  'temp_class': 'target'\n",
    "}, axis=1)\n",
    "df.head()"
   ]
  },
  {
   "cell_type": "code",
   "execution_count": 226,
   "metadata": {},
   "outputs": [],
   "source": [
    "# Change values here\n",
    "train_size = 0.7\n",
    "test_size = 0.5"
   ]
  },
  {
   "cell_type": "code",
   "execution_count": 227,
   "metadata": {},
   "outputs": [],
   "source": [
    "y = df['target']\n",
    "train, temp = train_test_split(df, train_size=train_size, stratify=y, random_state=SEED)\n",
    "val, test = train_test_split(temp, train_size=test_size, stratify=temp['target'], random_state=SEED)"
   ]
  },
  {
   "cell_type": "code",
   "execution_count": 228,
   "metadata": {},
   "outputs": [],
   "source": [
    "strat = pd.concat([train, val], axis=0).reset_index(drop=True)\n",
    "y_strat = strat['target']\n",
    "X_strat = strat.drop('target', axis=1)"
   ]
  },
  {
   "cell_type": "code",
   "execution_count": 229,
   "metadata": {},
   "outputs": [],
   "source": [
    "y_train = train['target']\n",
    "X_train = train.drop('target', axis=1)\n",
    "\n",
    "y_val = val['target']\n",
    "X_val = val.drop('target', axis=1)\n",
    "\n",
    "y_test = test['target']\n",
    "X_test = test.drop('target', axis=1)"
   ]
  },
  {
   "cell_type": "markdown",
   "metadata": {},
   "source": [
    "## Metrics\n",
    "\n",
    "Common classification metrics:\n",
    "\n",
    "- Accuracy\n",
    "- Precision\n",
    "- Recall\n",
    "- F1 Score (weighted or micro)\n",
    "- ROC AUC Score (OVR + weighted)\n",
    "\n",
    "Plots:\n",
    "\n",
    "- Confusion Matrix\n",
    "- ROC AUC"
   ]
  },
  {
   "cell_type": "code",
   "execution_count": 204,
   "metadata": {},
   "outputs": [],
   "source": [
    "def metrics_score(y_true, y_pred):\n",
    "  acc = round(accuracy_score(y_true, y_pred), 4)\n",
    "  prec = round(precision_score(y_true, y_pred, average='weighted'), 4)\n",
    "  recall = round(recall_score(y_true, y_pred, average='weighted'), 4)\n",
    "  f1 = round(f1_score(y_true, y_pred, average=\"weighted\"), 4)\n",
    "  # roc_auc = round(roc_auc_score(y_true, y_pred, average=\"weighted\", multi_class=\"ovr\"), 4)\n",
    "\n",
    "  return acc, prec, recall, f1"
   ]
  },
  {
   "cell_type": "code",
   "execution_count": 205,
   "metadata": {},
   "outputs": [],
   "source": [
    "def plot_confusion_matrix(y_true, y_pred, clf):\n",
    "  cm = confusion_matrix(y_true, y_pred)\n",
    "  disp = ConfusionMatrixDisplay(\n",
    "    confusion_matrix=cm,\n",
    "    display_labels=clf.classes_\n",
    "  )\n",
    "\n",
    "  disp.plot(cmap=plt.cm.Blues)\n",
    "  plt.title(\"Confusion Matrix\")\n",
    "  plt.show()"
   ]
  },
  {
   "cell_type": "code",
   "execution_count": 206,
   "metadata": {},
   "outputs": [],
   "source": [
    "def plot_ROC_AUC():\n",
    "  # TODO: Determine which method of comparison should be used\n",
    "  return"
   ]
  },
  {
   "cell_type": "markdown",
   "metadata": {},
   "source": [
    "## Baseline: Dummy Classifier\n",
    "\n",
    "Uses sklearns dummy classifier to test various baseline strategies"
   ]
  },
  {
   "cell_type": "code",
   "execution_count": 230,
   "metadata": {},
   "outputs": [],
   "source": [
    "# Change here\n",
    "strategy = \"most_frequent\""
   ]
  },
  {
   "cell_type": "code",
   "execution_count": 231,
   "metadata": {},
   "outputs": [
    {
     "name": "stdout",
     "output_type": "stream",
     "text": [
      "Accuracy: 21.01%\n",
      "Precision: 4.41%\n",
      "Recall: 21.01%\n",
      "F1: 7.3%\n"
     ]
    },
    {
     "name": "stderr",
     "output_type": "stream",
     "text": [
      "d:\\MADS\\SIADS 696 - Milestone II\\siads_696_mII\\.venv\\Lib\\site-packages\\sklearn\\metrics\\_classification.py:1731: UndefinedMetricWarning: Precision is ill-defined and being set to 0.0 in labels with no predicted samples. Use `zero_division` parameter to control this behavior.\n",
      "  _warn_prf(average, modifier, f\"{metric.capitalize()} is\", result.shape[0])\n"
     ]
    }
   ],
   "source": [
    "dummy_clf = DummyClassifier(strategy=strategy)\n",
    "dummy_clf.fit(X_train, y_train)\n",
    "\n",
    "preds = dummy_clf.predict(X_val)\n",
    "acc, prec, recall, f1 = metrics_score(y_val, preds)\n",
    "print(f\"Accuracy: {acc * 100}%\")\n",
    "print(f\"Precision: {prec * 100}%\")\n",
    "print(f\"Recall: {recall * 100}%\")\n",
    "print(f\"F1: {f1 * 100}%\")"
   ]
  },
  {
   "cell_type": "code",
   "execution_count": 232,
   "metadata": {},
   "outputs": [
    {
     "data": {
      "image/png": "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",
      "text/plain": [
       "<Figure size 640x480 with 2 Axes>"
      ]
     },
     "metadata": {},
     "output_type": "display_data"
    }
   ],
   "source": [
    "plot_confusion_matrix(y_val, preds, dummy_clf)"
   ]
  },
  {
   "cell_type": "markdown",
   "metadata": {},
   "source": [
    "## Model 1: Logistic Regression\n",
    "\n",
    "Simple logistic regression model for an improved baseline"
   ]
  },
  {
   "cell_type": "code",
   "execution_count": 210,
   "metadata": {},
   "outputs": [],
   "source": [
    "# For model tuning"
   ]
  },
  {
   "cell_type": "code",
   "execution_count": 233,
   "metadata": {},
   "outputs": [
    {
     "name": "stderr",
     "output_type": "stream",
     "text": [
      "d:\\MADS\\SIADS 696 - Milestone II\\siads_696_mII\\.venv\\Lib\\site-packages\\sklearn\\linear_model\\_logistic.py:473: ConvergenceWarning: lbfgs failed to converge after 100 iteration(s) (status=1):\n",
      "STOP: TOTAL NO. OF ITERATIONS REACHED LIMIT\n",
      "\n",
      "Increase the number of iterations to improve the convergence (max_iter=100).\n",
      "You might also want to scale the data as shown in:\n",
      "    https://scikit-learn.org/stable/modules/preprocessing.html\n",
      "Please also refer to the documentation for alternative solver options:\n",
      "    https://scikit-learn.org/stable/modules/linear_model.html#logistic-regression\n",
      "  n_iter_i = _check_optimize_result(\n",
      "d:\\MADS\\SIADS 696 - Milestone II\\siads_696_mII\\.venv\\Lib\\site-packages\\sklearn\\linear_model\\_logistic.py:473: ConvergenceWarning: lbfgs failed to converge after 100 iteration(s) (status=1):\n",
      "STOP: TOTAL NO. OF ITERATIONS REACHED LIMIT\n",
      "\n",
      "Increase the number of iterations to improve the convergence (max_iter=100).\n",
      "You might also want to scale the data as shown in:\n",
      "    https://scikit-learn.org/stable/modules/preprocessing.html\n",
      "Please also refer to the documentation for alternative solver options:\n",
      "    https://scikit-learn.org/stable/modules/linear_model.html#logistic-regression\n",
      "  n_iter_i = _check_optimize_result(\n",
      "d:\\MADS\\SIADS 696 - Milestone II\\siads_696_mII\\.venv\\Lib\\site-packages\\sklearn\\linear_model\\_logistic.py:473: ConvergenceWarning: lbfgs failed to converge after 100 iteration(s) (status=1):\n",
      "STOP: TOTAL NO. OF ITERATIONS REACHED LIMIT\n",
      "\n",
      "Increase the number of iterations to improve the convergence (max_iter=100).\n",
      "You might also want to scale the data as shown in:\n",
      "    https://scikit-learn.org/stable/modules/preprocessing.html\n",
      "Please also refer to the documentation for alternative solver options:\n",
      "    https://scikit-learn.org/stable/modules/linear_model.html#logistic-regression\n",
      "  n_iter_i = _check_optimize_result(\n"
     ]
    },
    {
     "name": "stdout",
     "output_type": "stream",
     "text": [
      "Accuracy: 21.279999999999998%\n",
      "Precision: 20.69%\n",
      "Recall: 21.279999999999998%\n",
      "F1: 18.81%\n"
     ]
    },
    {
     "name": "stderr",
     "output_type": "stream",
     "text": [
      "d:\\MADS\\SIADS 696 - Milestone II\\siads_696_mII\\.venv\\Lib\\site-packages\\sklearn\\linear_model\\_logistic.py:473: ConvergenceWarning: lbfgs failed to converge after 100 iteration(s) (status=1):\n",
      "STOP: TOTAL NO. OF ITERATIONS REACHED LIMIT\n",
      "\n",
      "Increase the number of iterations to improve the convergence (max_iter=100).\n",
      "You might also want to scale the data as shown in:\n",
      "    https://scikit-learn.org/stable/modules/preprocessing.html\n",
      "Please also refer to the documentation for alternative solver options:\n",
      "    https://scikit-learn.org/stable/modules/linear_model.html#logistic-regression\n",
      "  n_iter_i = _check_optimize_result(\n",
      "d:\\MADS\\SIADS 696 - Milestone II\\siads_696_mII\\.venv\\Lib\\site-packages\\sklearn\\linear_model\\_logistic.py:473: ConvergenceWarning: lbfgs failed to converge after 100 iteration(s) (status=1):\n",
      "STOP: TOTAL NO. OF ITERATIONS REACHED LIMIT\n",
      "\n",
      "Increase the number of iterations to improve the convergence (max_iter=100).\n",
      "You might also want to scale the data as shown in:\n",
      "    https://scikit-learn.org/stable/modules/preprocessing.html\n",
      "Please also refer to the documentation for alternative solver options:\n",
      "    https://scikit-learn.org/stable/modules/linear_model.html#logistic-regression\n",
      "  n_iter_i = _check_optimize_result(\n"
     ]
    }
   ],
   "source": [
    "lr_model = OneVsRestClassifier(LogisticRegression(random_state=SEED))\n",
    "# lr_model = OneVsOneClassifier(LogisticRegression(random_state=SEED))\n",
    "\n",
    "lr_model.fit(X_train, y_train)\n",
    "preds = lr_model.predict(X_val)\n",
    "acc, prec, recall, f1 = metrics_score(y_val, preds)\n",
    "print(f\"Accuracy: {acc * 100}%\")\n",
    "print(f\"Precision: {prec * 100}%\")\n",
    "print(f\"Recall: {recall * 100}%\")\n",
    "print(f\"F1: {f1 * 100}%\")"
   ]
  },
  {
   "cell_type": "code",
   "execution_count": 234,
   "metadata": {},
   "outputs": [
    {
     "data": {
      "image/png": "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",
      "text/plain": [
       "<Figure size 640x480 with 2 Axes>"
      ]
     },
     "metadata": {},
     "output_type": "display_data"
    }
   ],
   "source": [
    "plot_confusion_matrix(y_val, preds, lr_model)"
   ]
  },
  {
   "cell_type": "code",
   "execution_count": 235,
   "metadata": {},
   "outputs": [
    {
     "name": "stdout",
     "output_type": "stream",
     "text": [
      "\n",
      "========== Split 0 ==========\n"
     ]
    },
    {
     "name": "stderr",
     "output_type": "stream",
     "text": [
      "d:\\MADS\\SIADS 696 - Milestone II\\siads_696_mII\\.venv\\Lib\\site-packages\\sklearn\\linear_model\\_logistic.py:473: ConvergenceWarning: lbfgs failed to converge after 100 iteration(s) (status=1):\n",
      "STOP: TOTAL NO. OF ITERATIONS REACHED LIMIT\n",
      "\n",
      "Increase the number of iterations to improve the convergence (max_iter=100).\n",
      "You might also want to scale the data as shown in:\n",
      "    https://scikit-learn.org/stable/modules/preprocessing.html\n",
      "Please also refer to the documentation for alternative solver options:\n",
      "    https://scikit-learn.org/stable/modules/linear_model.html#logistic-regression\n",
      "  n_iter_i = _check_optimize_result(\n",
      "d:\\MADS\\SIADS 696 - Milestone II\\siads_696_mII\\.venv\\Lib\\site-packages\\sklearn\\linear_model\\_logistic.py:473: ConvergenceWarning: lbfgs failed to converge after 100 iteration(s) (status=1):\n",
      "STOP: TOTAL NO. OF ITERATIONS REACHED LIMIT\n",
      "\n",
      "Increase the number of iterations to improve the convergence (max_iter=100).\n",
      "You might also want to scale the data as shown in:\n",
      "    https://scikit-learn.org/stable/modules/preprocessing.html\n",
      "Please also refer to the documentation for alternative solver options:\n",
      "    https://scikit-learn.org/stable/modules/linear_model.html#logistic-regression\n",
      "  n_iter_i = _check_optimize_result(\n",
      "d:\\MADS\\SIADS 696 - Milestone II\\siads_696_mII\\.venv\\Lib\\site-packages\\sklearn\\linear_model\\_logistic.py:473: ConvergenceWarning: lbfgs failed to converge after 100 iteration(s) (status=1):\n",
      "STOP: TOTAL NO. OF ITERATIONS REACHED LIMIT\n",
      "\n",
      "Increase the number of iterations to improve the convergence (max_iter=100).\n",
      "You might also want to scale the data as shown in:\n",
      "    https://scikit-learn.org/stable/modules/preprocessing.html\n",
      "Please also refer to the documentation for alternative solver options:\n",
      "    https://scikit-learn.org/stable/modules/linear_model.html#logistic-regression\n",
      "  n_iter_i = _check_optimize_result(\n",
      "d:\\MADS\\SIADS 696 - Milestone II\\siads_696_mII\\.venv\\Lib\\site-packages\\sklearn\\linear_model\\_logistic.py:473: ConvergenceWarning: lbfgs failed to converge after 100 iteration(s) (status=1):\n",
      "STOP: TOTAL NO. OF ITERATIONS REACHED LIMIT\n",
      "\n",
      "Increase the number of iterations to improve the convergence (max_iter=100).\n",
      "You might also want to scale the data as shown in:\n",
      "    https://scikit-learn.org/stable/modules/preprocessing.html\n",
      "Please also refer to the documentation for alternative solver options:\n",
      "    https://scikit-learn.org/stable/modules/linear_model.html#logistic-regression\n",
      "  n_iter_i = _check_optimize_result(\n",
      "d:\\MADS\\SIADS 696 - Milestone II\\siads_696_mII\\.venv\\Lib\\site-packages\\sklearn\\linear_model\\_logistic.py:473: ConvergenceWarning: lbfgs failed to converge after 100 iteration(s) (status=1):\n",
      "STOP: TOTAL NO. OF ITERATIONS REACHED LIMIT\n",
      "\n",
      "Increase the number of iterations to improve the convergence (max_iter=100).\n",
      "You might also want to scale the data as shown in:\n",
      "    https://scikit-learn.org/stable/modules/preprocessing.html\n",
      "Please also refer to the documentation for alternative solver options:\n",
      "    https://scikit-learn.org/stable/modules/linear_model.html#logistic-regression\n",
      "  n_iter_i = _check_optimize_result(\n"
     ]
    },
    {
     "name": "stdout",
     "output_type": "stream",
     "text": [
      "Accuracy: 20.14%\n",
      "Precision: 20.51%\n",
      "Recall: 20.14%\n",
      "F1: 19.07%\n",
      "\n",
      "========== Split 1 ==========\n"
     ]
    },
    {
     "name": "stderr",
     "output_type": "stream",
     "text": [
      "d:\\MADS\\SIADS 696 - Milestone II\\siads_696_mII\\.venv\\Lib\\site-packages\\sklearn\\linear_model\\_logistic.py:473: ConvergenceWarning: lbfgs failed to converge after 100 iteration(s) (status=1):\n",
      "STOP: TOTAL NO. OF ITERATIONS REACHED LIMIT\n",
      "\n",
      "Increase the number of iterations to improve the convergence (max_iter=100).\n",
      "You might also want to scale the data as shown in:\n",
      "    https://scikit-learn.org/stable/modules/preprocessing.html\n",
      "Please also refer to the documentation for alternative solver options:\n",
      "    https://scikit-learn.org/stable/modules/linear_model.html#logistic-regression\n",
      "  n_iter_i = _check_optimize_result(\n",
      "d:\\MADS\\SIADS 696 - Milestone II\\siads_696_mII\\.venv\\Lib\\site-packages\\sklearn\\linear_model\\_logistic.py:473: ConvergenceWarning: lbfgs failed to converge after 100 iteration(s) (status=1):\n",
      "STOP: TOTAL NO. OF ITERATIONS REACHED LIMIT\n",
      "\n",
      "Increase the number of iterations to improve the convergence (max_iter=100).\n",
      "You might also want to scale the data as shown in:\n",
      "    https://scikit-learn.org/stable/modules/preprocessing.html\n",
      "Please also refer to the documentation for alternative solver options:\n",
      "    https://scikit-learn.org/stable/modules/linear_model.html#logistic-regression\n",
      "  n_iter_i = _check_optimize_result(\n",
      "d:\\MADS\\SIADS 696 - Milestone II\\siads_696_mII\\.venv\\Lib\\site-packages\\sklearn\\linear_model\\_logistic.py:473: ConvergenceWarning: lbfgs failed to converge after 100 iteration(s) (status=1):\n",
      "STOP: TOTAL NO. OF ITERATIONS REACHED LIMIT\n",
      "\n",
      "Increase the number of iterations to improve the convergence (max_iter=100).\n",
      "You might also want to scale the data as shown in:\n",
      "    https://scikit-learn.org/stable/modules/preprocessing.html\n",
      "Please also refer to the documentation for alternative solver options:\n",
      "    https://scikit-learn.org/stable/modules/linear_model.html#logistic-regression\n",
      "  n_iter_i = _check_optimize_result(\n",
      "d:\\MADS\\SIADS 696 - Milestone II\\siads_696_mII\\.venv\\Lib\\site-packages\\sklearn\\linear_model\\_logistic.py:473: ConvergenceWarning: lbfgs failed to converge after 100 iteration(s) (status=1):\n",
      "STOP: TOTAL NO. OF ITERATIONS REACHED LIMIT\n",
      "\n",
      "Increase the number of iterations to improve the convergence (max_iter=100).\n",
      "You might also want to scale the data as shown in:\n",
      "    https://scikit-learn.org/stable/modules/preprocessing.html\n",
      "Please also refer to the documentation for alternative solver options:\n",
      "    https://scikit-learn.org/stable/modules/linear_model.html#logistic-regression\n",
      "  n_iter_i = _check_optimize_result(\n",
      "d:\\MADS\\SIADS 696 - Milestone II\\siads_696_mII\\.venv\\Lib\\site-packages\\sklearn\\linear_model\\_logistic.py:473: ConvergenceWarning: lbfgs failed to converge after 100 iteration(s) (status=1):\n",
      "STOP: TOTAL NO. OF ITERATIONS REACHED LIMIT\n",
      "\n",
      "Increase the number of iterations to improve the convergence (max_iter=100).\n",
      "You might also want to scale the data as shown in:\n",
      "    https://scikit-learn.org/stable/modules/preprocessing.html\n",
      "Please also refer to the documentation for alternative solver options:\n",
      "    https://scikit-learn.org/stable/modules/linear_model.html#logistic-regression\n",
      "  n_iter_i = _check_optimize_result(\n",
      "d:\\MADS\\SIADS 696 - Milestone II\\siads_696_mII\\.venv\\Lib\\site-packages\\sklearn\\linear_model\\_logistic.py:473: ConvergenceWarning: lbfgs failed to converge after 100 iteration(s) (status=1):\n",
      "STOP: TOTAL NO. OF ITERATIONS REACHED LIMIT\n",
      "\n",
      "Increase the number of iterations to improve the convergence (max_iter=100).\n",
      "You might also want to scale the data as shown in:\n",
      "    https://scikit-learn.org/stable/modules/preprocessing.html\n",
      "Please also refer to the documentation for alternative solver options:\n",
      "    https://scikit-learn.org/stable/modules/linear_model.html#logistic-regression\n",
      "  n_iter_i = _check_optimize_result(\n"
     ]
    },
    {
     "name": "stdout",
     "output_type": "stream",
     "text": [
      "Accuracy: 22.95%\n",
      "Precision: 23.89%\n",
      "Recall: 22.95%\n",
      "F1: 21.57%\n",
      "\n",
      "========== Split 2 ==========\n"
     ]
    },
    {
     "name": "stderr",
     "output_type": "stream",
     "text": [
      "d:\\MADS\\SIADS 696 - Milestone II\\siads_696_mII\\.venv\\Lib\\site-packages\\sklearn\\linear_model\\_logistic.py:473: ConvergenceWarning: lbfgs failed to converge after 100 iteration(s) (status=1):\n",
      "STOP: TOTAL NO. OF ITERATIONS REACHED LIMIT\n",
      "\n",
      "Increase the number of iterations to improve the convergence (max_iter=100).\n",
      "You might also want to scale the data as shown in:\n",
      "    https://scikit-learn.org/stable/modules/preprocessing.html\n",
      "Please also refer to the documentation for alternative solver options:\n",
      "    https://scikit-learn.org/stable/modules/linear_model.html#logistic-regression\n",
      "  n_iter_i = _check_optimize_result(\n",
      "d:\\MADS\\SIADS 696 - Milestone II\\siads_696_mII\\.venv\\Lib\\site-packages\\sklearn\\linear_model\\_logistic.py:473: ConvergenceWarning: lbfgs failed to converge after 100 iteration(s) (status=1):\n",
      "STOP: TOTAL NO. OF ITERATIONS REACHED LIMIT\n",
      "\n",
      "Increase the number of iterations to improve the convergence (max_iter=100).\n",
      "You might also want to scale the data as shown in:\n",
      "    https://scikit-learn.org/stable/modules/preprocessing.html\n",
      "Please also refer to the documentation for alternative solver options:\n",
      "    https://scikit-learn.org/stable/modules/linear_model.html#logistic-regression\n",
      "  n_iter_i = _check_optimize_result(\n",
      "d:\\MADS\\SIADS 696 - Milestone II\\siads_696_mII\\.venv\\Lib\\site-packages\\sklearn\\linear_model\\_logistic.py:473: ConvergenceWarning: lbfgs failed to converge after 100 iteration(s) (status=1):\n",
      "STOP: TOTAL NO. OF ITERATIONS REACHED LIMIT\n",
      "\n",
      "Increase the number of iterations to improve the convergence (max_iter=100).\n",
      "You might also want to scale the data as shown in:\n",
      "    https://scikit-learn.org/stable/modules/preprocessing.html\n",
      "Please also refer to the documentation for alternative solver options:\n",
      "    https://scikit-learn.org/stable/modules/linear_model.html#logistic-regression\n",
      "  n_iter_i = _check_optimize_result(\n",
      "d:\\MADS\\SIADS 696 - Milestone II\\siads_696_mII\\.venv\\Lib\\site-packages\\sklearn\\linear_model\\_logistic.py:473: ConvergenceWarning: lbfgs failed to converge after 100 iteration(s) (status=1):\n",
      "STOP: TOTAL NO. OF ITERATIONS REACHED LIMIT\n",
      "\n",
      "Increase the number of iterations to improve the convergence (max_iter=100).\n",
      "You might also want to scale the data as shown in:\n",
      "    https://scikit-learn.org/stable/modules/preprocessing.html\n",
      "Please also refer to the documentation for alternative solver options:\n",
      "    https://scikit-learn.org/stable/modules/linear_model.html#logistic-regression\n",
      "  n_iter_i = _check_optimize_result(\n"
     ]
    },
    {
     "name": "stdout",
     "output_type": "stream",
     "text": [
      "Accuracy: 21.310000000000002%\n",
      "Precision: 24.29%\n",
      "Recall: 21.310000000000002%\n",
      "F1: 20.78%\n",
      "\n",
      "========== Split 3 ==========\n"
     ]
    },
    {
     "name": "stderr",
     "output_type": "stream",
     "text": [
      "d:\\MADS\\SIADS 696 - Milestone II\\siads_696_mII\\.venv\\Lib\\site-packages\\sklearn\\linear_model\\_logistic.py:473: ConvergenceWarning: lbfgs failed to converge after 100 iteration(s) (status=1):\n",
      "STOP: TOTAL NO. OF ITERATIONS REACHED LIMIT\n",
      "\n",
      "Increase the number of iterations to improve the convergence (max_iter=100).\n",
      "You might also want to scale the data as shown in:\n",
      "    https://scikit-learn.org/stable/modules/preprocessing.html\n",
      "Please also refer to the documentation for alternative solver options:\n",
      "    https://scikit-learn.org/stable/modules/linear_model.html#logistic-regression\n",
      "  n_iter_i = _check_optimize_result(\n",
      "d:\\MADS\\SIADS 696 - Milestone II\\siads_696_mII\\.venv\\Lib\\site-packages\\sklearn\\linear_model\\_logistic.py:473: ConvergenceWarning: lbfgs failed to converge after 100 iteration(s) (status=1):\n",
      "STOP: TOTAL NO. OF ITERATIONS REACHED LIMIT\n",
      "\n",
      "Increase the number of iterations to improve the convergence (max_iter=100).\n",
      "You might also want to scale the data as shown in:\n",
      "    https://scikit-learn.org/stable/modules/preprocessing.html\n",
      "Please also refer to the documentation for alternative solver options:\n",
      "    https://scikit-learn.org/stable/modules/linear_model.html#logistic-regression\n",
      "  n_iter_i = _check_optimize_result(\n",
      "d:\\MADS\\SIADS 696 - Milestone II\\siads_696_mII\\.venv\\Lib\\site-packages\\sklearn\\linear_model\\_logistic.py:473: ConvergenceWarning: lbfgs failed to converge after 100 iteration(s) (status=1):\n",
      "STOP: TOTAL NO. OF ITERATIONS REACHED LIMIT\n",
      "\n",
      "Increase the number of iterations to improve the convergence (max_iter=100).\n",
      "You might also want to scale the data as shown in:\n",
      "    https://scikit-learn.org/stable/modules/preprocessing.html\n",
      "Please also refer to the documentation for alternative solver options:\n",
      "    https://scikit-learn.org/stable/modules/linear_model.html#logistic-regression\n",
      "  n_iter_i = _check_optimize_result(\n",
      "d:\\MADS\\SIADS 696 - Milestone II\\siads_696_mII\\.venv\\Lib\\site-packages\\sklearn\\linear_model\\_logistic.py:473: ConvergenceWarning: lbfgs failed to converge after 100 iteration(s) (status=1):\n",
      "STOP: TOTAL NO. OF ITERATIONS REACHED LIMIT\n",
      "\n",
      "Increase the number of iterations to improve the convergence (max_iter=100).\n",
      "You might also want to scale the data as shown in:\n",
      "    https://scikit-learn.org/stable/modules/preprocessing.html\n",
      "Please also refer to the documentation for alternative solver options:\n",
      "    https://scikit-learn.org/stable/modules/linear_model.html#logistic-regression\n",
      "  n_iter_i = _check_optimize_result(\n",
      "d:\\MADS\\SIADS 696 - Milestone II\\siads_696_mII\\.venv\\Lib\\site-packages\\sklearn\\linear_model\\_logistic.py:473: ConvergenceWarning: lbfgs failed to converge after 100 iteration(s) (status=1):\n",
      "STOP: TOTAL NO. OF ITERATIONS REACHED LIMIT\n",
      "\n",
      "Increase the number of iterations to improve the convergence (max_iter=100).\n",
      "You might also want to scale the data as shown in:\n",
      "    https://scikit-learn.org/stable/modules/preprocessing.html\n",
      "Please also refer to the documentation for alternative solver options:\n",
      "    https://scikit-learn.org/stable/modules/linear_model.html#logistic-regression\n",
      "  n_iter_i = _check_optimize_result(\n",
      "d:\\MADS\\SIADS 696 - Milestone II\\siads_696_mII\\.venv\\Lib\\site-packages\\sklearn\\linear_model\\_logistic.py:473: ConvergenceWarning: lbfgs failed to converge after 100 iteration(s) (status=1):\n",
      "STOP: TOTAL NO. OF ITERATIONS REACHED LIMIT\n",
      "\n",
      "Increase the number of iterations to improve the convergence (max_iter=100).\n",
      "You might also want to scale the data as shown in:\n",
      "    https://scikit-learn.org/stable/modules/preprocessing.html\n",
      "Please also refer to the documentation for alternative solver options:\n",
      "    https://scikit-learn.org/stable/modules/linear_model.html#logistic-regression\n",
      "  n_iter_i = _check_optimize_result(\n"
     ]
    },
    {
     "name": "stdout",
     "output_type": "stream",
     "text": [
      "Accuracy: 18.970000000000002%\n",
      "Precision: 19.38%\n",
      "Recall: 18.970000000000002%\n",
      "F1: 18.82%\n",
      "\n",
      "========== Split 4 ==========\n"
     ]
    },
    {
     "name": "stderr",
     "output_type": "stream",
     "text": [
      "d:\\MADS\\SIADS 696 - Milestone II\\siads_696_mII\\.venv\\Lib\\site-packages\\sklearn\\linear_model\\_logistic.py:473: ConvergenceWarning: lbfgs failed to converge after 100 iteration(s) (status=1):\n",
      "STOP: TOTAL NO. OF ITERATIONS REACHED LIMIT\n",
      "\n",
      "Increase the number of iterations to improve the convergence (max_iter=100).\n",
      "You might also want to scale the data as shown in:\n",
      "    https://scikit-learn.org/stable/modules/preprocessing.html\n",
      "Please also refer to the documentation for alternative solver options:\n",
      "    https://scikit-learn.org/stable/modules/linear_model.html#logistic-regression\n",
      "  n_iter_i = _check_optimize_result(\n",
      "d:\\MADS\\SIADS 696 - Milestone II\\siads_696_mII\\.venv\\Lib\\site-packages\\sklearn\\linear_model\\_logistic.py:473: ConvergenceWarning: lbfgs failed to converge after 100 iteration(s) (status=1):\n",
      "STOP: TOTAL NO. OF ITERATIONS REACHED LIMIT\n",
      "\n",
      "Increase the number of iterations to improve the convergence (max_iter=100).\n",
      "You might also want to scale the data as shown in:\n",
      "    https://scikit-learn.org/stable/modules/preprocessing.html\n",
      "Please also refer to the documentation for alternative solver options:\n",
      "    https://scikit-learn.org/stable/modules/linear_model.html#logistic-regression\n",
      "  n_iter_i = _check_optimize_result(\n",
      "d:\\MADS\\SIADS 696 - Milestone II\\siads_696_mII\\.venv\\Lib\\site-packages\\sklearn\\linear_model\\_logistic.py:473: ConvergenceWarning: lbfgs failed to converge after 100 iteration(s) (status=1):\n",
      "STOP: TOTAL NO. OF ITERATIONS REACHED LIMIT\n",
      "\n",
      "Increase the number of iterations to improve the convergence (max_iter=100).\n",
      "You might also want to scale the data as shown in:\n",
      "    https://scikit-learn.org/stable/modules/preprocessing.html\n",
      "Please also refer to the documentation for alternative solver options:\n",
      "    https://scikit-learn.org/stable/modules/linear_model.html#logistic-regression\n",
      "  n_iter_i = _check_optimize_result(\n",
      "d:\\MADS\\SIADS 696 - Milestone II\\siads_696_mII\\.venv\\Lib\\site-packages\\sklearn\\linear_model\\_logistic.py:473: ConvergenceWarning: lbfgs failed to converge after 100 iteration(s) (status=1):\n",
      "STOP: TOTAL NO. OF ITERATIONS REACHED LIMIT\n",
      "\n",
      "Increase the number of iterations to improve the convergence (max_iter=100).\n",
      "You might also want to scale the data as shown in:\n",
      "    https://scikit-learn.org/stable/modules/preprocessing.html\n",
      "Please also refer to the documentation for alternative solver options:\n",
      "    https://scikit-learn.org/stable/modules/linear_model.html#logistic-regression\n",
      "  n_iter_i = _check_optimize_result(\n"
     ]
    },
    {
     "name": "stdout",
     "output_type": "stream",
     "text": [
      "Accuracy: 23.419999999999998%\n",
      "Precision: 23.59%\n",
      "Recall: 23.419999999999998%\n",
      "F1: 22.45%\n",
      "\n",
      "========== Split 5 ==========\n"
     ]
    },
    {
     "name": "stderr",
     "output_type": "stream",
     "text": [
      "d:\\MADS\\SIADS 696 - Milestone II\\siads_696_mII\\.venv\\Lib\\site-packages\\sklearn\\linear_model\\_logistic.py:473: ConvergenceWarning: lbfgs failed to converge after 100 iteration(s) (status=1):\n",
      "STOP: TOTAL NO. OF ITERATIONS REACHED LIMIT\n",
      "\n",
      "Increase the number of iterations to improve the convergence (max_iter=100).\n",
      "You might also want to scale the data as shown in:\n",
      "    https://scikit-learn.org/stable/modules/preprocessing.html\n",
      "Please also refer to the documentation for alternative solver options:\n",
      "    https://scikit-learn.org/stable/modules/linear_model.html#logistic-regression\n",
      "  n_iter_i = _check_optimize_result(\n",
      "d:\\MADS\\SIADS 696 - Milestone II\\siads_696_mII\\.venv\\Lib\\site-packages\\sklearn\\linear_model\\_logistic.py:473: ConvergenceWarning: lbfgs failed to converge after 100 iteration(s) (status=1):\n",
      "STOP: TOTAL NO. OF ITERATIONS REACHED LIMIT\n",
      "\n",
      "Increase the number of iterations to improve the convergence (max_iter=100).\n",
      "You might also want to scale the data as shown in:\n",
      "    https://scikit-learn.org/stable/modules/preprocessing.html\n",
      "Please also refer to the documentation for alternative solver options:\n",
      "    https://scikit-learn.org/stable/modules/linear_model.html#logistic-regression\n",
      "  n_iter_i = _check_optimize_result(\n",
      "d:\\MADS\\SIADS 696 - Milestone II\\siads_696_mII\\.venv\\Lib\\site-packages\\sklearn\\linear_model\\_logistic.py:473: ConvergenceWarning: lbfgs failed to converge after 100 iteration(s) (status=1):\n",
      "STOP: TOTAL NO. OF ITERATIONS REACHED LIMIT\n",
      "\n",
      "Increase the number of iterations to improve the convergence (max_iter=100).\n",
      "You might also want to scale the data as shown in:\n",
      "    https://scikit-learn.org/stable/modules/preprocessing.html\n",
      "Please also refer to the documentation for alternative solver options:\n",
      "    https://scikit-learn.org/stable/modules/linear_model.html#logistic-regression\n",
      "  n_iter_i = _check_optimize_result(\n",
      "d:\\MADS\\SIADS 696 - Milestone II\\siads_696_mII\\.venv\\Lib\\site-packages\\sklearn\\linear_model\\_logistic.py:473: ConvergenceWarning: lbfgs failed to converge after 100 iteration(s) (status=1):\n",
      "STOP: TOTAL NO. OF ITERATIONS REACHED LIMIT\n",
      "\n",
      "Increase the number of iterations to improve the convergence (max_iter=100).\n",
      "You might also want to scale the data as shown in:\n",
      "    https://scikit-learn.org/stable/modules/preprocessing.html\n",
      "Please also refer to the documentation for alternative solver options:\n",
      "    https://scikit-learn.org/stable/modules/linear_model.html#logistic-regression\n",
      "  n_iter_i = _check_optimize_result(\n",
      "d:\\MADS\\SIADS 696 - Milestone II\\siads_696_mII\\.venv\\Lib\\site-packages\\sklearn\\linear_model\\_logistic.py:473: ConvergenceWarning: lbfgs failed to converge after 100 iteration(s) (status=1):\n",
      "STOP: TOTAL NO. OF ITERATIONS REACHED LIMIT\n",
      "\n",
      "Increase the number of iterations to improve the convergence (max_iter=100).\n",
      "You might also want to scale the data as shown in:\n",
      "    https://scikit-learn.org/stable/modules/preprocessing.html\n",
      "Please also refer to the documentation for alternative solver options:\n",
      "    https://scikit-learn.org/stable/modules/linear_model.html#logistic-regression\n",
      "  n_iter_i = _check_optimize_result(\n"
     ]
    },
    {
     "name": "stdout",
     "output_type": "stream",
     "text": [
      "Accuracy: 23.189999999999998%\n",
      "Precision: 24.11%\n",
      "Recall: 23.189999999999998%\n",
      "F1: 22.720000000000002%\n",
      "\n",
      "========== Split 6 ==========\n"
     ]
    },
    {
     "name": "stderr",
     "output_type": "stream",
     "text": [
      "d:\\MADS\\SIADS 696 - Milestone II\\siads_696_mII\\.venv\\Lib\\site-packages\\sklearn\\linear_model\\_logistic.py:473: ConvergenceWarning: lbfgs failed to converge after 100 iteration(s) (status=1):\n",
      "STOP: TOTAL NO. OF ITERATIONS REACHED LIMIT\n",
      "\n",
      "Increase the number of iterations to improve the convergence (max_iter=100).\n",
      "You might also want to scale the data as shown in:\n",
      "    https://scikit-learn.org/stable/modules/preprocessing.html\n",
      "Please also refer to the documentation for alternative solver options:\n",
      "    https://scikit-learn.org/stable/modules/linear_model.html#logistic-regression\n",
      "  n_iter_i = _check_optimize_result(\n",
      "d:\\MADS\\SIADS 696 - Milestone II\\siads_696_mII\\.venv\\Lib\\site-packages\\sklearn\\linear_model\\_logistic.py:473: ConvergenceWarning: lbfgs failed to converge after 100 iteration(s) (status=1):\n",
      "STOP: TOTAL NO. OF ITERATIONS REACHED LIMIT\n",
      "\n",
      "Increase the number of iterations to improve the convergence (max_iter=100).\n",
      "You might also want to scale the data as shown in:\n",
      "    https://scikit-learn.org/stable/modules/preprocessing.html\n",
      "Please also refer to the documentation for alternative solver options:\n",
      "    https://scikit-learn.org/stable/modules/linear_model.html#logistic-regression\n",
      "  n_iter_i = _check_optimize_result(\n",
      "d:\\MADS\\SIADS 696 - Milestone II\\siads_696_mII\\.venv\\Lib\\site-packages\\sklearn\\linear_model\\_logistic.py:473: ConvergenceWarning: lbfgs failed to converge after 100 iteration(s) (status=1):\n",
      "STOP: TOTAL NO. OF ITERATIONS REACHED LIMIT\n",
      "\n",
      "Increase the number of iterations to improve the convergence (max_iter=100).\n",
      "You might also want to scale the data as shown in:\n",
      "    https://scikit-learn.org/stable/modules/preprocessing.html\n",
      "Please also refer to the documentation for alternative solver options:\n",
      "    https://scikit-learn.org/stable/modules/linear_model.html#logistic-regression\n",
      "  n_iter_i = _check_optimize_result(\n",
      "d:\\MADS\\SIADS 696 - Milestone II\\siads_696_mII\\.venv\\Lib\\site-packages\\sklearn\\linear_model\\_logistic.py:473: ConvergenceWarning: lbfgs failed to converge after 100 iteration(s) (status=1):\n",
      "STOP: TOTAL NO. OF ITERATIONS REACHED LIMIT\n",
      "\n",
      "Increase the number of iterations to improve the convergence (max_iter=100).\n",
      "You might also want to scale the data as shown in:\n",
      "    https://scikit-learn.org/stable/modules/preprocessing.html\n",
      "Please also refer to the documentation for alternative solver options:\n",
      "    https://scikit-learn.org/stable/modules/linear_model.html#logistic-regression\n",
      "  n_iter_i = _check_optimize_result(\n",
      "d:\\MADS\\SIADS 696 - Milestone II\\siads_696_mII\\.venv\\Lib\\site-packages\\sklearn\\linear_model\\_logistic.py:473: ConvergenceWarning: lbfgs failed to converge after 100 iteration(s) (status=1):\n",
      "STOP: TOTAL NO. OF ITERATIONS REACHED LIMIT\n",
      "\n",
      "Increase the number of iterations to improve the convergence (max_iter=100).\n",
      "You might also want to scale the data as shown in:\n",
      "    https://scikit-learn.org/stable/modules/preprocessing.html\n",
      "Please also refer to the documentation for alternative solver options:\n",
      "    https://scikit-learn.org/stable/modules/linear_model.html#logistic-regression\n",
      "  n_iter_i = _check_optimize_result(\n",
      "d:\\MADS\\SIADS 696 - Milestone II\\siads_696_mII\\.venv\\Lib\\site-packages\\sklearn\\linear_model\\_logistic.py:473: ConvergenceWarning: lbfgs failed to converge after 100 iteration(s) (status=1):\n",
      "STOP: TOTAL NO. OF ITERATIONS REACHED LIMIT\n",
      "\n",
      "Increase the number of iterations to improve the convergence (max_iter=100).\n",
      "You might also want to scale the data as shown in:\n",
      "    https://scikit-learn.org/stable/modules/preprocessing.html\n",
      "Please also refer to the documentation for alternative solver options:\n",
      "    https://scikit-learn.org/stable/modules/linear_model.html#logistic-regression\n",
      "  n_iter_i = _check_optimize_result(\n"
     ]
    },
    {
     "name": "stdout",
     "output_type": "stream",
     "text": [
      "Accuracy: 19.2%\n",
      "Precision: 18.23%\n",
      "Recall: 19.2%\n",
      "F1: 18.07%\n",
      "\n",
      "========== Split 7 ==========\n"
     ]
    },
    {
     "name": "stderr",
     "output_type": "stream",
     "text": [
      "d:\\MADS\\SIADS 696 - Milestone II\\siads_696_mII\\.venv\\Lib\\site-packages\\sklearn\\linear_model\\_logistic.py:473: ConvergenceWarning: lbfgs failed to converge after 100 iteration(s) (status=1):\n",
      "STOP: TOTAL NO. OF ITERATIONS REACHED LIMIT\n",
      "\n",
      "Increase the number of iterations to improve the convergence (max_iter=100).\n",
      "You might also want to scale the data as shown in:\n",
      "    https://scikit-learn.org/stable/modules/preprocessing.html\n",
      "Please also refer to the documentation for alternative solver options:\n",
      "    https://scikit-learn.org/stable/modules/linear_model.html#logistic-regression\n",
      "  n_iter_i = _check_optimize_result(\n",
      "d:\\MADS\\SIADS 696 - Milestone II\\siads_696_mII\\.venv\\Lib\\site-packages\\sklearn\\linear_model\\_logistic.py:473: ConvergenceWarning: lbfgs failed to converge after 100 iteration(s) (status=1):\n",
      "STOP: TOTAL NO. OF ITERATIONS REACHED LIMIT\n",
      "\n",
      "Increase the number of iterations to improve the convergence (max_iter=100).\n",
      "You might also want to scale the data as shown in:\n",
      "    https://scikit-learn.org/stable/modules/preprocessing.html\n",
      "Please also refer to the documentation for alternative solver options:\n",
      "    https://scikit-learn.org/stable/modules/linear_model.html#logistic-regression\n",
      "  n_iter_i = _check_optimize_result(\n",
      "d:\\MADS\\SIADS 696 - Milestone II\\siads_696_mII\\.venv\\Lib\\site-packages\\sklearn\\linear_model\\_logistic.py:473: ConvergenceWarning: lbfgs failed to converge after 100 iteration(s) (status=1):\n",
      "STOP: TOTAL NO. OF ITERATIONS REACHED LIMIT\n",
      "\n",
      "Increase the number of iterations to improve the convergence (max_iter=100).\n",
      "You might also want to scale the data as shown in:\n",
      "    https://scikit-learn.org/stable/modules/preprocessing.html\n",
      "Please also refer to the documentation for alternative solver options:\n",
      "    https://scikit-learn.org/stable/modules/linear_model.html#logistic-regression\n",
      "  n_iter_i = _check_optimize_result(\n",
      "d:\\MADS\\SIADS 696 - Milestone II\\siads_696_mII\\.venv\\Lib\\site-packages\\sklearn\\linear_model\\_logistic.py:473: ConvergenceWarning: lbfgs failed to converge after 100 iteration(s) (status=1):\n",
      "STOP: TOTAL NO. OF ITERATIONS REACHED LIMIT\n",
      "\n",
      "Increase the number of iterations to improve the convergence (max_iter=100).\n",
      "You might also want to scale the data as shown in:\n",
      "    https://scikit-learn.org/stable/modules/preprocessing.html\n",
      "Please also refer to the documentation for alternative solver options:\n",
      "    https://scikit-learn.org/stable/modules/linear_model.html#logistic-regression\n",
      "  n_iter_i = _check_optimize_result(\n"
     ]
    },
    {
     "name": "stdout",
     "output_type": "stream",
     "text": [
      "Accuracy: 19.439999999999998%\n",
      "Precision: 19.16%\n",
      "Recall: 19.439999999999998%\n",
      "F1: 18.35%\n",
      "\n",
      "========== Split 8 ==========\n"
     ]
    },
    {
     "name": "stderr",
     "output_type": "stream",
     "text": [
      "d:\\MADS\\SIADS 696 - Milestone II\\siads_696_mII\\.venv\\Lib\\site-packages\\sklearn\\linear_model\\_logistic.py:473: ConvergenceWarning: lbfgs failed to converge after 100 iteration(s) (status=1):\n",
      "STOP: TOTAL NO. OF ITERATIONS REACHED LIMIT\n",
      "\n",
      "Increase the number of iterations to improve the convergence (max_iter=100).\n",
      "You might also want to scale the data as shown in:\n",
      "    https://scikit-learn.org/stable/modules/preprocessing.html\n",
      "Please also refer to the documentation for alternative solver options:\n",
      "    https://scikit-learn.org/stable/modules/linear_model.html#logistic-regression\n",
      "  n_iter_i = _check_optimize_result(\n",
      "d:\\MADS\\SIADS 696 - Milestone II\\siads_696_mII\\.venv\\Lib\\site-packages\\sklearn\\linear_model\\_logistic.py:473: ConvergenceWarning: lbfgs failed to converge after 100 iteration(s) (status=1):\n",
      "STOP: TOTAL NO. OF ITERATIONS REACHED LIMIT\n",
      "\n",
      "Increase the number of iterations to improve the convergence (max_iter=100).\n",
      "You might also want to scale the data as shown in:\n",
      "    https://scikit-learn.org/stable/modules/preprocessing.html\n",
      "Please also refer to the documentation for alternative solver options:\n",
      "    https://scikit-learn.org/stable/modules/linear_model.html#logistic-regression\n",
      "  n_iter_i = _check_optimize_result(\n",
      "d:\\MADS\\SIADS 696 - Milestone II\\siads_696_mII\\.venv\\Lib\\site-packages\\sklearn\\linear_model\\_logistic.py:473: ConvergenceWarning: lbfgs failed to converge after 100 iteration(s) (status=1):\n",
      "STOP: TOTAL NO. OF ITERATIONS REACHED LIMIT\n",
      "\n",
      "Increase the number of iterations to improve the convergence (max_iter=100).\n",
      "You might also want to scale the data as shown in:\n",
      "    https://scikit-learn.org/stable/modules/preprocessing.html\n",
      "Please also refer to the documentation for alternative solver options:\n",
      "    https://scikit-learn.org/stable/modules/linear_model.html#logistic-regression\n",
      "  n_iter_i = _check_optimize_result(\n",
      "d:\\MADS\\SIADS 696 - Milestone II\\siads_696_mII\\.venv\\Lib\\site-packages\\sklearn\\linear_model\\_logistic.py:473: ConvergenceWarning: lbfgs failed to converge after 100 iteration(s) (status=1):\n",
      "STOP: TOTAL NO. OF ITERATIONS REACHED LIMIT\n",
      "\n",
      "Increase the number of iterations to improve the convergence (max_iter=100).\n",
      "You might also want to scale the data as shown in:\n",
      "    https://scikit-learn.org/stable/modules/preprocessing.html\n",
      "Please also refer to the documentation for alternative solver options:\n",
      "    https://scikit-learn.org/stable/modules/linear_model.html#logistic-regression\n",
      "  n_iter_i = _check_optimize_result(\n",
      "d:\\MADS\\SIADS 696 - Milestone II\\siads_696_mII\\.venv\\Lib\\site-packages\\sklearn\\linear_model\\_logistic.py:473: ConvergenceWarning: lbfgs failed to converge after 100 iteration(s) (status=1):\n",
      "STOP: TOTAL NO. OF ITERATIONS REACHED LIMIT\n",
      "\n",
      "Increase the number of iterations to improve the convergence (max_iter=100).\n",
      "You might also want to scale the data as shown in:\n",
      "    https://scikit-learn.org/stable/modules/preprocessing.html\n",
      "Please also refer to the documentation for alternative solver options:\n",
      "    https://scikit-learn.org/stable/modules/linear_model.html#logistic-regression\n",
      "  n_iter_i = _check_optimize_result(\n",
      "d:\\MADS\\SIADS 696 - Milestone II\\siads_696_mII\\.venv\\Lib\\site-packages\\sklearn\\linear_model\\_logistic.py:473: ConvergenceWarning: lbfgs failed to converge after 100 iteration(s) (status=1):\n",
      "STOP: TOTAL NO. OF ITERATIONS REACHED LIMIT\n",
      "\n",
      "Increase the number of iterations to improve the convergence (max_iter=100).\n",
      "You might also want to scale the data as shown in:\n",
      "    https://scikit-learn.org/stable/modules/preprocessing.html\n",
      "Please also refer to the documentation for alternative solver options:\n",
      "    https://scikit-learn.org/stable/modules/linear_model.html#logistic-regression\n",
      "  n_iter_i = _check_optimize_result(\n"
     ]
    },
    {
     "name": "stdout",
     "output_type": "stream",
     "text": [
      "Accuracy: 21.310000000000002%\n",
      "Precision: 21.790000000000003%\n",
      "Recall: 21.310000000000002%\n",
      "F1: 20.46%\n",
      "\n",
      "========== Split 9 ==========\n"
     ]
    },
    {
     "name": "stderr",
     "output_type": "stream",
     "text": [
      "d:\\MADS\\SIADS 696 - Milestone II\\siads_696_mII\\.venv\\Lib\\site-packages\\sklearn\\linear_model\\_logistic.py:473: ConvergenceWarning: lbfgs failed to converge after 100 iteration(s) (status=1):\n",
      "STOP: TOTAL NO. OF ITERATIONS REACHED LIMIT\n",
      "\n",
      "Increase the number of iterations to improve the convergence (max_iter=100).\n",
      "You might also want to scale the data as shown in:\n",
      "    https://scikit-learn.org/stable/modules/preprocessing.html\n",
      "Please also refer to the documentation for alternative solver options:\n",
      "    https://scikit-learn.org/stable/modules/linear_model.html#logistic-regression\n",
      "  n_iter_i = _check_optimize_result(\n",
      "d:\\MADS\\SIADS 696 - Milestone II\\siads_696_mII\\.venv\\Lib\\site-packages\\sklearn\\linear_model\\_logistic.py:473: ConvergenceWarning: lbfgs failed to converge after 100 iteration(s) (status=1):\n",
      "STOP: TOTAL NO. OF ITERATIONS REACHED LIMIT\n",
      "\n",
      "Increase the number of iterations to improve the convergence (max_iter=100).\n",
      "You might also want to scale the data as shown in:\n",
      "    https://scikit-learn.org/stable/modules/preprocessing.html\n",
      "Please also refer to the documentation for alternative solver options:\n",
      "    https://scikit-learn.org/stable/modules/linear_model.html#logistic-regression\n",
      "  n_iter_i = _check_optimize_result(\n"
     ]
    },
    {
     "name": "stdout",
     "output_type": "stream",
     "text": [
      "Accuracy: 21.310000000000002%\n",
      "Precision: 21.310000000000002%\n",
      "Recall: 21.310000000000002%\n",
      "F1: 20.91%\n"
     ]
    },
    {
     "name": "stderr",
     "output_type": "stream",
     "text": [
      "d:\\MADS\\SIADS 696 - Milestone II\\siads_696_mII\\.venv\\Lib\\site-packages\\sklearn\\linear_model\\_logistic.py:473: ConvergenceWarning: lbfgs failed to converge after 100 iteration(s) (status=1):\n",
      "STOP: TOTAL NO. OF ITERATIONS REACHED LIMIT\n",
      "\n",
      "Increase the number of iterations to improve the convergence (max_iter=100).\n",
      "You might also want to scale the data as shown in:\n",
      "    https://scikit-learn.org/stable/modules/preprocessing.html\n",
      "Please also refer to the documentation for alternative solver options:\n",
      "    https://scikit-learn.org/stable/modules/linear_model.html#logistic-regression\n",
      "  n_iter_i = _check_optimize_result(\n",
      "d:\\MADS\\SIADS 696 - Milestone II\\siads_696_mII\\.venv\\Lib\\site-packages\\sklearn\\linear_model\\_logistic.py:473: ConvergenceWarning: lbfgs failed to converge after 100 iteration(s) (status=1):\n",
      "STOP: TOTAL NO. OF ITERATIONS REACHED LIMIT\n",
      "\n",
      "Increase the number of iterations to improve the convergence (max_iter=100).\n",
      "You might also want to scale the data as shown in:\n",
      "    https://scikit-learn.org/stable/modules/preprocessing.html\n",
      "Please also refer to the documentation for alternative solver options:\n",
      "    https://scikit-learn.org/stable/modules/linear_model.html#logistic-regression\n",
      "  n_iter_i = _check_optimize_result(\n"
     ]
    }
   ],
   "source": [
    "# For K-Fold shuffled stratified cross validation\n",
    "sss = StratifiedShuffleSplit(n_splits=10, test_size=0.2, random_state=SEED)\n",
    "lr_model = OneVsRestClassifier(LogisticRegression(random_state=SEED))\n",
    "\n",
    "for split_idx, (train_idx, test_idx) in enumerate(sss.split(X_strat, y_strat)):\n",
    "  print(f\"\\n========== Split {split_idx} ==========\")\n",
    "\n",
    "  X_strat_train, X_strat_val = X_strat.iloc[train_idx], X_strat.iloc[test_idx]\n",
    "  y_strat_train, y_strat_val = y_strat[train_idx], y_strat[test_idx]\n",
    "\n",
    "  lr_model.fit(X_strat_train, y_strat_train)\n",
    "\n",
    "  preds = lr_model.predict(X_strat_val)\n",
    "  acc, prec, recall, f1 = metrics_score(y_strat_val, preds)\n",
    "  print(f\"Accuracy: {acc * 100}%\")\n",
    "  print(f\"Precision: {prec * 100}%\")\n",
    "  print(f\"Recall: {recall * 100}%\")\n",
    "  print(f\"F1: {f1 * 100}%\")"
   ]
  },
  {
   "cell_type": "markdown",
   "metadata": {},
   "source": [
    "## Model 2: Decision Tree / Random Forest\n",
    "\n",
    "Similar reason for decision tree except more interpretable. Random forest for boosting improvements"
   ]
  },
  {
   "cell_type": "code",
   "execution_count": 236,
   "metadata": {},
   "outputs": [],
   "source": [
    "# For model tuning\n",
    "config = {\n",
    "  \"max_depth\": None,\n",
    "  \"min_samples_split\": 2,\n",
    "  \"min_samples_leaf\": 1\n",
    "}"
   ]
  },
  {
   "cell_type": "code",
   "execution_count": 237,
   "metadata": {},
   "outputs": [
    {
     "name": "stdout",
     "output_type": "stream",
     "text": [
      "Accuracy: 21.279999999999998%\n",
      "Precision: 20.990000000000002%\n",
      "Recall: 21.279999999999998%\n",
      "F1: 20.75%\n"
     ]
    }
   ],
   "source": [
    "dt_model = DecisionTreeClassifier(**config, random_state=SEED)\n",
    "\n",
    "dt_model.fit(X_train, y_train)\n",
    "preds = dt_model.predict(X_val)\n",
    "acc, prec, recall, f1 = metrics_score(y_val, preds)\n",
    "print(f\"Accuracy: {acc * 100}%\")\n",
    "print(f\"Precision: {prec * 100}%\")\n",
    "print(f\"Recall: {recall * 100}%\")\n",
    "print(f\"F1: {f1 * 100}%\")"
   ]
  },
  {
   "cell_type": "code",
   "execution_count": 238,
   "metadata": {},
   "outputs": [
    {
     "data": {
      "image/png": "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",
      "text/plain": [
       "<Figure size 640x480 with 2 Axes>"
      ]
     },
     "metadata": {},
     "output_type": "display_data"
    }
   ],
   "source": [
    "plot_confusion_matrix(y_val, preds, dt_model)"
   ]
  },
  {
   "cell_type": "code",
   "execution_count": 239,
   "metadata": {},
   "outputs": [
    {
     "name": "stdout",
     "output_type": "stream",
     "text": [
      "\n",
      "========== Split 0 ==========\n",
      "Accuracy: 17.1%\n",
      "Precision: 16.73%\n",
      "Recall: 17.1%\n",
      "F1: 16.619999999999997%\n",
      "\n",
      "========== Split 1 ==========\n",
      "Accuracy: 20.14%\n",
      "Precision: 21.01%\n",
      "Recall: 20.14%\n",
      "F1: 19.98%\n",
      "\n",
      "========== Split 2 ==========\n",
      "Accuracy: 20.84%\n",
      "Precision: 21.86%\n",
      "Recall: 20.84%\n",
      "F1: 20.79%\n",
      "\n",
      "========== Split 3 ==========\n",
      "Accuracy: 18.029999999999998%\n",
      "Precision: 19.05%\n",
      "Recall: 18.029999999999998%\n",
      "F1: 17.810000000000002%\n",
      "\n",
      "========== Split 4 ==========\n",
      "Accuracy: 18.740000000000002%\n",
      "Precision: 19.07%\n",
      "Recall: 18.740000000000002%\n",
      "F1: 18.7%\n",
      "\n",
      "========== Split 5 ==========\n",
      "Accuracy: 18.27%\n",
      "Precision: 18.48%\n",
      "Recall: 18.27%\n",
      "F1: 17.91%\n",
      "\n",
      "========== Split 6 ==========\n",
      "Accuracy: 18.27%\n",
      "Precision: 18.45%\n",
      "Recall: 18.27%\n",
      "F1: 17.83%\n",
      "\n",
      "========== Split 7 ==========\n",
      "Accuracy: 18.27%\n",
      "Precision: 18.26%\n",
      "Recall: 18.27%\n",
      "F1: 17.27%\n",
      "\n",
      "========== Split 8 ==========\n",
      "Accuracy: 18.5%\n",
      "Precision: 18.66%\n",
      "Recall: 18.5%\n",
      "F1: 18.23%\n",
      "\n",
      "========== Split 9 ==========\n",
      "Accuracy: 17.8%\n",
      "Precision: 17.34%\n",
      "Recall: 17.8%\n",
      "F1: 17.28%\n"
     ]
    }
   ],
   "source": [
    "# For K-Fold shuffled stratified cross validation\n",
    "sss = StratifiedShuffleSplit(n_splits=10, test_size=0.2, random_state=SEED)\n",
    "dt_model = OneVsRestClassifier(DecisionTreeClassifier(random_state=SEED))\n",
    "\n",
    "for split_idx, (train_idx, test_idx) in enumerate(sss.split(X_strat, y_strat)):\n",
    "  print(f\"\\n========== Split {split_idx} ==========\")\n",
    "\n",
    "  X_strat_train, X_strat_val = X_strat.iloc[train_idx], X_strat.iloc[test_idx]\n",
    "  y_strat_train, y_strat_val = y_strat[train_idx], y_strat[test_idx]\n",
    "\n",
    "  dt_model.fit(X_strat_train, y_strat_train)\n",
    "\n",
    "  preds = dt_model.predict(X_strat_val)\n",
    "  acc, prec, recall, f1 = metrics_score(y_strat_val, preds)\n",
    "  print(f\"Accuracy: {acc * 100}%\")\n",
    "  print(f\"Precision: {prec * 100}%\")\n",
    "  print(f\"Recall: {recall * 100}%\")\n",
    "  print(f\"F1: {f1 * 100}%\")"
   ]
  },
  {
   "cell_type": "markdown",
   "metadata": {},
   "source": [
    "Random Forest Classifier"
   ]
  },
  {
   "cell_type": "code",
   "execution_count": 240,
   "metadata": {},
   "outputs": [],
   "source": [
    "# For model tuning\n",
    "config = {\n",
    "  \"n_estimators\": 100,\n",
    "  \"max_depth\": None,\n",
    "  \"min_samples_split\": 2,\n",
    "  \"min_samples_leaf\": 1\n",
    "}"
   ]
  },
  {
   "cell_type": "code",
   "execution_count": 241,
   "metadata": {},
   "outputs": [
    {
     "name": "stdout",
     "output_type": "stream",
     "text": [
      "Accuracy: 19.68%\n",
      "Precision: 19.439999999999998%\n",
      "Recall: 19.68%\n",
      "F1: 19.3%\n"
     ]
    }
   ],
   "source": [
    "rf_model = RandomForestClassifier(**config, random_state=SEED)\n",
    "\n",
    "rf_model.fit(X_train, y_train)\n",
    "preds = rf_model.predict(X_val)\n",
    "acc, prec, recall, f1 = metrics_score(y_val, preds)\n",
    "print(f\"Accuracy: {acc * 100}%\")\n",
    "print(f\"Precision: {prec * 100}%\")\n",
    "print(f\"Recall: {recall * 100}%\")\n",
    "print(f\"F1: {f1 * 100}%\")"
   ]
  },
  {
   "cell_type": "code",
   "execution_count": 242,
   "metadata": {},
   "outputs": [
    {
     "name": "stdout",
     "output_type": "stream",
     "text": [
      "\n",
      "========== Split 0 ==========\n",
      "Accuracy: 17.1%\n",
      "Precision: 16.73%\n",
      "Recall: 17.1%\n",
      "F1: 16.619999999999997%\n",
      "\n",
      "========== Split 1 ==========\n",
      "Accuracy: 20.14%\n",
      "Precision: 21.01%\n",
      "Recall: 20.14%\n",
      "F1: 19.98%\n",
      "\n",
      "========== Split 2 ==========\n",
      "Accuracy: 20.84%\n",
      "Precision: 21.86%\n",
      "Recall: 20.84%\n",
      "F1: 20.79%\n",
      "\n",
      "========== Split 3 ==========\n",
      "Accuracy: 18.029999999999998%\n",
      "Precision: 19.05%\n",
      "Recall: 18.029999999999998%\n",
      "F1: 17.810000000000002%\n",
      "\n",
      "========== Split 4 ==========\n",
      "Accuracy: 18.740000000000002%\n",
      "Precision: 19.07%\n",
      "Recall: 18.740000000000002%\n",
      "F1: 18.7%\n",
      "\n",
      "========== Split 5 ==========\n",
      "Accuracy: 18.27%\n",
      "Precision: 18.48%\n",
      "Recall: 18.27%\n",
      "F1: 17.91%\n",
      "\n",
      "========== Split 6 ==========\n",
      "Accuracy: 18.27%\n",
      "Precision: 18.45%\n",
      "Recall: 18.27%\n",
      "F1: 17.83%\n",
      "\n",
      "========== Split 7 ==========\n",
      "Accuracy: 18.27%\n",
      "Precision: 18.26%\n",
      "Recall: 18.27%\n",
      "F1: 17.27%\n",
      "\n",
      "========== Split 8 ==========\n",
      "Accuracy: 18.5%\n",
      "Precision: 18.66%\n",
      "Recall: 18.5%\n",
      "F1: 18.23%\n",
      "\n",
      "========== Split 9 ==========\n",
      "Accuracy: 17.8%\n",
      "Precision: 17.34%\n",
      "Recall: 17.8%\n",
      "F1: 17.28%\n"
     ]
    }
   ],
   "source": [
    "# For K-Fold shuffled stratified cross validation\n",
    "sss = StratifiedShuffleSplit(n_splits=10, test_size=0.2, random_state=SEED)\n",
    "rf_model = OneVsRestClassifier(DecisionTreeClassifier(random_state=SEED))\n",
    "\n",
    "for split_idx, (train_idx, test_idx) in enumerate(sss.split(X_strat, y_strat)):\n",
    "  print(f\"\\n========== Split {split_idx} ==========\")\n",
    "\n",
    "  X_strat_train, X_strat_val = X_strat.iloc[train_idx], X_strat.iloc[test_idx]\n",
    "  y_strat_train, y_strat_val = y_strat[train_idx], y_strat[test_idx]\n",
    "\n",
    "  rf_model.fit(X_strat_train, y_strat_train)\n",
    "\n",
    "  preds = rf_model.predict(X_strat_val)\n",
    "  acc, prec, recall, f1 = metrics_score(y_strat_val, preds)\n",
    "  print(f\"Accuracy: {acc * 100}%\")\n",
    "  print(f\"Precision: {prec * 100}%\")\n",
    "  print(f\"Recall: {recall * 100}%\")\n",
    "  print(f\"F1: {f1 * 100}%\")"
   ]
  },
  {
   "cell_type": "markdown",
   "metadata": {},
   "source": [
    "## Model 3: XGBoost\n",
    "\n",
    "Larger improvement over standard decision tree and random forest"
   ]
  },
  {
   "cell_type": "code",
   "execution_count": 243,
   "metadata": {},
   "outputs": [],
   "source": [
    "config = {\n",
    "  \"num_class\": 10, # Change this based on number of cluster outputs\n",
    "  \"n_estimators\": 100,\n",
    "  \"max_depth\": 2,\n",
    "  \"learning_rate\": 1\n",
    "}"
   ]
  },
  {
   "cell_type": "code",
   "execution_count": 244,
   "metadata": {},
   "outputs": [
    {
     "name": "stdout",
     "output_type": "stream",
     "text": [
      "Accuracy: 20.21%\n",
      "Precision: 20.419999999999998%\n",
      "Recall: 20.21%\n",
      "F1: 19.85%\n"
     ]
    }
   ],
   "source": [
    "xgb_model = XGBClassifier(**config, objective=\"multi:softmax\", random_state=SEED)\n",
    "\n",
    "xgb_model.fit(X_train, y_train)\n",
    "preds = xgb_model.predict(X_val)\n",
    "acc, prec, recall, f1 = metrics_score(y_val, preds)\n",
    "print(f\"Accuracy: {acc * 100}%\")\n",
    "print(f\"Precision: {prec * 100}%\")\n",
    "print(f\"Recall: {recall * 100}%\")\n",
    "print(f\"F1: {f1 * 100}%\")"
   ]
  },
  {
   "cell_type": "markdown",
   "metadata": {},
   "source": [
    "Feature importance metrics in XGBoost Trees:\n",
    "\n",
    "- `gain` - A measure of the improvement in model performance or reduction in loss achieved by using a specific feature to split a node in a decision tree\n",
    "- `weight` - The number of times a feature is used to split the data across all trees"
   ]
  },
  {
   "cell_type": "code",
   "execution_count": 223,
   "metadata": {},
   "outputs": [
    {
     "name": "stdout",
     "output_type": "stream",
     "text": [
      "Feature Importance (Gain):\n",
      "gender: 0.6981925368309021\n",
      "number_of_claims: 0.5436623692512512\n",
      "T1502: 0.6097864508628845\n",
      "G0424: 0.317256361246109\n",
      "G0107: 0.33977657556533813\n",
      "G9829: 0.43119707703590393\n",
      "T1021: 0.30784204602241516\n",
      "G9858: 0.6996098160743713\n",
      "G0464: 0.5839318633079529\n",
      "99241: 0.6418401002883911\n",
      "H2000: 0.6413297653198242\n",
      "S9122: 0.3195582330226898\n",
      "G0157: 0.7950478196144104\n",
      "S8075: 0.47460269927978516\n",
      "G0156: 0.6526128053665161\n",
      "G0299: 0.6622011065483093\n",
      "G9573: 0.46239686012268066\n",
      "Q5001: 0.5274736285209656\n",
      "G9572: 0.5359485745429993\n",
      "G0444: 0.7898593544960022\n",
      "S9129: 0.571814239025116\n",
      "G9857: 0.6607046723365784\n",
      "S9131: 0.5961360931396484\n",
      "G0153: 0.4493638873100281\n",
      "S9473: 0.3436243236064911\n",
      "99221: 0.7572539448738098\n",
      "S9126: 0.8565569519996643\n",
      "G0151: 0.4684673249721527\n",
      "G0154: 0.5823715329170227\n",
      "G0152: 0.49067485332489014\n",
      "G0129: 0.7471277713775635\n",
      "G0402: 0.5401214957237244\n",
      "G0300: 0.5632427334785461\n",
      "G0155: 0.7315208911895752\n",
      "G0158: 0.8401288390159607\n",
      "G8111: 0.5277122259140015\n",
      "Feature Importance (Weight):\n",
      "gender: 33.0\n",
      "number_of_claims: 135.0\n",
      "T1502: 9.0\n",
      "G0424: 18.0\n",
      "G0107: 26.0\n",
      "G9829: 5.0\n",
      "T1021: 5.0\n",
      "G9858: 23.0\n",
      "G0464: 32.0\n",
      "99241: 135.0\n",
      "H2000: 13.0\n",
      "S9122: 3.0\n",
      "G0157: 47.0\n",
      "S8075: 52.0\n",
      "G0156: 44.0\n",
      "G0299: 48.0\n",
      "G9573: 41.0\n",
      "Q5001: 42.0\n",
      "G9572: 46.0\n",
      "G0444: 92.0\n",
      "S9129: 35.0\n",
      "G9857: 18.0\n",
      "S9131: 38.0\n",
      "G0153: 20.0\n",
      "S9473: 30.0\n",
      "99221: 91.0\n",
      "S9126: 18.0\n",
      "G0151: 38.0\n",
      "G0154: 43.0\n",
      "G0152: 16.0\n",
      "G0129: 18.0\n",
      "G0402: 51.0\n",
      "G0300: 34.0\n",
      "G0155: 41.0\n",
      "G0158: 21.0\n",
      "G8111: 25.0\n"
     ]
    }
   ],
   "source": [
    "# Feature importance with built in XGBoost module\n",
    "feature_importance_gain = xgb_model.get_booster().get_score(importance_type='gain')\n",
    "print(\"Feature Importance (Gain):\")\n",
    "for feature, importance in feature_importance_gain.items():\n",
    "  print(f\"{feature}: {importance}\")\n",
    "\n",
    "feature_importance_weight = xgb_model.get_booster().get_score(importance_type='weight')\n",
    "print(\"Feature Importance (Weight):\")\n",
    "for feature, importance in feature_importance_weight.items():\n",
    "  print(f\"{feature}: {importance}\")"
   ]
  },
  {
   "cell_type": "markdown",
   "metadata": {},
   "source": [
    "## Model 4: FF Neural Network\n",
    "\n",
    "Trying this out if we have time"
   ]
  },
  {
   "cell_type": "code",
   "execution_count": 7,
   "metadata": {},
   "outputs": [],
   "source": [
    "import tensorflow as tf\n",
    "import keras.models\n",
    "from tensorflow import keras\n",
    "from keras.layers import Input, Dense, ReLU, BatchNormalization, Dropout"
   ]
  },
  {
   "cell_type": "code",
   "execution_count": null,
   "metadata": {},
   "outputs": [],
   "source": [
    "# Parameters and Tuning\n",
    "input_shape = (64, ) # Number of columns\n",
    "output_shape = 10 # Number of clusters (targets)\n",
    "optimizer = \"sgd\"\n",
    "loss = \"categorical_crossentropy\" # If target is one-hot encoded sparse_categorical_crossentropy\n",
    "num_epochs = 10 "
   ]
  },
  {
   "cell_type": "code",
   "execution_count": 18,
   "metadata": {},
   "outputs": [],
   "source": [
    "inputs = Input(input_shape)\n",
    "\n",
    "# 2 Layer MLP\n",
    "dense_layer_1 = Dense(64)(inputs)\n",
    "batch_norm_1 = BatchNormalization()(dense_layer_1)\n",
    "relu_1 = ReLU()(batch_norm_1)\n",
    "dropout_1 = Dropout(rate=0.1)(relu_1)\n",
    "\n",
    "dense_layer_2 = Dense(64)(dropout_1)\n",
    "batch_norm_2 = BatchNormalization()(dense_layer_2)\n",
    "relu_2 = ReLU()(batch_norm_2)\n",
    "dropout_2 = Dropout(rate=0.1)(relu_2)\n",
    "\n",
    "outputs = Dense(output_shape, activation='softmax')(dropout_2)\n",
    "\n",
    "model = keras.Model(inputs=inputs, outputs=outputs)"
   ]
  },
  {
   "cell_type": "code",
   "execution_count": 19,
   "metadata": {},
   "outputs": [
    {
     "data": {
      "text/html": [
       "<pre style=\"white-space:pre;overflow-x:auto;line-height:normal;font-family:Menlo,'DejaVu Sans Mono',consolas,'Courier New',monospace\"><span style=\"font-weight: bold\">Model: \"functional\"</span>\n",
       "</pre>\n"
      ],
      "text/plain": [
       "\u001b[1mModel: \"functional\"\u001b[0m\n"
      ]
     },
     "metadata": {},
     "output_type": "display_data"
    },
    {
      "cell_type": "markdown",
      "metadata": {},
      "source": [
        "# 05_supervised_learning_model"
      ]
    },
    {
      "cell_type": "markdown",
      "metadata": {},
      "source": [
        "| Date | User | Change Type | Remarks |  \n",
        "| ---- | ---- | ----------- | ------- |\n",
        "| 30/10/2025   | Martin | Created   | Notebook created for supervised learning model | \n",
        "| 01/10/2025   | Martin | Add   | Added XGBoost and FFNN sections | "
      ]
    },
    {
      "cell_type": "markdown",
      "metadata": {
        "vscode": {
          "languageId": "plaintext"
        }
      },
      "source": [
        "# Content\n",
        "\n",
        "* [Introduction](#introduction)"
      ]
    },
    {
      "cell_type": "markdown",
      "metadata": {},
      "source": [
        "# Introduction"
      ]
    },
    {
      "cell_type": "code",
      "execution_count": null,
      "metadata": {},
      "outputs": [],
      "source": [
        "%load_ext watermark"
      ]
    },
    {
      "cell_type": "code",
      "execution_count": null,
      "metadata": {},
      "outputs": [],
      "source": [
        "import pandas as pd\n",
        "import numpy as np\n",
        "import matplotlib.pyplot as plt\n",
        "import seaborn as sns"
      ]
    },
    {
      "cell_type": "markdown",
      "metadata": {},
      "source": [
        "# Load Data"
      ]
    },
    {
      "cell_type": "code",
      "execution_count": 27,
      "metadata": {},
      "outputs": [],
      "source": [
        "path = \"../data/clean\"\n",
        "df = pd.read_pickle(f\"{path}/patient_level.pkl\")"
      ]
    },
    {
      "cell_type": "code",
      "execution_count": 28,
      "metadata": {},
      "outputs": [
        {
          "data": {
            "text/html": [
              "<div>\n",
              "<style scoped>\n",
              "    .dataframe tbody tr th:only-of-type {\n",
              "        vertical-align: middle;\n",
              "    }\n",
              "\n",
              "    .dataframe tbody tr th {\n",
              "        vertical-align: top;\n",
              "    }\n",
              "\n",
              "    .dataframe thead th {\n",
              "        text-align: right;\n",
              "    }\n",
              "</style>\n",
              "<table border=\"1\" class=\"dataframe\">\n",
              "  <thead>\n",
              "    <tr style=\"text-align: right;\">\n",
              "      <th></th>\n",
              "      <th>patient_medicare_number</th>\n",
              "      <th>patient_first_name</th>\n",
              "      <th>patient_last_name</th>\n",
              "      <th>gender</th>\n",
              "      <th>birthdate</th>\n",
              "      <th>number_of_claims</th>\n",
              "      <th>drg_ls</th>\n",
              "      <th>combined_diagnosis_ls</th>\n",
              "      <th>combined_hcpcs_ls</th>\n",
              "      <th>billablePeriod_start_ls</th>\n",
              "      <th>billablePeriod_end_ls</th>\n",
              "      <th>location_of_bill_ls</th>\n",
              "      <th>total_value</th>\n",
              "    </tr>\n",
              "  </thead>\n",
              "  <tbody>\n",
              "    <tr>\n",
              "      <th>1</th>\n",
              "      <td>1S00E00AA10</td>\n",
              "      <td>Brandon214</td>\n",
              "      <td>Roob72</td>\n",
              "      <td>female</td>\n",
              "      <td>1946-01-15</td>\n",
              "      <td>3</td>\n",
              "      <td>[]</td>\n",
              "      <td>[O039, O039, B085, B002, O039, J029]</td>\n",
              "      <td>[G0444, 99241, G0444, G9572]</td>\n",
              "      <td>[2013-04-23, 2016-01-15, 2020-06-02]</td>\n",
              "      <td>[2013-04-23, 2016-01-15, 2020-06-02]</td>\n",
              "      <td>[002]</td>\n",
              "      <td>15458.12</td>\n",
              "    </tr>\n",
              "    <tr>\n",
              "      <th>3</th>\n",
              "      <td>1S00E00AA23</td>\n",
              "      <td>B.</td>\n",
              "      <td>Hagene</td>\n",
              "      <td>female</td>\n",
              "      <td>NaN</td>\n",
              "      <td>1</td>\n",
              "      <td>[]</td>\n",
              "      <td>[J329, E785, P292]</td>\n",
              "      <td>[G0444, G9572]</td>\n",
              "      <td>[2014-04-13]</td>\n",
              "      <td>[2014-04-13]</td>\n",
              "      <td>[]</td>\n",
              "      <td>840.21</td>\n",
              "    </tr>\n",
              "    <tr>\n",
              "      <th>5</th>\n",
              "      <td>1S00E00AA25</td>\n",
              "      <td>Carlota980</td>\n",
              "      <td>Gamez720</td>\n",
              "      <td>female</td>\n",
              "      <td>1947-04-15</td>\n",
              "      <td>2</td>\n",
              "      <td>[]</td>\n",
              "      <td>[E669, D649, K635, O039, M810, J329, E669, D64...</td>\n",
              "      <td>[G0444, 99241]</td>\n",
              "      <td>[2012-07-18, 2021-11-23]</td>\n",
              "      <td>[2012-07-18, 2021-11-23]</td>\n",
              "      <td>[002]</td>\n",
              "      <td>85.55</td>\n",
              "    </tr>\n",
              "    <tr>\n",
              "      <th>6</th>\n",
              "      <td>1S00E00AA32</td>\n",
              "      <td>Denny560</td>\n",
              "      <td>Watsica258</td>\n",
              "      <td>male</td>\n",
              "      <td>1945-06-09</td>\n",
              "      <td>3</td>\n",
              "      <td>[]</td>\n",
              "      <td>[P292, E669, I2510, B349, J329, I10, E669, I25...</td>\n",
              "      <td>[99241, 99241, 99241]</td>\n",
              "      <td>[2015-05-12, 2021-02-20, 2021-03-20]</td>\n",
              "      <td>[2015-05-12, 2021-02-20, 2021-03-20]</td>\n",
              "      <td>[002, 002, 002]</td>\n",
              "      <td>85.55</td>\n",
              "    </tr>\n",
              "    <tr>\n",
              "      <th>10</th>\n",
              "      <td>1S00E00AA54</td>\n",
              "      <td>Lashawnda5</td>\n",
              "      <td>Greenfelder433</td>\n",
              "      <td>female</td>\n",
              "      <td>1950-12-23</td>\n",
              "      <td>11</td>\n",
              "      <td>[]</td>\n",
              "      <td>[E119, R739, E781, E8881, D649, E11319, P292, ...</td>\n",
              "      <td>[G0444, 99241, 99241, 99241, 99241, G0444, 992...</td>\n",
              "      <td>[2012-10-27, 2013-01-26, 2014-06-21, 2014-07-2...</td>\n",
              "      <td>[2012-10-27, 2013-01-26, 2014-06-21, 2014-07-2...</td>\n",
              "      <td>[002, 002, 002, 002, 002, 002, 002, 002, 002, ...</td>\n",
              "      <td>142.58</td>\n",
              "    </tr>\n",
              "  </tbody>\n",
              "</table>\n",
              "</div>"
            ],
            "text/plain": [
              "   patient_medicare_number patient_first_name patient_last_name  gender  \\\n",
              "1              1S00E00AA10         Brandon214            Roob72  female   \n",
              "3              1S00E00AA23                 B.            Hagene  female   \n",
              "5              1S00E00AA25         Carlota980          Gamez720  female   \n",
              "6              1S00E00AA32           Denny560        Watsica258    male   \n",
              "10             1S00E00AA54         Lashawnda5    Greenfelder433  female   \n",
              "\n",
              "     birthdate  number_of_claims drg_ls  \\\n",
              "1   1946-01-15                 3     []   \n",
              "3          NaN                 1     []   \n",
              "5   1947-04-15                 2     []   \n",
              "6   1945-06-09                 3     []   \n",
              "10  1950-12-23                11     []   \n",
              "\n",
              "                                combined_diagnosis_ls  \\\n",
              "1                [O039, O039, B085, B002, O039, J029]   \n",
              "3                                  [J329, E785, P292]   \n",
              "5   [E669, D649, K635, O039, M810, J329, E669, D64...   \n",
              "6   [P292, E669, I2510, B349, J329, I10, E669, I25...   \n",
              "10  [E119, R739, E781, E8881, D649, E11319, P292, ...   \n",
              "\n",
              "                                    combined_hcpcs_ls  \\\n",
              "1                        [G0444, 99241, G0444, G9572]   \n",
              "3                                      [G0444, G9572]   \n",
              "5                                      [G0444, 99241]   \n",
              "6                               [99241, 99241, 99241]   \n",
              "10  [G0444, 99241, 99241, 99241, 99241, G0444, 992...   \n",
              "\n",
              "                              billablePeriod_start_ls  \\\n",
              "1                [2013-04-23, 2016-01-15, 2020-06-02]   \n",
              "3                                        [2014-04-13]   \n",
              "5                            [2012-07-18, 2021-11-23]   \n",
              "6                [2015-05-12, 2021-02-20, 2021-03-20]   \n",
              "10  [2012-10-27, 2013-01-26, 2014-06-21, 2014-07-2...   \n",
              "\n",
              "                                billablePeriod_end_ls  \\\n",
              "1                [2013-04-23, 2016-01-15, 2020-06-02]   \n",
              "3                                        [2014-04-13]   \n",
              "5                            [2012-07-18, 2021-11-23]   \n",
              "6                [2015-05-12, 2021-02-20, 2021-03-20]   \n",
              "10  [2012-10-27, 2013-01-26, 2014-06-21, 2014-07-2...   \n",
              "\n",
              "                                  location_of_bill_ls  total_value  \n",
              "1                                               [002]     15458.12  \n",
              "3                                                  []       840.21  \n",
              "5                                               [002]        85.55  \n",
              "6                                     [002, 002, 002]        85.55  \n",
              "10  [002, 002, 002, 002, 002, 002, 002, 002, 002, ...       142.58  "
            ]
          },
          "execution_count": 28,
          "metadata": {},
          "output_type": "execute_result"
        }
      ],
      "source": [
        "df.head()"
      ]
    },
    {
      "cell_type": "markdown",
      "metadata": {},
      "source": [
        "# Cost List\n",
        "\n",
        "Get the cost of procedures from claims with single HCPCS based on the existing claims list"
      ]
    },
    {
      "cell_type": "code",
      "execution_count": null,
      "metadata": {},
      "outputs": [],
      "source": [
        "def get_price_list_from_hcpcs(df: pd.DataFrame, price_selection: str):\n",
        "  \"\"\"Retrieve the price of each HCPCS code from those claims that only have 1 code\n",
        "\n",
        "  Args:\n",
        "      df (pd.DataFrame): Patient Level dataset\n",
        "      price_selection (str): Any aggregation function for group by (\"max\", \"min\", \"mean\"). \n",
        "          How to handle when multiple claims have the same singular code\n",
        "\n",
        "  Returns:\n",
        "      pd.DataFrame: Cost of each HCPCS\n",
        "  \"\"\"\n",
        "  temp = df.copy()\n",
        "  temp['hcpcs_len'] = temp['combined_hcpcs_ls'].str.len()\n",
        "\n",
        "  # Get only those with single HCPC values\n",
        "  cost = temp[temp['hcpcs_len'] == 1]\n",
        "\n",
        "  # Only the select only the hcpcs codes and total bill\n",
        "  cost['hcpcs_code'] = cost['combined_hcpcs_ls'].str[0]\n",
        "  cost = cost[['hcpcs_code', 'total_value']]\n",
        "\n",
        "  # Based on cost selection\n",
        "  cost = cost.groupby('hcpcs_code').agg(price_selection)\n",
        "  cost['total_value'] = np.round(cost['total_value'], 2)\n",
        "  cost = cost.reset_index()\n",
        "  cost = cost.rename({\n",
        "    'total_value': 'cost'\n",
        "  }, axis=1)\n",
        "\n",
        "  return cost"
      ]
    },
    {
      "cell_type": "code",
      "execution_count": 46,
      "metadata": {},
      "outputs": [
        {
          "name": "stderr",
          "output_type": "stream",
          "text": [
            "C:\\Users\\User\\AppData\\Local\\Temp\\ipykernel_37640\\1920424403.py:9: SettingWithCopyWarning: \n",
            "A value is trying to be set on a copy of a slice from a DataFrame.\n",
            "Try using .loc[row_indexer,col_indexer] = value instead\n",
            "\n",
            "See the caveats in the documentation: https://pandas.pydata.org/pandas-docs/stable/user_guide/indexing.html#returning-a-view-versus-a-copy\n",
            "  price['hcpcs_code'] = price['combined_hcpcs_ls'].str[0]\n"
          ]
        }
      ],
      "source": [
        "cost = get_price_list_from_hcpcs(df, price_selection='mean')"
      ]
    },
    {
      "cell_type": "code",
      "execution_count": 47,
      "metadata": {},
      "outputs": [
        {
          "data": {
            "text/html": [
              "<div>\n",
              "<style scoped>\n",
              "    .dataframe tbody tr th:only-of-type {\n",
              "        vertical-align: middle;\n",
              "    }\n",
              "\n",
              "    .dataframe tbody tr th {\n",
              "        vertical-align: top;\n",
              "    }\n",
              "\n",
              "    .dataframe thead th {\n",
              "        text-align: right;\n",
              "    }\n",
              "</style>\n",
              "<table border=\"1\" class=\"dataframe\">\n",
              "  <thead>\n",
              "    <tr style=\"text-align: right;\">\n",
              "      <th></th>\n",
              "      <th>hcpcs_code</th>\n",
              "      <th>cost</th>\n",
              "    </tr>\n",
              "  </thead>\n",
              "  <tbody>\n",
              "    <tr>\n",
              "      <th>0</th>\n",
              "      <td>99221</td>\n",
              "      <td>5666.37</td>\n",
              "    </tr>\n",
              "    <tr>\n",
              "      <th>1</th>\n",
              "      <td>99241</td>\n",
              "      <td>2370.06</td>\n",
              "    </tr>\n",
              "    <tr>\n",
              "      <th>2</th>\n",
              "      <td>G0107</td>\n",
              "      <td>36515.28</td>\n",
              "    </tr>\n",
              "    <tr>\n",
              "      <th>3</th>\n",
              "      <td>G0151</td>\n",
              "      <td>526.33</td>\n",
              "    </tr>\n",
              "    <tr>\n",
              "      <th>4</th>\n",
              "      <td>G0152</td>\n",
              "      <td>1041.51</td>\n",
              "    </tr>\n",
              "  </tbody>\n",
              "</table>\n",
              "</div>"
            ],
            "text/plain": [
              "  hcpcs_code      cost\n",
              "0      99221   5666.37\n",
              "1      99241   2370.06\n",
              "2      G0107  36515.28\n",
              "3      G0151    526.33\n",
              "4      G0152   1041.51"
            ]
          },
          "execution_count": 47,
          "metadata": {},
          "output_type": "execute_result"
        }
      ],
      "source": [
        "cost.head()"
      ]
    },
    {
      "cell_type": "markdown",
      "metadata": {},
      "source": [
        "# Supervised Learning\n",
        "\n",
        "Assumption: All the data is already numerically encoded"
      ]
    },
    {
      "cell_type": "markdown",
      "metadata": {},
      "source": [
        "## Additional data processing"
      ]
    },
    {
      "cell_type": "code",
      "execution_count": 2,
      "metadata": {},
      "outputs": [],
      "source": [
        "SEED = 43"
      ]
    },
    {
      "cell_type": "code",
      "execution_count": null,
      "metadata": {},
      "outputs": [],
      "source": [
        "# Perform additional steps here\n",
        "# Might consider feature cross for sequence representation"
      ]
    },
    {
      "cell_type": "markdown",
      "metadata": {},
      "source": [
        "## Split Data\n",
        "\n",
        "Create train, validation and test splits in __stratified__ manner\n",
        "\n",
        "- Train: 70%\n",
        "- Validation: 15%\n",
        "- Test: 15%"
      ]
    },
    {
      "cell_type": "code",
      "execution_count": null,
      "metadata": {},
      "outputs": [],
      "source": [
        "from sklearn.model_selection import train_test_split\n",
        "from sklearn.dummy import DummyClassifier\n",
        "from sklearn.metrics import accuracy_score, precision_score, recall_score, roc_auc_score, f1_score, confusion_matrix, ConfusionMatrixDisplay\n",
        "\n",
        "from sklearn.multiclass import OneVsOneClassifier, OneVsRestClassifier\n",
        "from sklearn.linear_model import LogisticRegression\n",
        "from sklearn.tree import DecisionTreeClassifier\n",
        "from sklearn.ensemble import RandomForestClassifier\n",
        "from xgboost import XGBClassifier\n",
        "\n",
        "from sklearn.model_selection import StratifiedShuffleSplit"
      ]
    },
    {
      "cell_type": "code",
      "execution_count": null,
      "metadata": {},
      "outputs": [],
      "source": []
    },
    {
      "cell_type": "code",
      "execution_count": null,
      "metadata": {},
      "outputs": [],
      "source": [
        "# Change values here\n",
        "train_size = 0.7\n",
        "test_size = 0.5"
      ]
    },
    {
      "cell_type": "code",
      "execution_count": null,
      "metadata": {},
      "outputs": [],
      "source": [
        "y = df['target']\n",
        "train, temp = train_test_split(df, train_size=train_size, stratify=y, random_state=SEED)\n",
        "val, test = train_test_split(temp, train_size=val_size, stratify=y, random_state=SEED)"
      ]
    },
    {
      "cell_type": "code",
      "execution_count": null,
      "metadata": {},
      "outputs": [],
      "source": [
        "strat = pd.concat([train, val], axis=0)\n",
        "y_strat = strat['target']\n",
        "X_strat = strat.drop('target', axis=1)"
      ]
    },
    {
      "cell_type": "code",
      "execution_count": null,
      "metadata": {},
      "outputs": [],
      "source": [
        "X_train = train['target']\n",
        "y_train = train.drop('target', axis=1)\n",
        "\n",
        "X_val = val['target']\n",
        "y_val = val.drop('target', axis=1)\n",
        "\n",
        "X_test = test['target']\n",
        "y_test = test.drop('target', axis=1)"
      ]
    },
    {
      "cell_type": "markdown",
      "metadata": {},
      "source": [
        "## Metrics\n",
        "\n",
        "Common classification metrics:\n",
        "\n",
        "- Accuracy\n",
        "- Precision\n",
        "- Recall\n",
        "- F1 Score (weighted or micro)\n",
        "- ROC AUC Score (OVR + weighted)\n",
        "\n",
        "Plots:\n",
        "\n",
        "- Confusion Matrix\n",
        "- ROC AUC"
      ]
    },
    {
      "cell_type": "code",
      "execution_count": null,
      "metadata": {},
      "outputs": [],
      "source": [
        "def metrics_score(y_true, y_pred):\n",
        "  acc = round(accuracy_score(y_true, y_pred), 4)\n",
        "  prec = round(precision_score(y_true, y_pred), 4)\n",
        "  recall = round(recall_score(y_true, y_pred), 4)\n",
        "  f1 = round(f1_score(y_true, y_pred, average=\"weighted\"), 4)\n",
        "  roc_auc = round(roc_auc_score(y_true, y_pred, average=\"weighted\", multi_class=\"ovr\"), 4)\n",
        "\n",
        "  return acc, prec, recall, f1, roc_auc"
      ]
    },
    {
      "cell_type": "code",
      "execution_count": null,
      "metadata": {},
      "outputs": [],
      "source": [
        "def plot_confusion_matrix(y_true, y_pred, clf):\n",
        "  cm = confusion_matrix(y_true, y_pred)\n",
        "  disp = ConfusionMatrixDisplay(\n",
        "    confusion_matrix=cm,\n",
        "    display_labels=clf.classes_\n",
        "  )\n",
        "\n",
        "  disp.plot(cmap=plt.cm.Blues)\n",
        "  plt.title(\"Confusion Matrix\")\n",
        "  plt.show()"
      ]
    },
    {
      "cell_type": "code",
      "execution_count": null,
      "metadata": {},
      "outputs": [],
      "source": [
        "def plot_ROC_AUC():\n",
        "  # TODO: Determine which method of comparison should be used\n",
        "  return"
      ]
    },
    {
      "cell_type": "markdown",
      "metadata": {},
      "source": [
        "## Baseline: Dummy Classifier\n",
        "\n",
        "Uses sklearns dummy classifier to test various baseline strategies"
      ]
    },
    {
      "cell_type": "code",
      "execution_count": null,
      "metadata": {},
      "outputs": [],
      "source": [
        "# Change here\n",
        "strategy = \"most_frequent\""
      ]
    },
    {
      "cell_type": "code",
      "execution_count": null,
      "metadata": {},
      "outputs": [],
      "source": [
        "dummy_clf = DummyClassifier(strategy=strategy)\n",
        "dummy_clf.fit(X_train, y_train)\n",
        "\n",
        "preds = dummy_clf.predict(X_val)\n",
        "metrics_score(y_val, preds)"
      ]
    },
    {
      "cell_type": "code",
      "execution_count": null,
      "metadata": {},
      "outputs": [],
      "source": [
        "plot_confusion_matrix(y_val, preds, dummy_clf)"
      ]
    },
    {
      "cell_type": "markdown",
      "metadata": {},
      "source": [
        "## Model 1: Logistic Regression\n",
        "\n",
        "Simple logistic regression model for an improved baseline"
      ]
    },
    {
      "cell_type": "code",
      "execution_count": null,
      "metadata": {},
      "outputs": [],
      "source": [
        "# For model tuning"
      ]
    },
    {
      "cell_type": "code",
      "execution_count": null,
      "metadata": {},
      "outputs": [],
      "source": [
        "lr_model = OneVsRestClassifier(LogisticRegression(random_state=SEED))\n",
        "# lr_model = OneVsOneClassifier(LogisticRegression(random_state=SEED))\n",
        "\n",
        "lr_model.fit(X_train, y_train)\n",
        "preds = lr_model.predict(X_val)\n",
        "metrics_score(y_val, preds)"
      ]
    },
    {
      "cell_type": "code",
      "execution_count": null,
      "metadata": {},
      "outputs": [],
      "source": [
        "plot_confusion_matrix(y_val, preds, lr_model)"
      ]
    },
    {
      "cell_type": "code",
      "execution_count": null,
      "metadata": {},
      "outputs": [],
      "source": [
        "# For K-Fold shuffled stratified cross validation\n",
        "sss = StratifiedShuffleSplit(n_splits=10, test_size=0.2, random_state=SEED)\n",
        "lr_model = OneVsRestClassifier(LogisticRegression(random_state=SEED))\n",
        "\n",
        "for split_idx, (train_idx, test_idx) in enumerate(sss.split(X, y)):\n",
        "  print(f\"\\n========== Split {split_idx} ==========\")\n",
        "\n",
        "  X_strat_train, X_strat_val = X_strat[train_idx], X_strat[train_idx]\n",
        "  y_strat_train, y_strat_val = y_strat[train_idx], y_strat[train_idx]\n",
        "\n",
        "  lr_model.fit(X_strat_train, y_strat_train)\n",
        "\n",
        "  preds = lr_model.predict(X_strat_val)\n",
        "  metrics_score(pred, y_strat_val)"
      ]
    },
    {
      "cell_type": "markdown",
      "metadata": {},
      "source": [
        "## Model 2: Decision Tree / Random Forest\n",
        "\n",
        "Similar reason for decision tree except more interpretable. Random forest for boosting improvements"
      ]
    },
    {
      "cell_type": "code",
      "execution_count": null,
      "metadata": {},
      "outputs": [],
      "source": [
        "# For model tuning\n",
        "config = {\n",
        "  \"max_depth\": None,\n",
        "  \"min_samples_split\": 2,\n",
        "  \"min_samples_leaf\": 1\n",
        "}"
      ]
    },
    {
      "cell_type": "code",
      "execution_count": null,
      "metadata": {},
      "outputs": [],
      "source": [
        "dt_model = DecisionTreeClassifier(**config, random_state=SEED)\n",
        "\n",
        "dt_model.fit(X_train, y_train)\n",
        "preds = dt_model.predict(X_val)\n",
        "metrics_score(y_val, preds)"
      ]
    },
    {
      "cell_type": "code",
      "execution_count": null,
      "metadata": {},
      "outputs": [],
      "source": [
        "plot_confusion_matrix(y_val, preds, dt_model)"
      ]
    },
    {
      "cell_type": "code",
      "execution_count": null,
      "metadata": {},
      "outputs": [],
      "source": [
        "# For K-Fold shuffled stratified cross validation\n",
        "sss = StratifiedShuffleSplit(n_splits=10, test_size=0.2, random_state=SEED)\n",
        "dt_model = OneVsRestClassifier(DecisionTreeClassifier(random_state=SEED))\n",
        "\n",
        "for split_idx, (train_idx, test_idx) in enumerate(sss.split(X, y)):\n",
        "  print(f\"\\n========== Split {split_idx} ==========\")\n",
        "\n",
        "  X_strat_train, X_strat_val = X_strat[train_idx], X_strat[train_idx]\n",
        "  y_strat_train, y_strat_val = y_strat[train_idx], y_strat[train_idx]\n",
        "\n",
        "  dt_model.fit(X_strat_train, y_strat_train)\n",
        "\n",
        "  preds = dt_model.predict(X_strat_val)\n",
        "  metrics_score(pred, y_strat_val)"
      ]
    },
    {
      "cell_type": "markdown",
      "metadata": {},
      "source": [
        "Random Forest Classifier"
      ]
    },
    {
      "cell_type": "code",
      "execution_count": null,
      "metadata": {},
      "outputs": [],
      "source": [
        "# For model tuning\n",
        "config = {\n",
        "  \"n_estimators\": 100,\n",
        "  \"max_depth\": None,\n",
        "  \"min_samples_split\": 2,\n",
        "  \"min_samples_leaf\": 1\n",
        "}"
      ]
    },
    {
      "cell_type": "code",
      "execution_count": null,
      "metadata": {},
      "outputs": [],
      "source": [
        "rf_model = RandomForestClassifier(**config, random_state=SEED)\n",
        "\n",
        "rf_model.fit(X_train, y_train)\n",
        "preds = rf_model.predict(X_val)\n",
        "metrics_score(y_val, preds)"
      ]
    },
    {
      "cell_type": "code",
      "execution_count": null,
      "metadata": {},
      "outputs": [],
      "source": [
        "# For K-Fold shuffled stratified cross validation\n",
        "sss = StratifiedShuffleSplit(n_splits=10, test_size=0.2, random_state=SEED)\n",
        "rf_model = OneVsRestClassifier(DecisionTreeClassifier(random_state=SEED))\n",
        "\n",
        "for split_idx, (train_idx, test_idx) in enumerate(sss.split(X, y)):\n",
        "  print(f\"\\n========== Split {split_idx} ==========\")\n",
        "\n",
        "  X_strat_train, X_strat_val = X_strat[train_idx], X_strat[train_idx]\n",
        "  y_strat_train, y_strat_val = y_strat[train_idx], y_strat[train_idx]\n",
        "\n",
        "  rf_model.fit(X_strat_train, y_strat_train)\n",
        "\n",
        "  preds = rf_model.predict(X_strat_val)\n",
        "  metrics_score(pred, y_strat_val)"
      ]
    },
    {
      "cell_type": "markdown",
      "metadata": {},
      "source": [
        "## Model 3: XGBoost\n",
        "\n",
        "Larger improvement over standard decision tree and random forest"
      ]
    },
    {
      "cell_type": "code",
      "execution_count": null,
      "metadata": {},
      "outputs": [],
      "source": [
        "config = {\n",
        "  \"num_class\": 10, # Change this based on number of cluster outputs\n",
        "  \"n_estimators\": 100,\n",
        "  \"max_depth\": 2,\n",
        "  \"learning_rate\": 1\n",
        "}"
      ]
    },
    {
      "cell_type": "code",
      "execution_count": null,
      "metadata": {},
      "outputs": [],
      "source": [
        "xgb_model = XGBClassifier(**config, objective=\"multi:softmax\" random_state=SEED)\n",
        "\n",
        "xgb_model.fit(X_train, y_train)\n",
        "preds = xgb_model.predict(X_val)\n",
        "metrics_score(y_val, preds)"
      ]
    },
    {
      "cell_type": "markdown",
      "metadata": {},
      "source": [
        "Feature importance metrics in XGBoost Trees:\n",
        "\n",
        "- `gain` - A measure of the improvement in model performance or reduction in loss achieved by using a specific feature to split a node in a decision tree\n",
        "- `weight` - The number of times a feature is used to split the data across all trees"
      ]
    },
    {
      "cell_type": "code",
      "execution_count": null,
      "metadata": {},
      "outputs": [],
      "source": [
        "# Feature importance with built in XGBoost module\n",
        "feature_importance_gain = xgb_model.get_booster().get_score(importance_type='gain')\n",
        "print(\"Feature Importance (Gain):\")\n",
        "for feature, importance in feature_importance_gain.items():\n",
        "  print(f\"{feature}: {importance}\")\n",
        "\n",
        "feature_importance_weight = xgb_model.get_booster().get_score(importance_type='weight')\n",
        "print(\"Feature Importance (Weight):\")\n",
        "for feature, importance in feature_importance_weight.items():\n",
        "  print(f\"{feature}: {importance}\")"
      ]
    },
    {
      "cell_type": "markdown",
      "metadata": {},
      "source": [
        "## Model 4: FF Neural Network\n",
        "\n",
        "Trying this out if we have time"
      ]
    },
    {
      "cell_type": "code",
      "execution_count": 7,
      "metadata": {},
      "outputs": [],
      "source": [
        "import tensorflow as tf\n",
        "import keras.models\n",
        "from tensorflow import keras\n",
        "from keras.layers import Input, Dense, ReLU, BatchNormalization, Dropout"
      ]
    },
    {
      "cell_type": "code",
      "execution_count": null,
      "metadata": {},
      "outputs": [],
      "source": [
        "# Parameters and Tuning\n",
        "input_shape = (64, ) # Number of columns\n",
        "output_shape = 10 # Number of clusters (targets)\n",
        "optimizer = \"sgd\"\n",
        "loss = \"categorical_crossentropy\" # If target is one-hot encoded sparse_categorical_crossentropy\n",
        "num_epochs = 10 "
      ]
    },
    {
      "cell_type": "code",
      "execution_count": 18,
      "metadata": {},
      "outputs": [],
      "source": [
        "inputs = Input(input_shape)\n",
        "\n",
        "# 2 Layer MLP\n",
        "dense_layer_1 = Dense(64)(inputs)\n",
        "batch_norm_1 = BatchNormalization()(dense_layer_1)\n",
        "relu_1 = ReLU()(batch_norm_1)\n",
        "dropout_1 = Dropout(rate=0.1)(relu_1)\n",
        "\n",
        "dense_layer_2 = Dense(64)(dropout_1)\n",
        "batch_norm_2 = BatchNormalization()(dense_layer_2)\n",
        "relu_2 = ReLU()(batch_norm_2)\n",
        "dropout_2 = Dropout(rate=0.1)(relu_2)\n",
        "\n",
        "outputs = Dense(output_shape, activation='softmax')(dropout_2)\n",
        "\n",
        "model = keras.Model(inputs=inputs, outputs=outputs)"
      ]
    },
    {
      "cell_type": "code",
      "execution_count": 19,
      "metadata": {},
      "outputs": [
        {
          "data": {
            "text/html": [
              "<pre style=\"white-space:pre;overflow-x:auto;line-height:normal;font-family:Menlo,'DejaVu Sans Mono',consolas,'Courier New',monospace\"><span style=\"font-weight: bold\">Model: \"functional\"</span>\n",
              "</pre>\n"
            ],
            "text/plain": [
              "\u001b[1mModel: \"functional\"\u001b[0m\n"
            ]
          },
          "metadata": {},
          "output_type": "display_data"
        },
        {
          "data": {
            "text/html": [
              "<pre style=\"white-space:pre;overflow-x:auto;line-height:normal;font-family:Menlo,'DejaVu Sans Mono',consolas,'Courier New',monospace\">┏━━━━━━━━━━━━━━━━━━━━━━━━━━━━━━━━━┳━━━━━━━━━━━━━━━━━━━━━━━━┳━━━━━━━━━━━━━━━┓\n",
              "┃<span style=\"font-weight: bold\"> Layer (type)                    </span>┃<span style=\"font-weight: bold\"> Output Shape           </span>┃<span style=\"font-weight: bold\">       Param # </span>┃\n",
              "┡━━━━━━━━━━━━━━━━━━━━━━━━━━━━━━━━━╇━━━━━━━━━━━━━━━━━━━━━━━━╇━━━━━━━━━━━━━━━┩\n",
              "│ input_layer_5 (<span style=\"color: #0087ff; text-decoration-color: #0087ff\">InputLayer</span>)      │ (<span style=\"color: #00d7ff; text-decoration-color: #00d7ff\">None</span>, <span style=\"color: #00af00; text-decoration-color: #00af00\">64</span>)             │             <span style=\"color: #00af00; text-decoration-color: #00af00\">0</span> │\n",
              "├─────────────────────────────────┼────────────────────────┼───────────────┤\n",
              "│ dense_1 (<span style=\"color: #0087ff; text-decoration-color: #0087ff\">Dense</span>)                 │ (<span style=\"color: #00d7ff; text-decoration-color: #00d7ff\">None</span>, <span style=\"color: #00af00; text-decoration-color: #00af00\">64</span>)             │         <span style=\"color: #00af00; text-decoration-color: #00af00\">4,160</span> │\n",
              "├─────────────────────────────────┼────────────────────────┼───────────────┤\n",
              "│ batch_normalization_1           │ (<span style=\"color: #00d7ff; text-decoration-color: #00d7ff\">None</span>, <span style=\"color: #00af00; text-decoration-color: #00af00\">64</span>)             │           <span style=\"color: #00af00; text-decoration-color: #00af00\">256</span> │\n",
              "│ (<span style=\"color: #0087ff; text-decoration-color: #0087ff\">BatchNormalization</span>)            │                        │               │\n",
              "├─────────────────────────────────┼────────────────────────┼───────────────┤\n",
              "│ re_lu_1 (<span style=\"color: #0087ff; text-decoration-color: #0087ff\">ReLU</span>)                  │ (<span style=\"color: #00d7ff; text-decoration-color: #00d7ff\">None</span>, <span style=\"color: #00af00; text-decoration-color: #00af00\">64</span>)             │             <span style=\"color: #00af00; text-decoration-color: #00af00\">0</span> │\n",
              "├─────────────────────────────────┼────────────────────────┼───────────────┤\n",
              "│ dropout_1 (<span style=\"color: #0087ff; text-decoration-color: #0087ff\">Dropout</span>)             │ (<span style=\"color: #00d7ff; text-decoration-color: #00d7ff\">None</span>, <span style=\"color: #00af00; text-decoration-color: #00af00\">64</span>)             │             <span style=\"color: #00af00; text-decoration-color: #00af00\">0</span> │\n",
              "├─────────────────────────────────┼────────────────────────┼───────────────┤\n",
              "│ dense_2 (<span style=\"color: #0087ff; text-decoration-color: #0087ff\">Dense</span>)                 │ (<span style=\"color: #00d7ff; text-decoration-color: #00d7ff\">None</span>, <span style=\"color: #00af00; text-decoration-color: #00af00\">64</span>)             │         <span style=\"color: #00af00; text-decoration-color: #00af00\">4,160</span> │\n",
              "├─────────────────────────────────┼────────────────────────┼───────────────┤\n",
              "│ batch_normalization_2           │ (<span style=\"color: #00d7ff; text-decoration-color: #00d7ff\">None</span>, <span style=\"color: #00af00; text-decoration-color: #00af00\">64</span>)             │           <span style=\"color: #00af00; text-decoration-color: #00af00\">256</span> │\n",
              "│ (<span style=\"color: #0087ff; text-decoration-color: #0087ff\">BatchNormalization</span>)            │                        │               │\n",
              "├─────────────────────────────────┼────────────────────────┼───────────────┤\n",
              "│ re_lu_2 (<span style=\"color: #0087ff; text-decoration-color: #0087ff\">ReLU</span>)                  │ (<span style=\"color: #00d7ff; text-decoration-color: #00d7ff\">None</span>, <span style=\"color: #00af00; text-decoration-color: #00af00\">64</span>)             │             <span style=\"color: #00af00; text-decoration-color: #00af00\">0</span> │\n",
              "├─────────────────────────────────┼────────────────────────┼───────────────┤\n",
              "│ dropout_2 (<span style=\"color: #0087ff; text-decoration-color: #0087ff\">Dropout</span>)             │ (<span style=\"color: #00d7ff; text-decoration-color: #00d7ff\">None</span>, <span style=\"color: #00af00; text-decoration-color: #00af00\">64</span>)             │             <span style=\"color: #00af00; text-decoration-color: #00af00\">0</span> │\n",
              "├─────────────────────────────────┼────────────────────────┼───────────────┤\n",
              "│ dense_3 (<span style=\"color: #0087ff; text-decoration-color: #0087ff\">Dense</span>)                 │ (<span style=\"color: #00d7ff; text-decoration-color: #00d7ff\">None</span>, <span style=\"color: #00af00; text-decoration-color: #00af00\">10</span>)             │           <span style=\"color: #00af00; text-decoration-color: #00af00\">650</span> │\n",
              "└─────────────────────────────────┴────────────────────────┴───────────────┘\n",
              "</pre>\n"
            ],
            "text/plain": [
              "┏━━━━━━━━━━━━━━━━━━━━━━━━━━━━━━━━━┳━━━━━━━━━━━━━━━━━━━━━━━━┳━━━━━━━━━━━━━━━┓\n",
              "┃\u001b[1m \u001b[0m\u001b[1mLayer (type)                   \u001b[0m\u001b[1m \u001b[0m┃\u001b[1m \u001b[0m\u001b[1mOutput Shape          \u001b[0m\u001b[1m \u001b[0m┃\u001b[1m \u001b[0m\u001b[1m      Param #\u001b[0m\u001b[1m \u001b[0m┃\n",
              "┡━━━━━━━━━━━━━━━━━━━━━━━━━━━━━━━━━╇━━━━━━━━━━━━━━━━━━━━━━━━╇━━━━━━━━━━━━━━━┩\n",
              "│ input_layer_5 (\u001b[38;5;33mInputLayer\u001b[0m)      │ (\u001b[38;5;45mNone\u001b[0m, \u001b[38;5;34m64\u001b[0m)             │             \u001b[38;5;34m0\u001b[0m │\n",
              "├─────────────────────────────────┼────────────────────────┼───────────────┤\n",
              "│ dense_1 (\u001b[38;5;33mDense\u001b[0m)                 │ (\u001b[38;5;45mNone\u001b[0m, \u001b[38;5;34m64\u001b[0m)             │         \u001b[38;5;34m4,160\u001b[0m │\n",
              "├─────────────────────────────────┼────────────────────────┼───────────────┤\n",
              "│ batch_normalization_1           │ (\u001b[38;5;45mNone\u001b[0m, \u001b[38;5;34m64\u001b[0m)             │           \u001b[38;5;34m256\u001b[0m │\n",
              "│ (\u001b[38;5;33mBatchNormalization\u001b[0m)            │                        │               │\n",
              "├─────────────────────────────────┼────────────────────────┼───────────────┤\n",
              "│ re_lu_1 (\u001b[38;5;33mReLU\u001b[0m)                  │ (\u001b[38;5;45mNone\u001b[0m, \u001b[38;5;34m64\u001b[0m)             │             \u001b[38;5;34m0\u001b[0m │\n",
              "├─────────────────────────────────┼────────────────────────┼───────────────┤\n",
              "│ dropout_1 (\u001b[38;5;33mDropout\u001b[0m)             │ (\u001b[38;5;45mNone\u001b[0m, \u001b[38;5;34m64\u001b[0m)             │             \u001b[38;5;34m0\u001b[0m │\n",
              "├─────────────────────────────────┼────────────────────────┼───────────────┤\n",
              "│ dense_2 (\u001b[38;5;33mDense\u001b[0m)                 │ (\u001b[38;5;45mNone\u001b[0m, \u001b[38;5;34m64\u001b[0m)             │         \u001b[38;5;34m4,160\u001b[0m │\n",
              "├─────────────────────────────────┼────────────────────────┼───────────────┤\n",
              "│ batch_normalization_2           │ (\u001b[38;5;45mNone\u001b[0m, \u001b[38;5;34m64\u001b[0m)             │           \u001b[38;5;34m256\u001b[0m │\n",
              "│ (\u001b[38;5;33mBatchNormalization\u001b[0m)            │                        │               │\n",
              "├─────────────────────────────────┼────────────────────────┼───────────────┤\n",
              "│ re_lu_2 (\u001b[38;5;33mReLU\u001b[0m)                  │ (\u001b[38;5;45mNone\u001b[0m, \u001b[38;5;34m64\u001b[0m)             │             \u001b[38;5;34m0\u001b[0m │\n",
              "├─────────────────────────────────┼────────────────────────┼───────────────┤\n",
              "│ dropout_2 (\u001b[38;5;33mDropout\u001b[0m)             │ (\u001b[38;5;45mNone\u001b[0m, \u001b[38;5;34m64\u001b[0m)             │             \u001b[38;5;34m0\u001b[0m │\n",
              "├─────────────────────────────────┼────────────────────────┼───────────────┤\n",
              "│ dense_3 (\u001b[38;5;33mDense\u001b[0m)                 │ (\u001b[38;5;45mNone\u001b[0m, \u001b[38;5;34m10\u001b[0m)             │           \u001b[38;5;34m650\u001b[0m │\n",
              "└─────────────────────────────────┴────────────────────────┴───────────────┘\n"
            ]
          },
          "metadata": {},
          "output_type": "display_data"
        },
        {
          "data": {
            "text/html": [
              "<pre style=\"white-space:pre;overflow-x:auto;line-height:normal;font-family:Menlo,'DejaVu Sans Mono',consolas,'Courier New',monospace\"><span style=\"font-weight: bold\"> Total params: </span><span style=\"color: #00af00; text-decoration-color: #00af00\">9,482</span> (37.04 KB)\n",
              "</pre>\n"
            ],
            "text/plain": [
              "\u001b[1m Total params: \u001b[0m\u001b[38;5;34m9,482\u001b[0m (37.04 KB)\n"
            ]
          },
          "metadata": {},
          "output_type": "display_data"
        },
        {
          "data": {
            "text/html": [
              "<pre style=\"white-space:pre;overflow-x:auto;line-height:normal;font-family:Menlo,'DejaVu Sans Mono',consolas,'Courier New',monospace\"><span style=\"font-weight: bold\"> Trainable params: </span><span style=\"color: #00af00; text-decoration-color: #00af00\">9,226</span> (36.04 KB)\n",
              "</pre>\n"
            ],
            "text/plain": [
              "\u001b[1m Trainable params: \u001b[0m\u001b[38;5;34m9,226\u001b[0m (36.04 KB)\n"
            ]
          },
          "metadata": {},
          "output_type": "display_data"
        },
        {
          "data": {
            "text/html": [
              "<pre style=\"white-space:pre;overflow-x:auto;line-height:normal;font-family:Menlo,'DejaVu Sans Mono',consolas,'Courier New',monospace\"><span style=\"font-weight: bold\"> Non-trainable params: </span><span style=\"color: #00af00; text-decoration-color: #00af00\">256</span> (1.00 KB)\n",
              "</pre>\n"
            ],
            "text/plain": [
              "\u001b[1m Non-trainable params: \u001b[0m\u001b[38;5;34m256\u001b[0m (1.00 KB)\n"
            ]
          },
          "metadata": {},
          "output_type": "display_data"
        }
      ],
      "source": [
        "model.summary()"
      ]
    },
    {
      "cell_type": "code",
      "execution_count": 22,
      "metadata": {},
      "outputs": [],
      "source": [
        "model.compile(\n",
        "  optimizer=optimizer,\n",
        "  loss=loss,\n",
        "  metrics=[\n",
        "    keras.metrics.CategoricalAccuracy(),\n",
        "    keras.metrics.Precision(),\n",
        "    keras.metrics.Recall(),\n",
        "  ]\n",
        ")"
      ]
    },
    {
      "cell_type": "code",
      "execution_count": null,
      "metadata": {},
      "outputs": [],
      "source": [
        "model.fit(\n",
        "  X_train,\n",
        "  y_train,\n",
        "  validation_data=[X_val, y_val],\n",
        "  epochs=num_epochs\n",
        ")"
      ]
    },
    {
      "cell_type": "markdown",
      "metadata": {},
      "source": [
        "# Feature & Model Evaluation\n",
        "\n",
        "Have yet to decision visualisations and feature evaluation methods"
      ]
    },
    {
      "cell_type": "code",
      "execution_count": null,
      "metadata": {},
      "outputs": [],
      "source": []
    },
    {
      "cell_type": "code",
      "execution_count": null,
      "metadata": {},
      "outputs": [],
      "source": []
    },
    {
      "cell_type": "code",
      "execution_count": null,
      "metadata": {},
      "outputs": [],
      "source": [
        "%watermark"
      ]
    }
  ],
  "metadata": {
    "kernelspec": {
      "display_name": "py311_venv",
      "language": "python",
      "name": "python3"
    },
    "language_info": {
      "codemirror_mode": {
        "name": "ipython",
        "version": 3
      },
      "file_extension": ".py",
      "mimetype": "text/x-python",
      "name": "python",
      "nbconvert_exporter": "python",
      "pygments_lexer": "ipython3",
      "version": "3.11.9"
    }
  },
  "nbformat": 4,
  "nbformat_minor": 2
}
