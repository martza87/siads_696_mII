{
 "cells": [
  {
   "cell_type": "markdown",
   "metadata": {},
   "source": [
    "# Accessing API to Download Data\n",
    "# 00_get_data"
   ]
  },
  {
   "cell_type": "markdown",
   "metadata": {},
   "source": [
    "| Date | User | Change Type | Remarks |  \n",
    "| ---- | ---- | ----------- | ------- |\n",
    "|    |  |    |  | \n",
    "|    | |   | |"
   ]
  },
  {
   "cell_type": "markdown",
   "metadata": {},
   "source": [
    "### Content\n",
    "\n",
    "* [Introduction](#introduction)"
   ]
  },
  {
   "cell_type": "code",
   "execution_count": 1,
   "metadata": {
    "cell_id": "7979980fa62843caab0c314813b85afd",
    "deepnote_cell_type": "code",
    "deepnote_to_be_reexecuted": false,
    "execution_context_id": "5bdbb632-aa86-4d67-880c-b095b338e9e3",
    "execution_millis": 1,
    "execution_start": 1756512740128,
    "id": "dRmLaHKlI0fg",
    "source_hash": "48a1e693"
   },
   "outputs": [],
   "source": [
    "import requests\n",
    "import time\n",
    "import json"
   ]
  },
  {
   "cell_type": "markdown",
   "metadata": {},
   "source": [
    "### API Sandbox Credentials"
   ]
  },
  {
   "cell_type": "code",
   "execution_count": null,
   "metadata": {
    "cell_id": "a43c5e8141224970afd16b48dc9e1cd8",
    "deepnote_cell_type": "code",
    "deepnote_to_be_reexecuted": false,
    "execution_context_id": "5bdbb632-aa86-4d67-880c-b095b338e9e3",
    "execution_millis": 1,
    "execution_start": 1756512740187,
    "id": "waoK0vRtI0fh",
    "source_hash": "2041b0f1"
   },
   "outputs": [],
   "source": [
    "# Public Credentials for sandbox\n",
    "\n",
    "# partially adjudicated: claim, claimResponse\n",
    "# fully adjudicated: patient, coverage, explanationOfBenefit\n",
    "\n",
    "# Extra-small REACH ACO (110 synthetic enrollees) - Partially Adjudicated\n",
    "# client_id = '7e57394f-eddb-46c7-a87b-a23f14ded95d'\n",
    "# client_secret = '3ab22e7faaf69fa2d572831ffc1db12252c6d569d3e1b54aecf56e075ba054c20fee83b2e013c9c3'\n",
    "\n",
    "# Large REACH ACO (11,000 synthetic enrollees) - Paritally Adjudicated XXXUse this\n",
    "#client_id = '2121efbd-98d2-4323-84db-974c8864abc7'\n",
    "#client_secret = 'ee1b0609f024a758bf1770ec16f809330d2ba8bb4e9004a7868c0258accfd69ced5b6448188abb7b'\n",
    "\n",
    "# Large advanced model entity (10,000 synthetic enrollees) - Adjudicated\n",
    "# client_id = '0a0c75f0-da95-4198-9c0f-666b41e21017'\n",
    "# client_secret = 'c637024fa21adda5a756a2753cf7eb9bd62292e7897fb965a5c7aeeed23e1728ddc9ec6863f09f15'\n",
    "\n",
    "# Extra-large model entity (30,000 synthetic enrollees) - Adjudicated XXXUse this\n",
    "client_id = 'aa2d6b93-bbe7-4d1b-8cc5-9a5172fae3a6'\n",
    "client_secret = '97755772b3fb7b3fa2f58c5c3aaaffbc7e346639ff8da371a81adf79889c8fbd4c40398cd39d211d'"
   ]
  },
  {
   "cell_type": "markdown",
   "metadata": {},
   "source": [
    "### Functions to Download Data from API"
   ]
  },
  {
   "cell_type": "code",
   "execution_count": 3,
   "metadata": {
    "cell_id": "800a00f759564db3b57d0c30a10cd070",
    "deepnote_cell_type": "code",
    "deepnote_to_be_reexecuted": false,
    "execution_context_id": "5bdbb632-aa86-4d67-880c-b095b338e9e3",
    "execution_millis": 1,
    "execution_start": 1756512740247,
    "id": "zZf-xZ-4I0fh",
    "source_hash": "5cb1190d"
   },
   "outputs": [],
   "source": [
    "def get_access_token(client_id, client_secret):\n",
    "    \"\"\"\n",
    "    Obtain an access token using client credentials.\n",
    "    \"\"\"\n",
    "    url = 'https://sandbox.bcda.cms.gov/auth/token'\n",
    "    headers = {\n",
    "        'accept': 'application/json'\n",
    "    }\n",
    "    response = requests.post(url, headers=headers, auth=(client_id, client_secret))\n",
    "    if response.status_code == 200:\n",
    "        access_token = response.json().get('access_token')\n",
    "        print(\"Access token obtained successfully.\")\n",
    "        return access_token\n",
    "    else:\n",
    "        print(f\"Failed to get access token: {response.status_code}, {response.text}\")\n",
    "        return None"
   ]
  },
  {
   "cell_type": "code",
   "execution_count": 4,
   "metadata": {
    "cell_id": "aeb23f6c25754649a5c50a998b1747e9",
    "deepnote_cell_type": "code",
    "deepnote_to_be_reexecuted": false,
    "execution_context_id": "5bdbb632-aa86-4d67-880c-b095b338e9e3",
    "execution_millis": 0,
    "execution_start": 1756512740308,
    "id": "YaD2HU_UI0fi",
    "source_hash": "dda8a4c5"
   },
   "outputs": [],
   "source": [
    "def start_job(access_token, dataset):\n",
    "    \"\"\"\n",
    "    Start a data export job.\n",
    "    \"\"\"\n",
    "    if dataset!='':\n",
    "        url = 'https://sandbox.bcda.cms.gov/api/v2/Group/all/$export?_type=' + dataset\n",
    "        print(url)\n",
    "    else:\n",
    "        url = 'https://sandbox.bcda.cms.gov/api/v2/Group/all/$export'\n",
    "    headers = {\n",
    "        'accept': 'application/fhir+json',\n",
    "        'Prefer': 'respond-async',\n",
    "        'Authorization': f'Bearer {access_token}'\n",
    "    }\n",
    "    response = requests.get(url, headers=headers)\n",
    "    if response.status_code == 202:\n",
    "        job_url = response.headers.get('Content-Location')\n",
    "        print(f\"Job started successfully. Job URL: {job_url}\")\n",
    "        return job_url\n",
    "    else:\n",
    "        print(f\"Failed to start job: {response.status_code}, {response.text}\")\n",
    "        return None"
   ]
  },
  {
   "cell_type": "code",
   "execution_count": 5,
   "metadata": {
    "cell_id": "5ed9439647b947ab9a5226e74a61d449",
    "deepnote_cell_type": "code",
    "deepnote_to_be_reexecuted": false,
    "execution_context_id": "5bdbb632-aa86-4d67-880c-b095b338e9e3",
    "execution_millis": 0,
    "execution_start": 1756512740368,
    "id": "Sh-H6NqTI0fi",
    "source_hash": "82a5f8c2"
   },
   "outputs": [],
   "source": [
    "def check_job_status(job_url, access_token):\n",
    "    \"\"\"\n",
    "    Check the status of the data export job until it is complete.\n",
    "    \"\"\"\n",
    "    headers = {\n",
    "        'accept': 'application/fhir+json',\n",
    "        'Authorization': f'Bearer {access_token}'\n",
    "    }\n",
    "    while True:\n",
    "        response = requests.get(job_url, headers=headers)\n",
    "        if response.status_code == 202:\n",
    "            # Job is still processing\n",
    "            print(\"Job is still processing... Checking again in 10 seconds.\")\n",
    "            time.sleep(10)  # Wait before checking again\n",
    "        elif response.status_code == 200:\n",
    "            # Job is done\n",
    "            print(\"Job completed successfully.\")\n",
    "            return response.json()\n",
    "        else:\n",
    "            print(f\"Failed to check job status: {response.status_code}, {response.text}\")\n",
    "            return None"
   ]
  },
  {
   "cell_type": "code",
   "execution_count": 6,
   "metadata": {
    "cell_id": "57fc0a1145a447bfbe49aa7b9f565e6f",
    "deepnote_cell_type": "code",
    "deepnote_to_be_reexecuted": false,
    "execution_context_id": "5bdbb632-aa86-4d67-880c-b095b338e9e3",
    "execution_millis": 1,
    "execution_start": 1756512740427,
    "id": "A6wWX6aII0fi",
    "source_hash": "bdcf6e86"
   },
   "outputs": [],
   "source": [
    "def download_data_files(output_list, access_token):\n",
    "    \"\"\"\n",
    "    Download the data files from the job output.\n",
    "    \"\"\"\n",
    "    headers = {\n",
    "        'Authorization': f'Bearer {access_token}',\n",
    "        'Accept-Encoding': 'gzip'\n",
    "    }\n",
    "    for item in output_list:\n",
    "        file_type = item.get('type')\n",
    "        url = item.get('url')\n",
    "        print(f\"Downloading {file_type} data from {url}...\")\n",
    "        response = requests.get(url, headers=headers)\n",
    "        if response.status_code == 200:\n",
    "            filename = f\"../data/raw/{file_type}.ndjson\"\n",
    "            with open(filename, 'wb') as f:\n",
    "                f.write(response.content)\n",
    "            print(f\"Saved {filename}\")\n",
    "        else:\n",
    "            print(f\"Failed to download {file_type}: {response.status_code}, {response.text}\")"
   ]
  },
  {
   "cell_type": "code",
   "execution_count": 7,
   "metadata": {
    "cell_id": "8fc10efa1d8b4ae687c34e62bebf65ae",
    "deepnote_cell_type": "code",
    "deepnote_to_be_reexecuted": false,
    "execution_context_id": "5bdbb632-aa86-4d67-880c-b095b338e9e3",
    "execution_millis": 0,
    "execution_start": 1756512740477,
    "id": "XuvOOBTGI0fi",
    "source_hash": "5259c96f"
   },
   "outputs": [],
   "source": [
    "def main(dataset=''):\n",
    "    access_token = get_access_token(client_id, client_secret)\n",
    "    if not access_token:\n",
    "        return\n",
    "    job_url = start_job(access_token, dataset)\n",
    "    if not job_url:\n",
    "        return\n",
    "    job_result = check_job_status(job_url, access_token)\n",
    "    if not job_result:\n",
    "        return\n",
    "    output = job_result.get('output')\n",
    "    if not output:\n",
    "        print(\"No output data available.\")\n",
    "        return\n",
    "    download_data_files(output, access_token)"
   ]
  },
  {
   "cell_type": "markdown",
   "metadata": {},
   "source": [
    "Have two options to download either each dataset individually or all datasets available at that access point"
   ]
  },
  {
   "cell_type": "code",
   "execution_count": 12,
   "metadata": {
    "cell_id": "e4e8fcdf1a7c46f386d632d9dd23ec0d",
    "deepnote_cell_type": "code",
    "execution_context_id": "5bdbb632-aa86-4d67-880c-b095b338e9e3",
    "execution_millis": 240,
    "execution_start": 1756512826279,
    "source_hash": "b7b03832"
   },
   "outputs": [
    {
     "name": "stdout",
     "output_type": "stream",
     "text": [
      "Access token obtained successfully.\n",
      "https://sandbox.bcda.cms.gov/api/v2/Group/all/$export?_type=Patient\n",
      "Job started successfully. Job URL: https://sandbox.bcda.cms.gov/api/v2/jobs/80606\n",
      "Job is still processing... Checking again in 10 seconds.\n",
      "Job is still processing... Checking again in 10 seconds.\n",
      "Job is still processing... Checking again in 10 seconds.\n",
      "Job is still processing... Checking again in 10 seconds.\n",
      "Job is still processing... Checking again in 10 seconds.\n",
      "Job is still processing... Checking again in 10 seconds.\n",
      "Job completed successfully.\n",
      "Downloading Patient data from https://sandbox.bcda.cms.gov/data/80606/3dbe772d-2dce-4ca2-a2ec-5ac5825fa2b9.ndjson...\n",
      "Saved ../data/raw/Patient.ndjson\n",
      "Downloading Patient data from https://sandbox.bcda.cms.gov/data/80606/dde3c757-5c0d-4757-9570-407bbc2f590b.ndjson...\n",
      "Saved ../data/raw/Patient.ndjson\n"
     ]
    }
   ],
   "source": [
    "# Use to download a specific dataset\n",
    "if __name__ == \"__main__\":\n",
    "    main(dataset = 'Patient')"
   ]
  },
  {
   "cell_type": "code",
   "execution_count": 10,
   "metadata": {
    "cell_id": "a34a8ac03f604ca4b80583ad0d517359",
    "deepnote_cell_type": "code",
    "deepnote_to_be_reexecuted": false,
    "execution_context_id": "5bdbb632-aa86-4d67-880c-b095b338e9e3",
    "execution_millis": 8381,
    "execution_start": 1756512740527,
    "id": "qPl_2VxiI0fi",
    "outputId": "0683064b-04af-4f8b-977b-da14272dbd5c",
    "source_hash": "32a4f15c"
   },
   "outputs": [],
   "source": [
    "# Downloads all datasets\n",
    "# if __name__ == \"__main__\":\n",
    "#     main(dataset = '')"
   ]
  },
  {
   "cell_type": "markdown",
   "metadata": {
    "created_in_deepnote_cell": true,
    "deepnote_cell_type": "markdown"
   },
   "source": [
    "<a style='text-decoration:none;line-height:16px;display:flex;color:#5B5B62;padding:10px;justify-content:end;' href='https://deepnote.com?utm_source=created-in-deepnote-cell&projectId=cff59b50-5bfa-41ed-b840-afb0c6e184df' target=\"_blank\">\n",
    "<img alt='Created in deepnote.com' style='display:inline;max-height:16px;margin:0px;margin-right:7.5px;' src='data:image/svg+xml;base64,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' > </img>\n",
    "Created in <span style='font-weight:600;margin-left:4px;'>Deepnote</span></a>"
   ]
  }
 ],
 "metadata": {
  "deepnote_notebook_id": "f23531d0fc2b4734bf618c8742cc338b",
  "deepnote_persisted_session": {
   "createdAt": "2025-08-21T02:08:35.353Z"
  },
  "kernelspec": {
   "display_name": ".venv (3.13.7)",
   "language": "python",
   "name": "python3"
  },
  "language_info": {
   "codemirror_mode": {
    "name": "ipython",
    "version": 3
   },
   "file_extension": ".py",
   "mimetype": "text/x-python",
   "name": "python",
   "nbconvert_exporter": "python",
   "pygments_lexer": "ipython3",
   "version": "3.13.7"
  }
 },
 "nbformat": 4,
 "nbformat_minor": 0
}
