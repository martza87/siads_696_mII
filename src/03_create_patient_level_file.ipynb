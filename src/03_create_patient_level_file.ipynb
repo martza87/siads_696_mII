{
 "cells": [
  {
   "cell_type": "markdown",
   "id": "f643df15",
   "metadata": {},
   "source": [
    "# Create Patient Level File\n",
    "# 03_create_patient_level_file"
   ]
  },
  {
   "cell_type": "markdown",
   "id": "9d939968",
   "metadata": {},
   "source": [
    "| Date | User | Change Type | Remarks |  \n",
    "| ---- | ---- | ----------- | ------- |\n",
    "| 28/09/2025 | Adrienne | Created   | Created dataset for learning models | \n",
    "| |  |  | |"
   ]
  },
  {
   "cell_type": "markdown",
   "id": "5c3c4cf5",
   "metadata": {},
   "source": [
    "# Content\n",
    "\n",
    "* [Introduction](#introduction)"
   ]
  },
  {
   "cell_type": "code",
   "execution_count": 3,
   "id": "d3b83691",
   "metadata": {},
   "outputs": [],
   "source": [
    "import pandas as pd\n",
    "import numpy as np\n",
    "import matplotlib.pyplot as plt\n",
    "import re\n",
    "from datetime import datetime\n",
    "import json_lines\n",
    "import seaborn as sns"
   ]
  },
  {
   "cell_type": "code",
   "execution_count": 4,
   "id": "1e55c695",
   "metadata": {},
   "outputs": [],
   "source": [
    "# readin clean datafiles\n",
    "path = \"../data/clean/\"\n",
    "#claim_df =  pd.read_pickle(path + 'claim.pkl')\n",
    "#claim_df = pd.read_pickle(path + 'claim_sample.pkl')\n",
    "claim_df = pd.read_pickle(path + 'claim_mini_sample.pkl')"
   ]
  },
  {
   "cell_type": "markdown",
   "id": "bd888275",
   "metadata": {},
   "source": [
    "need to limit data to those that have HCPCS and then pick a min number of claims"
   ]
  },
  {
   "cell_type": "code",
   "execution_count": null,
   "id": "6ee034dd",
   "metadata": {},
   "outputs": [],
   "source": [
    "# Create Patient Level file\n"
   ]
  }
 ],
 "metadata": {
  "kernelspec": {
   "display_name": ".venv (3.13.7)",
   "language": "python",
   "name": "python3"
  },
  "language_info": {
   "codemirror_mode": {
    "name": "ipython",
    "version": 3
   },
   "file_extension": ".py",
   "mimetype": "text/x-python",
   "name": "python",
   "nbconvert_exporter": "python",
   "pygments_lexer": "ipython3",
   "version": "3.13.7"
  }
 },
 "nbformat": 4,
 "nbformat_minor": 5
}
