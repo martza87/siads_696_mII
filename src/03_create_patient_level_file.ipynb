{
 "cells": [
  {
   "cell_type": "markdown",
   "id": "f643df15",
   "metadata": {},
   "source": [
    "# Create Patient Level File\n",
    "## 03_create_patient_level_file"
   ]
  },
  {
   "cell_type": "markdown",
   "id": "9d939968",
   "metadata": {},
   "source": [
    "| Date | User | Change Type | Remarks |  \n",
    "| ---- | ---- | ----------- | ------- |\n",
    "| 28/09/2025 | Adrienne | Created   | Created dataset for learning models | \n",
    "| 29/09/2025 | Martin | New   | Added function to filter by number of entries through percentile or absolute value | \n",
    "| 08/10/2025 | Adrienne | New | Added code to split datasets evenly |\n",
    "| 15.10.2025 | Adrienne | Update | Code Cleanup |"
   ]
  },
  {
   "cell_type": "markdown",
   "id": "5c3c4cf5",
   "metadata": {},
   "source": [
    "## Content\n",
    "\n",
    "* [Introduction](#introduction)\n",
    "* [Loading Data](#loading-data)\n",
    "* [Filtering Data](#filtering-data)\n",
    "* [Create Columns](#create-columns)\n",
    "* [EDA](#eda)"
   ]
  },
  {
   "cell_type": "code",
   "execution_count": null,
   "id": "d3b83691",
   "metadata": {},
   "outputs": [],
   "source": [
    "import pandas as pd\n",
    "import numpy as np\n",
    "import matplotlib.pyplot as plt\n",
    "import re\n",
    "from datetime import datetime\n",
    "import seaborn as sns\n",
    "from datetime import date\n",
    "from sklearn.model_selection import train_test_split"
   ]
  },
  {
   "cell_type": "markdown",
   "id": "ab7c210d",
   "metadata": {},
   "source": [
    "## Introduction\n",
    "\n",
    "This program turns the claim data from long to wide by summarizing all claims on a patient level"
   ]
  },
  {
   "cell_type": "markdown",
   "id": "f6a1d23f",
   "metadata": {},
   "source": [
    "## Loading Data"
   ]
  },
  {
   "cell_type": "code",
   "execution_count": null,
   "id": "1e55c695",
   "metadata": {},
   "outputs": [],
   "source": [
    "# readin clean datafiles\n",
    "path = \"../data/clean/\"\n",
    "claim_df =  pd.read_pickle(path + 'claim.pkl')"
   ]
  },
  {
   "cell_type": "markdown",
   "id": "9f69016b",
   "metadata": {},
   "source": [
    "## Filtering Data\n",
    "\n",
    "Added configurations to filter the data based on HCPCS and number of claims\n",
    "\n",
    "1. `filter_by`: \"percentile\" | \"entries\"\n",
    "2. `threshold`: Selected percentile or number of entries __GREATER THAN__ specified value\n",
    "\n",
    "NOTE: Currently min number of claims is grouped on `patient_medicare_number`"
   ]
  },
  {
   "cell_type": "code",
   "execution_count": null,
   "id": "0ee6018c",
   "metadata": {},
   "outputs": [],
   "source": [
    "def filter_claims(df: pd.DataFrame, filter_by: str, threshold: int):\n",
    "  orig_df = df.copy()\n",
    "\n",
    "  # Get length of diagnosis, hcpcs and procedure lists\n",
    "  df['diagnosis_ls_len'] = df['diagnosis_ls'].str.len()\n",
    "  df['hcpcs_ls_len'] = df['hcpcs_ls'].str.len()\n",
    "  df['procedure_ls_len'] = df['procedure_ls'].str.len()\n",
    "\n",
    "  # Remove entries with no HCPCS\n",
    "  df = df[df['hcpcs_ls_len'] != 0]\n",
    "  \n",
    "  # Remove claims where unique_claim_ID is not nine in length - if rows without HCPCS are dropped then this is not necessary\n",
    "  df['len_claim'] = df['unique_claim_ID'].str.len()\n",
    "  df = df[ df['len_claim'] == 9]\n",
    "  \n",
    "  # Remove claims prior to 2012 \n",
    "  # 95% of data is from then onwards.  As there are great differences in medical care \n",
    "  # through the decades want a more recent time period\n",
    "  df['year'] = df['billablePeriod_start'].apply(lambda x: x[:4])\n",
    "  df = df[ df['year'].astype(int) >= 2012]\n",
    "  \n",
    "  # dropping hcpcs codes that are not five in length\n",
    "  df['hcpcs_ls'] = df['hcpcs_ls'].apply(lambda x: [code for code in x if len(code) == 5])\n",
    "\n",
    "  # Filter on percentile or number of entries for each patient_medicare_number\n",
    "  claim_count_by_medicare = df.groupby('patient_medicare_number').count()['billablePeriod_end'].reset_index()\n",
    "  if filter_by == \"percentile\":\n",
    "    perc = np.percentile(claim_count_by_medicare['billablePeriod_end'], threshold)\n",
    "    print(f\"Min number of claims: {perc}\")\n",
    "    selected_medicare_numbers = claim_count_by_medicare[claim_count_by_medicare['billablePeriod_end'] >= perc]['patient_medicare_number']\n",
    "    print(f\"Number of patient medicare numbers selected: {len(selected_medicare_numbers)}\")\n",
    "  elif filter_by == \"entries\":\n",
    "    idx = np.where(claim_count_by_medicare['billablePeriod_end'] >= threshold)\n",
    "    selected_medicare_numbers = claim_count_by_medicare.iloc[idx]['patient_medicare_number']\n",
    "    print(f\"Number of patient medicare numbers selected: {len(selected_medicare_numbers)}\")\n",
    "  else:\n",
    "    print(\"Please check that your entries are valid\")\n",
    "    return\n",
    "\n",
    "  # Get only the entries with selected medicare numbers\n",
    "  df = df[df['patient_medicare_number'].isin(selected_medicare_numbers)]\n",
    "  print()\n",
    "  print(f\"Previous number of entries: {orig_df.shape[0]}\")\n",
    "  print(f\"Current number of entries: {df.shape[0]}\")\n",
    "  return df"
   ]
  },
  {
   "cell_type": "code",
   "execution_count": null,
   "id": "bced4095",
   "metadata": {},
   "outputs": [],
   "source": [
    "filter_by = \"percentile\"\n",
    "threshold = 10\n",
    "\n",
    "claim_fil_df = filter_claims(claim_df, filter_by=filter_by, threshold=threshold)"
   ]
  },
  {
   "cell_type": "markdown",
   "id": "c13c916c",
   "metadata": {},
   "source": [
    "## Create Columns"
   ]
  },
  {
   "cell_type": "code",
   "execution_count": null,
   "id": "62482981",
   "metadata": {},
   "outputs": [],
   "source": [
    "# prior to creating list columns want to sort claims by date\n",
    "claim_fil_df = claim_fil_df.sort_values(by=['patient_medicare_number', 'billablePeriod_start'])"
   ]
  },
  {
   "cell_type": "code",
   "execution_count": null,
   "id": "5922b717",
   "metadata": {},
   "outputs": [],
   "source": [
    "# Create a number of claims column\n",
    "vals = claim_fil_df['patient_medicare_number'].value_counts()\n",
    "vals_df = pd.DataFrame({'number_of_claims': vals})\n",
    "claim_fil_df = pd.merge(claim_fil_df, vals_df, how = 'left', on = 'patient_medicare_number')"
   ]
  },
  {
   "cell_type": "code",
   "execution_count": null,
   "id": "a23a60c0",
   "metadata": {},
   "outputs": [],
   "source": [
    "# Combined DRG column\n",
    "claim_fil_df['drg_code'] = claim_fil_df['drg_code'].apply( lambda x : '{0:0>3}'.format(x)) \n",
    "grp_ser = claim_fil_df.groupby('patient_medicare_number')['drg_code'].apply(list)\n",
    "grp_df = pd.DataFrame( {'drg_ls': grp_ser})\n",
    "grp_df['drg_ls'] = grp_df['drg_ls'].apply(lambda x: [code for code in x if code != 'nan' ])\n",
    "claim_fil_df = pd.merge(claim_fil_df, grp_df, how = 'left', on = 'patient_medicare_number')"
   ]
  },
  {
   "cell_type": "code",
   "execution_count": null,
   "id": "dd83ffae",
   "metadata": {},
   "outputs": [],
   "source": [
    "# Combined HCPCS column\n",
    "grp_ser = claim_fil_df.groupby('patient_medicare_number')['hcpcs_ls'].apply(list)\n",
    "grp_df = pd.DataFrame( {'combined_hcpcs_ls': grp_ser})\n",
    "grp_df['combined_hcpcs_ls'] = grp_df['combined_hcpcs_ls'].apply(lambda x: [code for list in x for code in list ])\n",
    "claim_fil_df = pd.merge(claim_fil_df, grp_df, how = 'left', on = 'patient_medicare_number')"
   ]
  },
  {
   "cell_type": "code",
   "execution_count": null,
   "id": "f9637d35",
   "metadata": {},
   "outputs": [],
   "source": [
    "# Combined ICD10 column\n",
    "grp_ser = claim_fil_df.groupby('patient_medicare_number')['diagnosis_ls'].apply(list)\n",
    "grp_df = pd.DataFrame( {'combined_diagnosis_ls': grp_ser})\n",
    "grp_df['combined_diagnosis_ls'] = grp_df['combined_diagnosis_ls'].apply(lambda x: [code for list in x for code in list ])\n",
    "claim_fil_df = pd.merge(claim_fil_df, grp_df, how = 'left', on = 'patient_medicare_number')"
   ]
  },
  {
   "cell_type": "code",
   "execution_count": null,
   "id": "fbba7735",
   "metadata": {},
   "outputs": [],
   "source": [
    "# Combined admitting diagnosis column\n",
    "grp_ser = claim_fil_df.groupby('patient_medicare_number')['admitting_diagnosis'].apply(list)\n",
    "grp_df = pd.DataFrame( {'combined_admitting_diagnosis_ls': grp_ser})\n",
    "grp_df['combined_admitting_diagnosis_ls'] = grp_df['combined_admitting_diagnosis_ls'].apply(lambda ls: [x for x in ls if x != 'nan'])\n",
    "claim_fil_df = pd.merge(claim_fil_df, grp_df, how = 'left', on = 'patient_medicare_number')"
   ]
  },
  {
   "cell_type": "code",
   "execution_count": null,
   "id": "6391fb29",
   "metadata": {},
   "outputs": [],
   "source": [
    "# Combined principal diagnosis column\n",
    "grp_ser = claim_fil_df.groupby('patient_medicare_number')['principal_diagnosis'].apply(list)\n",
    "grp_df = pd.DataFrame( {'combined_principal_diagnosis_ls': grp_ser})\n",
    "grp_df['combined_principal_diagnosis_ls'] = grp_df['combined_principal_diagnosis_ls'].apply(lambda ls: [x for x in ls if x != 'nan'])\n",
    "claim_fil_df = pd.merge(claim_fil_df, grp_df, how = 'left', on = 'patient_medicare_number')"
   ]
  },
  {
   "cell_type": "code",
   "execution_count": null,
   "id": "fab6e634",
   "metadata": {},
   "outputs": [],
   "source": [
    "# Combined unique_claim_ID\n",
    "claim_fil_df['unique_claim_ID'] = claim_fil_df['unique_claim_ID'].apply( lambda x : '{0:0>3}'.format(x)) \n",
    "grp_ser = claim_fil_df.groupby('patient_medicare_number')['unique_claim_ID'].apply(list)\n",
    "grp_df = pd.DataFrame( {'unique_claim_ls': grp_ser})\n",
    "grp_df['unique_claim_ls'] = grp_df['unique_claim_ls'].apply(lambda x: [code for code in x if code != 'nan' ])\n",
    "claim_fil_df = pd.merge(claim_fil_df, grp_df, how = 'left', on = 'patient_medicare_number')"
   ]
  },
  {
   "cell_type": "code",
   "execution_count": null,
   "id": "85ceea5c",
   "metadata": {},
   "outputs": [],
   "source": [
    "# Combined billablePeriod_start\n",
    "claim_fil_df['billablePeriod_start'] = claim_fil_df['billablePeriod_start'].apply( lambda x : '{0:0>3}'.format(x)) \n",
    "grp_ser = claim_fil_df.groupby('patient_medicare_number')['billablePeriod_start'].apply(list)\n",
    "grp_df = pd.DataFrame( {'billablePeriod_start_ls': grp_ser})\n",
    "grp_df['billablePeriod_start_ls'] = grp_df['billablePeriod_start_ls'].apply(lambda x: [code for code in x if code != 'nan' ])\n",
    "claim_fil_df = pd.merge(claim_fil_df, grp_df, how = 'left', on = 'patient_medicare_number')"
   ]
  },
  {
   "cell_type": "code",
   "execution_count": null,
   "id": "b805e91f",
   "metadata": {},
   "outputs": [],
   "source": [
    "# Combined billablePeriod_end\n",
    "claim_fil_df['billablePeriod_end'] = claim_fil_df['billablePeriod_end'].apply( lambda x : '{0:0>3}'.format(x)) \n",
    "grp_ser = claim_fil_df.groupby('patient_medicare_number')['billablePeriod_end'].apply(list)\n",
    "grp_df = pd.DataFrame( {'billablePeriod_end_ls': grp_ser})\n",
    "grp_df['billablePeriod_end_ls'] = grp_df['billablePeriod_end_ls'].apply(lambda x: [code for code in x if code != 'nan' ])\n",
    "claim_fil_df = pd.merge(claim_fil_df, grp_df, how = 'left', on = 'patient_medicare_number')"
   ]
  },
  {
   "cell_type": "code",
   "execution_count": null,
   "id": "57fa44b5",
   "metadata": {},
   "outputs": [],
   "source": [
    "# Combined location_of_bill\n",
    "claim_fil_df['location_of_bill'] = claim_fil_df['location_of_bill'].apply( lambda x : '{0:0>3}'.format(x)) \n",
    "grp_ser = claim_fil_df.groupby('patient_medicare_number')['location_of_bill'].apply(list)\n",
    "grp_df = pd.DataFrame( {'location_of_bill_ls': grp_ser})\n",
    "grp_df['location_of_bill_ls'] = grp_df['location_of_bill_ls'].apply(lambda x: [code for code in x if code != 'nan' ])\n",
    "claim_fil_df = pd.merge(claim_fil_df, grp_df, how = 'left', on = 'patient_medicare_number')"
   ]
  },
  {
   "cell_type": "code",
   "execution_count": null,
   "id": "dc7a587f",
   "metadata": {},
   "outputs": [],
   "source": [
    "# birthdate column - for whatever reason birthdates are not on every claim for a patient\n",
    "grp_ser = claim_fil_df.groupby('patient_medicare_number')['contained_0_birthDate'].apply(list)\n",
    "grp_df = pd.DataFrame({\n",
    "  'birthdate_ls': grp_ser\n",
    "})\n",
    "grp_df['birthdate_ls'] = grp_df['birthdate_ls'].apply(set)\n",
    "grp_df['birthdate'] = grp_df['birthdate_ls'].apply(lambda x: [code for code in x if pd.notnull(code)]).str[0]\n",
    "grp_df['birthdate'] = pd.to_datetime(grp_df['birthdate'])\n",
    "claim_fil_df = pd.merge(claim_fil_df, grp_df, how = 'left', on = 'patient_medicare_number')\n",
    "\n",
    "# create age column\n",
    "\n",
    "def calculate_age(birthdate):\n",
    "    today = date.today()\n",
    "    age = today.year - birthdate.year - ((today.month, today.day) < (birthdate.month, birthdate.day))\n",
    "    return age\n",
    "\n",
    "claim_fil_df['age'] = claim_fil_df['birthdate'].apply(calculate_age)"
   ]
  },
  {
   "cell_type": "markdown",
   "id": "16329cca",
   "metadata": {},
   "source": [
    "Drop columns so there is one row by for a patient"
   ]
  },
  {
   "cell_type": "code",
   "execution_count": null,
   "id": "339e62ad",
   "metadata": {},
   "outputs": [],
   "source": [
    "keep_cols = ['patient_medicare_number', 'patient_first_name', 'patient_last_name', 'gender', 'birthdate', 'age', 'number_of_claims', 'drg_ls', 'combined_diagnosis_ls', 'combined_admitting_diagnosis_ls', 'combined_principal_diagnosis_ls', 'combined_hcpcs_ls', 'billablePeriod_start_ls', 'billablePeriod_end_ls', 'location_of_bill_ls', 'total_value']"
   ]
  },
  {
   "cell_type": "code",
   "execution_count": null,
   "id": "27950c3e",
   "metadata": {},
   "outputs": [],
   "source": [
    "claim_final_df = claim_fil_df[keep_cols]"
   ]
  },
  {
   "cell_type": "code",
   "execution_count": null,
   "id": "26b83276",
   "metadata": {},
   "outputs": [],
   "source": [
    "claim_final_df = claim_final_df.sort_values(by=['patient_medicare_number', 'patient_first_name'], ascending = [True, False])\n",
    "claim_final_df.head()"
   ]
  },
  {
   "cell_type": "code",
   "execution_count": null,
   "id": "71675cf6",
   "metadata": {},
   "outputs": [],
   "source": [
    "# keep first row of group\n",
    "claim_final_df = claim_final_df.groupby('patient_medicare_number', as_index=False).nth(0)"
   ]
  },
  {
   "cell_type": "code",
   "execution_count": null,
   "id": "dfebd45c",
   "metadata": {},
   "outputs": [],
   "source": [
    "# save dataset\n",
    "claim_final_df.to_pickle(\"../data/clean/patient_level.pkl\")"
   ]
  },
  {
   "cell_type": "markdown",
   "id": "f66a5ca3",
   "metadata": {},
   "source": [
    "## EDA"
   ]
  },
  {
   "cell_type": "markdown",
   "id": "4709b484",
   "metadata": {},
   "source": [
    "Investigating Class Imbalance"
   ]
  },
  {
   "cell_type": "code",
   "execution_count": null,
   "id": "f3148e00",
   "metadata": {},
   "outputs": [],
   "source": [
    "# Percentage breakdown\n",
    "vals = claim_final_df['age'].value_counts(normalize=True).sort_index(ascending=True) * 100\n",
    "pd.DataFrame({\n",
    "  'age_breakdown': vals\n",
    "}).head(22)"
   ]
  },
  {
   "cell_type": "code",
   "execution_count": null,
   "id": "71ba95f1",
   "metadata": {},
   "outputs": [],
   "source": [
    "# Percentage breakdown\n",
    "vals = claim_final_df['gender'].value_counts(normalize=True) * 100\n",
    "pd.DataFrame({\n",
    "  'gender_breakdown': vals\n",
    "}).head(22)"
   ]
  },
  {
   "cell_type": "markdown",
   "id": "eb86706f",
   "metadata": {},
   "source": [
    "Looking at length of combined_hcpcs_ls"
   ]
  },
  {
   "cell_type": "code",
   "execution_count": null,
   "id": "1619d2d8",
   "metadata": {},
   "outputs": [],
   "source": [
    "claim_final_df['ls_len'] = claim_final_df['combined_hcpcs_ls'].str.len()"
   ]
  },
  {
   "cell_type": "code",
   "execution_count": null,
   "id": "81649177",
   "metadata": {},
   "outputs": [],
   "source": [
    "# Percentage breakdown\n",
    "vals = claim_final_df['ls_len'].value_counts(normalize=True).sort_index(ascending=True) * 100\n",
    "pd.DataFrame({\n",
    "  'ls_breakdown': vals\n",
    "}).head(50)"
   ]
  },
  {
   "cell_type": "code",
   "execution_count": null,
   "id": "e1677455",
   "metadata": {},
   "outputs": [],
   "source": [
    "fig, ax = plt.subplots(figsize=(5, 3))\n",
    "#sns.countplot(y='ls_len', data=df, order=df['ls_len'].value_counts().index)\n",
    "sns.countplot(y='ls_len', data=claim_final_df[claim_final_df['ls_len'] > 500])"
   ]
  },
  {
   "cell_type": "markdown",
   "id": "5a4cd4cc",
   "metadata": {},
   "source": [
    "This is the patient that has 1219 claims (once filtered) resulting in a combined_hcpcs_ls length of 1592\n",
    "\n",
    "1S00E00GT33"
   ]
  },
  {
   "cell_type": "code",
   "execution_count": null,
   "id": "bfd7cf2a",
   "metadata": {},
   "outputs": [],
   "source": [
    "claim_df[ claim_df['patient_medicare_number']== '1S00E00KH30'].tail()"
   ]
  }
 ],
 "metadata": {
  "kernelspec": {
   "display_name": ".venv (3.13.7)",
   "language": "python",
   "name": "python3"
  },
  "language_info": {
   "codemirror_mode": {
    "name": "ipython",
    "version": 3
   },
   "file_extension": ".py",
   "mimetype": "text/x-python",
   "name": "python",
   "nbconvert_exporter": "python",
   "pygments_lexer": "ipython3",
   "version": "3.13.7"
  }
 },
 "nbformat": 4,
 "nbformat_minor": 5
}
