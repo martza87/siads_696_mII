{
 "cells": [
  {
   "cell_type": "markdown",
   "metadata": {},
   "source": [
    "# Patient Data Cleaning"
   ]
  },
  {
   "cell_type": "markdown",
   "metadata": {},
   "source": [
    "| Date | User | Change Type | Remarks |  \n",
    "| ---- | ---- | ----------- | ------- |\n",
    "| 05/09/2025   | Prathik | Created   | Created to perform alternative preprocessing and data understanding for patient data| \n",
    "| 17/09/2025   | Prathik | New   | Completed cleaning for patient data and pushed to main branch in repo |"
   ]
  },
  {
   "cell_type": "markdown",
   "metadata": {},
   "source": [
    "# Import All Necessary Libraries"
   ]
  },
  {
   "cell_type": "code",
   "execution_count": 17,
   "metadata": {},
   "outputs": [],
   "source": [
    "import pandas as pd\n",
    "import seaborn as sns\n",
    "import matplotlib.pyplot as plt\n",
    "from io import StringIO\n",
    "import os\n",
    "import json\n",
    "from collections import OrderedDict\n",
    "import pickle"
   ]
  },
  {
   "cell_type": "markdown",
   "metadata": {},
   "source": [
    "# Preprocess JSON"
   ]
  },
  {
   "cell_type": "code",
   "execution_count": 23,
   "metadata": {},
   "outputs": [],
   "source": [
    "# readin json file\n",
    "path = \"../data/raw\"\n",
    "patient = pd.read_json(f\"{path}/Patient.ndjson\", lines=True)"
   ]
  },
  {
   "cell_type": "code",
   "execution_count": 9,
   "metadata": {},
   "outputs": [
    {
     "name": "stdout",
     "output_type": "stream",
     "text": [
      "keys: Index(['address', 'birthDate', 'deceasedBoolean', 'extension', 'gender', 'id',\n",
      "       'identifier', 'meta', 'name', 'resourceType', 'deceasedDateTime'],\n",
      "      dtype='object')\n"
     ]
    }
   ],
   "source": [
    "print(f\"keys: {patient.keys()}\")"
   ]
  },
  {
   "cell_type": "code",
   "execution_count": 12,
   "metadata": {},
   "outputs": [
    {
     "data": {
      "text/plain": [
       "[{'system': 'https://bluebutton.cms.gov/resources/variables/bene_id',\n",
       "  'type': {'coding': [{'code': 'MB',\n",
       "     'display': 'Member Number',\n",
       "     'system': 'http://terminology.hl7.org/CodeSystem/v2-0203'}]},\n",
       "  'value': '-10000000009392'},\n",
       " {'system': 'http://hl7.org/fhir/sid/us-mbi',\n",
       "  'type': {'coding': [{'code': 'MC',\n",
       "     'display': \"Patient's Medicare number\",\n",
       "     'extension': [{'url': 'https://bluebutton.cms.gov/resources/codesystem/identifier-currency',\n",
       "       'valueCoding': {'code': 'current',\n",
       "        'display': 'Current',\n",
       "        'system': 'https://bluebutton.cms.gov/resources/codesystem/identifier-currency'}}],\n",
       "     'system': 'http://terminology.hl7.org/CodeSystem/v2-0203'}]},\n",
       "  'value': '1S00E00FR92'}]"
      ]
     },
     "execution_count": 12,
     "metadata": {},
     "output_type": "execute_result"
    }
   ],
   "source": [
    "patient.identifier[0]"
   ]
  },
  {
   "cell_type": "code",
   "execution_count": 19,
   "metadata": {},
   "outputs": [],
   "source": [
    "# with open('data/raw/Patient.ndjson', 'r') as f:\n",
    "#     patient_df = pd.read_json(StringIO(f.read()), lines=True)\n",
    "\n",
    "def flatten_json(nested_json, prefix=''):\n",
    "    \"\"\"\n",
    "    Recursively flattens a nested JSON object or dictionary into a single level.\n",
    "\n",
    "    Notes:\n",
    "        - Nested dictionaries and lists are flattened such that keys from deeper levels\n",
    "          in the hierarchy are concatenated with underscores\n",
    "        - Lists of dictionaries are handled by appending index numbers to the keys.\n",
    "        - Non-dict lists are serialized using JSON encoding\n",
    "        - Returns OrderedDict, a flattened version of the input json, where keys represent\n",
    "          the nested structure and values are the corresponding data\n",
    "    \"\"\"\n",
    "    out = OrderedDict()\n",
    "    for key, value in nested_json.items():\n",
    "        if isinstance(value, dict):\n",
    "            # Recursively flatten nested dictionaries\n",
    "            out.update(flatten_json(value, prefix + key + '_'))\n",
    "        elif isinstance(value, list):\n",
    "            if len(value) > 0:\n",
    "                if isinstance(value[0], dict):\n",
    "                    # Handle list of dictionaries by flattening each item\n",
    "                    for i, item in enumerate(value):\n",
    "                        out.update(flatten_json(item, prefix + key + '_' + str(i) + '_'))\n",
    "                else:\n",
    "                    # Non-dict lists are serialized into a JSON string\n",
    "                    out[prefix + key] = json.dumps(value)\n",
    "            else:\n",
    "                # Empty lists are serialized as JSON strings\n",
    "                out[prefix + key] = json.dumps(value)\n",
    "        else:\n",
    "            # Base case: key-value pair where value is not a list or dict\n",
    "            out[prefix + key] = value\n",
    "    return out\n",
    "\n",
    "def process_dataframe(df):\n",
    "    \"\"\"\n",
    "    Processes a pandas DataFrame by flattening any JSON-like data (dictionaries or lists)\n",
    "    present in its columns and converting it into a new DataFrame.\n",
    "\n",
    "    Notes:\n",
    "        - The function iterates through each row and flattens any JSON-like data (dictionaries or lists)\n",
    "        - Non-nested data is left unchanged\n",
    "        - The resulting DataFrame will contain a combination of original columns and\n",
    "          additional columns derived from the flattened structure\n",
    "        - Returns a new pandas DataFrame with the flattened data\n",
    "    \"\"\"\n",
    "    flattened_data = []\n",
    "    for _, row in df.iterrows():\n",
    "        flattened_row = {}\n",
    "        for column, value in row.items():\n",
    "            if isinstance(value, (dict, list)):\n",
    "                # Flatten any dictionary or list\n",
    "                flattened = flatten_json({column: value})\n",
    "                flattened_row.update(flattened)\n",
    "            else:\n",
    "                # Keep non-nested columns unchanged\n",
    "                flattened_row[column] = value\n",
    "        flattened_data.append(flattened_row)\n",
    "    return pd.DataFrame(flattened_data)\n",
    "\n",
    "# Flatten patient_df\n",
    "#flat_patient_df = process_dataframe(patient_df)\n",
    "\n"
   ]
  },
  {
   "cell_type": "code",
   "execution_count": 24,
   "metadata": {},
   "outputs": [],
   "source": [
    "# Flatten patient_df\n",
    "flat_patient_df = process_dataframe(patient)"
   ]
  },
  {
   "cell_type": "code",
   "execution_count": 21,
   "metadata": {},
   "outputs": [
    {
     "data": {
      "text/plain": [
       "5000"
      ]
     },
     "execution_count": 21,
     "metadata": {},
     "output_type": "execute_result"
    }
   ],
   "source": [
    "len(flat_patient_df)"
   ]
  },
  {
   "cell_type": "code",
   "execution_count": 22,
   "metadata": {},
   "outputs": [],
   "source": [
    "# Preprocess other columns\n",
    "flat_patient_df['patient_medicare_number'] = flat_patient_df['identifier_1_value']\n",
    "flat_patient_df['patient_number'] = flat_patient_df['identifier_0_value'].str.replace(r'[-]', '', regex=True)\n",
    "flat_patient_df['patient_first_name'] = flat_patient_df['name_0_given'].str.replace(r'[ \\[ \\]\"]', '', regex=True)\n",
    "flat_patient_df['patient_last_name'] = flat_patient_df['name_0_family']"
   ]
  },
  {
   "cell_type": "code",
   "execution_count": 6,
   "metadata": {},
   "outputs": [
    {
     "name": "stdout",
     "output_type": "stream",
     "text": [
      "address_0_state\n",
      "birthDate\n",
      "deceasedBoolean\n",
      "extension_0_url\n",
      "extension_0_valueCode\n",
      "extension_1_url\n",
      "extension_1_valueCoding_code\n",
      "extension_1_valueCoding_display\n",
      "extension_1_valueCoding_system\n",
      "extension_2_extension_0_url\n",
      "extension_2_extension_0_valueCoding_code\n",
      "extension_2_extension_0_valueCoding_display\n",
      "extension_2_extension_0_valueCoding_system\n",
      "extension_2_extension_1_url\n",
      "extension_2_extension_1_valueString\n",
      "extension_2_url\n",
      "extension_3_url\n",
      "extension_3_valueDate\n",
      "gender\n",
      "id\n",
      "identifier_0_system\n",
      "identifier_0_type_coding_0_code\n",
      "identifier_0_type_coding_0_display\n",
      "identifier_0_type_coding_0_system\n",
      "identifier_0_value\n",
      "identifier_1_system\n",
      "identifier_1_type_coding_0_code\n",
      "identifier_1_type_coding_0_display\n",
      "identifier_1_type_coding_0_extension_0_url\n",
      "identifier_1_type_coding_0_extension_0_valueCoding_code\n",
      "identifier_1_type_coding_0_extension_0_valueCoding_display\n",
      "identifier_1_type_coding_0_extension_0_valueCoding_system\n",
      "identifier_1_type_coding_0_system\n",
      "identifier_1_value\n",
      "meta_lastUpdated\n",
      "meta_profile\n",
      "name_0_family\n",
      "name_0_given\n",
      "name_0_use\n",
      "resourceType\n",
      "deceasedDateTime\n",
      "address_0_postalCode\n",
      "identifier_2_system\n",
      "identifier_2_type_coding_0_code\n",
      "identifier_2_type_coding_0_display\n",
      "identifier_2_type_coding_0_extension_0_url\n",
      "identifier_2_type_coding_0_extension_0_valueCoding_code\n",
      "identifier_2_type_coding_0_extension_0_valueCoding_display\n",
      "identifier_2_type_coding_0_extension_0_valueCoding_system\n",
      "identifier_2_type_coding_0_system\n",
      "identifier_2_value\n",
      "patient_medicare_number\n",
      "patient_number\n",
      "patient_first_name\n",
      "patient_last_name\n",
      "\n",
      "original json file had 14 columns and now the dataset contains 55\n"
     ]
    }
   ],
   "source": [
    "##print(f\" list of columns in unnested dataset {flat_patient_df.columns}\")\n",
    "for col in flat_patient_df.columns:\n",
    "    print(col)\n",
    "print(f\"\\noriginal json file had 11 columns and now the dataset contains {len(list(flat_patient_df.columns))}\")"
   ]
  },
  {
   "cell_type": "markdown",
   "metadata": {},
   "source": [
    "## Patient Data\n",
    "\n",
    "__Columns__\n",
    "\n",
    "- `address` - Address information of patient\n",
    "- `birthDate` - Birth date of patient\n",
    "- `deceasedBoolean` - Boolean flag marking if patient is deceased\n",
    "- `extension` - Patient ID (dropped)\n",
    "- `gender` - Gender of patient\n",
    "- `id` - Patient ID\n",
    "- `identifier` - Includes Patient and Medicare numbers for patient, and indicates active plans\n",
    "- `meta` - Date when record was last updated\n",
    "- `name` - Current status of the coverage (active | cancelled | draft | entered-in-error)\n",
    "- `resourceType` - Identifier for data type (Patient for this data)\n",
    "- `deceasedDateTime` - Date and time at which patient deceased(contingent on if patient is deceased, otherwise NaN)"
   ]
  },
  {
   "cell_type": "markdown",
   "metadata": {},
   "source": [
    "# Print Unflattened Patient Dataframe"
   ]
  },
  {
   "cell_type": "code",
   "execution_count": 4,
   "metadata": {},
   "outputs": [],
   "source": [
    "#pd.read_json(f\"data/Patient.ndjson\", lines=True)"
   ]
  },
  {
   "cell_type": "markdown",
   "metadata": {},
   "source": [
    "# Print Flattened Patient Dataframe"
   ]
  },
  {
   "cell_type": "code",
   "execution_count": 15,
   "metadata": {},
   "outputs": [],
   "source": [
    "#print(flat_patient_df.to_string())"
   ]
  },
  {
   "cell_type": "code",
   "execution_count": 5,
   "metadata": {},
   "outputs": [
    {
     "data": {
      "text/plain": [
       "2"
      ]
     },
     "execution_count": 5,
     "metadata": {},
     "output_type": "execute_result"
    }
   ],
   "source": [
    "flat_patient_df['extension_0_valueCode'].nunique()"
   ]
  },
  {
   "cell_type": "code",
   "execution_count": 7,
   "metadata": {},
   "outputs": [
    {
     "data": {
      "text/html": [
       "<div>\n",
       "<style scoped>\n",
       "    .dataframe tbody tr th:only-of-type {\n",
       "        vertical-align: middle;\n",
       "    }\n",
       "\n",
       "    .dataframe tbody tr th {\n",
       "        vertical-align: top;\n",
       "    }\n",
       "\n",
       "    .dataframe thead th {\n",
       "        text-align: right;\n",
       "    }\n",
       "</style>\n",
       "<table border=\"1\" class=\"dataframe\">\n",
       "  <thead>\n",
       "    <tr style=\"text-align: right;\">\n",
       "      <th></th>\n",
       "      <th>address_0_state</th>\n",
       "      <th>birthDate</th>\n",
       "      <th>deceasedBoolean</th>\n",
       "      <th>extension_0_url</th>\n",
       "      <th>extension_0_valueCode</th>\n",
       "      <th>extension_1_url</th>\n",
       "      <th>extension_1_valueCoding_code</th>\n",
       "      <th>extension_1_valueCoding_display</th>\n",
       "      <th>extension_1_valueCoding_system</th>\n",
       "      <th>extension_2_extension_0_url</th>\n",
       "      <th>...</th>\n",
       "      <th>identifier_2_type_coding_0_extension_0_url</th>\n",
       "      <th>identifier_2_type_coding_0_extension_0_valueCoding_code</th>\n",
       "      <th>identifier_2_type_coding_0_extension_0_valueCoding_display</th>\n",
       "      <th>identifier_2_type_coding_0_extension_0_valueCoding_system</th>\n",
       "      <th>identifier_2_type_coding_0_system</th>\n",
       "      <th>identifier_2_value</th>\n",
       "      <th>patient_medicare_number</th>\n",
       "      <th>patient_number</th>\n",
       "      <th>patient_first_name</th>\n",
       "      <th>patient_last_name</th>\n",
       "    </tr>\n",
       "  </thead>\n",
       "  <tbody>\n",
       "    <tr>\n",
       "      <th>0</th>\n",
       "      <td>22</td>\n",
       "      <td>1953-10-12</td>\n",
       "      <td>0.0</td>\n",
       "      <td>http://hl7.org/fhir/us/core/StructureDefinitio...</td>\n",
       "      <td>248152002</td>\n",
       "      <td>https://bluebutton.cms.gov/resources/variables...</td>\n",
       "      <td>1</td>\n",
       "      <td>White</td>\n",
       "      <td>https://bluebutton.cms.gov/resources/variables...</td>\n",
       "      <td>ombCategory</td>\n",
       "      <td>...</td>\n",
       "      <td>NaN</td>\n",
       "      <td>NaN</td>\n",
       "      <td>NaN</td>\n",
       "      <td>NaN</td>\n",
       "      <td>NaN</td>\n",
       "      <td>NaN</td>\n",
       "      <td>1S00E00FR92</td>\n",
       "      <td>10000000009392</td>\n",
       "      <td>Mina319</td>\n",
       "      <td>Mohr916</td>\n",
       "    </tr>\n",
       "    <tr>\n",
       "      <th>1</th>\n",
       "      <td>22</td>\n",
       "      <td>1946-03-01</td>\n",
       "      <td>0.0</td>\n",
       "      <td>http://hl7.org/fhir/us/core/StructureDefinitio...</td>\n",
       "      <td>248152002</td>\n",
       "      <td>https://bluebutton.cms.gov/resources/variables...</td>\n",
       "      <td>1</td>\n",
       "      <td>White</td>\n",
       "      <td>https://bluebutton.cms.gov/resources/variables...</td>\n",
       "      <td>ombCategory</td>\n",
       "      <td>...</td>\n",
       "      <td>NaN</td>\n",
       "      <td>NaN</td>\n",
       "      <td>NaN</td>\n",
       "      <td>NaN</td>\n",
       "      <td>NaN</td>\n",
       "      <td>NaN</td>\n",
       "      <td>1S00E00AK52</td>\n",
       "      <td>10000000000852</td>\n",
       "      <td>Leda374</td>\n",
       "      <td>Kshlerin58</td>\n",
       "    </tr>\n",
       "    <tr>\n",
       "      <th>2</th>\n",
       "      <td>22</td>\n",
       "      <td>1947-08-31</td>\n",
       "      <td>0.0</td>\n",
       "      <td>http://hl7.org/fhir/us/core/StructureDefinitio...</td>\n",
       "      <td>248153007</td>\n",
       "      <td>https://bluebutton.cms.gov/resources/variables...</td>\n",
       "      <td>2</td>\n",
       "      <td>Black</td>\n",
       "      <td>https://bluebutton.cms.gov/resources/variables...</td>\n",
       "      <td>ombCategory</td>\n",
       "      <td>...</td>\n",
       "      <td>NaN</td>\n",
       "      <td>NaN</td>\n",
       "      <td>NaN</td>\n",
       "      <td>NaN</td>\n",
       "      <td>NaN</td>\n",
       "      <td>NaN</td>\n",
       "      <td>1S00E00FU79</td>\n",
       "      <td>10000000009579</td>\n",
       "      <td>Jeromy156</td>\n",
       "      <td>Morissette863</td>\n",
       "    </tr>\n",
       "    <tr>\n",
       "      <th>3</th>\n",
       "      <td>22</td>\n",
       "      <td>1952-01-13</td>\n",
       "      <td>0.0</td>\n",
       "      <td>http://hl7.org/fhir/us/core/StructureDefinitio...</td>\n",
       "      <td>248153007</td>\n",
       "      <td>https://bluebutton.cms.gov/resources/variables...</td>\n",
       "      <td>5</td>\n",
       "      <td>Hispanic</td>\n",
       "      <td>https://bluebutton.cms.gov/resources/variables...</td>\n",
       "      <td>ombCategory</td>\n",
       "      <td>...</td>\n",
       "      <td>NaN</td>\n",
       "      <td>NaN</td>\n",
       "      <td>NaN</td>\n",
       "      <td>NaN</td>\n",
       "      <td>NaN</td>\n",
       "      <td>NaN</td>\n",
       "      <td>1S00E00CY77</td>\n",
       "      <td>10000000003977</td>\n",
       "      <td>Sergio619</td>\n",
       "      <td>Vanegas191</td>\n",
       "    </tr>\n",
       "    <tr>\n",
       "      <th>4</th>\n",
       "      <td>22</td>\n",
       "      <td>1943-10-05</td>\n",
       "      <td>0.0</td>\n",
       "      <td>http://hl7.org/fhir/us/core/StructureDefinitio...</td>\n",
       "      <td>248153007</td>\n",
       "      <td>https://bluebutton.cms.gov/resources/variables...</td>\n",
       "      <td>1</td>\n",
       "      <td>White</td>\n",
       "      <td>https://bluebutton.cms.gov/resources/variables...</td>\n",
       "      <td>ombCategory</td>\n",
       "      <td>...</td>\n",
       "      <td>NaN</td>\n",
       "      <td>NaN</td>\n",
       "      <td>NaN</td>\n",
       "      <td>NaN</td>\n",
       "      <td>NaN</td>\n",
       "      <td>NaN</td>\n",
       "      <td>1S00E00AY95</td>\n",
       "      <td>10000000001995</td>\n",
       "      <td>Fernando603</td>\n",
       "      <td>Aufderhar910</td>\n",
       "    </tr>\n",
       "  </tbody>\n",
       "</table>\n",
       "<p>5 rows × 55 columns</p>\n",
       "</div>"
      ],
      "text/plain": [
       "  address_0_state   birthDate  deceasedBoolean  \\\n",
       "0              22  1953-10-12              0.0   \n",
       "1              22  1946-03-01              0.0   \n",
       "2              22  1947-08-31              0.0   \n",
       "3              22  1952-01-13              0.0   \n",
       "4              22  1943-10-05              0.0   \n",
       "\n",
       "                                     extension_0_url extension_0_valueCode  \\\n",
       "0  http://hl7.org/fhir/us/core/StructureDefinitio...             248152002   \n",
       "1  http://hl7.org/fhir/us/core/StructureDefinitio...             248152002   \n",
       "2  http://hl7.org/fhir/us/core/StructureDefinitio...             248153007   \n",
       "3  http://hl7.org/fhir/us/core/StructureDefinitio...             248153007   \n",
       "4  http://hl7.org/fhir/us/core/StructureDefinitio...             248153007   \n",
       "\n",
       "                                     extension_1_url  \\\n",
       "0  https://bluebutton.cms.gov/resources/variables...   \n",
       "1  https://bluebutton.cms.gov/resources/variables...   \n",
       "2  https://bluebutton.cms.gov/resources/variables...   \n",
       "3  https://bluebutton.cms.gov/resources/variables...   \n",
       "4  https://bluebutton.cms.gov/resources/variables...   \n",
       "\n",
       "  extension_1_valueCoding_code extension_1_valueCoding_display  \\\n",
       "0                            1                           White   \n",
       "1                            1                           White   \n",
       "2                            2                           Black   \n",
       "3                            5                        Hispanic   \n",
       "4                            1                           White   \n",
       "\n",
       "                      extension_1_valueCoding_system  \\\n",
       "0  https://bluebutton.cms.gov/resources/variables...   \n",
       "1  https://bluebutton.cms.gov/resources/variables...   \n",
       "2  https://bluebutton.cms.gov/resources/variables...   \n",
       "3  https://bluebutton.cms.gov/resources/variables...   \n",
       "4  https://bluebutton.cms.gov/resources/variables...   \n",
       "\n",
       "  extension_2_extension_0_url  ... identifier_2_type_coding_0_extension_0_url  \\\n",
       "0                 ombCategory  ...                                        NaN   \n",
       "1                 ombCategory  ...                                        NaN   \n",
       "2                 ombCategory  ...                                        NaN   \n",
       "3                 ombCategory  ...                                        NaN   \n",
       "4                 ombCategory  ...                                        NaN   \n",
       "\n",
       "  identifier_2_type_coding_0_extension_0_valueCoding_code  \\\n",
       "0                                                NaN        \n",
       "1                                                NaN        \n",
       "2                                                NaN        \n",
       "3                                                NaN        \n",
       "4                                                NaN        \n",
       "\n",
       "  identifier_2_type_coding_0_extension_0_valueCoding_display  \\\n",
       "0                                                NaN           \n",
       "1                                                NaN           \n",
       "2                                                NaN           \n",
       "3                                                NaN           \n",
       "4                                                NaN           \n",
       "\n",
       "  identifier_2_type_coding_0_extension_0_valueCoding_system  \\\n",
       "0                                                NaN          \n",
       "1                                                NaN          \n",
       "2                                                NaN          \n",
       "3                                                NaN          \n",
       "4                                                NaN          \n",
       "\n",
       "  identifier_2_type_coding_0_system identifier_2_value  \\\n",
       "0                               NaN                NaN   \n",
       "1                               NaN                NaN   \n",
       "2                               NaN                NaN   \n",
       "3                               NaN                NaN   \n",
       "4                               NaN                NaN   \n",
       "\n",
       "  patient_medicare_number  patient_number patient_first_name  \\\n",
       "0             1S00E00FR92  10000000009392            Mina319   \n",
       "1             1S00E00AK52  10000000000852            Leda374   \n",
       "2             1S00E00FU79  10000000009579          Jeromy156   \n",
       "3             1S00E00CY77  10000000003977          Sergio619   \n",
       "4             1S00E00AY95  10000000001995        Fernando603   \n",
       "\n",
       "   patient_last_name  \n",
       "0            Mohr916  \n",
       "1         Kshlerin58  \n",
       "2      Morissette863  \n",
       "3         Vanegas191  \n",
       "4       Aufderhar910  \n",
       "\n",
       "[5 rows x 55 columns]"
      ]
     },
     "execution_count": 7,
     "metadata": {},
     "output_type": "execute_result"
    }
   ],
   "source": [
    "# take a look at the dataset\n",
    "flat_patient_df.head()"
   ]
  },
  {
   "cell_type": "code",
   "execution_count": 25,
   "metadata": {},
   "outputs": [],
   "source": [
    "# save to pickle\n",
    "flat_patient_df.to_pickle(\"../data/clean/patient.pkl\")"
   ]
  },
  {
   "cell_type": "code",
   "execution_count": null,
   "metadata": {},
   "outputs": [],
   "source": []
  }
 ],
 "metadata": {
  "kernelspec": {
   "display_name": ".venv (3.13.7)",
   "language": "python",
   "name": "python3"
  },
  "language_info": {
   "codemirror_mode": {
    "name": "ipython",
    "version": 3
   },
   "file_extension": ".py",
   "mimetype": "text/x-python",
   "name": "python",
   "nbconvert_exporter": "python",
   "pygments_lexer": "ipython3",
   "version": "3.13.7"
  },
  "orig_nbformat": 4
 },
 "nbformat": 4,
 "nbformat_minor": 2
}
