{
 "cells": [
  {
   "cell_type": "markdown",
   "id": "954e474f",
   "metadata": {},
   "source": [
    "# Creating Secondary Datasets\n",
    "## 00_create_secondary_datasets"
   ]
  },
  {
   "cell_type": "markdown",
   "id": "c8614426",
   "metadata": {},
   "source": [
    "| Date | User | Change Type | Remarks |  \n",
    "| ---- | ---- | ----------- | ------- |\n",
    "| 28/09/2025 | Adrienne | Created | Write code to create secondary datasets | \n",
    "| 02/10/2025 | Adrienne | Updated | Moved code for code ranges to 00_create_mappers |\n",
    "| 13/10/2025 | Martin | Updated | Code cleanup |"
   ]
  },
  {
   "cell_type": "markdown",
   "id": "2d976057",
   "metadata": {},
   "source": [
    "## Content\n",
    "\n",
    "* [Introduction](#introduction)\n",
    "* [Create DRG Dataset](#create-drg-dataset)\n",
    "* [Create HCPCS Dataset](#create-hcpcs-Dataset)\n",
    "* [Create ICD-10 Dataset](#create-icd-10-dataset)\n"
   ]
  },
  {
   "cell_type": "markdown",
   "id": "9d9b218f",
   "metadata": {},
   "source": [
    "## Introduction\n",
    "\n",
    "The secondary datasets map DRG, HCPCS and ICD-10 codes to the their respective decisions. No additional logic was added, this only serves to unify the formatting"
   ]
  },
  {
   "cell_type": "code",
   "execution_count": 1,
   "id": "bc811d33",
   "metadata": {},
   "outputs": [],
   "source": [
    "import pandas as pd\n",
    "import numpy as np\n",
    "import re"
   ]
  },
  {
   "cell_type": "code",
   "execution_count": 2,
   "id": "82679d3b",
   "metadata": {},
   "outputs": [],
   "source": [
    "# Path to raw excel files\n",
    "path = \"../data/raw\""
   ]
  },
  {
   "cell_type": "markdown",
   "id": "7215b857",
   "metadata": {},
   "source": [
    "## Create DRG Dataset"
   ]
  },
  {
   "cell_type": "code",
   "execution_count": 3,
   "id": "786259a7",
   "metadata": {},
   "outputs": [],
   "source": [
    "drg_df = pd.read_excel(f\"{path}/DRG_MDC_Code_List.xlsx\", dtype=str)"
   ]
  },
  {
   "cell_type": "code",
   "execution_count": 4,
   "id": "5b5d4664",
   "metadata": {},
   "outputs": [
    {
     "data": {
      "text/html": [
       "<div>\n",
       "<style scoped>\n",
       "    .dataframe tbody tr th:only-of-type {\n",
       "        vertical-align: middle;\n",
       "    }\n",
       "\n",
       "    .dataframe tbody tr th {\n",
       "        vertical-align: top;\n",
       "    }\n",
       "\n",
       "    .dataframe thead th {\n",
       "        text-align: right;\n",
       "    }\n",
       "</style>\n",
       "<table border=\"1\" class=\"dataframe\">\n",
       "  <thead>\n",
       "    <tr style=\"text-align: right;\">\n",
       "      <th></th>\n",
       "      <th>DRG</th>\n",
       "      <th>MDC</th>\n",
       "      <th>DRG_description</th>\n",
       "      <th>MDC_description</th>\n",
       "    </tr>\n",
       "  </thead>\n",
       "  <tbody>\n",
       "    <tr>\n",
       "      <th>755</th>\n",
       "      <td>983</td>\n",
       "      <td>Extensive O.R. procedure unrelated to principa...</td>\n",
       "      <td>NaN</td>\n",
       "      <td>NaN</td>\n",
       "    </tr>\n",
       "    <tr>\n",
       "      <th>756</th>\n",
       "      <td>987</td>\n",
       "      <td>Non-extensive O.R. procedure unrelated to prin...</td>\n",
       "      <td>NaN</td>\n",
       "      <td>NaN</td>\n",
       "    </tr>\n",
       "    <tr>\n",
       "      <th>757</th>\n",
       "      <td>988</td>\n",
       "      <td>Non-extensive O.R. procedure unrelated to prin...</td>\n",
       "      <td>NaN</td>\n",
       "      <td>NaN</td>\n",
       "    </tr>\n",
       "    <tr>\n",
       "      <th>758</th>\n",
       "      <td>989</td>\n",
       "      <td>Non-extensive O.R. procedure unrelated to prin...</td>\n",
       "      <td>NaN</td>\n",
       "      <td>NaN</td>\n",
       "    </tr>\n",
       "    <tr>\n",
       "      <th>759</th>\n",
       "      <td>998</td>\n",
       "      <td>Principal diagnosis invalid as discharge diagn...</td>\n",
       "      <td>NaN</td>\n",
       "      <td>NaN</td>\n",
       "    </tr>\n",
       "  </tbody>\n",
       "</table>\n",
       "</div>"
      ],
      "text/plain": [
       "     DRG                                                MDC DRG_description  \\\n",
       "755  983  Extensive O.R. procedure unrelated to principa...             NaN   \n",
       "756  987  Non-extensive O.R. procedure unrelated to prin...             NaN   \n",
       "757  988  Non-extensive O.R. procedure unrelated to prin...             NaN   \n",
       "758  989  Non-extensive O.R. procedure unrelated to prin...             NaN   \n",
       "759  998  Principal diagnosis invalid as discharge diagn...             NaN   \n",
       "\n",
       "    MDC_description  \n",
       "755             NaN  \n",
       "756             NaN  \n",
       "757             NaN  \n",
       "758             NaN  \n",
       "759             NaN  "
      ]
     },
     "execution_count": 4,
     "metadata": {},
     "output_type": "execute_result"
    }
   ],
   "source": [
    "drg_df.tail()"
   ]
  },
  {
   "cell_type": "markdown",
   "id": "fcfa62dc",
   "metadata": {},
   "source": [
    "## Create HCPCS Dataset"
   ]
  },
  {
   "cell_type": "code",
   "execution_count": 6,
   "id": "286e0ee8",
   "metadata": {},
   "outputs": [],
   "source": [
    "hcpcs_df = pd.read_excel(f\"{path}/HCPCS codes updated 2025.xlsx\", dtype=str)"
   ]
  },
  {
   "cell_type": "code",
   "execution_count": 7,
   "id": "674ba36a",
   "metadata": {},
   "outputs": [
    {
     "data": {
      "text/html": [
       "<div>\n",
       "<style scoped>\n",
       "    .dataframe tbody tr th:only-of-type {\n",
       "        vertical-align: middle;\n",
       "    }\n",
       "\n",
       "    .dataframe tbody tr th {\n",
       "        vertical-align: top;\n",
       "    }\n",
       "\n",
       "    .dataframe thead th {\n",
       "        text-align: right;\n",
       "    }\n",
       "</style>\n",
       "<table border=\"1\" class=\"dataframe\">\n",
       "  <thead>\n",
       "    <tr style=\"text-align: right;\">\n",
       "      <th></th>\n",
       "      <th>Code</th>\n",
       "      <th>Description</th>\n",
       "    </tr>\n",
       "  </thead>\n",
       "  <tbody>\n",
       "    <tr>\n",
       "      <th>8382</th>\n",
       "      <td>V5299</td>\n",
       "      <td>Hearing service, miscellaneous</td>\n",
       "    </tr>\n",
       "    <tr>\n",
       "      <th>8383</th>\n",
       "      <td>V5336</td>\n",
       "      <td>Repair/modification of augmentative communicat...</td>\n",
       "    </tr>\n",
       "    <tr>\n",
       "      <th>8384</th>\n",
       "      <td>V5362</td>\n",
       "      <td>Speech screening</td>\n",
       "    </tr>\n",
       "    <tr>\n",
       "      <th>8385</th>\n",
       "      <td>V5363</td>\n",
       "      <td>Language screening</td>\n",
       "    </tr>\n",
       "    <tr>\n",
       "      <th>8386</th>\n",
       "      <td>V5364</td>\n",
       "      <td>Dysphagia screening</td>\n",
       "    </tr>\n",
       "  </tbody>\n",
       "</table>\n",
       "</div>"
      ],
      "text/plain": [
       "       Code                                        Description\n",
       "8382  V5299                     Hearing service, miscellaneous\n",
       "8383  V5336  Repair/modification of augmentative communicat...\n",
       "8384  V5362                                   Speech screening\n",
       "8385  V5363                                 Language screening\n",
       "8386  V5364                                Dysphagia screening"
      ]
     },
     "execution_count": 7,
     "metadata": {},
     "output_type": "execute_result"
    }
   ],
   "source": [
    "hcpcs_df.tail()"
   ]
  },
  {
   "cell_type": "markdown",
   "id": "d92b0b2c",
   "metadata": {},
   "source": [
    "## Create ICD-10 Dataset"
   ]
  },
  {
   "cell_type": "code",
   "execution_count": 7,
   "id": "d9f9603b",
   "metadata": {},
   "outputs": [],
   "source": [
    "icd10_df = pd.read_excel(f\"{path}/section111validicd10-jan2025_0.xlsx\", dtype=str)"
   ]
  },
  {
   "cell_type": "code",
   "execution_count": 8,
   "id": "3c869db7",
   "metadata": {},
   "outputs": [
    {
     "data": {
      "text/html": [
       "<div>\n",
       "<style scoped>\n",
       "    .dataframe tbody tr th:only-of-type {\n",
       "        vertical-align: middle;\n",
       "    }\n",
       "\n",
       "    .dataframe tbody tr th {\n",
       "        vertical-align: top;\n",
       "    }\n",
       "\n",
       "    .dataframe thead th {\n",
       "        text-align: right;\n",
       "    }\n",
       "</style>\n",
       "<table border=\"1\" class=\"dataframe\">\n",
       "  <thead>\n",
       "    <tr style=\"text-align: right;\">\n",
       "      <th></th>\n",
       "      <th>CODE</th>\n",
       "      <th>SHORT DESCRIPTION</th>\n",
       "      <th>LONG DESCRIPTION</th>\n",
       "      <th>NF EXCL</th>\n",
       "    </tr>\n",
       "  </thead>\n",
       "  <tbody>\n",
       "    <tr>\n",
       "      <th>0</th>\n",
       "      <td>A000</td>\n",
       "      <td>Cholera due to Vibrio cholerae 01, biovar chol...</td>\n",
       "      <td>Cholera due to Vibrio cholerae 01, biovar chol...</td>\n",
       "      <td>NaN</td>\n",
       "    </tr>\n",
       "    <tr>\n",
       "      <th>1</th>\n",
       "      <td>A001</td>\n",
       "      <td>Cholera due to Vibrio cholerae 01, biovar eltor</td>\n",
       "      <td>Cholera due to Vibrio cholerae 01, biovar eltor</td>\n",
       "      <td>NaN</td>\n",
       "    </tr>\n",
       "    <tr>\n",
       "      <th>2</th>\n",
       "      <td>A009</td>\n",
       "      <td>Cholera, unspecified</td>\n",
       "      <td>Cholera, unspecified</td>\n",
       "      <td>NaN</td>\n",
       "    </tr>\n",
       "    <tr>\n",
       "      <th>3</th>\n",
       "      <td>A0100</td>\n",
       "      <td>Typhoid fever, unspecified</td>\n",
       "      <td>Typhoid fever, unspecified</td>\n",
       "      <td>NaN</td>\n",
       "    </tr>\n",
       "    <tr>\n",
       "      <th>4</th>\n",
       "      <td>A0101</td>\n",
       "      <td>Typhoid meningitis</td>\n",
       "      <td>Typhoid meningitis</td>\n",
       "      <td>NaN</td>\n",
       "    </tr>\n",
       "  </tbody>\n",
       "</table>\n",
       "</div>"
      ],
      "text/plain": [
       "    CODE                                  SHORT DESCRIPTION  \\\n",
       "0   A000  Cholera due to Vibrio cholerae 01, biovar chol...   \n",
       "1   A001    Cholera due to Vibrio cholerae 01, biovar eltor   \n",
       "2   A009                               Cholera, unspecified   \n",
       "3  A0100                         Typhoid fever, unspecified   \n",
       "4  A0101                                 Typhoid meningitis   \n",
       "\n",
       "                                    LONG DESCRIPTION NF EXCL  \n",
       "0  Cholera due to Vibrio cholerae 01, biovar chol...     NaN  \n",
       "1    Cholera due to Vibrio cholerae 01, biovar eltor     NaN  \n",
       "2                               Cholera, unspecified     NaN  \n",
       "3                         Typhoid fever, unspecified     NaN  \n",
       "4                                 Typhoid meningitis     NaN  "
      ]
     },
     "execution_count": 8,
     "metadata": {},
     "output_type": "execute_result"
    }
   ],
   "source": [
    "icd10_df.head()"
   ]
  },
  {
   "cell_type": "markdown",
   "id": "811358e6",
   "metadata": {},
   "source": [
    "### Save Datasets"
   ]
  },
  {
   "cell_type": "code",
   "execution_count": 10,
   "id": "9ea667db",
   "metadata": {},
   "outputs": [],
   "source": [
    "mapper_path = \"../data/mappers\"\n",
    "\n",
    "drg_df.to_pickle(f\"{mapper_path}/drg.pkl\")\n",
    "hcpcs_df.to_pickle(f\"{mapper_path}/hcpcs.pkl\")\n",
    "icd10_df.to_pickle(f\"{mapper_path}/icd10.pkl\")"
   ]
  }
 ],
 "metadata": {
  "kernelspec": {
   "display_name": ".venv",
   "language": "python",
   "name": "python3"
  },
  "language_info": {
   "codemirror_mode": {
    "name": "ipython",
    "version": 3
   },
   "file_extension": ".py",
   "mimetype": "text/x-python",
   "name": "python",
   "nbconvert_exporter": "python",
   "pygments_lexer": "ipython3",
   "version": "3.11.9"
  }
 },
 "nbformat": 4,
 "nbformat_minor": 5
}
