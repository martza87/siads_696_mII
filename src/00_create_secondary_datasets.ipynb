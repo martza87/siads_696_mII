{
 "cells": [
  {
   "cell_type": "markdown",
   "id": "954e474f",
   "metadata": {},
   "source": [
    "# Creating Secondary Datasets\n",
    "# 00_create_secondary_datasets"
   ]
  },
  {
   "cell_type": "markdown",
   "id": "c8614426",
   "metadata": {},
   "source": [
    "| Date | User | Change Type | Remarks |  \n",
    "| ---- | ---- | ----------- | ------- |\n",
    "|  28.09.2025  | Adrienne | Create | Write code to create secondary datasets | \n",
    "|    | |   | |"
   ]
  },
  {
   "cell_type": "markdown",
   "id": "2d976057",
   "metadata": {},
   "source": [
    "### Content\n",
    "\n",
    "* [Introduction](#introduction)"
   ]
  },
  {
   "cell_type": "code",
   "execution_count": 1,
   "id": "bc811d33",
   "metadata": {},
   "outputs": [],
   "source": [
    "import pandas as pd\n",
    "import numpy as np\n",
    "import re"
   ]
  },
  {
   "cell_type": "code",
   "execution_count": 2,
   "id": "82679d3b",
   "metadata": {},
   "outputs": [],
   "source": [
    "# Path to raw excel files\n",
    "path = \"../data/raw\""
   ]
  },
  {
   "cell_type": "markdown",
   "id": "7215b857",
   "metadata": {},
   "source": [
    "### Create DRG Code Dataset"
   ]
  },
  {
   "cell_type": "code",
   "execution_count": 16,
   "id": "786259a7",
   "metadata": {},
   "outputs": [],
   "source": [
    "drg_df = pd.read_excel(f\"{path}/DRG_MDC_Code_List.xlsx\", dtype=str)"
   ]
  },
  {
   "cell_type": "code",
   "execution_count": 13,
   "id": "5b5d4664",
   "metadata": {},
   "outputs": [
    {
     "data": {
      "text/html": [
       "<div>\n",
       "<style scoped>\n",
       "    .dataframe tbody tr th:only-of-type {\n",
       "        vertical-align: middle;\n",
       "    }\n",
       "\n",
       "    .dataframe tbody tr th {\n",
       "        vertical-align: top;\n",
       "    }\n",
       "\n",
       "    .dataframe thead th {\n",
       "        text-align: right;\n",
       "    }\n",
       "</style>\n",
       "<table border=\"1\" class=\"dataframe\">\n",
       "  <thead>\n",
       "    <tr style=\"text-align: right;\">\n",
       "      <th></th>\n",
       "      <th>DRG</th>\n",
       "      <th>MDC</th>\n",
       "      <th>DRG_description</th>\n",
       "      <th>MDC_description</th>\n",
       "    </tr>\n",
       "  </thead>\n",
       "  <tbody>\n",
       "    <tr>\n",
       "      <th>755</th>\n",
       "      <td>983</td>\n",
       "      <td>Extensive O.R. procedure unrelated to principa...</td>\n",
       "      <td>NaN</td>\n",
       "      <td>NaN</td>\n",
       "    </tr>\n",
       "    <tr>\n",
       "      <th>756</th>\n",
       "      <td>987</td>\n",
       "      <td>Non-extensive O.R. procedure unrelated to prin...</td>\n",
       "      <td>NaN</td>\n",
       "      <td>NaN</td>\n",
       "    </tr>\n",
       "    <tr>\n",
       "      <th>757</th>\n",
       "      <td>988</td>\n",
       "      <td>Non-extensive O.R. procedure unrelated to prin...</td>\n",
       "      <td>NaN</td>\n",
       "      <td>NaN</td>\n",
       "    </tr>\n",
       "    <tr>\n",
       "      <th>758</th>\n",
       "      <td>989</td>\n",
       "      <td>Non-extensive O.R. procedure unrelated to prin...</td>\n",
       "      <td>NaN</td>\n",
       "      <td>NaN</td>\n",
       "    </tr>\n",
       "    <tr>\n",
       "      <th>759</th>\n",
       "      <td>998</td>\n",
       "      <td>Principal diagnosis invalid as discharge diagn...</td>\n",
       "      <td>NaN</td>\n",
       "      <td>NaN</td>\n",
       "    </tr>\n",
       "  </tbody>\n",
       "</table>\n",
       "</div>"
      ],
      "text/plain": [
       "     DRG                                                MDC DRG_description  \\\n",
       "755  983  Extensive O.R. procedure unrelated to principa...             NaN   \n",
       "756  987  Non-extensive O.R. procedure unrelated to prin...             NaN   \n",
       "757  988  Non-extensive O.R. procedure unrelated to prin...             NaN   \n",
       "758  989  Non-extensive O.R. procedure unrelated to prin...             NaN   \n",
       "759  998  Principal diagnosis invalid as discharge diagn...             NaN   \n",
       "\n",
       "    MDC_description  \n",
       "755             NaN  \n",
       "756             NaN  \n",
       "757             NaN  \n",
       "758             NaN  \n",
       "759             NaN  "
      ]
     },
     "execution_count": 13,
     "metadata": {},
     "output_type": "execute_result"
    }
   ],
   "source": [
    "drg_df.tail()"
   ]
  },
  {
   "cell_type": "markdown",
   "id": "fcfa62dc",
   "metadata": {},
   "source": [
    "### Creating HCPCS Code Dataset"
   ]
  },
  {
   "cell_type": "code",
   "execution_count": 17,
   "id": "286e0ee8",
   "metadata": {},
   "outputs": [],
   "source": [
    "hcpcs_df = pd.read_excel(f\"{path}/HCPCS codes updated 2025.xlsx\", dtype=str)"
   ]
  },
  {
   "cell_type": "code",
   "execution_count": 17,
   "id": "674ba36a",
   "metadata": {},
   "outputs": [
    {
     "data": {
      "text/html": [
       "<div>\n",
       "<style scoped>\n",
       "    .dataframe tbody tr th:only-of-type {\n",
       "        vertical-align: middle;\n",
       "    }\n",
       "\n",
       "    .dataframe tbody tr th {\n",
       "        vertical-align: top;\n",
       "    }\n",
       "\n",
       "    .dataframe thead th {\n",
       "        text-align: right;\n",
       "    }\n",
       "</style>\n",
       "<table border=\"1\" class=\"dataframe\">\n",
       "  <thead>\n",
       "    <tr style=\"text-align: right;\">\n",
       "      <th></th>\n",
       "      <th>Code</th>\n",
       "      <th>Description</th>\n",
       "    </tr>\n",
       "  </thead>\n",
       "  <tbody>\n",
       "    <tr>\n",
       "      <th>8382</th>\n",
       "      <td>V5299</td>\n",
       "      <td>Hearing service, miscellaneous</td>\n",
       "    </tr>\n",
       "    <tr>\n",
       "      <th>8383</th>\n",
       "      <td>V5336</td>\n",
       "      <td>Repair/modification of augmentative communicat...</td>\n",
       "    </tr>\n",
       "    <tr>\n",
       "      <th>8384</th>\n",
       "      <td>V5362</td>\n",
       "      <td>Speech screening</td>\n",
       "    </tr>\n",
       "    <tr>\n",
       "      <th>8385</th>\n",
       "      <td>V5363</td>\n",
       "      <td>Language screening</td>\n",
       "    </tr>\n",
       "    <tr>\n",
       "      <th>8386</th>\n",
       "      <td>V5364</td>\n",
       "      <td>Dysphagia screening</td>\n",
       "    </tr>\n",
       "  </tbody>\n",
       "</table>\n",
       "</div>"
      ],
      "text/plain": [
       "       Code                                        Description\n",
       "8382  V5299                     Hearing service, miscellaneous\n",
       "8383  V5336  Repair/modification of augmentative communicat...\n",
       "8384  V5362                                   Speech screening\n",
       "8385  V5363                                 Language screening\n",
       "8386  V5364                                Dysphagia screening"
      ]
     },
     "execution_count": 17,
     "metadata": {},
     "output_type": "execute_result"
    }
   ],
   "source": [
    "hcpcs_df.tail()"
   ]
  },
  {
   "cell_type": "markdown",
   "id": "faf8911a",
   "metadata": {},
   "source": [
    "HCPCS Code Range Datasets"
   ]
  },
  {
   "cell_type": "code",
   "execution_count": 6,
   "id": "da887eb3",
   "metadata": {},
   "outputs": [],
   "source": [
    "hcpcs_I_range_df = pd.read_excel(f\"{path}/HCPCS Code Ranges.xlsx\", sheet_name='HCPCS Level I', dtype=str)"
   ]
  },
  {
   "cell_type": "code",
   "execution_count": 10,
   "id": "c30083bb",
   "metadata": {},
   "outputs": [
    {
     "data": {
      "text/html": [
       "<div>\n",
       "<style scoped>\n",
       "    .dataframe tbody tr th:only-of-type {\n",
       "        vertical-align: middle;\n",
       "    }\n",
       "\n",
       "    .dataframe tbody tr th {\n",
       "        vertical-align: top;\n",
       "    }\n",
       "\n",
       "    .dataframe thead th {\n",
       "        text-align: right;\n",
       "    }\n",
       "</style>\n",
       "<table border=\"1\" class=\"dataframe\">\n",
       "  <thead>\n",
       "    <tr style=\"text-align: right;\">\n",
       "      <th></th>\n",
       "      <th>code_range_start</th>\n",
       "      <th>code_range_end</th>\n",
       "      <th>range_description</th>\n",
       "    </tr>\n",
       "  </thead>\n",
       "  <tbody>\n",
       "    <tr>\n",
       "      <th>0</th>\n",
       "      <td>99201</td>\n",
       "      <td>99499</td>\n",
       "      <td>Evaluation and Management (E/M) Codes</td>\n",
       "    </tr>\n",
       "    <tr>\n",
       "      <th>1</th>\n",
       "      <td>00100</td>\n",
       "      <td>01999</td>\n",
       "      <td>Anesthesia Codes</td>\n",
       "    </tr>\n",
       "    <tr>\n",
       "      <th>2</th>\n",
       "      <td>99100</td>\n",
       "      <td>99140</td>\n",
       "      <td>Anesthesia Codes</td>\n",
       "    </tr>\n",
       "    <tr>\n",
       "      <th>3</th>\n",
       "      <td>10021</td>\n",
       "      <td>69990</td>\n",
       "      <td>Surgery Codes</td>\n",
       "    </tr>\n",
       "    <tr>\n",
       "      <th>4</th>\n",
       "      <td>70010</td>\n",
       "      <td>79999</td>\n",
       "      <td>Radiology Codes</td>\n",
       "    </tr>\n",
       "  </tbody>\n",
       "</table>\n",
       "</div>"
      ],
      "text/plain": [
       "  code_range_start code_range_end                       range_description\n",
       "0            99201          99499  Evaluation and Management (E/M) Codes \n",
       "1            00100          01999                        Anesthesia Codes\n",
       "2            99100          99140                        Anesthesia Codes\n",
       "3            10021          69990                           Surgery Codes\n",
       "4            70010          79999                         Radiology Codes"
      ]
     },
     "execution_count": 10,
     "metadata": {},
     "output_type": "execute_result"
    }
   ],
   "source": [
    "hcpcs_I_range_df.head()"
   ]
  },
  {
   "cell_type": "code",
   "execution_count": 7,
   "id": "7d7c4344",
   "metadata": {},
   "outputs": [],
   "source": [
    "hcpcs_II_range_df = pd.read_excel(f\"{path}/HCPCS Code Ranges.xlsx\", sheet_name='HCPCS Level II', dtype=str)"
   ]
  },
  {
   "cell_type": "code",
   "execution_count": 11,
   "id": "7865f837",
   "metadata": {},
   "outputs": [
    {
     "data": {
      "text/html": [
       "<div>\n",
       "<style scoped>\n",
       "    .dataframe tbody tr th:only-of-type {\n",
       "        vertical-align: middle;\n",
       "    }\n",
       "\n",
       "    .dataframe tbody tr th {\n",
       "        vertical-align: top;\n",
       "    }\n",
       "\n",
       "    .dataframe thead th {\n",
       "        text-align: right;\n",
       "    }\n",
       "</style>\n",
       "<table border=\"1\" class=\"dataframe\">\n",
       "  <thead>\n",
       "    <tr style=\"text-align: right;\">\n",
       "      <th></th>\n",
       "      <th>code_range_start</th>\n",
       "      <th>code_range_end</th>\n",
       "      <th>range_description</th>\n",
       "    </tr>\n",
       "  </thead>\n",
       "  <tbody>\n",
       "    <tr>\n",
       "      <th>0</th>\n",
       "      <td>A0021</td>\n",
       "      <td>A0999</td>\n",
       "      <td>Ambulance and Other Transport Services and Sup...</td>\n",
       "    </tr>\n",
       "    <tr>\n",
       "      <th>1</th>\n",
       "      <td>A2001</td>\n",
       "      <td>A2029</td>\n",
       "      <td>Matrix for Wound Management (Placental, Equine...</td>\n",
       "    </tr>\n",
       "    <tr>\n",
       "      <th>2</th>\n",
       "      <td>A4100</td>\n",
       "      <td>NaN</td>\n",
       "      <td>Skin Substitute Device</td>\n",
       "    </tr>\n",
       "    <tr>\n",
       "      <th>3</th>\n",
       "      <td>A4206</td>\n",
       "      <td>A8004</td>\n",
       "      <td>Medical And Surgical Supplies</td>\n",
       "    </tr>\n",
       "    <tr>\n",
       "      <th>4</th>\n",
       "      <td>A9150</td>\n",
       "      <td>A9999</td>\n",
       "      <td>Administrative, Miscellaneous and Investigational</td>\n",
       "    </tr>\n",
       "  </tbody>\n",
       "</table>\n",
       "</div>"
      ],
      "text/plain": [
       "  code_range_start code_range_end  \\\n",
       "0            A0021          A0999   \n",
       "1            A2001          A2029   \n",
       "2            A4100            NaN   \n",
       "3            A4206          A8004   \n",
       "4            A9150          A9999   \n",
       "\n",
       "                                   range_description  \n",
       "0  Ambulance and Other Transport Services and Sup...  \n",
       "1  Matrix for Wound Management (Placental, Equine...  \n",
       "2                             Skin Substitute Device  \n",
       "3                      Medical And Surgical Supplies  \n",
       "4  Administrative, Miscellaneous and Investigational  "
      ]
     },
     "execution_count": 11,
     "metadata": {},
     "output_type": "execute_result"
    }
   ],
   "source": [
    "hcpcs_II_range_df.head()"
   ]
  },
  {
   "cell_type": "code",
   "execution_count": 13,
   "id": "86861ced",
   "metadata": {},
   "outputs": [],
   "source": [
    "cpt_II_range_df = pd.read_excel(f\"{path}/HCPCS Code Ranges.xlsx\", sheet_name='CPT Category II', dtype=str)"
   ]
  },
  {
   "cell_type": "code",
   "execution_count": 14,
   "id": "61d2c777",
   "metadata": {},
   "outputs": [
    {
     "data": {
      "text/html": [
       "<div>\n",
       "<style scoped>\n",
       "    .dataframe tbody tr th:only-of-type {\n",
       "        vertical-align: middle;\n",
       "    }\n",
       "\n",
       "    .dataframe tbody tr th {\n",
       "        vertical-align: top;\n",
       "    }\n",
       "\n",
       "    .dataframe thead th {\n",
       "        text-align: right;\n",
       "    }\n",
       "</style>\n",
       "<table border=\"1\" class=\"dataframe\">\n",
       "  <thead>\n",
       "    <tr style=\"text-align: right;\">\n",
       "      <th></th>\n",
       "      <th>code_range_start</th>\n",
       "      <th>code_range_end</th>\n",
       "      <th>range_description</th>\n",
       "    </tr>\n",
       "  </thead>\n",
       "  <tbody>\n",
       "    <tr>\n",
       "      <th>0</th>\n",
       "      <td>0001F</td>\n",
       "      <td>0015F</td>\n",
       "      <td>Composite Measures</td>\n",
       "    </tr>\n",
       "    <tr>\n",
       "      <th>1</th>\n",
       "      <td>0500F</td>\n",
       "      <td>0584F</td>\n",
       "      <td>Patient Management</td>\n",
       "    </tr>\n",
       "    <tr>\n",
       "      <th>2</th>\n",
       "      <td>1000F</td>\n",
       "      <td>1505F</td>\n",
       "      <td>Patient History</td>\n",
       "    </tr>\n",
       "    <tr>\n",
       "      <th>3</th>\n",
       "      <td>2000F</td>\n",
       "      <td>2060F</td>\n",
       "      <td>Physical Examination</td>\n",
       "    </tr>\n",
       "    <tr>\n",
       "      <th>4</th>\n",
       "      <td>3006F</td>\n",
       "      <td>3776F</td>\n",
       "      <td>Diagnostic/Screening Processes or Results</td>\n",
       "    </tr>\n",
       "  </tbody>\n",
       "</table>\n",
       "</div>"
      ],
      "text/plain": [
       "  code_range_start code_range_end                          range_description\n",
       "0            0001F          0015F                         Composite Measures\n",
       "1            0500F          0584F                         Patient Management\n",
       "2            1000F          1505F                            Patient History\n",
       "3            2000F          2060F                       Physical Examination\n",
       "4            3006F          3776F  Diagnostic/Screening Processes or Results"
      ]
     },
     "execution_count": 14,
     "metadata": {},
     "output_type": "execute_result"
    }
   ],
   "source": [
    "cpt_II_range_df.head()"
   ]
  },
  {
   "cell_type": "markdown",
   "id": "d92b0b2c",
   "metadata": {},
   "source": [
    "### Create ICD-10 Dataset"
   ]
  },
  {
   "cell_type": "code",
   "execution_count": 18,
   "id": "d9f9603b",
   "metadata": {},
   "outputs": [],
   "source": [
    "icd10_df = pd.read_excel(f\"{path}/section111validicd10-jan2025_0.xlsx\", dtype=str)"
   ]
  },
  {
   "cell_type": "code",
   "execution_count": 22,
   "id": "3c869db7",
   "metadata": {},
   "outputs": [
    {
     "data": {
      "text/html": [
       "<div>\n",
       "<style scoped>\n",
       "    .dataframe tbody tr th:only-of-type {\n",
       "        vertical-align: middle;\n",
       "    }\n",
       "\n",
       "    .dataframe tbody tr th {\n",
       "        vertical-align: top;\n",
       "    }\n",
       "\n",
       "    .dataframe thead th {\n",
       "        text-align: right;\n",
       "    }\n",
       "</style>\n",
       "<table border=\"1\" class=\"dataframe\">\n",
       "  <thead>\n",
       "    <tr style=\"text-align: right;\">\n",
       "      <th></th>\n",
       "      <th>CODE</th>\n",
       "      <th>SHORT DESCRIPTION</th>\n",
       "      <th>LONG DESCRIPTION</th>\n",
       "      <th>NF EXCL</th>\n",
       "    </tr>\n",
       "  </thead>\n",
       "  <tbody>\n",
       "    <tr>\n",
       "      <th>0</th>\n",
       "      <td>A000</td>\n",
       "      <td>Cholera due to Vibrio cholerae 01, biovar chol...</td>\n",
       "      <td>Cholera due to Vibrio cholerae 01, biovar chol...</td>\n",
       "      <td>NaN</td>\n",
       "    </tr>\n",
       "    <tr>\n",
       "      <th>1</th>\n",
       "      <td>A001</td>\n",
       "      <td>Cholera due to Vibrio cholerae 01, biovar eltor</td>\n",
       "      <td>Cholera due to Vibrio cholerae 01, biovar eltor</td>\n",
       "      <td>NaN</td>\n",
       "    </tr>\n",
       "    <tr>\n",
       "      <th>2</th>\n",
       "      <td>A009</td>\n",
       "      <td>Cholera, unspecified</td>\n",
       "      <td>Cholera, unspecified</td>\n",
       "      <td>NaN</td>\n",
       "    </tr>\n",
       "    <tr>\n",
       "      <th>3</th>\n",
       "      <td>A0100</td>\n",
       "      <td>Typhoid fever, unspecified</td>\n",
       "      <td>Typhoid fever, unspecified</td>\n",
       "      <td>NaN</td>\n",
       "    </tr>\n",
       "    <tr>\n",
       "      <th>4</th>\n",
       "      <td>A0101</td>\n",
       "      <td>Typhoid meningitis</td>\n",
       "      <td>Typhoid meningitis</td>\n",
       "      <td>NaN</td>\n",
       "    </tr>\n",
       "  </tbody>\n",
       "</table>\n",
       "</div>"
      ],
      "text/plain": [
       "    CODE                                  SHORT DESCRIPTION  \\\n",
       "0   A000  Cholera due to Vibrio cholerae 01, biovar chol...   \n",
       "1   A001    Cholera due to Vibrio cholerae 01, biovar eltor   \n",
       "2   A009                               Cholera, unspecified   \n",
       "3  A0100                         Typhoid fever, unspecified   \n",
       "4  A0101                                 Typhoid meningitis   \n",
       "\n",
       "                                    LONG DESCRIPTION NF EXCL  \n",
       "0  Cholera due to Vibrio cholerae 01, biovar chol...     NaN  \n",
       "1    Cholera due to Vibrio cholerae 01, biovar eltor     NaN  \n",
       "2                               Cholera, unspecified     NaN  \n",
       "3                         Typhoid fever, unspecified     NaN  \n",
       "4                                 Typhoid meningitis     NaN  "
      ]
     },
     "execution_count": 22,
     "metadata": {},
     "output_type": "execute_result"
    }
   ],
   "source": [
    "icd10_df.head()"
   ]
  },
  {
   "cell_type": "markdown",
   "id": "811358e6",
   "metadata": {},
   "source": [
    "### Save Datasets"
   ]
  },
  {
   "cell_type": "code",
   "execution_count": 19,
   "id": "9ea667db",
   "metadata": {},
   "outputs": [],
   "source": [
    "drg_df.to_pickle(\"../data/clean/drg.pkl\")\n",
    "hcpcs_df.to_pickle(\"../data/clean/hcpcs.pkl\")\n",
    "hcpcs_I_range_df.to_pickle(\"../data/clean/hcpcs_I_range.pkl\")\n",
    "hcpcs_II_range_df.to_pickle(\"../data/clean/hcpcs_II_range.pkl\")\n",
    "cpt_II_range_df.to_pickle(\"../data/clean/cpt_II_range.pkl\")\n",
    "icd10_df.to_pickle(\"../data/clean/icd10.pkl\")"
   ]
  },
  {
   "cell_type": "code",
   "execution_count": null,
   "id": "f082b2e1",
   "metadata": {},
   "outputs": [],
   "source": []
  }
 ],
 "metadata": {
  "kernelspec": {
   "display_name": ".venv (3.13.7)",
   "language": "python",
   "name": "python3"
  },
  "language_info": {
   "codemirror_mode": {
    "name": "ipython",
    "version": 3
   },
   "file_extension": ".py",
   "mimetype": "text/x-python",
   "name": "python",
   "nbconvert_exporter": "python",
   "pygments_lexer": "ipython3",
   "version": "3.13.7"
  }
 },
 "nbformat": 4,
 "nbformat_minor": 5
}
