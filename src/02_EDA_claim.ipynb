{
 "cells": [
  {
   "cell_type": "markdown",
   "id": "659459c9",
   "metadata": {},
   "source": [
    "# EDA of Claim Dataaset\n",
    "# 02_EDA_Claim"
   ]
  },
  {
   "cell_type": "markdown",
   "id": "ce40317e",
   "metadata": {},
   "source": [
    "| Date | User | Change Type | Remarks |  \n",
    "| ---- | ---- | ----------- | ------- |\n",
    "| 24/09/2025 | Adrienne | Created   | Created to do EDA for Claim Dataset | \n",
    "| 27/09/2025 | Adrienne | Update | Added code from Martin |"
   ]
  },
  {
   "cell_type": "markdown",
   "id": "89a35cc0",
   "metadata": {},
   "source": [
    "# Content\n",
    "\n",
    "* [Introduction](#introduction)"
   ]
  },
  {
   "cell_type": "code",
   "execution_count": 1,
   "id": "19e328b9",
   "metadata": {},
   "outputs": [
    {
     "ename": "KeyboardInterrupt",
     "evalue": "",
     "output_type": "error",
     "traceback": [
      "\u001b[31m---------------------------------------------------------------------------\u001b[39m",
      "\u001b[31mKeyboardInterrupt\u001b[39m                         Traceback (most recent call last)",
      "\u001b[36mCell\u001b[39m\u001b[36m \u001b[39m\u001b[32mIn[1]\u001b[39m\u001b[32m, line 3\u001b[39m\n\u001b[32m      1\u001b[39m \u001b[38;5;28;01mimport\u001b[39;00m\u001b[38;5;250m \u001b[39m\u001b[34;01mpandas\u001b[39;00m\u001b[38;5;250m \u001b[39m\u001b[38;5;28;01mas\u001b[39;00m\u001b[38;5;250m \u001b[39m\u001b[34;01mpd\u001b[39;00m\n\u001b[32m      2\u001b[39m \u001b[38;5;28;01mimport\u001b[39;00m\u001b[38;5;250m \u001b[39m\u001b[34;01mnumpy\u001b[39;00m\u001b[38;5;250m \u001b[39m\u001b[38;5;28;01mas\u001b[39;00m\u001b[38;5;250m \u001b[39m\u001b[34;01mnp\u001b[39;00m\n\u001b[32m----> \u001b[39m\u001b[32m3\u001b[39m \u001b[38;5;28;01mimport\u001b[39;00m\u001b[38;5;250m \u001b[39m\u001b[34;01mmatplotlib\u001b[39;00m\u001b[34;01m.\u001b[39;00m\u001b[34;01mpyplot\u001b[39;00m\u001b[38;5;250m \u001b[39m\u001b[38;5;28;01mas\u001b[39;00m\u001b[38;5;250m \u001b[39m\u001b[34;01mplt\u001b[39;00m\n\u001b[32m      4\u001b[39m \u001b[38;5;28;01mimport\u001b[39;00m\u001b[38;5;250m \u001b[39m\u001b[34;01mre\u001b[39;00m\n\u001b[32m      5\u001b[39m \u001b[38;5;28;01mfrom\u001b[39;00m\u001b[38;5;250m \u001b[39m\u001b[34;01mdatetime\u001b[39;00m\u001b[38;5;250m \u001b[39m\u001b[38;5;28;01mimport\u001b[39;00m datetime\n",
      "\u001b[36mFile \u001b[39m\u001b[32m~/Library/Mobile Documents/com~apple~CloudDocs/MADS/SIADS 696 Milestone II/git_repo/siads_696_mII/.venv/lib/python3.13/site-packages/matplotlib/pyplot.py:63\u001b[39m\n\u001b[32m     61\u001b[39m \u001b[38;5;28;01mfrom\u001b[39;00m\u001b[38;5;250m \u001b[39m\u001b[34;01mmatplotlib\u001b[39;00m\u001b[38;5;250m \u001b[39m\u001b[38;5;28;01mimport\u001b[39;00m get_backend \u001b[38;5;28;01mas\u001b[39;00m get_backend, rcParams \u001b[38;5;28;01mas\u001b[39;00m rcParams\n\u001b[32m     62\u001b[39m \u001b[38;5;28;01mfrom\u001b[39;00m\u001b[38;5;250m \u001b[39m\u001b[34;01mmatplotlib\u001b[39;00m\u001b[38;5;250m \u001b[39m\u001b[38;5;28;01mimport\u001b[39;00m cm \u001b[38;5;28;01mas\u001b[39;00m cm  \u001b[38;5;66;03m# noqa: F401\u001b[39;00m\n\u001b[32m---> \u001b[39m\u001b[32m63\u001b[39m \u001b[38;5;28;01mfrom\u001b[39;00m\u001b[38;5;250m \u001b[39m\u001b[34;01mmatplotlib\u001b[39;00m\u001b[38;5;250m \u001b[39m\u001b[38;5;28;01mimport\u001b[39;00m style \u001b[38;5;28;01mas\u001b[39;00m style  \u001b[38;5;66;03m# noqa: F401\u001b[39;00m\n\u001b[32m     64\u001b[39m \u001b[38;5;28;01mfrom\u001b[39;00m\u001b[38;5;250m \u001b[39m\u001b[34;01mmatplotlib\u001b[39;00m\u001b[38;5;250m \u001b[39m\u001b[38;5;28;01mimport\u001b[39;00m _pylab_helpers\n\u001b[32m     65\u001b[39m \u001b[38;5;28;01mfrom\u001b[39;00m\u001b[38;5;250m \u001b[39m\u001b[34;01mmatplotlib\u001b[39;00m\u001b[38;5;250m \u001b[39m\u001b[38;5;28;01mimport\u001b[39;00m interactive  \u001b[38;5;66;03m# noqa: F401\u001b[39;00m\n",
      "\u001b[36mFile \u001b[39m\u001b[32m~/Library/Mobile Documents/com~apple~CloudDocs/MADS/SIADS 696 Milestone II/git_repo/siads_696_mII/.venv/lib/python3.13/site-packages/matplotlib/style/__init__.py:1\u001b[39m\n\u001b[32m----> \u001b[39m\u001b[32m1\u001b[39m \u001b[38;5;28;01mfrom\u001b[39;00m\u001b[38;5;250m \u001b[39m\u001b[34;01m.\u001b[39;00m\u001b[34;01mcore\u001b[39;00m\u001b[38;5;250m \u001b[39m\u001b[38;5;28;01mimport\u001b[39;00m available, context, library, reload_library, use\n\u001b[32m      4\u001b[39m __all__ = [\u001b[33m\"\u001b[39m\u001b[33mavailable\u001b[39m\u001b[33m\"\u001b[39m, \u001b[33m\"\u001b[39m\u001b[33mcontext\u001b[39m\u001b[33m\"\u001b[39m, \u001b[33m\"\u001b[39m\u001b[33mlibrary\u001b[39m\u001b[33m\"\u001b[39m, \u001b[33m\"\u001b[39m\u001b[33mreload_library\u001b[39m\u001b[33m\"\u001b[39m, \u001b[33m\"\u001b[39m\u001b[33muse\u001b[39m\u001b[33m\"\u001b[39m]\n",
      "\u001b[36mFile \u001b[39m\u001b[32m~/Library/Mobile Documents/com~apple~CloudDocs/MADS/SIADS 696 Milestone II/git_repo/siads_696_mII/.venv/lib/python3.13/site-packages/matplotlib/style/core.py:225\u001b[39m\n\u001b[32m    220\u001b[39m     \u001b[38;5;28;01mreturn\u001b[39;00m main_dict\n\u001b[32m    223\u001b[39m \u001b[38;5;66;03m# Load style library\u001b[39;00m\n\u001b[32m    224\u001b[39m \u001b[38;5;66;03m# ==================\u001b[39;00m\n\u001b[32m--> \u001b[39m\u001b[32m225\u001b[39m _base_library = \u001b[43mread_style_directory\u001b[49m\u001b[43m(\u001b[49m\u001b[43mBASE_LIBRARY_PATH\u001b[49m\u001b[43m)\u001b[49m\n\u001b[32m    226\u001b[39m library = {}\n\u001b[32m    227\u001b[39m available = []\n",
      "\u001b[36mFile \u001b[39m\u001b[32m~/Library/Mobile Documents/com~apple~CloudDocs/MADS/SIADS 696 Milestone II/git_repo/siads_696_mII/.venv/lib/python3.13/site-packages/matplotlib/style/core.py:203\u001b[39m, in \u001b[36mread_style_directory\u001b[39m\u001b[34m(style_dir)\u001b[39m\n\u001b[32m    201\u001b[39m \u001b[38;5;28;01mfor\u001b[39;00m path \u001b[38;5;129;01min\u001b[39;00m Path(style_dir).glob(\u001b[33mf\u001b[39m\u001b[33m\"\u001b[39m\u001b[33m*.\u001b[39m\u001b[38;5;132;01m{\u001b[39;00mSTYLE_EXTENSION\u001b[38;5;132;01m}\u001b[39;00m\u001b[33m\"\u001b[39m):\n\u001b[32m    202\u001b[39m     \u001b[38;5;28;01mwith\u001b[39;00m warnings.catch_warnings(record=\u001b[38;5;28;01mTrue\u001b[39;00m) \u001b[38;5;28;01mas\u001b[39;00m warns:\n\u001b[32m--> \u001b[39m\u001b[32m203\u001b[39m         styles[path.stem] = \u001b[43m_rc_params_in_file\u001b[49m\u001b[43m(\u001b[49m\u001b[43mpath\u001b[49m\u001b[43m)\u001b[49m\n\u001b[32m    204\u001b[39m     \u001b[38;5;28;01mfor\u001b[39;00m w \u001b[38;5;129;01min\u001b[39;00m warns:\n\u001b[32m    205\u001b[39m         _log.warning(\u001b[33m'\u001b[39m\u001b[33mIn \u001b[39m\u001b[38;5;132;01m%s\u001b[39;00m\u001b[33m: \u001b[39m\u001b[38;5;132;01m%s\u001b[39;00m\u001b[33m'\u001b[39m, path, w.message)\n",
      "\u001b[36mFile \u001b[39m\u001b[32m~/Library/Mobile Documents/com~apple~CloudDocs/MADS/SIADS 696 Milestone II/git_repo/siads_696_mII/.venv/lib/python3.13/site-packages/matplotlib/__init__.py:908\u001b[39m, in \u001b[36m_rc_params_in_file\u001b[39m\u001b[34m(fname, transform, fail_on_error)\u001b[39m\n\u001b[32m    906\u001b[39m \u001b[38;5;28;01mwith\u001b[39;00m _open_file_or_url(fname) \u001b[38;5;28;01mas\u001b[39;00m fd:\n\u001b[32m    907\u001b[39m     \u001b[38;5;28;01mtry\u001b[39;00m:\n\u001b[32m--> \u001b[39m\u001b[32m908\u001b[39m \u001b[43m        \u001b[49m\u001b[38;5;28;43;01mfor\u001b[39;49;00m\u001b[43m \u001b[49m\u001b[43mline_no\u001b[49m\u001b[43m,\u001b[49m\u001b[43m \u001b[49m\u001b[43mline\u001b[49m\u001b[43m \u001b[49m\u001b[38;5;129;43;01min\u001b[39;49;00m\u001b[43m \u001b[49m\u001b[38;5;28;43menumerate\u001b[39;49m\u001b[43m(\u001b[49m\u001b[43mfd\u001b[49m\u001b[43m,\u001b[49m\u001b[43m \u001b[49m\u001b[32;43m1\u001b[39;49m\u001b[43m)\u001b[49m\u001b[43m:\u001b[49m\n\u001b[32m    909\u001b[39m \u001b[43m            \u001b[49m\u001b[43mline\u001b[49m\u001b[43m \u001b[49m\u001b[43m=\u001b[49m\u001b[43m \u001b[49m\u001b[43mtransform\u001b[49m\u001b[43m(\u001b[49m\u001b[43mline\u001b[49m\u001b[43m)\u001b[49m\n\u001b[32m    910\u001b[39m \u001b[43m            \u001b[49m\u001b[43mstrippedline\u001b[49m\u001b[43m \u001b[49m\u001b[43m=\u001b[49m\u001b[43m \u001b[49m\u001b[43mcbook\u001b[49m\u001b[43m.\u001b[49m\u001b[43m_strip_comment\u001b[49m\u001b[43m(\u001b[49m\u001b[43mline\u001b[49m\u001b[43m)\u001b[49m\n",
      "\u001b[31mKeyboardInterrupt\u001b[39m: "
     ]
    }
   ],
   "source": [
    "import pandas as pd\n",
    "import numpy as np\n",
    "import matplotlib.pyplot as plt\n",
    "import re\n",
    "from datetime import datetime\n",
    "import json_lines\n",
    "import seaborn as sns"
   ]
  },
  {
   "cell_type": "code",
   "execution_count": 1,
   "id": "c25fb382",
   "metadata": {},
   "outputs": [
    {
     "name": "stderr",
     "output_type": "stream",
     "text": [
      "\n",
      "KeyboardInterrupt\n",
      "\n"
     ]
    }
   ],
   "source": [
    "# readin clean datafiles\n",
    "path = \"../data/clean/\"\n",
    "#claim_df =  pd.read_pickle(path + 'claim.pkl')\n",
    "claim_df = pd.read_pickle(path + 'claim_sample.pkl')\n",
    "#claim_df = pd.read_pickle(path + 'claim_mini_sample.pkl')\n",
    "#claim_response_df =  pd.read_pickle(path + 'claim_response.pkl')"
   ]
  },
  {
   "cell_type": "code",
   "execution_count": 56,
   "id": "edd7603f",
   "metadata": {},
   "outputs": [
    {
     "name": "stdout",
     "output_type": "stream",
     "text": [
      "Number of non-NaN DRG entries: 9984 out of 10000\n"
     ]
    }
   ],
   "source": [
    "print(f\"Number of non-NaN DRG entries: {claim_df.shape[0] - claim_df['diagnosis_ls'].apply(lambda x: len(x) == 0).sum()} out of {len(claim_df)}\")"
   ]
  },
  {
   "cell_type": "code",
   "execution_count": 57,
   "id": "a2e0288f",
   "metadata": {},
   "outputs": [
    {
     "name": "stderr",
     "output_type": "stream",
     "text": [
      "/var/folders/h7/vnb5cqf52l31_n7r6zv3j6z80000gn/T/ipykernel_11889/2224548505.py:2: SettingWithCopyWarning: \n",
      "A value is trying to be set on a copy of a slice from a DataFrame.\n",
      "Try using .loc[row_indexer,col_indexer] = value instead\n",
      "\n",
      "See the caveats in the documentation: https://pandas.pydata.org/pandas-docs/stable/user_guide/indexing.html#returning-a-view-versus-a-copy\n",
      "  non_na_drg['ls_len'] = non_na_drg['diagnosis_ls'].str.len()\n"
     ]
    }
   ],
   "source": [
    "non_na_drg = claim_df[~claim_df['diagnosis_ls'].apply(lambda x: len(x) == 0)]\n",
    "non_na_drg['ls_len'] = non_na_drg['diagnosis_ls'].str.len()\n"
   ]
  },
  {
   "cell_type": "code",
   "execution_count": 58,
   "id": "6cfcf691",
   "metadata": {},
   "outputs": [
    {
     "data": {
      "text/html": [
       "<div>\n",
       "<style scoped>\n",
       "    .dataframe tbody tr th:only-of-type {\n",
       "        vertical-align: middle;\n",
       "    }\n",
       "\n",
       "    .dataframe tbody tr th {\n",
       "        vertical-align: top;\n",
       "    }\n",
       "\n",
       "    .dataframe thead th {\n",
       "        text-align: right;\n",
       "    }\n",
       "</style>\n",
       "<table border=\"1\" class=\"dataframe\">\n",
       "  <thead>\n",
       "    <tr style=\"text-align: right;\">\n",
       "      <th></th>\n",
       "      <th>billablePeriod_end</th>\n",
       "      <th>billablePeriod_start</th>\n",
       "      <th>contained_0_birthDate</th>\n",
       "      <th>contained_0_gender</th>\n",
       "      <th>contained_0_id</th>\n",
       "      <th>contained_0_identifier_0_type_coding_0_code</th>\n",
       "      <th>contained_0_identifier_0_type_coding_0_display</th>\n",
       "      <th>contained_0_identifier_0_value</th>\n",
       "      <th>contained_0_name_0_family</th>\n",
       "      <th>contained_0_name_0_given</th>\n",
       "      <th>...</th>\n",
       "      <th>drg_code</th>\n",
       "      <th>provider_number</th>\n",
       "      <th>national_provider_identifier</th>\n",
       "      <th>type_of_bill</th>\n",
       "      <th>claim_type</th>\n",
       "      <th>location_of_bill</th>\n",
       "      <th>diagnosis_ls</th>\n",
       "      <th>hcpcs_ls</th>\n",
       "      <th>procedure_ls</th>\n",
       "      <th>ls_len</th>\n",
       "    </tr>\n",
       "  </thead>\n",
       "  <tbody>\n",
       "    <tr>\n",
       "      <th>23118</th>\n",
       "      <td>2019-05-17</td>\n",
       "      <td>2019-05-17</td>\n",
       "      <td>1948-06-14</td>\n",
       "      <td>female</td>\n",
       "      <td>patient</td>\n",
       "      <td>MC</td>\n",
       "      <td>Patient's Medicare Number</td>\n",
       "      <td>1S00E00AD09</td>\n",
       "      <td>Ward668</td>\n",
       "      <td>[\"Oralia106\"]</td>\n",
       "      <td>...</td>\n",
       "      <td>NaN</td>\n",
       "      <td>220020</td>\n",
       "      <td>8886688687</td>\n",
       "      <td>1</td>\n",
       "      <td>institutional</td>\n",
       "      <td>2</td>\n",
       "      <td>[K011, G43719, R52, E669, E785, K3520, K37, Z9...</td>\n",
       "      <td>[99241, 00777310502]</td>\n",
       "      <td>[]</td>\n",
       "      <td>12</td>\n",
       "    </tr>\n",
       "    <tr>\n",
       "      <th>118862</th>\n",
       "      <td>2019-12-20</td>\n",
       "      <td>2019-12-20</td>\n",
       "      <td>1950-10-10</td>\n",
       "      <td>male</td>\n",
       "      <td>patient</td>\n",
       "      <td>MC</td>\n",
       "      <td>Patient's Medicare Number</td>\n",
       "      <td>1S00E00JX65</td>\n",
       "      <td>Kuhlman484</td>\n",
       "      <td>[\"Carlos172\"]</td>\n",
       "      <td>...</td>\n",
       "      <td>NaN</td>\n",
       "      <td>360090</td>\n",
       "      <td>8885287986</td>\n",
       "      <td>1</td>\n",
       "      <td>institutional</td>\n",
       "      <td>2</td>\n",
       "      <td>[E669, E785]</td>\n",
       "      <td>[]</td>\n",
       "      <td>[]</td>\n",
       "      <td>2</td>\n",
       "    </tr>\n",
       "    <tr>\n",
       "      <th>13932</th>\n",
       "      <td>2015-10-13</td>\n",
       "      <td>2015-10-13</td>\n",
       "      <td>1942-09-22</td>\n",
       "      <td>female</td>\n",
       "      <td>patient</td>\n",
       "      <td>MC</td>\n",
       "      <td>Patient's Medicare Number</td>\n",
       "      <td>1S00E00GU18</td>\n",
       "      <td>Ledner144</td>\n",
       "      <td>[\"Hermila490\"]</td>\n",
       "      <td>...</td>\n",
       "      <td>NaN</td>\n",
       "      <td>100264</td>\n",
       "      <td>8887886249</td>\n",
       "      <td>1</td>\n",
       "      <td>institutional</td>\n",
       "      <td>2</td>\n",
       "      <td>[M810, E785]</td>\n",
       "      <td>[]</td>\n",
       "      <td>[]</td>\n",
       "      <td>2</td>\n",
       "    </tr>\n",
       "    <tr>\n",
       "      <th>17457</th>\n",
       "      <td>2014-03-05</td>\n",
       "      <td>2014-03-05</td>\n",
       "      <td>1946-02-18</td>\n",
       "      <td>female</td>\n",
       "      <td>patient</td>\n",
       "      <td>MC</td>\n",
       "      <td>Patient's Medicare Number</td>\n",
       "      <td>1S00E00GK12</td>\n",
       "      <td>O'Hara248</td>\n",
       "      <td>[\"Mila257\"]</td>\n",
       "      <td>...</td>\n",
       "      <td>NaN</td>\n",
       "      <td>080001</td>\n",
       "      <td>8888088878</td>\n",
       "      <td>1</td>\n",
       "      <td>institutional</td>\n",
       "      <td>2</td>\n",
       "      <td>[P2981, C50919]</td>\n",
       "      <td>[]</td>\n",
       "      <td>[]</td>\n",
       "      <td>2</td>\n",
       "    </tr>\n",
       "    <tr>\n",
       "      <th>125808</th>\n",
       "      <td>2019-07-07</td>\n",
       "      <td>2019-07-07</td>\n",
       "      <td>1947-05-04</td>\n",
       "      <td>female</td>\n",
       "      <td>patient</td>\n",
       "      <td>MC</td>\n",
       "      <td>Patient's Medicare Number</td>\n",
       "      <td>1S00E00AG56</td>\n",
       "      <td>Rice937</td>\n",
       "      <td>[\"Filomena21\"]</td>\n",
       "      <td>...</td>\n",
       "      <td>NaN</td>\n",
       "      <td>220070</td>\n",
       "      <td>8886688182</td>\n",
       "      <td>1</td>\n",
       "      <td>institutional</td>\n",
       "      <td>2</td>\n",
       "      <td>[E669, J329, E034, D649, E785, B349]</td>\n",
       "      <td>[99241, 00777310502]</td>\n",
       "      <td>[]</td>\n",
       "      <td>6</td>\n",
       "    </tr>\n",
       "  </tbody>\n",
       "</table>\n",
       "<p>5 rows × 2459 columns</p>\n",
       "</div>"
      ],
      "text/plain": [
       "       billablePeriod_end billablePeriod_start contained_0_birthDate  \\\n",
       "23118          2019-05-17           2019-05-17            1948-06-14   \n",
       "118862         2019-12-20           2019-12-20            1950-10-10   \n",
       "13932          2015-10-13           2015-10-13            1942-09-22   \n",
       "17457          2014-03-05           2014-03-05            1946-02-18   \n",
       "125808         2019-07-07           2019-07-07            1947-05-04   \n",
       "\n",
       "       contained_0_gender contained_0_id  \\\n",
       "23118              female        patient   \n",
       "118862               male        patient   \n",
       "13932              female        patient   \n",
       "17457              female        patient   \n",
       "125808             female        patient   \n",
       "\n",
       "       contained_0_identifier_0_type_coding_0_code  \\\n",
       "23118                                           MC   \n",
       "118862                                          MC   \n",
       "13932                                           MC   \n",
       "17457                                           MC   \n",
       "125808                                          MC   \n",
       "\n",
       "       contained_0_identifier_0_type_coding_0_display  \\\n",
       "23118                       Patient's Medicare Number   \n",
       "118862                      Patient's Medicare Number   \n",
       "13932                       Patient's Medicare Number   \n",
       "17457                       Patient's Medicare Number   \n",
       "125808                      Patient's Medicare Number   \n",
       "\n",
       "       contained_0_identifier_0_value contained_0_name_0_family  \\\n",
       "23118                     1S00E00AD09                   Ward668   \n",
       "118862                    1S00E00JX65                Kuhlman484   \n",
       "13932                     1S00E00GU18                 Ledner144   \n",
       "17457                     1S00E00GK12                 O'Hara248   \n",
       "125808                    1S00E00AG56                   Rice937   \n",
       "\n",
       "       contained_0_name_0_given  ... drg_code provider_number  \\\n",
       "23118             [\"Oralia106\"]  ...      NaN          220020   \n",
       "118862            [\"Carlos172\"]  ...      NaN          360090   \n",
       "13932            [\"Hermila490\"]  ...      NaN          100264   \n",
       "17457               [\"Mila257\"]  ...      NaN          080001   \n",
       "125808           [\"Filomena21\"]  ...      NaN          220070   \n",
       "\n",
       "       national_provider_identifier type_of_bill     claim_type  \\\n",
       "23118                    8886688687            1  institutional   \n",
       "118862                   8885287986            1  institutional   \n",
       "13932                    8887886249            1  institutional   \n",
       "17457                    8888088878            1  institutional   \n",
       "125808                   8886688182            1  institutional   \n",
       "\n",
       "       location_of_bill                                       diagnosis_ls  \\\n",
       "23118                 2  [K011, G43719, R52, E669, E785, K3520, K37, Z9...   \n",
       "118862                2                                       [E669, E785]   \n",
       "13932                 2                                       [M810, E785]   \n",
       "17457                 2                                    [P2981, C50919]   \n",
       "125808                2               [E669, J329, E034, D649, E785, B349]   \n",
       "\n",
       "                    hcpcs_ls procedure_ls ls_len  \n",
       "23118   [99241, 00777310502]           []     12  \n",
       "118862                    []           []      2  \n",
       "13932                     []           []      2  \n",
       "17457                     []           []      2  \n",
       "125808  [99241, 00777310502]           []      6  \n",
       "\n",
       "[5 rows x 2459 columns]"
      ]
     },
     "execution_count": 58,
     "metadata": {},
     "output_type": "execute_result"
    }
   ],
   "source": [
    "non_na_drg.head()"
   ]
  },
  {
   "cell_type": "code",
   "execution_count": 59,
   "id": "cb2b2452",
   "metadata": {},
   "outputs": [],
   "source": [
    "na_drg = claim_df[claim_df['diagnosis_ls'].apply(lambda x: len(x) == 0)]"
   ]
  },
  {
   "cell_type": "code",
   "execution_count": 60,
   "id": "bd45320d",
   "metadata": {},
   "outputs": [
    {
     "data": {
      "text/plain": [
       "<Axes: xlabel='count', ylabel='ls_len'>"
      ]
     },
     "execution_count": 60,
     "metadata": {},
     "output_type": "execute_result"
    },
    {
     "data": {
      "image/png": "[encoded data removed]",
      "text/plain": [
       "<Figure size 800x2500 with 1 Axes>"
      ]
     },
     "metadata": {},
     "output_type": "display_data"
    }
   ],
   "source": [
    "fig, ax = plt.subplots(figsize=(8, 25))\n",
    "sns.countplot(y='ls_len', data=non_na_drg, order=non_na_drg['ls_len'].value_counts().index)"
   ]
  },
  {
   "cell_type": "code",
   "execution_count": 61,
   "id": "baba9277",
   "metadata": {},
   "outputs": [
    {
     "name": "stdout",
     "output_type": "stream",
     "text": [
      "2\n"
     ]
    }
   ],
   "source": [
    "print(len(non_na_drg[non_na_drg['ls_len']== 21]))"
   ]
  },
  {
   "cell_type": "code",
   "execution_count": 37,
   "id": "298a7a78",
   "metadata": {},
   "outputs": [],
   "source": [
    "# fig, ax = plt.subplots(figsize=(8, 25))\n",
    "# sns.countplot(y='diagnosis_ls', data=non_na_drg, order=non_na_drg['diagnosis_ls'].value_counts().index)"
   ]
  },
  {
   "cell_type": "code",
   "execution_count": 62,
   "id": "0cb6af43",
   "metadata": {},
   "outputs": [
    {
     "name": "stdout",
     "output_type": "stream",
     "text": [
      "Number of non-NaN HCPCS entries: 5158 out of 10000\n"
     ]
    }
   ],
   "source": [
    "print(f\"Number of non-NaN HCPCS entries: {claim_df.shape[0] - claim_df['hcpcs_ls'].apply(lambda x: len(x) == 0).sum()} out of {len(claim_df)}\")"
   ]
  },
  {
   "cell_type": "code",
   "execution_count": 63,
   "id": "90c1c4aa",
   "metadata": {},
   "outputs": [
    {
     "name": "stderr",
     "output_type": "stream",
     "text": [
      "/var/folders/h7/vnb5cqf52l31_n7r6zv3j6z80000gn/T/ipykernel_11889/3190909164.py:2: SettingWithCopyWarning: \n",
      "A value is trying to be set on a copy of a slice from a DataFrame.\n",
      "Try using .loc[row_indexer,col_indexer] = value instead\n",
      "\n",
      "See the caveats in the documentation: https://pandas.pydata.org/pandas-docs/stable/user_guide/indexing.html#returning-a-view-versus-a-copy\n",
      "  non_na_hcpcs['ls_len'] = non_na_hcpcs['hcpcs_ls'].str.len()\n"
     ]
    }
   ],
   "source": [
    "non_na_hcpcs = claim_df[~claim_df['hcpcs_ls'].apply(lambda x: len(x) == 0)]\n",
    "non_na_hcpcs['ls_len'] = non_na_hcpcs['hcpcs_ls'].str.len()\n"
   ]
  },
  {
   "cell_type": "code",
   "execution_count": 64,
   "id": "83dc8ddd",
   "metadata": {},
   "outputs": [
    {
     "data": {
      "text/plain": [
       "<Axes: xlabel='count', ylabel='ls_len'>"
      ]
     },
     "execution_count": 64,
     "metadata": {},
     "output_type": "execute_result"
    },
    {
     "data": {
      "image/png": "[encoded data removed]",
      "text/plain": [
       "<Figure size 800x2500 with 1 Axes>"
      ]
     },
     "metadata": {},
     "output_type": "display_data"
    }
   ],
   "source": [
    "fig, ax = plt.subplots(figsize=(8, 25))\n",
    "sns.countplot(y='ls_len', data=non_na_hcpcs, order=non_na_hcpcs['ls_len'].value_counts().index)"
   ]
  },
  {
   "cell_type": "code",
   "execution_count": 65,
   "id": "54f02239",
   "metadata": {},
   "outputs": [
    {
     "name": "stdout",
     "output_type": "stream",
     "text": [
      "max length: 337\n"
     ]
    }
   ],
   "source": [
    "print(f'max length: {non_na_hcpcs['ls_len'].max()}')"
   ]
  },
  {
   "cell_type": "code",
   "execution_count": 66,
   "id": "8299edfb",
   "metadata": {},
   "outputs": [
    {
     "data": {
      "text/html": [
       "<div>\n",
       "<style scoped>\n",
       "    .dataframe tbody tr th:only-of-type {\n",
       "        vertical-align: middle;\n",
       "    }\n",
       "\n",
       "    .dataframe tbody tr th {\n",
       "        vertical-align: top;\n",
       "    }\n",
       "\n",
       "    .dataframe thead th {\n",
       "        text-align: right;\n",
       "    }\n",
       "</style>\n",
       "<table border=\"1\" class=\"dataframe\">\n",
       "  <thead>\n",
       "    <tr style=\"text-align: right;\">\n",
       "      <th></th>\n",
       "      <th>drg_breakdown</th>\n",
       "    </tr>\n",
       "    <tr>\n",
       "      <th>diagnosis_ls</th>\n",
       "      <th></th>\n",
       "    </tr>\n",
       "  </thead>\n",
       "  <tbody>\n",
       "    <tr>\n",
       "      <th>[E669]</th>\n",
       "      <td>5.649038</td>\n",
       "    </tr>\n",
       "    <tr>\n",
       "      <th>[D649]</th>\n",
       "      <td>2.914663</td>\n",
       "    </tr>\n",
       "    <tr>\n",
       "      <th>[E785]</th>\n",
       "      <td>2.864583</td>\n",
       "    </tr>\n",
       "    <tr>\n",
       "      <th>[J329]</th>\n",
       "      <td>2.504006</td>\n",
       "    </tr>\n",
       "    <tr>\n",
       "      <th>[R739]</th>\n",
       "      <td>1.612580</td>\n",
       "    </tr>\n",
       "    <tr>\n",
       "      <th>[O039]</th>\n",
       "      <td>1.532452</td>\n",
       "    </tr>\n",
       "    <tr>\n",
       "      <th>[I10]</th>\n",
       "      <td>1.412260</td>\n",
       "    </tr>\n",
       "    <tr>\n",
       "      <th>[P292]</th>\n",
       "      <td>1.302083</td>\n",
       "    </tr>\n",
       "    <tr>\n",
       "      <th>[E781]</th>\n",
       "      <td>1.272035</td>\n",
       "    </tr>\n",
       "    <tr>\n",
       "      <th>[E669, E785]</th>\n",
       "      <td>1.031651</td>\n",
       "    </tr>\n",
       "    <tr>\n",
       "      <th>[E781, E785]</th>\n",
       "      <td>0.831330</td>\n",
       "    </tr>\n",
       "    <tr>\n",
       "      <th>[M179]</th>\n",
       "      <td>0.721154</td>\n",
       "    </tr>\n",
       "    <tr>\n",
       "      <th>[D649, E785]</th>\n",
       "      <td>0.721154</td>\n",
       "    </tr>\n",
       "    <tr>\n",
       "      <th>[E119]</th>\n",
       "      <td>0.580929</td>\n",
       "    </tr>\n",
       "    <tr>\n",
       "      <th>[K37]</th>\n",
       "      <td>0.540865</td>\n",
       "    </tr>\n",
       "    <tr>\n",
       "      <th>[T50904]</th>\n",
       "      <td>0.500801</td>\n",
       "    </tr>\n",
       "    <tr>\n",
       "      <th>[M810]</th>\n",
       "      <td>0.480769</td>\n",
       "    </tr>\n",
       "    <tr>\n",
       "      <th>[E669, J209]</th>\n",
       "      <td>0.460737</td>\n",
       "    </tr>\n",
       "    <tr>\n",
       "      <th>[I639]</th>\n",
       "      <td>0.420673</td>\n",
       "    </tr>\n",
       "    <tr>\n",
       "      <th>[R52]</th>\n",
       "      <td>0.410657</td>\n",
       "    </tr>\n",
       "  </tbody>\n",
       "</table>\n",
       "</div>"
      ],
      "text/plain": [
       "              drg_breakdown\n",
       "diagnosis_ls               \n",
       "[E669]             5.649038\n",
       "[D649]             2.914663\n",
       "[E785]             2.864583\n",
       "[J329]             2.504006\n",
       "[R739]             1.612580\n",
       "[O039]             1.532452\n",
       "[I10]              1.412260\n",
       "[P292]             1.302083\n",
       "[E781]             1.272035\n",
       "[E669, E785]       1.031651\n",
       "[E781, E785]       0.831330\n",
       "[M179]             0.721154\n",
       "[D649, E785]       0.721154\n",
       "[E119]             0.580929\n",
       "[K37]              0.540865\n",
       "[T50904]           0.500801\n",
       "[M810]             0.480769\n",
       "[E669, J209]       0.460737\n",
       "[I639]             0.420673\n",
       "[R52]              0.410657"
      ]
     },
     "execution_count": 66,
     "metadata": {},
     "output_type": "execute_result"
    }
   ],
   "source": [
    "# Percentage breakdown\n",
    "vals = non_na_drg['diagnosis_ls'].value_counts(normalize=True) * 100\n",
    "pd.DataFrame({\n",
    "  'drg_breakdown': vals\n",
    "}).head(20)"
   ]
  },
  {
   "cell_type": "code",
   "execution_count": 67,
   "id": "cc05a8d2",
   "metadata": {},
   "outputs": [
    {
     "data": {
      "text/html": [
       "<div>\n",
       "<style scoped>\n",
       "    .dataframe tbody tr th:only-of-type {\n",
       "        vertical-align: middle;\n",
       "    }\n",
       "\n",
       "    .dataframe tbody tr th {\n",
       "        vertical-align: top;\n",
       "    }\n",
       "\n",
       "    .dataframe thead th {\n",
       "        text-align: right;\n",
       "    }\n",
       "</style>\n",
       "<table border=\"1\" class=\"dataframe\">\n",
       "  <thead>\n",
       "    <tr style=\"text-align: right;\">\n",
       "      <th></th>\n",
       "      <th>hcpcs_breakdown</th>\n",
       "    </tr>\n",
       "    <tr>\n",
       "      <th>hcpcs_ls</th>\n",
       "      <th></th>\n",
       "    </tr>\n",
       "  </thead>\n",
       "  <tbody>\n",
       "    <tr>\n",
       "      <th>[99241]</th>\n",
       "      <td>50.697945</td>\n",
       "    </tr>\n",
       "    <tr>\n",
       "      <th>[G0444]</th>\n",
       "      <td>19.658782</td>\n",
       "    </tr>\n",
       "    <tr>\n",
       "      <th>[99241, 00777310502]</th>\n",
       "      <td>7.987592</td>\n",
       "    </tr>\n",
       "    <tr>\n",
       "      <th>[99221]</th>\n",
       "      <td>6.320279</td>\n",
       "    </tr>\n",
       "    <tr>\n",
       "      <th>[G0444, 00777310502]</th>\n",
       "      <td>2.636681</td>\n",
       "    </tr>\n",
       "    <tr>\n",
       "      <th>[99221, 00777310502]</th>\n",
       "      <td>1.027530</td>\n",
       "    </tr>\n",
       "    <tr>\n",
       "      <th>[G0444, G9573]</th>\n",
       "      <td>0.814269</td>\n",
       "    </tr>\n",
       "    <tr>\n",
       "      <th>[G0444, G9572]</th>\n",
       "      <td>0.678558</td>\n",
       "    </tr>\n",
       "    <tr>\n",
       "      <th>[G8111]</th>\n",
       "      <td>0.601008</td>\n",
       "    </tr>\n",
       "    <tr>\n",
       "      <th>[G0151]</th>\n",
       "      <td>0.601008</td>\n",
       "    </tr>\n",
       "  </tbody>\n",
       "</table>\n",
       "</div>"
      ],
      "text/plain": [
       "                      hcpcs_breakdown\n",
       "hcpcs_ls                             \n",
       "[99241]                     50.697945\n",
       "[G0444]                     19.658782\n",
       "[99241, 00777310502]         7.987592\n",
       "[99221]                      6.320279\n",
       "[G0444, 00777310502]         2.636681\n",
       "[99221, 00777310502]         1.027530\n",
       "[G0444, G9573]               0.814269\n",
       "[G0444, G9572]               0.678558\n",
       "[G8111]                      0.601008\n",
       "[G0151]                      0.601008"
      ]
     },
     "execution_count": 67,
     "metadata": {},
     "output_type": "execute_result"
    }
   ],
   "source": [
    "# Percentage breakdown\n",
    "vals = non_na_hcpcs['hcpcs_ls'].value_counts(normalize=True) * 100\n",
    "pd.DataFrame({\n",
    "  'hcpcs_breakdown': vals\n",
    "}).head(10)"
   ]
  },
  {
   "cell_type": "code",
   "execution_count": 68,
   "id": "f7fc8e7e",
   "metadata": {},
   "outputs": [
    {
     "data": {
      "text/html": [
       "<div>\n",
       "<style scoped>\n",
       "    .dataframe tbody tr th:only-of-type {\n",
       "        vertical-align: middle;\n",
       "    }\n",
       "\n",
       "    .dataframe tbody tr th {\n",
       "        vertical-align: top;\n",
       "    }\n",
       "\n",
       "    .dataframe thead th {\n",
       "        text-align: right;\n",
       "    }\n",
       "</style>\n",
       "<table border=\"1\" class=\"dataframe\">\n",
       "  <thead>\n",
       "    <tr style=\"text-align: right;\">\n",
       "      <th></th>\n",
       "      <th>procedure_breakdown</th>\n",
       "    </tr>\n",
       "    <tr>\n",
       "      <th>procedure_ls</th>\n",
       "      <th></th>\n",
       "    </tr>\n",
       "  </thead>\n",
       "  <tbody>\n",
       "    <tr>\n",
       "      <th>[]</th>\n",
       "      <td>92.60</td>\n",
       "    </tr>\n",
       "    <tr>\n",
       "      <th>[BW03ZZZ]</th>\n",
       "      <td>0.92</td>\n",
       "    </tr>\n",
       "    <tr>\n",
       "      <th>[0U2DXHZ]</th>\n",
       "      <td>0.71</td>\n",
       "    </tr>\n",
       "    <tr>\n",
       "      <th>[BH00ZZZ]</th>\n",
       "      <td>0.40</td>\n",
       "    </tr>\n",
       "    <tr>\n",
       "      <th>[BH01ZZZ]</th>\n",
       "      <td>0.40</td>\n",
       "    </tr>\n",
       "    <tr>\n",
       "      <th>[BH02ZZZ]</th>\n",
       "      <td>0.40</td>\n",
       "    </tr>\n",
       "    <tr>\n",
       "      <th>[09JY4ZZ]</th>\n",
       "      <td>0.33</td>\n",
       "    </tr>\n",
       "    <tr>\n",
       "      <th>[B244ZZZ]</th>\n",
       "      <td>0.22</td>\n",
       "    </tr>\n",
       "    <tr>\n",
       "      <th>[0DBM0ZX]</th>\n",
       "      <td>0.18</td>\n",
       "    </tr>\n",
       "    <tr>\n",
       "      <th>[B24DZZZ]</th>\n",
       "      <td>0.16</td>\n",
       "    </tr>\n",
       "  </tbody>\n",
       "</table>\n",
       "</div>"
      ],
      "text/plain": [
       "              procedure_breakdown\n",
       "procedure_ls                     \n",
       "[]                          92.60\n",
       "[BW03ZZZ]                    0.92\n",
       "[0U2DXHZ]                    0.71\n",
       "[BH00ZZZ]                    0.40\n",
       "[BH01ZZZ]                    0.40\n",
       "[BH02ZZZ]                    0.40\n",
       "[09JY4ZZ]                    0.33\n",
       "[B244ZZZ]                    0.22\n",
       "[0DBM0ZX]                    0.18\n",
       "[B24DZZZ]                    0.16"
      ]
     },
     "execution_count": 68,
     "metadata": {},
     "output_type": "execute_result"
    }
   ],
   "source": [
    "# Percentage breakdown\n",
    "vals = claim_df['procedure_ls'].value_counts(normalize=True) * 100\n",
    "pd.DataFrame({\n",
    "  'procedure_breakdown': vals\n",
    "}).head(10)"
   ]
  },
  {
   "cell_type": "code",
   "execution_count": 69,
   "id": "90634719",
   "metadata": {},
   "outputs": [
    {
     "data": {
      "text/html": [
       "<div>\n",
       "<style scoped>\n",
       "    .dataframe tbody tr th:only-of-type {\n",
       "        vertical-align: middle;\n",
       "    }\n",
       "\n",
       "    .dataframe tbody tr th {\n",
       "        vertical-align: top;\n",
       "    }\n",
       "\n",
       "    .dataframe thead th {\n",
       "        text-align: right;\n",
       "    }\n",
       "</style>\n",
       "<table border=\"1\" class=\"dataframe\">\n",
       "  <thead>\n",
       "    <tr style=\"text-align: right;\">\n",
       "      <th></th>\n",
       "      <th>bill_type_breakdown</th>\n",
       "    </tr>\n",
       "    <tr>\n",
       "      <th>type_of_bill</th>\n",
       "      <th></th>\n",
       "    </tr>\n",
       "  </thead>\n",
       "  <tbody>\n",
       "    <tr>\n",
       "      <th>1</th>\n",
       "      <td>95.380399</td>\n",
       "    </tr>\n",
       "    <tr>\n",
       "      <th>B</th>\n",
       "      <td>4.619601</td>\n",
       "    </tr>\n",
       "  </tbody>\n",
       "</table>\n",
       "</div>"
      ],
      "text/plain": [
       "              bill_type_breakdown\n",
       "type_of_bill                     \n",
       "1                       95.380399\n",
       "B                        4.619601"
      ]
     },
     "execution_count": 69,
     "metadata": {},
     "output_type": "execute_result"
    }
   ],
   "source": [
    "# Percentage breakdown\n",
    "vals = claim_df['type_of_bill'].value_counts(normalize=True) * 100\n",
    "pd.DataFrame({\n",
    "  'bill_type_breakdown': vals\n",
    "}).head(10)"
   ]
  },
  {
   "cell_type": "code",
   "execution_count": 70,
   "id": "6185dc97",
   "metadata": {},
   "outputs": [
    {
     "data": {
      "text/html": [
       "<div>\n",
       "<style scoped>\n",
       "    .dataframe tbody tr th:only-of-type {\n",
       "        vertical-align: middle;\n",
       "    }\n",
       "\n",
       "    .dataframe tbody tr th {\n",
       "        vertical-align: top;\n",
       "    }\n",
       "\n",
       "    .dataframe thead th {\n",
       "        text-align: right;\n",
       "    }\n",
       "</style>\n",
       "<table border=\"1\" class=\"dataframe\">\n",
       "  <thead>\n",
       "    <tr style=\"text-align: right;\">\n",
       "      <th></th>\n",
       "      <th>claim_type_breakdown</th>\n",
       "    </tr>\n",
       "    <tr>\n",
       "      <th>claim_type</th>\n",
       "      <th></th>\n",
       "    </tr>\n",
       "  </thead>\n",
       "  <tbody>\n",
       "    <tr>\n",
       "      <th>institutional</th>\n",
       "      <td>76.63</td>\n",
       "    </tr>\n",
       "    <tr>\n",
       "      <th>professional</th>\n",
       "      <td>23.37</td>\n",
       "    </tr>\n",
       "  </tbody>\n",
       "</table>\n",
       "</div>"
      ],
      "text/plain": [
       "               claim_type_breakdown\n",
       "claim_type                         \n",
       "institutional                 76.63\n",
       "professional                  23.37"
      ]
     },
     "execution_count": 70,
     "metadata": {},
     "output_type": "execute_result"
    }
   ],
   "source": [
    "# Percentage breakdown\n",
    "vals = claim_df['claim_type'].value_counts(normalize=True) * 100\n",
    "pd.DataFrame({\n",
    "  'claim_type_breakdown': vals\n",
    "}).head(10)"
   ]
  },
  {
   "cell_type": "code",
   "execution_count": 71,
   "id": "f751a5a6",
   "metadata": {},
   "outputs": [
    {
     "data": {
      "text/html": [
       "<div>\n",
       "<style scoped>\n",
       "    .dataframe tbody tr th:only-of-type {\n",
       "        vertical-align: middle;\n",
       "    }\n",
       "\n",
       "    .dataframe tbody tr th {\n",
       "        vertical-align: top;\n",
       "    }\n",
       "\n",
       "    .dataframe thead th {\n",
       "        text-align: right;\n",
       "    }\n",
       "</style>\n",
       "<table border=\"1\" class=\"dataframe\">\n",
       "  <thead>\n",
       "    <tr style=\"text-align: right;\">\n",
       "      <th></th>\n",
       "      <th>location_of_bill_breakdown</th>\n",
       "    </tr>\n",
       "    <tr>\n",
       "      <th>location_of_bill</th>\n",
       "      <th></th>\n",
       "    </tr>\n",
       "  </thead>\n",
       "  <tbody>\n",
       "    <tr>\n",
       "      <th>2</th>\n",
       "      <td>90.695550</td>\n",
       "    </tr>\n",
       "    <tr>\n",
       "      <th>4</th>\n",
       "      <td>7.007699</td>\n",
       "    </tr>\n",
       "    <tr>\n",
       "      <th>3</th>\n",
       "      <td>1.526817</td>\n",
       "    </tr>\n",
       "    <tr>\n",
       "      <th>9</th>\n",
       "      <td>0.769933</td>\n",
       "    </tr>\n",
       "  </tbody>\n",
       "</table>\n",
       "</div>"
      ],
      "text/plain": [
       "                  location_of_bill_breakdown\n",
       "location_of_bill                            \n",
       "2                                  90.695550\n",
       "4                                   7.007699\n",
       "3                                   1.526817\n",
       "9                                   0.769933"
      ]
     },
     "execution_count": 71,
     "metadata": {},
     "output_type": "execute_result"
    }
   ],
   "source": [
    "# Percentage breakdown\n",
    "vals = claim_df['location_of_bill'].value_counts(normalize=True) * 100\n",
    "pd.DataFrame({\n",
    "  'location_of_bill_breakdown': vals\n",
    "}).head(10)"
   ]
  },
  {
   "cell_type": "code",
   "execution_count": null,
   "id": "d0fd9a81",
   "metadata": {},
   "outputs": [],
   "source": []
  }
 ],
 "metadata": {
  "kernelspec": {
   "display_name": ".venv (3.13.7)",
   "language": "python",
   "name": "python3"
  },
  "language_info": {
   "codemirror_mode": {
    "name": "ipython",
    "version": 3
   },
   "file_extension": ".py",
   "mimetype": "text/x-python",
   "name": "python",
   "nbconvert_exporter": "python",
   "pygments_lexer": "ipython3",
   "version": "3.13.7"
  }
 },
 "nbformat": 4,
 "nbformat_minor": 5
}
