{
 "cells": [
  {
   "cell_type": "markdown",
   "id": "bd1ee762",
   "metadata": {},
   "source": [
    "# EDA of Patient Data\n",
    "# 02_EDA_Patient"
   ]
  },
  {
   "cell_type": "markdown",
   "id": "94e91f89",
   "metadata": {},
   "source": [
    "| Date | User | Change Type | Remarks |  \n",
    "| ---- | ---- | ----------- | ------- |\n",
    "| 28/09/2025 | Adrienne | Created   | Moved Martin's code to this program | \n",
    "| |  |  | |"
   ]
  },
  {
   "cell_type": "markdown",
   "id": "8099bc17",
   "metadata": {},
   "source": [
    "# Content\n",
    "\n",
    "* [Introduction](#introduction)"
   ]
  },
  {
   "cell_type": "code",
   "execution_count": 4,
   "id": "398b56c7",
   "metadata": {},
   "outputs": [],
   "source": [
    "import pandas as pd\n",
    "import numpy as np\n",
    "import matplotlib.pyplot as plt\n",
    "import re\n",
    "from datetime import datetime\n",
    "import json_lines\n",
    "import seaborn as sns"
   ]
  },
  {
   "cell_type": "code",
   "execution_count": 11,
   "id": "0efa0302",
   "metadata": {},
   "outputs": [],
   "source": [
    "path = \"../data/clean\"\n",
    "#claim = pd.read_pickle(f\"{path}/claim.pkl\")\n",
    "claim = pd.read_pickle(f\"{path}/claim_mini_sample.pkl\")\n",
    "patient = pd.read_pickle(f\"{path}/patient.pkl\")\n",
    "eob = pd.read_pickle(f\"{path}/eob.pkl\")\n",
    "# coverage = pd.read_pickle(f\"{path}/coverage.pkl\")"
   ]
  },
  {
   "cell_type": "code",
   "execution_count": 10,
   "id": "579b667e",
   "metadata": {},
   "outputs": [
    {
     "name": "stdout",
     "output_type": "stream",
     "text": [
      "Index(['address_0_city', 'address_0_line', 'address_0_postalCode',\n",
      "       'address_0_state', 'birthDate', 'deceasedDateTime', 'extension_0_url',\n",
      "       'extension_0_valueCode', 'extension_1_url',\n",
      "       'extension_1_valueCoding_code', 'extension_1_valueCoding_display',\n",
      "       'extension_1_valueCoding_system', 'extension_2_extension_0_url',\n",
      "       'extension_2_extension_0_valueCoding_code',\n",
      "       'extension_2_extension_0_valueCoding_display',\n",
      "       'extension_2_extension_0_valueCoding_system',\n",
      "       'extension_2_extension_1_url', 'extension_2_extension_1_valueString',\n",
      "       'extension_2_url', 'extension_3_url', 'extension_3_valueDate',\n",
      "       'extension_4_url', 'extension_4_valueCoding_code',\n",
      "       'extension_4_valueCoding_system', 'extension_5_url',\n",
      "       'extension_5_valueCoding_code', 'extension_5_valueCoding_system',\n",
      "       'extension_6_url', 'extension_6_valueCoding_code',\n",
      "       'extension_6_valueCoding_system', 'extension_7_url',\n",
      "       'extension_7_valueCoding_code', 'extension_7_valueCoding_system',\n",
      "       'extension_8_url', 'extension_8_valueCoding_code',\n",
      "       'extension_8_valueCoding_system', 'extension_9_url',\n",
      "       'extension_9_valueCoding_code', 'extension_9_valueCoding_system',\n",
      "       'extension_10_url', 'extension_10_valueCoding_code',\n",
      "       'extension_10_valueCoding_system', 'extension_11_url',\n",
      "       'extension_11_valueCoding_code', 'extension_11_valueCoding_system',\n",
      "       'extension_12_url', 'extension_12_valueCoding_code',\n",
      "       'extension_12_valueCoding_system', 'extension_13_url',\n",
      "       'extension_13_valueCoding_code', 'extension_13_valueCoding_system',\n",
      "       'extension_14_url', 'extension_14_valueCoding_code',\n",
      "       'extension_14_valueCoding_system', 'extension_15_url',\n",
      "       'extension_15_valueCoding_code', 'extension_15_valueCoding_system',\n",
      "       'gender', 'id', 'identifier_0_system',\n",
      "       'identifier_0_type_coding_0_code', 'identifier_0_type_coding_0_display',\n",
      "       'identifier_0_type_coding_0_system', 'identifier_0_value',\n",
      "       'identifier_1_period_start', 'identifier_1_system',\n",
      "       'identifier_1_type_coding_0_code', 'identifier_1_type_coding_0_display',\n",
      "       'identifier_1_type_coding_0_extension_0_url',\n",
      "       'identifier_1_type_coding_0_extension_0_valueCoding_code',\n",
      "       'identifier_1_type_coding_0_extension_0_valueCoding_display',\n",
      "       'identifier_1_type_coding_0_extension_0_valueCoding_system',\n",
      "       'identifier_1_type_coding_0_system', 'identifier_1_value',\n",
      "       'meta_lastUpdated', 'meta_profile', 'name_0_family', 'name_0_given',\n",
      "       'name_0_use', 'resourceType', 'identifier_2_system',\n",
      "       'identifier_2_type_coding_0_code', 'identifier_2_type_coding_0_display',\n",
      "       'identifier_2_type_coding_0_extension_0_url',\n",
      "       'identifier_2_type_coding_0_extension_0_valueCoding_code',\n",
      "       'identifier_2_type_coding_0_extension_0_valueCoding_display',\n",
      "       'identifier_2_type_coding_0_extension_0_valueCoding_system',\n",
      "       'identifier_2_type_coding_0_system', 'identifier_2_value',\n",
      "       'patient_medicare_number', 'patient_number', 'patient_first_name',\n",
      "       'patient_last_name'],\n",
      "      dtype='object')\n"
     ]
    }
   ],
   "source": [
    "print(patient.columns)"
   ]
  },
  {
   "cell_type": "code",
   "execution_count": 12,
   "id": "733b02c7",
   "metadata": {},
   "outputs": [],
   "source": [
    "# Select relevant columns for initial exploration\n",
    "patient = patient[['address_0_state', 'birthDate', 'deceasedBoolean', 'extension_1_valueCoding_display', 'extension_3_valueDate', 'gender', 'id', 'identifier_1_value', 'deceasedBoolean', 'deceasedDateTime', 'address_0_postalCode']]\n",
    "patient = patient.rename({\n",
    "  'extension_1_valueCoding_display': 'race',\n",
    "  'extension_3_valueDate': 'referenceYear',\n",
    "  'identifier_1_value': 'patient_medicare_number',\n",
    "  'address_0_postal_code': 'postalCode'\n",
    "}, axis=1)"
   ]
  },
  {
   "cell_type": "markdown",
   "id": "f9dc37e1",
   "metadata": {},
   "source": [
    "### Exploring a Patient"
   ]
  },
  {
   "cell_type": "code",
   "execution_count": 13,
   "id": "ea3add62",
   "metadata": {},
   "outputs": [],
   "source": [
    "patient_id = -10000000000322\n",
    "medicare_number = \"1S00E00AA50\""
   ]
  },
  {
   "cell_type": "code",
   "execution_count": 16,
   "id": "4143c6fa",
   "metadata": {},
   "outputs": [],
   "source": [
    "c = claim[claim['patient_medicare_number'] == medicare_number]\n",
    "e = eob[eob['patient_number'] == str(patient_id)]\n",
    "p = patient[patient['patient_medicare_number'] == medicare_number]"
   ]
  },
  {
   "cell_type": "code",
   "execution_count": 23,
   "id": "f155bed1",
   "metadata": {},
   "outputs": [
    {
     "data": {
      "text/plain": [
       "32504         100005174\n",
       "32434         100007096\n",
       "32467         100005066\n",
       "32521    22729615336f16\n",
       "32473         100005075\n",
       "Name: unique_claim_ID, dtype: object"
      ]
     },
     "execution_count": 23,
     "metadata": {},
     "output_type": "execute_result"
    }
   ],
   "source": [
    "c.unique_claim_ID.head()"
   ]
  },
  {
   "cell_type": "code",
   "execution_count": 17,
   "id": "c7a6f033",
   "metadata": {},
   "outputs": [
    {
     "name": "stderr",
     "output_type": "stream",
     "text": [
      "/var/folders/h7/vnb5cqf52l31_n7r6zv3j6z80000gn/T/ipykernel_9970/1545779030.py:2: SettingWithCopyWarning: \n",
      "A value is trying to be set on a copy of a slice from a DataFrame.\n",
      "Try using .loc[row_indexer,col_indexer] = value instead\n",
      "\n",
      "See the caveats in the documentation: https://pandas.pydata.org/pandas-docs/stable/user_guide/indexing.html#returning-a-view-versus-a-copy\n",
      "  c['hcpcs_0'] = c['hcpcs_ls'].str[0]\n"
     ]
    },
    {
     "data": {
      "text/html": [
       "<div>\n",
       "<style scoped>\n",
       "    .dataframe tbody tr th:only-of-type {\n",
       "        vertical-align: middle;\n",
       "    }\n",
       "\n",
       "    .dataframe tbody tr th {\n",
       "        vertical-align: top;\n",
       "    }\n",
       "\n",
       "    .dataframe thead th {\n",
       "        text-align: right;\n",
       "    }\n",
       "</style>\n",
       "<table border=\"1\" class=\"dataframe\">\n",
       "  <thead>\n",
       "    <tr style=\"text-align: right;\">\n",
       "      <th></th>\n",
       "      <th>billablePeriod_end</th>\n",
       "      <th>billablePeriod_start</th>\n",
       "      <th>contained_0_birthDate</th>\n",
       "      <th>contained_0_gender</th>\n",
       "      <th>contained_0_id</th>\n",
       "      <th>contained_0_identifier_0_type_coding_0_code</th>\n",
       "      <th>contained_0_identifier_0_type_coding_0_display</th>\n",
       "      <th>contained_0_identifier_0_value</th>\n",
       "      <th>contained_0_name_0_family</th>\n",
       "      <th>contained_0_name_0_given</th>\n",
       "      <th>...</th>\n",
       "      <th>drg_code</th>\n",
       "      <th>provider_number</th>\n",
       "      <th>national_provider_identifier</th>\n",
       "      <th>type_of_bill</th>\n",
       "      <th>claim_type</th>\n",
       "      <th>location_of_bill</th>\n",
       "      <th>diagnosis_ls</th>\n",
       "      <th>hcpcs_ls</th>\n",
       "      <th>procedure_ls</th>\n",
       "      <th>hcpcs_0</th>\n",
       "    </tr>\n",
       "  </thead>\n",
       "  <tbody>\n",
       "  </tbody>\n",
       "</table>\n",
       "<p>0 rows × 2459 columns</p>\n",
       "</div>"
      ],
      "text/plain": [
       "Empty DataFrame\n",
       "Columns: [billablePeriod_end, billablePeriod_start, contained_0_birthDate, contained_0_gender, contained_0_id, contained_0_identifier_0_type_coding_0_code, contained_0_identifier_0_type_coding_0_display, contained_0_identifier_0_value, contained_0_name_0_family, contained_0_name_0_given, contained_0_name_0_text, contained_0_resourceType, contained_1_id, contained_1_identifier_0_type_coding_0_code, contained_1_identifier_0_type_coding_0_display, contained_1_identifier_0_value, contained_1_identifier_1_type_coding_0_code, contained_1_identifier_1_type_coding_0_display, contained_1_identifier_1_value, contained_1_resourceType, created, diagnosis_0_diagnosisCodeableConcept_coding_0_code, diagnosis_0_sequence, diagnosis_1_diagnosisCodeableConcept_coding_0_code, diagnosis_1_sequence, diagnosis_2_diagnosisCodeableConcept_coding_0_code, diagnosis_2_sequence, diagnosis_3_diagnosisCodeableConcept_coding_0_code, diagnosis_3_sequence, diagnosis_4_diagnosisCodeableConcept_coding_0_code, diagnosis_4_sequence, diagnosis_5_diagnosisCodeableConcept_coding_0_code, diagnosis_5_sequence, diagnosis_6_diagnosisCodeableConcept_coding_0_code, diagnosis_6_sequence, diagnosis_6_type_0_coding_0_code, diagnosis_6_type_0_coding_0_display, diagnosis_6_type_1_coding_0_code, diagnosis_6_type_1_coding_0_display, diagnosis_7_diagnosisCodeableConcept_coding_0_code, diagnosis_7_sequence, diagnosis_8_diagnosisCodeableConcept_coding_0_code, diagnosis_8_sequence, diagnosis_9_diagnosisCodeableConcept_coding_0_code, diagnosis_9_sequence, id, identifier_0_type_coding_0_code, identifier_0_type_coding_0_display, identifier_0_value, insurance_0_coverage_identifier_value, insurance_0_focal, insurance_0_sequence, item_0_productOrService_coding_0_code, item_0_revenue_coding_0_code, item_0_sequence, item_0_servicedDate, meta_lastUpdated, patient_reference, priority_coding_0_code, priority_coding_0_display, provider_reference, resourceType, status, supportingInfo_0_category_coding_0_code, supportingInfo_0_category_coding_0_display, supportingInfo_0_code_coding_0_code, supportingInfo_0_sequence, supportingInfo_1_category_coding_0_code, supportingInfo_1_category_coding_0_display, supportingInfo_1_category_coding_1_code, supportingInfo_1_category_coding_1_display, supportingInfo_1_code_coding_0_code, supportingInfo_1_sequence, total_currency, total_value, type_coding_0_code, type_coding_0_display, use, procedure, diagnosis_0_type_0_coding_0_code, diagnosis_0_type_0_coding_0_display, diagnosis_10_diagnosisCodeableConcept_coding_0_code, diagnosis_10_sequence, diagnosis_11_diagnosisCodeableConcept_coding_0_code, diagnosis_11_sequence, diagnosis_11_type_0_coding_0_code, diagnosis_11_type_0_coding_0_display, diagnosis_10_type_0_coding_0_code, diagnosis_10_type_0_coding_0_display, diagnosis_3_type_0_coding_0_code, diagnosis_3_type_0_coding_0_display, diagnosis_1_type_0_coding_0_code, diagnosis_1_type_0_coding_0_display, diagnosis_1_type_1_coding_0_code, diagnosis_1_type_1_coding_0_display, item, facility, insurance, supportingInfo, item_0_servicedPeriod_end, ...]\n",
       "Index: []\n",
       "\n",
       "[0 rows x 2459 columns]"
      ]
     },
     "execution_count": 17,
     "metadata": {},
     "output_type": "execute_result"
    }
   ],
   "source": [
    "\n",
    "# Checking if there are any non-na DRGs with HCPCS codes\n",
    "c['hcpcs_0'] = c['hcpcs_ls'].str[0]\n",
    "c[(~c['drg_code'].isna()) & (~c['hcpcs_0'].isna())]"
   ]
  },
  {
   "cell_type": "code",
   "execution_count": 25,
   "id": "d0af0c98",
   "metadata": {},
   "outputs": [
    {
     "data": {
      "text/html": [
       "<div>\n",
       "<style scoped>\n",
       "    .dataframe tbody tr th:only-of-type {\n",
       "        vertical-align: middle;\n",
       "    }\n",
       "\n",
       "    .dataframe tbody tr th {\n",
       "        vertical-align: top;\n",
       "    }\n",
       "\n",
       "    .dataframe thead th {\n",
       "        text-align: right;\n",
       "    }\n",
       "</style>\n",
       "<table border=\"1\" class=\"dataframe\">\n",
       "  <thead>\n",
       "    <tr style=\"text-align: right;\">\n",
       "      <th></th>\n",
       "      <th>billablePeriod_end</th>\n",
       "      <th>billablePeriod_start</th>\n",
       "      <th>contained_0_birthDate</th>\n",
       "      <th>contained_0_gender</th>\n",
       "      <th>contained_0_id</th>\n",
       "      <th>contained_0_identifier_0_type_coding_0_code</th>\n",
       "      <th>contained_0_identifier_0_type_coding_0_display</th>\n",
       "      <th>contained_0_identifier_0_value</th>\n",
       "      <th>contained_0_name_0_family</th>\n",
       "      <th>contained_0_name_0_given</th>\n",
       "      <th>...</th>\n",
       "      <th>drg_code</th>\n",
       "      <th>provider_number</th>\n",
       "      <th>national_provider_identifier</th>\n",
       "      <th>type_of_bill</th>\n",
       "      <th>claim_type</th>\n",
       "      <th>location_of_bill</th>\n",
       "      <th>diagnosis_ls</th>\n",
       "      <th>hcpcs_ls</th>\n",
       "      <th>procedure_ls</th>\n",
       "      <th>hcpcs_0</th>\n",
       "    </tr>\n",
       "  </thead>\n",
       "  <tbody>\n",
       "    <tr>\n",
       "      <th>32504</th>\n",
       "      <td>2005-12-16</td>\n",
       "      <td>2005-12-16</td>\n",
       "      <td>NaN</td>\n",
       "      <td>female</td>\n",
       "      <td>patient</td>\n",
       "      <td>MC</td>\n",
       "      <td>Patient's Medicare Number</td>\n",
       "      <td>1S00E00AA50</td>\n",
       "      <td>Moore2</td>\n",
       "      <td>[\"L.\"]</td>\n",
       "      <td>...</td>\n",
       "      <td>NaN</td>\n",
       "      <td>8888853578</td>\n",
       "      <td>NaN</td>\n",
       "      <td>NaN</td>\n",
       "      <td>professional</td>\n",
       "      <td>NaN</td>\n",
       "      <td>[D649, E669, I10]</td>\n",
       "      <td>[]</td>\n",
       "      <td>[]</td>\n",
       "      <td>NaN</td>\n",
       "    </tr>\n",
       "  </tbody>\n",
       "</table>\n",
       "<p>1 rows × 2459 columns</p>\n",
       "</div>"
      ],
      "text/plain": [
       "      billablePeriod_end billablePeriod_start contained_0_birthDate  \\\n",
       "32504         2005-12-16           2005-12-16                   NaN   \n",
       "\n",
       "      contained_0_gender contained_0_id  \\\n",
       "32504             female        patient   \n",
       "\n",
       "      contained_0_identifier_0_type_coding_0_code  \\\n",
       "32504                                          MC   \n",
       "\n",
       "      contained_0_identifier_0_type_coding_0_display  \\\n",
       "32504                      Patient's Medicare Number   \n",
       "\n",
       "      contained_0_identifier_0_value contained_0_name_0_family  \\\n",
       "32504                    1S00E00AA50                    Moore2   \n",
       "\n",
       "      contained_0_name_0_given  ... drg_code provider_number  \\\n",
       "32504                   [\"L.\"]  ...      NaN      8888853578   \n",
       "\n",
       "      national_provider_identifier type_of_bill    claim_type  \\\n",
       "32504                          NaN          NaN  professional   \n",
       "\n",
       "      location_of_bill       diagnosis_ls hcpcs_ls procedure_ls hcpcs_0  \n",
       "32504              NaN  [D649, E669, I10]       []           []     NaN  \n",
       "\n",
       "[1 rows x 2459 columns]"
      ]
     },
     "execution_count": 25,
     "metadata": {},
     "output_type": "execute_result"
    }
   ],
   "source": [
    "#c[c['unique_claim_ID'] == '-100007150']\n",
    "c[c['unique_claim_ID'] == '100005174']"
   ]
  },
  {
   "cell_type": "code",
   "execution_count": null,
   "id": "27b7b20f",
   "metadata": {},
   "outputs": [],
   "source": [
    "# print(f\"Patient - Medicare Number: {medicare_number}\")\n",
    "# print(f\"Race: {p['race']}\")\n",
    "# print(f\"Gender: {p['gender']}\")\n",
    "# print(f\"Birth Date: {p['birthDate']}\")\n",
    "# print(f\"Deceased: {p['deceasedBoolean'] == 1}\")\n",
    "# print(f\"Postal Code: {p['address_0_postalCode']}\")"
   ]
  }
 ],
 "metadata": {
  "kernelspec": {
   "display_name": ".venv (3.13.7)",
   "language": "python",
   "name": "python3"
  },
  "language_info": {
   "codemirror_mode": {
    "name": "ipython",
    "version": 3
   },
   "file_extension": ".py",
   "mimetype": "text/x-python",
   "name": "python",
   "nbconvert_exporter": "python",
   "pygments_lexer": "ipython3",
   "version": "3.13.7"
  }
 },
 "nbformat": 4,
 "nbformat_minor": 5
}
