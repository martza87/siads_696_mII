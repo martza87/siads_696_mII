{
 "cells": [
  {
   "cell_type": "markdown",
   "id": "bd1ee762",
   "metadata": {},
   "source": [
    "# EDA of Patient Data\n",
    "## 02_EDA_Patient"
   ]
  },
  {
   "cell_type": "markdown",
   "id": "94e91f89",
   "metadata": {},
   "source": [
    "| Date | User | Change Type | Remarks |  \n",
    "| ---- | ---- | ----------- | ------- |\n",
    "| 28/09/2025 | Adrienne | Created   | Moved Martin's code to this program | \n",
    "| 13/10/2025 | Martin | Updated   | Code cleanup | "
   ]
  },
  {
   "cell_type": "markdown",
   "id": "8099bc17",
   "metadata": {},
   "source": [
    "## Content\n",
    "\n",
    "* [Load Data](#load-data)\n",
    "* [Patient Data Exploration](#patient-data-exploration)"
   ]
  },
  {
   "cell_type": "code",
   "execution_count": 1,
   "id": "398b56c7",
   "metadata": {},
   "outputs": [],
   "source": [
    "import pandas as pd\n",
    "import numpy as np\n",
    "import matplotlib.pyplot as plt\n",
    "import re\n",
    "from datetime import datetime\n",
    "import json_lines\n",
    "import seaborn as sns"
   ]
  },
  {
   "cell_type": "markdown",
   "id": "1fe924c9",
   "metadata": {},
   "source": [
    "### Load Data"
   ]
  },
  {
   "cell_type": "code",
   "execution_count": null,
   "id": "0efa0302",
   "metadata": {},
   "outputs": [],
   "source": [
    "path = \"../data/clean\"\n",
    "claim = pd.read_pickle(f\"{path}/claim.pkl\")\n",
    "patient = pd.read_pickle(f\"{path}/patient.pkl\")\n",
    "eob = pd.read_pickle(f\"{path}/eob.pkl\")\n",
    "# coverage = pd.read_pickle(f\"{path}/coverage.pkl\")"
   ]
  },
  {
   "cell_type": "markdown",
   "id": "bbd87997",
   "metadata": {},
   "source": [
    "### Patient Data Exploration\n",
    "\n",
    "What does a single patient \"look\" like across all our data?"
   ]
  },
  {
   "cell_type": "code",
   "execution_count": 10,
   "id": "733b02c7",
   "metadata": {},
   "outputs": [],
   "source": [
    "# Select relevant columns for initial exploration\n",
    "patient = patient[['address_0_state', 'birthDate', 'deceasedBoolean', 'extension_1_valueCoding_display', 'extension_3_valueDate', 'gender', 'id', 'identifier_1_value', 'deceasedBoolean', 'deceasedDateTime', 'address_0_postalCode']]\n",
    "patient = patient.rename({\n",
    "  'extension_1_valueCoding_display': 'race',\n",
    "  'extension_3_valueDate': 'referenceYear',\n",
    "  'identifier_1_value': 'patient_medicare_number',\n",
    "  'address_0_postal_code': 'postalCode'\n",
    "}, axis=1)"
   ]
  },
  {
   "cell_type": "code",
   "execution_count": 15,
   "id": "6e6757f3",
   "metadata": {},
   "outputs": [
    {
     "data": {
      "text/html": [
       "<div>\n",
       "<style scoped>\n",
       "    .dataframe tbody tr th:only-of-type {\n",
       "        vertical-align: middle;\n",
       "    }\n",
       "\n",
       "    .dataframe tbody tr th {\n",
       "        vertical-align: top;\n",
       "    }\n",
       "\n",
       "    .dataframe thead th {\n",
       "        text-align: right;\n",
       "    }\n",
       "</style>\n",
       "<table border=\"1\" class=\"dataframe\">\n",
       "  <thead>\n",
       "    <tr style=\"text-align: right;\">\n",
       "      <th></th>\n",
       "      <th>address_0_state</th>\n",
       "      <th>birthDate</th>\n",
       "      <th>deceasedBoolean</th>\n",
       "      <th>race</th>\n",
       "      <th>referenceYear</th>\n",
       "      <th>gender</th>\n",
       "      <th>id</th>\n",
       "      <th>patient_medicare_number</th>\n",
       "      <th>deceasedBoolean</th>\n",
       "      <th>deceasedDateTime</th>\n",
       "      <th>address_0_postalCode</th>\n",
       "    </tr>\n",
       "  </thead>\n",
       "  <tbody>\n",
       "    <tr>\n",
       "      <th>0</th>\n",
       "      <td>34</td>\n",
       "      <td>1999-06-01</td>\n",
       "      <td>1</td>\n",
       "      <td>White</td>\n",
       "      <td>0003</td>\n",
       "      <td>male</td>\n",
       "      <td>-19990000001684</td>\n",
       "      <td>1S76A00AA00</td>\n",
       "      <td>1</td>\n",
       "      <td>1981-03-17</td>\n",
       "      <td>99999</td>\n",
       "    </tr>\n",
       "    <tr>\n",
       "      <th>1</th>\n",
       "      <td>37</td>\n",
       "      <td>1999-06-01</td>\n",
       "      <td>1</td>\n",
       "      <td>White</td>\n",
       "      <td>0003</td>\n",
       "      <td>female</td>\n",
       "      <td>-19990000008033</td>\n",
       "      <td>5SQ9D00AA00</td>\n",
       "      <td>1</td>\n",
       "      <td>1981-03-17</td>\n",
       "      <td>99999</td>\n",
       "    </tr>\n",
       "    <tr>\n",
       "      <th>2</th>\n",
       "      <td>21</td>\n",
       "      <td>1999-06-01</td>\n",
       "      <td>1</td>\n",
       "      <td>White</td>\n",
       "      <td>0003</td>\n",
       "      <td>male</td>\n",
       "      <td>-19990000008626</td>\n",
       "      <td>4SX1E00AA00</td>\n",
       "      <td>1</td>\n",
       "      <td>1981-03-17</td>\n",
       "      <td>99999</td>\n",
       "    </tr>\n",
       "    <tr>\n",
       "      <th>3</th>\n",
       "      <td>33</td>\n",
       "      <td>2000-06-01</td>\n",
       "      <td>1</td>\n",
       "      <td>White</td>\n",
       "      <td>0003</td>\n",
       "      <td>male</td>\n",
       "      <td>-20000000001114</td>\n",
       "      <td>8S41F00AA00</td>\n",
       "      <td>1</td>\n",
       "      <td>1981-03-17</td>\n",
       "      <td>99999</td>\n",
       "    </tr>\n",
       "    <tr>\n",
       "      <th>4</th>\n",
       "      <td>01</td>\n",
       "      <td>2000-06-01</td>\n",
       "      <td>1</td>\n",
       "      <td>White</td>\n",
       "      <td>0003</td>\n",
       "      <td>female</td>\n",
       "      <td>-20000000006275</td>\n",
       "      <td>3S80H00AA00</td>\n",
       "      <td>1</td>\n",
       "      <td>1981-03-17</td>\n",
       "      <td>99999</td>\n",
       "    </tr>\n",
       "  </tbody>\n",
       "</table>\n",
       "</div>"
      ],
      "text/plain": [
       "  address_0_state   birthDate  deceasedBoolean   race referenceYear  gender  \\\n",
       "0              34  1999-06-01                1  White          0003    male   \n",
       "1              37  1999-06-01                1  White          0003  female   \n",
       "2              21  1999-06-01                1  White          0003    male   \n",
       "3              33  2000-06-01                1  White          0003    male   \n",
       "4              01  2000-06-01                1  White          0003  female   \n",
       "\n",
       "               id patient_medicare_number  deceasedBoolean deceasedDateTime  \\\n",
       "0 -19990000001684             1S76A00AA00                1       1981-03-17   \n",
       "1 -19990000008033             5SQ9D00AA00                1       1981-03-17   \n",
       "2 -19990000008626             4SX1E00AA00                1       1981-03-17   \n",
       "3 -20000000001114             8S41F00AA00                1       1981-03-17   \n",
       "4 -20000000006275             3S80H00AA00                1       1981-03-17   \n",
       "\n",
       "  address_0_postalCode  \n",
       "0                99999  \n",
       "1                99999  \n",
       "2                99999  \n",
       "3                99999  \n",
       "4                99999  "
      ]
     },
     "execution_count": 15,
     "metadata": {},
     "output_type": "execute_result"
    }
   ],
   "source": [
    "patient.head()"
   ]
  },
  {
   "cell_type": "code",
   "execution_count": 11,
   "id": "ea3add62",
   "metadata": {},
   "outputs": [],
   "source": [
    "patient_id = -10000000000322\n",
    "medicare_number = \"1S00E00AA50\""
   ]
  },
  {
   "cell_type": "code",
   "execution_count": 16,
   "id": "4143c6fa",
   "metadata": {},
   "outputs": [],
   "source": [
    "c = claim[claim['patient_medicare_number'] == medicare_number]\n",
    "e = eob[eob['id'] == str(patient_id)]\n",
    "p = patient[patient['patient_medicare_number'] == medicare_number]"
   ]
  },
  {
   "cell_type": "code",
   "execution_count": 17,
   "id": "f155bed1",
   "metadata": {},
   "outputs": [
    {
     "data": {
      "text/plain": [
       "32504         100005174\n",
       "32434         100007096\n",
       "32467         100005066\n",
       "32521    22729615336f16\n",
       "32473         100005075\n",
       "Name: unique_claim_ID, dtype: object"
      ]
     },
     "execution_count": 17,
     "metadata": {},
     "output_type": "execute_result"
    }
   ],
   "source": [
    "c.unique_claim_ID.head()"
   ]
  },
  {
   "cell_type": "code",
   "execution_count": 18,
   "id": "c7a6f033",
   "metadata": {},
   "outputs": [
    {
     "name": "stderr",
     "output_type": "stream",
     "text": [
      "/var/folders/df/6w983x9x0cg5pppshqj46f500000gn/T/ipykernel_3983/1330616593.py:2: SettingWithCopyWarning: \n",
      "A value is trying to be set on a copy of a slice from a DataFrame.\n",
      "Try using .loc[row_indexer,col_indexer] = value instead\n",
      "\n",
      "See the caveats in the documentation: https://pandas.pydata.org/pandas-docs/stable/user_guide/indexing.html#returning-a-view-versus-a-copy\n",
      "  c['hcpcs_0'] = c['hcpcs_ls'].str[0]\n"
     ]
    },
    {
     "data": {
      "text/html": [
       "<div>\n",
       "<style scoped>\n",
       "    .dataframe tbody tr th:only-of-type {\n",
       "        vertical-align: middle;\n",
       "    }\n",
       "\n",
       "    .dataframe tbody tr th {\n",
       "        vertical-align: top;\n",
       "    }\n",
       "\n",
       "    .dataframe thead th {\n",
       "        text-align: right;\n",
       "    }\n",
       "</style>\n",
       "<table border=\"1\" class=\"dataframe\">\n",
       "  <thead>\n",
       "    <tr style=\"text-align: right;\">\n",
       "      <th></th>\n",
       "      <th>billablePeriod_end</th>\n",
       "      <th>billablePeriod_start</th>\n",
       "      <th>contained_0_birthDate</th>\n",
       "      <th>contained_0_gender</th>\n",
       "      <th>contained_0_id</th>\n",
       "      <th>contained_0_identifier_0_type_coding_0_code</th>\n",
       "      <th>contained_0_identifier_0_type_coding_0_display</th>\n",
       "      <th>contained_0_identifier_0_value</th>\n",
       "      <th>contained_0_name_0_family</th>\n",
       "      <th>contained_0_name_0_given</th>\n",
       "      <th>...</th>\n",
       "      <th>drg_code</th>\n",
       "      <th>provider_number</th>\n",
       "      <th>national_provider_identifier</th>\n",
       "      <th>type_of_bill</th>\n",
       "      <th>claim_type</th>\n",
       "      <th>location_of_bill</th>\n",
       "      <th>diagnosis_ls</th>\n",
       "      <th>hcpcs_ls</th>\n",
       "      <th>procedure_ls</th>\n",
       "      <th>hcpcs_0</th>\n",
       "    </tr>\n",
       "  </thead>\n",
       "  <tbody>\n",
       "  </tbody>\n",
       "</table>\n",
       "<p>0 rows × 2459 columns</p>\n",
       "</div>"
      ],
      "text/plain": [
       "Empty DataFrame\n",
       "Columns: [billablePeriod_end, billablePeriod_start, contained_0_birthDate, contained_0_gender, contained_0_id, contained_0_identifier_0_type_coding_0_code, contained_0_identifier_0_type_coding_0_display, contained_0_identifier_0_value, contained_0_name_0_family, contained_0_name_0_given, contained_0_name_0_text, contained_0_resourceType, contained_1_id, contained_1_identifier_0_type_coding_0_code, contained_1_identifier_0_type_coding_0_display, contained_1_identifier_0_value, contained_1_identifier_1_type_coding_0_code, contained_1_identifier_1_type_coding_0_display, contained_1_identifier_1_value, contained_1_resourceType, created, diagnosis_0_diagnosisCodeableConcept_coding_0_code, diagnosis_0_sequence, diagnosis_1_diagnosisCodeableConcept_coding_0_code, diagnosis_1_sequence, diagnosis_2_diagnosisCodeableConcept_coding_0_code, diagnosis_2_sequence, diagnosis_3_diagnosisCodeableConcept_coding_0_code, diagnosis_3_sequence, diagnosis_4_diagnosisCodeableConcept_coding_0_code, diagnosis_4_sequence, diagnosis_5_diagnosisCodeableConcept_coding_0_code, diagnosis_5_sequence, diagnosis_6_diagnosisCodeableConcept_coding_0_code, diagnosis_6_sequence, diagnosis_6_type_0_coding_0_code, diagnosis_6_type_0_coding_0_display, diagnosis_6_type_1_coding_0_code, diagnosis_6_type_1_coding_0_display, diagnosis_7_diagnosisCodeableConcept_coding_0_code, diagnosis_7_sequence, diagnosis_8_diagnosisCodeableConcept_coding_0_code, diagnosis_8_sequence, diagnosis_9_diagnosisCodeableConcept_coding_0_code, diagnosis_9_sequence, id, identifier_0_type_coding_0_code, identifier_0_type_coding_0_display, identifier_0_value, insurance_0_coverage_identifier_value, insurance_0_focal, insurance_0_sequence, item_0_productOrService_coding_0_code, item_0_revenue_coding_0_code, item_0_sequence, item_0_servicedDate, meta_lastUpdated, patient_reference, priority_coding_0_code, priority_coding_0_display, provider_reference, resourceType, status, supportingInfo_0_category_coding_0_code, supportingInfo_0_category_coding_0_display, supportingInfo_0_code_coding_0_code, supportingInfo_0_sequence, supportingInfo_1_category_coding_0_code, supportingInfo_1_category_coding_0_display, supportingInfo_1_category_coding_1_code, supportingInfo_1_category_coding_1_display, supportingInfo_1_code_coding_0_code, supportingInfo_1_sequence, total_currency, total_value, type_coding_0_code, type_coding_0_display, use, procedure, diagnosis_0_type_0_coding_0_code, diagnosis_0_type_0_coding_0_display, diagnosis_10_diagnosisCodeableConcept_coding_0_code, diagnosis_10_sequence, diagnosis_11_diagnosisCodeableConcept_coding_0_code, diagnosis_11_sequence, diagnosis_11_type_0_coding_0_code, diagnosis_11_type_0_coding_0_display, diagnosis_10_type_0_coding_0_code, diagnosis_10_type_0_coding_0_display, diagnosis_3_type_0_coding_0_code, diagnosis_3_type_0_coding_0_display, diagnosis_1_type_0_coding_0_code, diagnosis_1_type_0_coding_0_display, diagnosis_1_type_1_coding_0_code, diagnosis_1_type_1_coding_0_display, item, facility, insurance, supportingInfo, item_0_servicedPeriod_end, ...]\n",
       "Index: []\n",
       "\n",
       "[0 rows x 2459 columns]"
      ]
     },
     "execution_count": 18,
     "metadata": {},
     "output_type": "execute_result"
    }
   ],
   "source": [
    "# Checking if there are any non-na DRGs with HCPCS codes\n",
    "c['hcpcs_0'] = c['hcpcs_ls'].str[0]\n",
    "c[(~c['drg_code'].isna()) & (~c['hcpcs_0'].isna())]"
   ]
  },
  {
   "cell_type": "code",
   "execution_count": 19,
   "id": "d0af0c98",
   "metadata": {},
   "outputs": [
    {
     "data": {
      "text/html": [
       "<div>\n",
       "<style scoped>\n",
       "    .dataframe tbody tr th:only-of-type {\n",
       "        vertical-align: middle;\n",
       "    }\n",
       "\n",
       "    .dataframe tbody tr th {\n",
       "        vertical-align: top;\n",
       "    }\n",
       "\n",
       "    .dataframe thead th {\n",
       "        text-align: right;\n",
       "    }\n",
       "</style>\n",
       "<table border=\"1\" class=\"dataframe\">\n",
       "  <thead>\n",
       "    <tr style=\"text-align: right;\">\n",
       "      <th></th>\n",
       "      <th>billablePeriod_end</th>\n",
       "      <th>billablePeriod_start</th>\n",
       "      <th>contained_0_birthDate</th>\n",
       "      <th>contained_0_gender</th>\n",
       "      <th>contained_0_id</th>\n",
       "      <th>contained_0_identifier_0_type_coding_0_code</th>\n",
       "      <th>contained_0_identifier_0_type_coding_0_display</th>\n",
       "      <th>contained_0_identifier_0_value</th>\n",
       "      <th>contained_0_name_0_family</th>\n",
       "      <th>contained_0_name_0_given</th>\n",
       "      <th>...</th>\n",
       "      <th>drg_code</th>\n",
       "      <th>provider_number</th>\n",
       "      <th>national_provider_identifier</th>\n",
       "      <th>type_of_bill</th>\n",
       "      <th>claim_type</th>\n",
       "      <th>location_of_bill</th>\n",
       "      <th>diagnosis_ls</th>\n",
       "      <th>hcpcs_ls</th>\n",
       "      <th>procedure_ls</th>\n",
       "      <th>hcpcs_0</th>\n",
       "    </tr>\n",
       "  </thead>\n",
       "  <tbody>\n",
       "    <tr>\n",
       "      <th>32504</th>\n",
       "      <td>2005-12-16</td>\n",
       "      <td>2005-12-16</td>\n",
       "      <td>NaN</td>\n",
       "      <td>female</td>\n",
       "      <td>patient</td>\n",
       "      <td>MC</td>\n",
       "      <td>Patient's Medicare Number</td>\n",
       "      <td>1S00E00AA50</td>\n",
       "      <td>Moore2</td>\n",
       "      <td>[\"L.\"]</td>\n",
       "      <td>...</td>\n",
       "      <td>NaN</td>\n",
       "      <td>8888853578</td>\n",
       "      <td>NaN</td>\n",
       "      <td>NaN</td>\n",
       "      <td>professional</td>\n",
       "      <td>NaN</td>\n",
       "      <td>[D649, E669, I10]</td>\n",
       "      <td>[]</td>\n",
       "      <td>[]</td>\n",
       "      <td>NaN</td>\n",
       "    </tr>\n",
       "  </tbody>\n",
       "</table>\n",
       "<p>1 rows × 2459 columns</p>\n",
       "</div>"
      ],
      "text/plain": [
       "      billablePeriod_end billablePeriod_start contained_0_birthDate  \\\n",
       "32504         2005-12-16           2005-12-16                   NaN   \n",
       "\n",
       "      contained_0_gender contained_0_id  \\\n",
       "32504             female        patient   \n",
       "\n",
       "      contained_0_identifier_0_type_coding_0_code  \\\n",
       "32504                                          MC   \n",
       "\n",
       "      contained_0_identifier_0_type_coding_0_display  \\\n",
       "32504                      Patient's Medicare Number   \n",
       "\n",
       "      contained_0_identifier_0_value contained_0_name_0_family  \\\n",
       "32504                    1S00E00AA50                    Moore2   \n",
       "\n",
       "      contained_0_name_0_given  ... drg_code provider_number  \\\n",
       "32504                   [\"L.\"]  ...      NaN      8888853578   \n",
       "\n",
       "      national_provider_identifier type_of_bill    claim_type  \\\n",
       "32504                          NaN          NaN  professional   \n",
       "\n",
       "      location_of_bill       diagnosis_ls hcpcs_ls procedure_ls hcpcs_0  \n",
       "32504              NaN  [D649, E669, I10]       []           []     NaN  \n",
       "\n",
       "[1 rows x 2459 columns]"
      ]
     },
     "execution_count": 19,
     "metadata": {},
     "output_type": "execute_result"
    }
   ],
   "source": [
    "#c[c['unique_claim_ID'] == '-100007150']\n",
    "c[c['unique_claim_ID'] == '100005174']"
   ]
  },
  {
   "cell_type": "code",
   "execution_count": null,
   "id": "27b7b20f",
   "metadata": {},
   "outputs": [],
   "source": [
    "# print(f\"Patient - Medicare Number: {medicare_number}\")\n",
    "# print(f\"Race: {p['race']}\")\n",
    "# print(f\"Gender: {p['gender']}\")\n",
    "# print(f\"Birth Date: {p['birthDate']}\")\n",
    "# print(f\"Deceased: {p['deceasedBoolean'] == 1}\")\n",
    "# print(f\"Postal Code: {p['address_0_postalCode']}\")"
   ]
  }
 ],
 "metadata": {
  "kernelspec": {
   "display_name": ".venv (3.13.7)",
   "language": "python",
   "name": "python3"
  },
  "language_info": {
   "codemirror_mode": {
    "name": "ipython",
    "version": 3
   },
   "file_extension": ".py",
   "mimetype": "text/x-python",
   "name": "python",
   "nbconvert_exporter": "python",
   "pygments_lexer": "ipython3",
   "version": "3.13.7"
  }
 },
 "nbformat": 4,
 "nbformat_minor": 5
}
