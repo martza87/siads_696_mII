{
 "cells": [
  {
   "cell_type": "markdown",
   "id": "bd1ee762",
   "metadata": {},
   "source": [
    "# EDA of Patient Data\n",
    "# 02_EDA_Patient"
   ]
  },
  {
   "cell_type": "markdown",
   "id": "94e91f89",
   "metadata": {},
   "source": [
    "| Date | User | Change Type | Remarks |  \n",
    "| ---- | ---- | ----------- | ------- |\n",
    "| 28/09/2025 | Adrienne | Created   | Moved Martin's code to this program | \n",
    "| |  |  | |"
   ]
  },
  {
   "cell_type": "markdown",
   "id": "8099bc17",
   "metadata": {},
   "source": [
    "# Content\n",
    "\n",
    "* [Introduction](#introduction)"
   ]
  },
  {
   "cell_type": "code",
   "execution_count": 2,
   "id": "398b56c7",
   "metadata": {},
   "outputs": [],
   "source": [
    "import pandas as pd\n",
    "import numpy as np\n",
    "import matplotlib.pyplot as plt\n",
    "import re\n",
    "from datetime import datetime\n",
    "import json_lines\n",
    "import seaborn as sns"
   ]
  },
  {
   "cell_type": "code",
   "execution_count": null,
   "id": "0efa0302",
   "metadata": {},
   "outputs": [],
   "source": [
    "path = \"../data/clean\"\n",
    "claim = pd.read_pickle(f\"{path}/claim_clean.pkl\")\n",
    "# claim_old = pd.read_pickle(f\"{path}/claim_old.pkl\")\n",
    "# claim_resp = pd.read_pickle(f\"{path}/claim_response.pkl\")\n",
    "patient = pd.read_pickle(f\"{path}/patient.pkl\")\n",
    "eob = pd.read_pickle(f\"{path}/explanation_of_benefit.pkl\")\n",
    "# coverage = pd.read_pickle(f\"{path}/coverage.pkl\")"
   ]
  },
  {
   "cell_type": "code",
   "execution_count": null,
   "id": "733b02c7",
   "metadata": {},
   "outputs": [],
   "source": [
    "# Select relevant columns for initial exploration\n",
    "patient = patient[['address_0_state', 'birthDate', 'deceasedBoolean', 'extension_1_valueCoding_display', 'extension_3_valueDate', 'gender', 'id', 'identifier_1_value', 'deceasedBoolean', 'deceasedDateTime', 'address_0_postalCode']]\n",
    "patient = patient.rename({\n",
    "  'extension_1_valueCoding_display': 'race',\n",
    "  'extension_3_valueDate': 'referenceYear',\n",
    "  'identifier_1_value': 'patient_medicare_number',\n",
    "  'address_0_postal_code': 'postalCode'\n",
    "}, axis=1)"
   ]
  },
  {
   "cell_type": "markdown",
   "id": "f9dc37e1",
   "metadata": {},
   "source": [
    "### Exploring a Patient"
   ]
  },
  {
   "cell_type": "code",
   "execution_count": null,
   "id": "ea3add62",
   "metadata": {},
   "outputs": [],
   "source": [
    "# patient_id = -10000000000322\n",
    "medicare_number = \"1S00E00AA50\""
   ]
  },
  {
   "cell_type": "code",
   "execution_count": null,
   "id": "4143c6fa",
   "metadata": {},
   "outputs": [],
   "source": [
    "c = claim[claim['patient_medicare_number'] == medicare_number]\n",
    "# e = eob[eob['patient'] == str(patient_id)]\n",
    "# p = patient[patient['identifier_1_value'] == medicare_number]"
   ]
  },
  {
   "cell_type": "code",
   "execution_count": null,
   "id": "c7a6f033",
   "metadata": {},
   "outputs": [],
   "source": [
    "# Checking if there are any non-na DRGs with HCPCS codes\n",
    "c[(~c['drg'].isna()) & (~c['hcpcs_0'].isna())]"
   ]
  },
  {
   "cell_type": "code",
   "execution_count": null,
   "id": "d0af0c98",
   "metadata": {},
   "outputs": [],
   "source": [
    "c[c['claim_id'] == '-100007150']"
   ]
  },
  {
   "cell_type": "code",
   "execution_count": null,
   "id": "27b7b20f",
   "metadata": {},
   "outputs": [],
   "source": []
  }
 ],
 "metadata": {
  "kernelspec": {
   "display_name": ".venv (3.13.7)",
   "language": "python",
   "name": "python3"
  },
  "language_info": {
   "codemirror_mode": {
    "name": "ipython",
    "version": 3
   },
   "file_extension": ".py",
   "mimetype": "text/x-python",
   "name": "python",
   "nbconvert_exporter": "python",
   "pygments_lexer": "ipython3",
   "version": "3.13.7"
  }
 },
 "nbformat": 4,
 "nbformat_minor": 5
}
