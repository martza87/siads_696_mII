{
 "cells": [
  {
   "cell_type": "markdown",
   "id": "890f572b",
   "metadata": {},
   "source": [
    "# Merging with Secondary Datasets\n",
    "# 02_merge_with_secondary_datasets"
   ]
  },
  {
   "cell_type": "markdown",
   "id": "349265bb",
   "metadata": {},
   "source": [
    "| Date | User | Change Type | Remarks |  \n",
    "| ---- | ---- | ----------- | ------- |\n",
    "|  28.09.2025  | Adrienne | Create | Write code to merge secondary datasets with claim file | \n",
    "|    | |   | |"
   ]
  },
  {
   "cell_type": "markdown",
   "id": "5cf07f57",
   "metadata": {},
   "source": [
    "### Content\n",
    "\n",
    "* [Introduction](#introduction)"
   ]
  },
  {
   "cell_type": "code",
   "execution_count": 1,
   "id": "ad0fd6b2",
   "metadata": {},
   "outputs": [],
   "source": [
    "import pandas as pd\n",
    "import numpy as np\n",
    "import re"
   ]
  },
  {
   "cell_type": "code",
   "execution_count": 2,
   "id": "31041186",
   "metadata": {},
   "outputs": [],
   "source": [
    "# Path to files\n",
    "path = \"../data/clean/\"\n",
    "claim_df = pd.read_pickle(path + 'claim_sample.pkl') \n",
    "drg_df = pd.read_pickle(path + 'drg.pkl') \n",
    "hccps_df = pd.read_pickle(path + 'hcpcs.pkl') "
   ]
  },
  {
   "cell_type": "markdown",
   "id": "5cba9a2f",
   "metadata": {},
   "source": [
    "### Merge Datasets"
   ]
  },
  {
   "cell_type": "code",
   "execution_count": null,
   "id": "4a78c0f8",
   "metadata": {},
   "outputs": [],
   "source": [
    "claim_df['drg_num'] = claim_df['']"
   ]
  },
  {
   "cell_type": "code",
   "execution_count": null,
   "id": "fb93b66e",
   "metadata": {},
   "outputs": [],
   "source": [
    "df = pd.merge(claim_df, drg_df, how = 'outer', on = 'patient_number')"
   ]
  },
  {
   "cell_type": "code",
   "execution_count": null,
   "id": "cdb4ed6a",
   "metadata": {},
   "outputs": [],
   "source": []
  }
 ],
 "metadata": {
  "kernelspec": {
   "display_name": ".venv (3.13.7)",
   "language": "python",
   "name": "python3"
  },
  "language_info": {
   "codemirror_mode": {
    "name": "ipython",
    "version": 3
   },
   "file_extension": ".py",
   "mimetype": "text/x-python",
   "name": "python",
   "nbconvert_exporter": "python",
   "pygments_lexer": "ipython3",
   "version": "3.13.7"
  }
 },
 "nbformat": 4,
 "nbformat_minor": 5
}
