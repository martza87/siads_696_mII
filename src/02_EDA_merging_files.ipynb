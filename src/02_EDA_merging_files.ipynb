{
 "cells": [
  {
   "cell_type": "code",
   "execution_count": 260,
   "id": "fbebbd09",
   "metadata": {},
   "outputs": [],
   "source": [
    "import pandas as pd\n",
    "import numpy as np\n",
    "import matplotlib.pyplot as plt\n",
    "import re\n",
    "from datetime import datetime\n",
    "import json_lines"
   ]
  },
  {
   "cell_type": "code",
   "execution_count": 261,
   "id": "94238924",
   "metadata": {},
   "outputs": [],
   "source": [
    "# readin clean datafiles\n",
    "path = \"../data/clean/\"\n",
    "explanation_of_benefit_df = pd.read_pickle(path + 'explanation_of_benefit_clean.pkl')\n",
    "coverage_df = pd.read_pickle(path + 'coverage.pkl')"
   ]
  },
  {
   "cell_type": "code",
   "execution_count": null,
   "id": "596b6757",
   "metadata": {},
   "outputs": [
    {
     "name": "stdout",
     "output_type": "stream",
     "text": [
      "Index(['careTeam', 'created', 'diagnosis', 'extension', 'id', 'insurance',\n",
      "       'insurer', 'item', 'meta', 'outcome', 'patient', 'resourceType',\n",
      "       'status', 'subType', 'supportingInfo', 'use', 'disposition',\n",
      "       'procedure', 'benefitCategory', 'benefitFinancials',\n",
      "       'billablePeriodStart', 'billablePeriodEnd', 'ClaimType', 'active',\n",
      "       'PRNCode', 'NPICode', 'facilityId', 'faciltyType', 'claimId_1',\n",
      "       'claimId_2', 'coveragePart', 'coverageId', 'lastUpdated',\n",
      "       'paymentCurrency', 'paymentAmount', 'paymentDate', 'providerId',\n",
      "       'totalChargeType', 'totalChargeCurrency', 'totalChargeAmount',\n",
      "       'claimType', 'eobType'],\n",
      "      dtype='object')\n"
     ]
    },
    {
     "data": {
      "text/plain": [
       "count                4091\n",
       "unique                 50\n",
       "top       -10000000003689\n",
       "freq                  284\n",
       "Name: patient, dtype: object"
      ]
     },
     "execution_count": 266,
     "metadata": {},
     "output_type": "execute_result"
    }
   ],
   "source": [
    "# It seems that eob data does not have patient medicare number, but intsead just patient number\n",
    "print(explanation_of_benefit_df.keys())\n",
    "# patient number does not seem to be unique \n",
    "explanation_of_benefit_df.patient.describe()"
   ]
  },
  {
   "cell_type": "code",
   "execution_count": null,
   "id": "d1a1fbcd",
   "metadata": {},
   "outputs": [],
   "source": [
    "# readin raw datafiles\n",
    "path = \"../data/raw/\"\n",
    "#claim = pd.read_json(f\"{path}/Claim.ndjson\", lines=True)\n",
    "claim_resp = pd.read_json(f\"{path}/ClaimResponse.ndjson\", lines=True)\n",
    "patient = pd.read_json(f\"{path}/Patient.ndjson\", lines=True)"
   ]
  },
  {
   "cell_type": "code",
   "execution_count": null,
   "id": "f9406435",
   "metadata": {},
   "outputs": [
    {
     "name": "stdout",
     "output_type": "stream",
     "text": [
      "Index(['contained', 'created', 'extension', 'id', 'identifier', 'insurer',\n",
      "       'meta', 'outcome', 'patient', 'request', 'resourceType', 'status',\n",
      "       'type', 'use'],\n",
      "      dtype='object')\n"
     ]
    }
   ],
   "source": [
    "print(claim_resp.keys())\n",
    "# claim response data has #patient for all patient numbers\n",
    "claim_resp.patient.describe()"
   ]
  },
  {
   "cell_type": "code",
   "execution_count": 272,
   "id": "7efe5dd4",
   "metadata": {},
   "outputs": [
    {
     "data": {
      "text/html": [
       "<div>\n",
       "<style scoped>\n",
       "    .dataframe tbody tr th:only-of-type {\n",
       "        vertical-align: middle;\n",
       "    }\n",
       "\n",
       "    .dataframe tbody tr th {\n",
       "        vertical-align: top;\n",
       "    }\n",
       "\n",
       "    .dataframe thead th {\n",
       "        text-align: right;\n",
       "    }\n",
       "</style>\n",
       "<table border=\"1\" class=\"dataframe\">\n",
       "  <thead>\n",
       "    <tr style=\"text-align: right;\">\n",
       "      <th></th>\n",
       "      <th>birthDate</th>\n",
       "      <th>identifier</th>\n",
       "      <th>pat_med_num</th>\n",
       "    </tr>\n",
       "  </thead>\n",
       "  <tbody>\n",
       "    <tr>\n",
       "      <th>0</th>\n",
       "      <td>1953-10-12</td>\n",
       "      <td>[{'system': 'https://bluebutton.cms.gov/resour...</td>\n",
       "      <td>1S00E00FR92</td>\n",
       "    </tr>\n",
       "    <tr>\n",
       "      <th>1</th>\n",
       "      <td>1946-03-01</td>\n",
       "      <td>[{'system': 'https://bluebutton.cms.gov/resour...</td>\n",
       "      <td>1S00E00AK52</td>\n",
       "    </tr>\n",
       "  </tbody>\n",
       "</table>\n",
       "</div>"
      ],
      "text/plain": [
       "    birthDate                                         identifier  pat_med_num\n",
       "0  1953-10-12  [{'system': 'https://bluebutton.cms.gov/resour...  1S00E00FR92\n",
       "1  1946-03-01  [{'system': 'https://bluebutton.cms.gov/resour...  1S00E00AK52"
      ]
     },
     "execution_count": 272,
     "metadata": {},
     "output_type": "execute_result"
    }
   ],
   "source": [
    "# Extract birth date and Medicare Patient Number in Patient Data\n",
    "patient_cols = dict((k, patient[k]) for k in ['birthDate', 'identifier'] if k in patient)\n",
    "patient_cols_df = pd.DataFrame(patient_cols)\n",
    "patient_cols_df['pat_med_num'] = patient_cols['identifier'].str.get(1).str.get('value')\n",
    "patient_cols_df.head(2)"
   ]
  },
  {
   "cell_type": "code",
   "execution_count": 273,
   "id": "5fdb4daa",
   "metadata": {},
   "outputs": [
    {
     "data": {
      "text/html": [
       "<div>\n",
       "<style scoped>\n",
       "    .dataframe tbody tr th:only-of-type {\n",
       "        vertical-align: middle;\n",
       "    }\n",
       "\n",
       "    .dataframe tbody tr th {\n",
       "        vertical-align: top;\n",
       "    }\n",
       "\n",
       "    .dataframe thead th {\n",
       "        text-align: right;\n",
       "    }\n",
       "</style>\n",
       "<table border=\"1\" class=\"dataframe\">\n",
       "  <thead>\n",
       "    <tr style=\"text-align: right;\">\n",
       "      <th></th>\n",
       "      <th>contained</th>\n",
       "      <th>birthDate</th>\n",
       "      <th>pat_med_num</th>\n",
       "    </tr>\n",
       "  </thead>\n",
       "  <tbody>\n",
       "    <tr>\n",
       "      <th>0</th>\n",
       "      <td>[{'birthDate': '1944-05-25', 'extension': [{'u...</td>\n",
       "      <td>1944-05-25</td>\n",
       "      <td>1S00E00JK17</td>\n",
       "    </tr>\n",
       "    <tr>\n",
       "      <th>1</th>\n",
       "      <td>[{'birthDate': '1944-05-25', 'extension': [{'u...</td>\n",
       "      <td>1944-05-25</td>\n",
       "      <td>1S00E00JK17</td>\n",
       "    </tr>\n",
       "  </tbody>\n",
       "</table>\n",
       "</div>"
      ],
      "text/plain": [
       "                                           contained   birthDate  pat_med_num\n",
       "0  [{'birthDate': '1944-05-25', 'extension': [{'u...  1944-05-25  1S00E00JK17\n",
       "1  [{'birthDate': '1944-05-25', 'extension': [{'u...  1944-05-25  1S00E00JK17"
      ]
     },
     "execution_count": 273,
     "metadata": {},
     "output_type": "execute_result"
    }
   ],
   "source": [
    "# Extract birth date and Medicare Patient Number in Claim Response Data\n",
    "claim_resp_cols_df = pd.DataFrame(claim_resp['contained'])\n",
    "claim_resp_cols_df['birthDate'] = claim_resp_cols_df['contained'].str.get(0).str.get('birthDate')\n",
    "claim_resp_cols_df['pat_med_num'] = claim_resp_cols_df['contained'].str.get(0).str.get('identifier').str.get(0).str.get('value')\n",
    "claim_resp_cols_df.head(2)"
   ]
  },
  {
   "cell_type": "code",
   "execution_count": 274,
   "id": "acab6c21",
   "metadata": {},
   "outputs": [
    {
     "data": {
      "text/html": [
       "<div>\n",
       "<style scoped>\n",
       "    .dataframe tbody tr th:only-of-type {\n",
       "        vertical-align: middle;\n",
       "    }\n",
       "\n",
       "    .dataframe tbody tr th {\n",
       "        vertical-align: top;\n",
       "    }\n",
       "\n",
       "    .dataframe thead th {\n",
       "        text-align: right;\n",
       "    }\n",
       "</style>\n",
       "<table border=\"1\" class=\"dataframe\">\n",
       "  <thead>\n",
       "    <tr style=\"text-align: right;\">\n",
       "      <th></th>\n",
       "      <th>birthDate_x</th>\n",
       "      <th>identifier</th>\n",
       "      <th>pat_med_num</th>\n",
       "      <th>contained</th>\n",
       "      <th>birthDate_y</th>\n",
       "    </tr>\n",
       "  </thead>\n",
       "  <tbody>\n",
       "    <tr>\n",
       "      <th>90</th>\n",
       "      <td>1955-03-20</td>\n",
       "      <td>[{'system': 'https://bluebutton.cms.gov/resour...</td>\n",
       "      <td>1S00E00AA16</td>\n",
       "      <td>[{'birthDate': '1950-08-12', 'extension': [{'u...</td>\n",
       "      <td>1950-08-12</td>\n",
       "    </tr>\n",
       "    <tr>\n",
       "      <th>91</th>\n",
       "      <td>1955-03-20</td>\n",
       "      <td>[{'system': 'https://bluebutton.cms.gov/resour...</td>\n",
       "      <td>1S00E00AA16</td>\n",
       "      <td>[{'birthDate': '1950-08-12', 'extension': [{'u...</td>\n",
       "      <td>1950-08-12</td>\n",
       "    </tr>\n",
       "    <tr>\n",
       "      <th>92</th>\n",
       "      <td>1955-03-20</td>\n",
       "      <td>[{'system': 'https://bluebutton.cms.gov/resour...</td>\n",
       "      <td>1S00E00AA16</td>\n",
       "      <td>[{'birthDate': '1950-08-12', 'extension': [{'u...</td>\n",
       "      <td>1950-08-12</td>\n",
       "    </tr>\n",
       "    <tr>\n",
       "      <th>93</th>\n",
       "      <td>1955-03-20</td>\n",
       "      <td>[{'system': 'https://bluebutton.cms.gov/resour...</td>\n",
       "      <td>1S00E00AA16</td>\n",
       "      <td>[{'birthDate': '1955-03-20', 'extension': [{'u...</td>\n",
       "      <td>1955-03-20</td>\n",
       "    </tr>\n",
       "    <tr>\n",
       "      <th>94</th>\n",
       "      <td>1955-03-20</td>\n",
       "      <td>[{'system': 'https://bluebutton.cms.gov/resour...</td>\n",
       "      <td>1S00E00AA16</td>\n",
       "      <td>[{'birthDate': '1955-03-20', 'extension': [{'u...</td>\n",
       "      <td>1955-03-20</td>\n",
       "    </tr>\n",
       "    <tr>\n",
       "      <th>95</th>\n",
       "      <td>1955-03-20</td>\n",
       "      <td>[{'system': 'https://bluebutton.cms.gov/resour...</td>\n",
       "      <td>1S00E00AA16</td>\n",
       "      <td>[{'birthDate': '1955-03-20', 'extension': [{'u...</td>\n",
       "      <td>1955-03-20</td>\n",
       "    </tr>\n",
       "    <tr>\n",
       "      <th>96</th>\n",
       "      <td>1955-03-20</td>\n",
       "      <td>[{'system': 'https://bluebutton.cms.gov/resour...</td>\n",
       "      <td>1S00E00AA16</td>\n",
       "      <td>[{'birthDate': '1955-03-20', 'extension': [{'u...</td>\n",
       "      <td>1955-03-20</td>\n",
       "    </tr>\n",
       "    <tr>\n",
       "      <th>97</th>\n",
       "      <td>1955-03-20</td>\n",
       "      <td>[{'system': 'https://bluebutton.cms.gov/resour...</td>\n",
       "      <td>1S00E00AA16</td>\n",
       "      <td>[{'birthDate': '1955-03-20', 'extension': [{'u...</td>\n",
       "      <td>1955-03-20</td>\n",
       "    </tr>\n",
       "    <tr>\n",
       "      <th>98</th>\n",
       "      <td>1955-03-20</td>\n",
       "      <td>[{'system': 'https://bluebutton.cms.gov/resour...</td>\n",
       "      <td>1S00E00AA16</td>\n",
       "      <td>[{'birthDate': '1955-03-20', 'extension': [{'u...</td>\n",
       "      <td>1955-03-20</td>\n",
       "    </tr>\n",
       "    <tr>\n",
       "      <th>99</th>\n",
       "      <td>1955-03-20</td>\n",
       "      <td>[{'system': 'https://bluebutton.cms.gov/resour...</td>\n",
       "      <td>1S00E00AA16</td>\n",
       "      <td>[{'birthDate': '1955-03-20', 'extension': [{'u...</td>\n",
       "      <td>1955-03-20</td>\n",
       "    </tr>\n",
       "  </tbody>\n",
       "</table>\n",
       "</div>"
      ],
      "text/plain": [
       "   birthDate_x                                         identifier  \\\n",
       "90  1955-03-20  [{'system': 'https://bluebutton.cms.gov/resour...   \n",
       "91  1955-03-20  [{'system': 'https://bluebutton.cms.gov/resour...   \n",
       "92  1955-03-20  [{'system': 'https://bluebutton.cms.gov/resour...   \n",
       "93  1955-03-20  [{'system': 'https://bluebutton.cms.gov/resour...   \n",
       "94  1955-03-20  [{'system': 'https://bluebutton.cms.gov/resour...   \n",
       "95  1955-03-20  [{'system': 'https://bluebutton.cms.gov/resour...   \n",
       "96  1955-03-20  [{'system': 'https://bluebutton.cms.gov/resour...   \n",
       "97  1955-03-20  [{'system': 'https://bluebutton.cms.gov/resour...   \n",
       "98  1955-03-20  [{'system': 'https://bluebutton.cms.gov/resour...   \n",
       "99  1955-03-20  [{'system': 'https://bluebutton.cms.gov/resour...   \n",
       "\n",
       "    pat_med_num                                          contained birthDate_y  \n",
       "90  1S00E00AA16  [{'birthDate': '1950-08-12', 'extension': [{'u...  1950-08-12  \n",
       "91  1S00E00AA16  [{'birthDate': '1950-08-12', 'extension': [{'u...  1950-08-12  \n",
       "92  1S00E00AA16  [{'birthDate': '1950-08-12', 'extension': [{'u...  1950-08-12  \n",
       "93  1S00E00AA16  [{'birthDate': '1955-03-20', 'extension': [{'u...  1955-03-20  \n",
       "94  1S00E00AA16  [{'birthDate': '1955-03-20', 'extension': [{'u...  1955-03-20  \n",
       "95  1S00E00AA16  [{'birthDate': '1955-03-20', 'extension': [{'u...  1955-03-20  \n",
       "96  1S00E00AA16  [{'birthDate': '1955-03-20', 'extension': [{'u...  1955-03-20  \n",
       "97  1S00E00AA16  [{'birthDate': '1955-03-20', 'extension': [{'u...  1955-03-20  \n",
       "98  1S00E00AA16  [{'birthDate': '1955-03-20', 'extension': [{'u...  1955-03-20  \n",
       "99  1S00E00AA16  [{'birthDate': '1955-03-20', 'extension': [{'u...  1955-03-20  "
      ]
     },
     "execution_count": 274,
     "metadata": {},
     "output_type": "execute_result"
    }
   ],
   "source": [
    "res = pd.merge(patient_cols_df, claim_resp_cols_df, how = 'outer', on = 'pat_med_num')\n",
    "res.head(100).tail(10)"
   ]
  },
  {
   "cell_type": "code",
   "execution_count": 237,
   "id": "1642e9a8",
   "metadata": {},
   "outputs": [],
   "source": [
    "pat_test_df = patient_cols_df[['birthDate', 'pat_med_num']]\n",
    "claim_test_df = claim_resp_cols_df[['birthDate', 'pat_med_num']]"
   ]
  },
  {
   "cell_type": "code",
   "execution_count": 271,
   "id": "094e56f1",
   "metadata": {},
   "outputs": [
    {
     "data": {
      "text/html": [
       "<div>\n",
       "<style scoped>\n",
       "    .dataframe tbody tr th:only-of-type {\n",
       "        vertical-align: middle;\n",
       "    }\n",
       "\n",
       "    .dataframe tbody tr th {\n",
       "        vertical-align: top;\n",
       "    }\n",
       "\n",
       "    .dataframe thead th {\n",
       "        text-align: right;\n",
       "    }\n",
       "</style>\n",
       "<table border=\"1\" class=\"dataframe\">\n",
       "  <thead>\n",
       "    <tr style=\"text-align: right;\">\n",
       "      <th></th>\n",
       "      <th>birthDate_x</th>\n",
       "      <th>pat_med_num</th>\n",
       "      <th>birthDate_y</th>\n",
       "    </tr>\n",
       "  </thead>\n",
       "  <tbody>\n",
       "    <tr>\n",
       "      <th>90</th>\n",
       "      <td>1955-03-20</td>\n",
       "      <td>1S00E00AA16</td>\n",
       "      <td>1950-08-12</td>\n",
       "    </tr>\n",
       "    <tr>\n",
       "      <th>91</th>\n",
       "      <td>1955-03-20</td>\n",
       "      <td>1S00E00AA16</td>\n",
       "      <td>1950-08-12</td>\n",
       "    </tr>\n",
       "    <tr>\n",
       "      <th>92</th>\n",
       "      <td>1955-03-20</td>\n",
       "      <td>1S00E00AA16</td>\n",
       "      <td>1950-08-12</td>\n",
       "    </tr>\n",
       "    <tr>\n",
       "      <th>93</th>\n",
       "      <td>1955-03-20</td>\n",
       "      <td>1S00E00AA16</td>\n",
       "      <td>1955-03-20</td>\n",
       "    </tr>\n",
       "    <tr>\n",
       "      <th>94</th>\n",
       "      <td>1955-03-20</td>\n",
       "      <td>1S00E00AA16</td>\n",
       "      <td>1955-03-20</td>\n",
       "    </tr>\n",
       "    <tr>\n",
       "      <th>95</th>\n",
       "      <td>1955-03-20</td>\n",
       "      <td>1S00E00AA16</td>\n",
       "      <td>1955-03-20</td>\n",
       "    </tr>\n",
       "    <tr>\n",
       "      <th>96</th>\n",
       "      <td>1955-03-20</td>\n",
       "      <td>1S00E00AA16</td>\n",
       "      <td>1955-03-20</td>\n",
       "    </tr>\n",
       "    <tr>\n",
       "      <th>97</th>\n",
       "      <td>1955-03-20</td>\n",
       "      <td>1S00E00AA16</td>\n",
       "      <td>1955-03-20</td>\n",
       "    </tr>\n",
       "    <tr>\n",
       "      <th>98</th>\n",
       "      <td>1955-03-20</td>\n",
       "      <td>1S00E00AA16</td>\n",
       "      <td>1955-03-20</td>\n",
       "    </tr>\n",
       "    <tr>\n",
       "      <th>99</th>\n",
       "      <td>1955-03-20</td>\n",
       "      <td>1S00E00AA16</td>\n",
       "      <td>1955-03-20</td>\n",
       "    </tr>\n",
       "  </tbody>\n",
       "</table>\n",
       "</div>"
      ],
      "text/plain": [
       "   birthDate_x  pat_med_num birthDate_y\n",
       "90  1955-03-20  1S00E00AA16  1950-08-12\n",
       "91  1955-03-20  1S00E00AA16  1950-08-12\n",
       "92  1955-03-20  1S00E00AA16  1950-08-12\n",
       "93  1955-03-20  1S00E00AA16  1955-03-20\n",
       "94  1955-03-20  1S00E00AA16  1955-03-20\n",
       "95  1955-03-20  1S00E00AA16  1955-03-20\n",
       "96  1955-03-20  1S00E00AA16  1955-03-20\n",
       "97  1955-03-20  1S00E00AA16  1955-03-20\n",
       "98  1955-03-20  1S00E00AA16  1955-03-20\n",
       "99  1955-03-20  1S00E00AA16  1955-03-20"
      ]
     },
     "execution_count": 271,
     "metadata": {},
     "output_type": "execute_result"
    }
   ],
   "source": [
    "# Merge Patient and Claim Response dataframes together on Patient Medicare Number\n",
    "res = pd.merge(pat_test_df, claim_test_df, how = 'outer', on = 'pat_med_num')\n",
    "# there seems to be some data integrity issues as checking in the json this is the same patient [1S00E00AA16]\n",
    "# but two different DOBs\n",
    "res.head(100).tail(10)"
   ]
  },
  {
   "cell_type": "code",
   "execution_count": 270,
   "id": "b08aab02",
   "metadata": {},
   "outputs": [],
   "source": [
    "res_un = res.drop_duplicates(subset= ['birthDate_x', 'pat_med_num', 'birthDate_y'], keep=False,inplace=False)"
   ]
  }
 ],
 "metadata": {
  "kernelspec": {
   "display_name": ".venv (3.13.7)",
   "language": "python",
   "name": "python3"
  },
  "language_info": {
   "codemirror_mode": {
    "name": "ipython",
    "version": 3
   },
   "file_extension": ".py",
   "mimetype": "text/x-python",
   "name": "python",
   "nbconvert_exporter": "python",
   "pygments_lexer": "ipython3",
   "version": "3.13.7"
  }
 },
 "nbformat": 4,
 "nbformat_minor": 5
}
