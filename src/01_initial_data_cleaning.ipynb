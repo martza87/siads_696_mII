{
 "cells": [
  {
   "cell_type": "code",
   "execution_count": 1,
   "metadata": {
    "cell_id": "370c01f56f3340e7ab94db059667204f",
    "deepnote_cell_type": "code",
    "execution_context_id": "01a75fef-f9db-4c34-94bb-3b9065708885",
    "execution_millis": 7940,
    "execution_start": 1756514994840,
    "id": "3Kdw6PgycP73",
    "source_hash": "829c3916"
   },
   "outputs": [
    {
     "name": "stderr",
     "output_type": "stream",
     "text": [
      "Matplotlib is building the font cache; this may take a moment.\n"
     ]
    }
   ],
   "source": [
    "import pandas as pd\n",
    "import seaborn as sns\n",
    "import matplotlib.pyplot as plt\n",
    "from io import StringIO\n",
    "import os\n",
    "import json\n",
    "from collections import OrderedDict\n",
    "import pickle"
   ]
  },
  {
   "cell_type": "markdown",
   "metadata": {
    "cell_id": "cbc92c28ac1747c5ba0780e727b07f00",
    "deepnote_cell_type": "markdown",
    "id": "Q1b4kPAeRFcJ"
   },
   "source": [
    "## This section reads in the data"
   ]
  },
  {
   "cell_type": "code",
   "execution_count": null,
   "metadata": {
    "cell_id": "1952c851cdb04f66a012ca409bc34b76",
    "deepnote_cell_type": "code",
    "execution_context_id": "01a75fef-f9db-4c34-94bb-3b9065708885",
    "execution_millis": 14880,
    "execution_start": 1756515002855,
    "id": "1ZonjTIUcZhk",
    "source_hash": "5a4d119c"
   },
   "outputs": [],
   "source": [
    "# Load datasets\n",
    "#path = '/work/' - path used in Deepnote\n",
    "path = './data/json/'\n",
    "\n",
    "explanation_of_benefit_file = path + 'ExplanationOfBenefit.ndjson'\n",
    "coverage_file = path + 'Coverage.ndjson'\n",
    "patient_file = path + 'Patient.ndjson'\n",
    "claim_file = path + 'Claim.ndjson'\n",
    "claim_response_file = path + 'ClaimResponse.ndjson'\n",
    "\n",
    "with open(explanation_of_benefit_file, 'r') as f:\n",
    "    explanation_of_benefit_df = pd.read_json(StringIO(f.read()), lines=True)\n",
    "\n",
    "with open(coverage_file, 'r') as f:\n",
    "    coverage_df = pd.read_json(StringIO(f.read()), lines=True)\n",
    "\n",
    "with open(patient_file, 'r') as f:\n",
    "    patient_df = pd.read_json(StringIO(f.read()), lines=True)\n",
    "\n",
    "with open(claim_file, 'r') as f:\n",
    "    claim_df = pd.read_json(StringIO(f.read()), lines=True)\n",
    "\n",
    "with open(claim_response_file, 'r') as f:\n",
    "     claim_response_df = pd.read_json(StringIO(f.read()), lines=True)"
   ]
  },
  {
   "cell_type": "markdown",
   "metadata": {
    "cell_id": "b64ce2a1da2d476cac0d296a0c41bb39",
    "deepnote_cell_type": "markdown",
    "id": "vCFBJw8DQ5cn"
   },
   "source": [
    "## This section flattens the files"
   ]
  },
  {
   "cell_type": "code",
   "execution_count": 9,
   "metadata": {
    "cell_id": "3307c57948d949b0b857abe8d68106d1",
    "deepnote_cell_type": "code",
    "execution_context_id": "01a75fef-f9db-4c34-94bb-3b9065708885",
    "execution_millis": 1,
    "execution_start": 1756515017812,
    "id": "B5F0ucsvNwFC",
    "source_hash": "f7ae4bc1"
   },
   "outputs": [],
   "source": [
    "def flatten_json(nested_json, prefix=''):\n",
    "    \"\"\"\n",
    "    Recursively flattens a nested JSON object or dictionary into a single level.\n",
    "\n",
    "    Notes:\n",
    "        - Nested dictionaries and lists are flattened such that keys from deeper levels\n",
    "          in the hierarchy are concatenated with underscores\n",
    "        - Lists of dictionaries are handled by appending index numbers to the keys.\n",
    "        - Non-dict lists are serialized using JSON encoding\n",
    "        - Returns OrderedDict, a flattened version of the input json, where keys represent\n",
    "          the nested structure and values are the corresponding data\n",
    "    \"\"\"\n",
    "    out = OrderedDict()\n",
    "    for key, value in nested_json.items():\n",
    "        if isinstance(value, dict):\n",
    "            # Recursively flatten nested dictionaries\n",
    "            out.update(flatten_json(value, prefix + key + '_'))\n",
    "        elif isinstance(value, list):\n",
    "            if len(value) > 0:\n",
    "                if isinstance(value[0], dict):\n",
    "                    # Handle list of dictionaries by flattening each item\n",
    "                    for i, item in enumerate(value):\n",
    "                        out.update(flatten_json(item, prefix + key + '_' + str(i) + '_'))\n",
    "                else:\n",
    "                    # Non-dict lists are serialized into a JSON string\n",
    "                    out[prefix + key] = json.dumps(value)\n",
    "            else:\n",
    "                # Empty lists are serialized as JSON strings\n",
    "                out[prefix + key] = json.dumps(value)\n",
    "        else:\n",
    "            # Base case: key-value pair where value is not a list or dict\n",
    "            out[prefix + key] = value\n",
    "    return out\n",
    "\n",
    "def process_dataframe(df):\n",
    "    \"\"\"\n",
    "    Processes a pandas DataFrame by flattening any JSON-like data (dictionaries or lists)\n",
    "    present in its columns and converting it into a new DataFrame.\n",
    "\n",
    "    Notes:\n",
    "        - The function iterates through each row and flattens any JSON-like data (dictionaries or lists)\n",
    "        - Non-nested data is left unchanged\n",
    "        - The resulting DataFrame will contain a combination of original columns and\n",
    "          additional columns derived from the flattened structure\n",
    "        - Returns a new pandas DataFrame with the flattened data\n",
    "    \"\"\"\n",
    "    flattened_data = []\n",
    "    for _, row in df.iterrows():\n",
    "        flattened_row = {}\n",
    "        for column, value in row.items():\n",
    "            if isinstance(value, (dict, list)):\n",
    "                # Flatten any dictionary or list\n",
    "                flattened = flatten_json({column: value})\n",
    "                flattened_row.update(flattened)\n",
    "            else:\n",
    "                # Keep non-nested columns unchanged\n",
    "                flattened_row[column] = value\n",
    "        flattened_data.append(flattened_row)\n",
    "    return pd.DataFrame(flattened_data)\n"
   ]
  },
  {
   "cell_type": "code",
   "execution_count": 10,
   "metadata": {
    "cell_id": "54dd455cceb248e5a247d2db1c90b4d7",
    "deepnote_cell_type": "code",
    "execution_context_id": "01a75fef-f9db-4c34-94bb-3b9065708885",
    "execution_millis": 11199,
    "execution_start": 1756515017908,
    "id": "hGBTykdQNvgb",
    "source_hash": "1abc454c"
   },
   "outputs": [],
   "source": [
    "# Flatten explanation_of_benefit_df\n",
    "flat_explanation_of_benefit_df = process_dataframe(explanation_of_benefit_df)"
   ]
  },
  {
   "cell_type": "code",
   "execution_count": null,
   "metadata": {
    "cell_id": "1b7ecb068c524f93993fadfcad350730",
    "deepnote_cell_type": "code",
    "execution_context_id": "01a75fef-f9db-4c34-94bb-3b9065708885",
    "execution_millis": 375,
    "execution_start": 1756515029173,
    "id": "QeQOHfC7Nuwx",
    "source_hash": "8e88a4e3"
   },
   "outputs": [],
   "source": [
    "# Flatten coverage_df\n",
    "flat_coverage_df = process_dataframe(coverage_df)"
   ]
  },
  {
   "cell_type": "code",
   "execution_count": 12,
   "metadata": {
    "cell_id": "71690a16b9e9441f8ff1e57b79ac2d32",
    "deepnote_cell_type": "code",
    "execution_context_id": "01a75fef-f9db-4c34-94bb-3b9065708885",
    "execution_millis": 1,
    "execution_start": 1756515029608,
    "id": "1Ifqc4x7OJb8",
    "source_hash": "b7d7481"
   },
   "outputs": [],
   "source": [
    "# Flatten patient_df\n",
    "flat_patient_df = process_dataframe(patient_df)"
   ]
  },
  {
   "cell_type": "code",
   "execution_count": null,
   "metadata": {
    "cell_id": "4a3511a9f0b3458581abc86a472e0ea5",
    "deepnote_cell_type": "code",
    "execution_context_id": "01a75fef-f9db-4c34-94bb-3b9065708885",
    "execution_millis": 13,
    "execution_start": 1756515029679,
    "id": "_di0N-42OI3C",
    "source_hash": "c9555ff5"
   },
   "outputs": [],
   "source": [
    "# Flatten claim_df\n",
    "#flat_claim_df = process_dataframe(claim_df)"
   ]
  },
  {
   "cell_type": "code",
   "execution_count": 17,
   "metadata": {
    "cell_id": "8a53d6bcb30f419193265b77df98395e",
    "deepnote_cell_type": "code",
    "execution_context_id": "01a75fef-f9db-4c34-94bb-3b9065708885",
    "execution_millis": 2665,
    "execution_start": 1756515029755,
    "id": "1Csv7nscOIS8",
    "source_hash": "bc7a0497"
   },
   "outputs": [],
   "source": [
    "# Flatten claim_response_df\n",
    "flat_claim_response_df = process_dataframe(claim_response_df)"
   ]
  },
  {
   "cell_type": "markdown",
   "metadata": {
    "cell_id": "d1445d6743af45639b58802083cecf1d",
    "deepnote_cell_type": "text-cell-h2",
    "formattedRanges": []
   },
   "source": [
    "## This Section Saves to Pickle"
   ]
  },
  {
   "cell_type": "code",
   "execution_count": null,
   "metadata": {
    "cell_id": "fb4b1c17935c47ffb137001096e631a6",
    "deepnote_cell_type": "code",
    "execution_context_id": "01a75fef-f9db-4c34-94bb-3b9065708885",
    "execution_millis": 5375,
    "execution_start": 1756515432165,
    "source_hash": "f160fa5b"
   },
   "outputs": [],
   "source": [
    "flat_explanation_of_benefit_df.to_pickle(\"explanation_of_benefit.pkl\") # type: ignore\n",
    "flat_coverage_df.to_pickle('./data/pickle/coverage.pkl') # type: ignore\n",
    "flat_patient_df.to_pickle('./data/pickle/patient.pkl') # type: ignore\n",
    "#flat_claim_df.to_pickle('claim_response.pkl')\n",
    "flat_claim_response_df.to_pickle('./data/pickle/claim_response.pkl') # type: ignore"
   ]
  }
 ],
 "metadata": {
  "deepnote_notebook_id": "e6f5ddb29cbe4d6a8309c52a3b57396a",
  "kernelspec": {
   "display_name": ".venv (3.13.7)",
   "language": "python",
   "name": "python3"
  },
  "language_info": {
   "codemirror_mode": {
    "name": "ipython",
    "version": 3
   },
   "file_extension": ".py",
   "mimetype": "text/x-python",
   "name": "python",
   "nbconvert_exporter": "python",
   "pygments_lexer": "ipython3",
   "version": "3.13.7"
  }
 },
 "nbformat": 4,
 "nbformat_minor": 0
}
