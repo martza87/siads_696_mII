{
 "cells": [
  {
   "cell_type": "code",
   "execution_count": 1,
   "metadata": {
    "cell_id": "370c01f56f3340e7ab94db059667204f",
    "deepnote_cell_type": "code",
    "execution_context_id": "01a75fef-f9db-4c34-94bb-3b9065708885",
    "execution_millis": 7940,
    "execution_start": 1756514994840,
    "id": "3Kdw6PgycP73",
    "source_hash": "829c3916"
   },
   "outputs": [],
   "source": [
    "import pandas as pd\n",
    "import seaborn as sns\n",
    "import matplotlib.pyplot as plt\n",
    "from io import StringIO\n",
    "import os\n",
    "import json\n",
    "from collections import OrderedDict\n",
    "import pickle"
   ]
  },
  {
   "cell_type": "markdown",
   "metadata": {
    "cell_id": "cbc92c28ac1747c5ba0780e727b07f00",
    "deepnote_cell_type": "markdown",
    "id": "Q1b4kPAeRFcJ"
   },
   "source": [
    "## This section reads in the data"
   ]
  },
  {
   "cell_type": "code",
   "execution_count": 2,
   "metadata": {
    "cell_id": "1952c851cdb04f66a012ca409bc34b76",
    "deepnote_cell_type": "code",
    "execution_context_id": "01a75fef-f9db-4c34-94bb-3b9065708885",
    "execution_millis": 14880,
    "execution_start": 1756515002855,
    "id": "1ZonjTIUcZhk",
    "source_hash": "5a4d119c"
   },
   "outputs": [],
   "source": [
    "# Load datasets\n",
    "path = '/work/'\n",
    "\n",
    "explanation_of_benefit_file = path + 'ExplanationOfBenefit.ndjson'\n",
    "coverage_file = path + 'Coverage.ndjson'\n",
    "patient_file = path + 'Patient.ndjson'\n",
    "claim_file = path + 'Claim.ndjson'\n",
    "claim_response_file = path + 'ClaimResponse.ndjson'\n",
    "\n",
    "with open(explanation_of_benefit_file, 'r') as f:\n",
    "    explanation_of_benefit_df = pd.read_json(StringIO(f.read()), lines=True)\n",
    "\n",
    "with open(coverage_file, 'r') as f:\n",
    "    coverage_df = pd.read_json(StringIO(f.read()), lines=True)\n",
    "\n",
    "with open(patient_file, 'r') as f:\n",
    "    patient_df = pd.read_json(StringIO(f.read()), lines=True)\n",
    "\n",
    "# with open(claim_file, 'r') as f:\n",
    "#     claim_df = pd.read_json(StringIO(f.read()), lines=True)\n",
    "\n",
    "with open(claim_response_file, 'r') as f:\n",
    "     claim_response_df = pd.read_json(StringIO(f.read()), lines=True)"
   ]
  },
  {
   "cell_type": "markdown",
   "metadata": {
    "cell_id": "b64ce2a1da2d476cac0d296a0c41bb39",
    "deepnote_cell_type": "markdown",
    "id": "vCFBJw8DQ5cn"
   },
   "source": [
    "## This section flattens the files"
   ]
  },
  {
   "cell_type": "code",
   "execution_count": 3,
   "metadata": {
    "cell_id": "3307c57948d949b0b857abe8d68106d1",
    "deepnote_cell_type": "code",
    "execution_context_id": "01a75fef-f9db-4c34-94bb-3b9065708885",
    "execution_millis": 1,
    "execution_start": 1756515017812,
    "id": "B5F0ucsvNwFC",
    "source_hash": "f7ae4bc1"
   },
   "outputs": [],
   "source": [
    "def flatten_json(nested_json, prefix=''):\n",
    "    \"\"\"\n",
    "    Recursively flattens a nested JSON object or dictionary into a single level.\n",
    "\n",
    "    Notes:\n",
    "        - Nested dictionaries and lists are flattened such that keys from deeper levels\n",
    "          in the hierarchy are concatenated with underscores\n",
    "        - Lists of dictionaries are handled by appending index numbers to the keys.\n",
    "        - Non-dict lists are serialized using JSON encoding\n",
    "        - Returns OrderedDict, a flattened version of the input json, where keys represent\n",
    "          the nested structure and values are the corresponding data\n",
    "    \"\"\"\n",
    "    out = OrderedDict()\n",
    "    for key, value in nested_json.items():\n",
    "        if isinstance(value, dict):\n",
    "            # Recursively flatten nested dictionaries\n",
    "            out.update(flatten_json(value, prefix + key + '_'))\n",
    "        elif isinstance(value, list):\n",
    "            if len(value) > 0:\n",
    "                if isinstance(value[0], dict):\n",
    "                    # Handle list of dictionaries by flattening each item\n",
    "                    for i, item in enumerate(value):\n",
    "                        out.update(flatten_json(item, prefix + key + '_' + str(i) + '_'))\n",
    "                else:\n",
    "                    # Non-dict lists are serialized into a JSON string\n",
    "                    out[prefix + key] = json.dumps(value)\n",
    "            else:\n",
    "                # Empty lists are serialized as JSON strings\n",
    "                out[prefix + key] = json.dumps(value)\n",
    "        else:\n",
    "            # Base case: key-value pair where value is not a list or dict\n",
    "            out[prefix + key] = value\n",
    "    return out\n",
    "\n",
    "def process_dataframe(df):\n",
    "    \"\"\"\n",
    "    Processes a pandas DataFrame by flattening any JSON-like data (dictionaries or lists)\n",
    "    present in its columns and converting it into a new DataFrame.\n",
    "\n",
    "    Notes:\n",
    "        - The function iterates through each row and flattens any JSON-like data (dictionaries or lists)\n",
    "        - Non-nested data is left unchanged\n",
    "        - The resulting DataFrame will contain a combination of original columns and\n",
    "          additional columns derived from the flattened structure\n",
    "        - Returns a new pandas DataFrame with the flattened data\n",
    "    \"\"\"\n",
    "    flattened_data = []\n",
    "    for _, row in df.iterrows():\n",
    "        flattened_row = {}\n",
    "        for column, value in row.items():\n",
    "            if isinstance(value, (dict, list)):\n",
    "                # Flatten any dictionary or list\n",
    "                flattened = flatten_json({column: value})\n",
    "                flattened_row.update(flattened)\n",
    "            else:\n",
    "                # Keep non-nested columns unchanged\n",
    "                flattened_row[column] = value\n",
    "        flattened_data.append(flattened_row)\n",
    "    return pd.DataFrame(flattened_data)\n"
   ]
  },
  {
   "cell_type": "code",
   "execution_count": 4,
   "metadata": {
    "cell_id": "54dd455cceb248e5a247d2db1c90b4d7",
    "deepnote_cell_type": "code",
    "execution_context_id": "01a75fef-f9db-4c34-94bb-3b9065708885",
    "execution_millis": 11199,
    "execution_start": 1756515017908,
    "id": "hGBTykdQNvgb",
    "source_hash": "1abc454c"
   },
   "outputs": [],
   "source": [
    "# Flatten explanation_of_benefit_df\n",
    "flat_explanation_of_benefit_df = process_dataframe(explanation_of_benefit_df)"
   ]
  },
  {
   "cell_type": "code",
   "execution_count": 5,
   "metadata": {
    "cell_id": "1b7ecb068c524f93993fadfcad350730",
    "deepnote_cell_type": "code",
    "execution_context_id": "01a75fef-f9db-4c34-94bb-3b9065708885",
    "execution_millis": 375,
    "execution_start": 1756515029173,
    "id": "QeQOHfC7Nuwx",
    "source_hash": "8e88a4e3"
   },
   "outputs": [],
   "source": [
    "# Flatten Coverage\n",
    "flat_coverage_df = process_dataframe(coverage_df)"
   ]
  },
  {
   "cell_type": "code",
   "execution_count": 6,
   "metadata": {
    "cell_id": "71690a16b9e9441f8ff1e57b79ac2d32",
    "deepnote_cell_type": "code",
    "execution_context_id": "01a75fef-f9db-4c34-94bb-3b9065708885",
    "execution_millis": 1,
    "execution_start": 1756515029608,
    "id": "1Ifqc4x7OJb8",
    "source_hash": "b7d7481"
   },
   "outputs": [],
   "source": [
    "# Flatten patient_df\n",
    "flat_patient_df = process_dataframe(patient_df)"
   ]
  },
  {
   "cell_type": "code",
   "execution_count": null,
   "metadata": {
    "cell_id": "4a3511a9f0b3458581abc86a472e0ea5",
    "deepnote_cell_type": "code",
    "execution_context_id": "01a75fef-f9db-4c34-94bb-3b9065708885",
    "execution_millis": 13,
    "execution_start": 1756515029679,
    "id": "_di0N-42OI3C",
    "source_hash": "c9555ff5"
   },
   "outputs": [],
   "source": [
    "# Flatten claim_df\n",
    "#flat_claim_df = process_dataframe(claim_df) - commented out at the moment due to the RAM issue"
   ]
  },
  {
   "cell_type": "code",
   "execution_count": 8,
   "metadata": {
    "cell_id": "8a53d6bcb30f419193265b77df98395e",
    "deepnote_cell_type": "code",
    "execution_context_id": "01a75fef-f9db-4c34-94bb-3b9065708885",
    "execution_millis": 2665,
    "execution_start": 1756515029755,
    "id": "1Csv7nscOIS8",
    "source_hash": "bc7a0497"
   },
   "outputs": [],
   "source": [
    "# Flatten claim_response_df\n",
    "flat_claim_response_df = process_dataframe(claim_response_df)"
   ]
  },
  {
   "cell_type": "markdown",
   "metadata": {
    "cell_id": "d1445d6743af45639b58802083cecf1d",
    "deepnote_cell_type": "text-cell-h2",
    "formattedRanges": []
   },
   "source": [
    "## This Section Saves to Pickle"
   ]
  },
  {
   "cell_type": "code",
   "execution_count": null,
   "metadata": {
    "cell_id": "fb4b1c17935c47ffb137001096e631a6",
    "deepnote_cell_type": "code",
    "execution_context_id": "01a75fef-f9db-4c34-94bb-3b9065708885",
    "execution_millis": 5375,
    "execution_start": 1756515432165,
    "source_hash": "f160fa5b"
   },
   "outputs": [],
   "source": [
    "flat_explanation_of_benefit_df.to_pickle(\"explanation_of_benefit.pkl\")\n",
    "flat_coverage_df.to_pickle('coverage.pkl')\n",
    "flat_patient_df.to_pickle('patient.pkl')\n",
    "#flat_claim_df.to_pickle('claim_response.pkl')\n",
    "flat_claim_response_df.to_pickle('claim_response.pkl')"
   ]
  },
  {
   "cell_type": "markdown",
   "metadata": {
    "created_in_deepnote_cell": true,
    "deepnote_cell_type": "markdown"
   },
   "source": [
    "<a style='text-decoration:none;line-height:16px;display:flex;color:#5B5B62;padding:10px;justify-content:end;' href='https://deepnote.com?utm_source=created-in-deepnote-cell&projectId=cff59b50-5bfa-41ed-b840-afb0c6e184df' target=\"_blank\">\n",
    "<img alt='Created in deepnote.com' style='display:inline;max-height:16px;margin:0px;margin-right:7.5px;' src='data:image/svg+xml;base64,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' > </img>\n",
    "Created in <span style='font-weight:600;margin-left:4px;'>Deepnote</span></a>"
   ]
  }
 ],
 "metadata": {
  "deepnote_notebook_id": "e6f5ddb29cbe4d6a8309c52a3b57396a",
  "language_info": {
   "name": "python"
  }
 },
 "nbformat": 4,
 "nbformat_minor": 0
}
