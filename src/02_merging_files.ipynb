{
 "cells": [
  {
   "cell_type": "markdown",
   "id": "643bdd3d",
   "metadata": {},
   "source": [
    "# Merging Datasets\n",
    "# 02_EDA_merging_files"
   ]
  },
  {
   "cell_type": "markdown",
   "id": "ed2de28b",
   "metadata": {},
   "source": [
    "| Date | User | Change Type | Remarks |  \n",
    "| ---- | ---- | ----------- | ------- |\n",
    "| 22/09/2025 | Adrienne | Updated | Made significant changes to program | \n",
    "| 23/09/2025 | Adrienne | Updated | Restructured file to merge EOB and Claim |\n",
    "| 28/09/2025 | Adrienne | Updated | Moved Martin's code to program |\n",
    "| 13/10/2025 | Martin | Updated | Code cleanup |"
   ]
  },
  {
   "cell_type": "markdown",
   "id": "3d8f695f",
   "metadata": {},
   "source": [
    "# Content\n",
    "\n",
    "* [Summary](#summary)\n",
    "* [Merging Datasets](#merging-datasets)"
   ]
  },
  {
   "cell_type": "markdown",
   "id": "4479ed7d",
   "metadata": {},
   "source": [
    "\n",
    "# Summary \n",
    "Through EDA we have discovered that the coverage and claim response files do not contain any information that would be useful for our unsupervised learning task. Furthermore, the Patient file also seems to be limited in the number of records we can pull from the API. This program attempts to merge some of the files to see if there are overlapping patients in both files.\n",
    "\n",
    "Some Notes on Idenfifiers:\n",
    "- EOB does not have Patient Medicare Number\n",
    "- Claim does not have Patient Number\n",
    "- Coverage (subscriberId) -> (Many-to-One) -> Patient (patient_medicare_number)\n",
    "- Not all have a value, but if there is, 4 values per patient (Part A-D)\n",
    "\n",
    "File Relationships\n",
    "- EOB (patient) -> (Many-to-One) -> Patient (id)\n",
    "        Need to convert EOB col to int\n",
    "        Only ~50 patients with information\n",
    "- Claim (patient_medicare_number) -> (Many-to-One) -> Patient (identifier_1_value)\n",
    "- Claim Response (id) -> (One-to-One) -> Claim (id)\n",
    "\n",
    "Findings\n",
    "\n",
    "- Claim Response has One-to-One relationship with Claim, but doesn't really provide any additional info\n",
    "- Seems like only diagnosis, priority, claim-type total seem to be the most \"relevant\" columns"
   ]
  },
  {
   "cell_type": "code",
   "execution_count": 1,
   "id": "fbebbd09",
   "metadata": {},
   "outputs": [],
   "source": [
    "import pandas as pd\n",
    "import numpy as np\n",
    "import matplotlib.pyplot as plt\n",
    "import re\n",
    "from datetime import datetime\n",
    "import json_lines"
   ]
  },
  {
   "cell_type": "code",
   "execution_count": null,
   "id": "fdd6026c",
   "metadata": {},
   "outputs": [],
   "source": [
    "# readin clean datafiles\n",
    "path = \"../data/clean/\"\n",
    "# eob_df = pd.read_pickle(path + 'explanation_of_benefit_clean.pkl')\n",
    "eob_df = pd.read_pickle(path + 'eob.pkl')\n",
    "# coverage_df = pd.read_pickle(path + 'coverage.pkl')\n",
    "claim_df = pd.read_pickle(path + 'claim_sample.pkl')\n",
    "# claim_df =  pd.read_pickle(path + 'claim.pkl')\n",
    "# claim_response_df =  pd.read_pickle(path + 'claim_response.pkl')\n",
    "patient_df = pd.read_pickle(path + 'patient.pkl')"
   ]
  },
  {
   "cell_type": "markdown",
   "id": "1934e037",
   "metadata": {},
   "source": [
    "Creating some common variables across datafiles"
   ]
  },
  {
   "cell_type": "code",
   "execution_count": 4,
   "id": "198e7453",
   "metadata": {},
   "outputs": [],
   "source": [
    "# Preprocess identifiers in EOB\n",
    "eob_df['patient_medicare_number'] = eob_df['contained_0_identifier_0_value']\n",
    "eob_df['patient_number'] = eob_df['id'].str.split('-').str[-1]\n",
    "#eob_df['unique_claim_ID'] = eob_df['claimId_2'].str.replace(r'[-]', '', regex=True)"
   ]
  },
  {
   "cell_type": "code",
   "execution_count": null,
   "id": "fb8c0226",
   "metadata": {},
   "outputs": [],
   "source": [
    "# needed to convert beneficiary to string to merge on\n",
    "coverage_df['patient_number'] = coverage_df['beneficiary'].apply(str)"
   ]
  },
  {
   "cell_type": "code",
   "execution_count": 5,
   "id": "4b50d6f3",
   "metadata": {},
   "outputs": [],
   "source": [
    "# Preprocess Identifier in Patient\n",
    "patient_df['patient_medicare_number'] = patient_df['identifier_1_value']\n",
    "patient_df['patient_number'] = patient_df['identifier_0_value'].str.replace(r'[-]', '', regex=True)\n",
    "patient_df['patient_first_name'] = patient_df['name_0_given'].str.replace(r'[ \\[ \\]\"]', '', regex=True)\n",
    "patient_df['patient_last_name'] = patient_df['name_0_family']"
   ]
  },
  {
   "cell_type": "markdown",
   "id": "d618d498",
   "metadata": {},
   "source": [
    "Checking unique values and column lengths for merging"
   ]
  },
  {
   "cell_type": "code",
   "execution_count": null,
   "id": "c0eef12b",
   "metadata": {},
   "outputs": [
    {
     "name": "stdout",
     "output_type": "stream",
     "text": [
      "num of unique patient numbers in EOB: 3233\n",
      "num of unique patient numbers in Patient: 5000\n",
      "num of unique patient medicare numbers in Patient: 5000\n",
      "num of unique patient first names in Patient: 2\n",
      "num of unique patient medicare numbers in Claim: 2707\n",
      "num of unique claim IDs in Claim: 19145\n"
     ]
    }
   ],
   "source": [
    "# EOB\n",
    "print(f\"Number of unique patient numbers in EOB: {len(eob_df['patient_number'].unique())}\")\n",
    "# print(f\"Number of unique claim IDs in EOB: {len(eob_df['unique_claim_ID'].unique())}\")\n",
    "\n",
    "# Patient\n",
    "print(f\"Number of unique patient numbers in Patient: {len(patient_df['patient_number'].unique())}\")\n",
    "print(f\"Number of unique patient medicare numbers in Patient: {len(patient_df['patient_medicare_number'].unique())}\")\n",
    "print(f\"Number of unique patient first names in Patient: {len(patient_df['patient_first_name'].unique())}\")\n",
    "\n",
    "# Coverage\n",
    "# print(f\"Number of unique patient numbers in Coverage: {len(coverage_df['patient_number'].unique())}\")\n",
    "\n",
    "# Claim\n",
    "print(f\"Number of unique patient medicare numbers in Claim: {len(claim_df['patient_medicare_number'].unique())}\")\n",
    "print(f\"Number of unique claim IDs in Claim: {len(claim_df['unique_claim_ID'].unique())}\")\n",
    "# print(f\"Number of unique patient medicare numbers in Claim Response: {len(claim_response_df['patient_medicare_number'].unique())}\")"
   ]
  },
  {
   "cell_type": "markdown",
   "id": "84a74b96",
   "metadata": {},
   "source": [
    "Counts by column length"
   ]
  },
  {
   "cell_type": "code",
   "execution_count": null,
   "id": "c67a0634",
   "metadata": {},
   "outputs": [
    {
     "name": "stdout",
     "output_type": "stream",
     "text": [
      "[10 11  9  8  7]\n",
      "[14]\n",
      "[11]\n",
      "[11]\n",
      "[19  9 14]\n",
      "[23 13 10 15]\n"
     ]
    }
   ],
   "source": [
    "# Checking lengths of values in columns\n",
    "print(eob_df['patient_number'].str.len().unique())\n",
    "# print(eob_df['unique_claim_ID'].str.len().unique())\n",
    "print(patient_df['patient_number'].str.len().unique())\n",
    "print(patient_df['patient_medicare_number'].str.len().unique())\n",
    "print(claim_df['patient_medicare_number'].str.len().unique())\n",
    "print(claim_df['unique_claim_ID'].str.len().unique())\n",
    "print(claim_df['identifier_0_value'].str.len().unique())\n",
    "# print(claim_response_df['patient_medicare_number'].str.len().unique())"
   ]
  },
  {
   "cell_type": "code",
   "execution_count": null,
   "id": "5a5843ba",
   "metadata": {},
   "outputs": [
    {
     "data": {
      "text/plain": [
       "length_counts\n",
       "10    1914\n",
       "11    1138\n",
       "9      161\n",
       "8       19\n",
       "7        1\n",
       "Name: count, dtype: int64"
      ]
     },
     "execution_count": 8,
     "metadata": {},
     "output_type": "execute_result"
    }
   ],
   "source": [
    "eob_df['length_counts'] = eob_df['patient_number'].str.len()\n",
    "# claim_df['length_counts'] = claim_df['identifier_0_value'].str.len()\n",
    "length_distribution = eob_df['length_counts'].value_counts()\n",
    "length_distribution"
   ]
  },
  {
   "cell_type": "code",
   "execution_count": null,
   "id": "714679ac",
   "metadata": {},
   "outputs": [
    {
     "data": {
      "text/plain": [
       "length_counts\n",
       "9     17996\n",
       "19     1167\n",
       "14      837\n",
       "Name: count, dtype: int64"
      ]
     },
     "execution_count": 9,
     "metadata": {},
     "output_type": "execute_result"
    }
   ],
   "source": [
    "claim_df['length_counts'] = claim_df['unique_claim_ID'].str.len()\n",
    "# claim_df['length_counts'] = claim_df['identifier_0_value'].str.len()\n",
    "length_distribution = claim_df['length_counts'].value_counts()\n",
    "length_distribution"
   ]
  },
  {
   "cell_type": "markdown",
   "id": "505f9e2d",
   "metadata": {},
   "source": [
    "# Merging files\n",
    "\n",
    "Attempting to merge Patient and Explanation of Benefits datasets with the Claims dataset"
   ]
  },
  {
   "cell_type": "code",
   "execution_count": null,
   "id": "730d335e",
   "metadata": {},
   "outputs": [],
   "source": [
    "# For ease of merging initially limiting dataset columns\n",
    "eob_df_part = eob_df[['patient_number' ]]\n",
    "patient_df_part = patient_df[['patient_number', 'patient_medicare_number']]\n",
    "claim_df_part = claim_df[['patient_medicare_number', 'unique_claim_ID']]\n",
    "# claim_response_df_part = claim_response_df[['patient_medicare_number', 'unique_claim_ID']]\n",
    "# covergae_df_part = coverage_df[['patient_number']]\n"
   ]
  },
  {
   "cell_type": "markdown",
   "id": "f6aa1958",
   "metadata": {},
   "source": [
    "Checking to see if there are identifiers found in each dataset"
   ]
  },
  {
   "cell_type": "code",
   "execution_count": null,
   "id": "7c03d45c",
   "metadata": {},
   "outputs": [
    {
     "data": {
      "text/plain": [
       "0"
      ]
     },
     "execution_count": 12,
     "metadata": {},
     "output_type": "execute_result"
    }
   ],
   "source": [
    "l1 = set(eob_df['patient_number'].unique()).intersection(patient_df['patient_number'])"
   ]
  },
  {
   "cell_type": "code",
   "execution_count": null,
   "id": "12055e30",
   "metadata": {},
   "outputs": [],
   "source": [
    "df = pd.merge(eob_df_part, patient_df_part, how='outer', on='patient_number')"
   ]
  },
  {
   "cell_type": "code",
   "execution_count": null,
   "id": "9572bfd7",
   "metadata": {},
   "outputs": [],
   "source": [
    "df1 = pd.merge(eob_df_part, claim_df_part, how='outer', on='unique_claim_ID')"
   ]
  },
  {
   "cell_type": "code",
   "execution_count": null,
   "id": "26fe8ba3",
   "metadata": {},
   "outputs": [],
   "source": [
    "df2 = pd.merge(coverage_df_part, patient_df_part, how='outer', on='patient_number')"
   ]
  },
  {
   "cell_type": "code",
   "execution_count": null,
   "id": "e4ac5807",
   "metadata": {},
   "outputs": [],
   "source": [
    "def find_common_patients(claim: pd.DataFrame, eob: pd.DataFrame, patient: pd.DataFrame):\n",
    "  \"\"\"Finds the common patient ids that contain data in all 3 datasets\n",
    "\n",
    "  Args:\n",
    "      claim (pd.DataFrame): claim dataset\n",
    "      eob (pd.DataFrame): eob dataset\n",
    "      patient (pd.DataFrame): patient dataset\n",
    "\n",
    "  Returns:\n",
    "      set: List of Patient IDs\n",
    "  \"\"\"\n",
    "  # Patients that have claim\n",
    "  l1 = set(claim['patient_medicare_number'].unique()).intersection(patient['patient_medicare_number'])\n",
    "\n",
    "  # Patients that have an eob & claim info\n",
    "  l2 = set(patient[patient['patient_medicare_number'].isin(l1)]['id']).intersection(set(eob['patient_number'].astype(int)))\n",
    "\n",
    "  # Get the medicare numbers and patient ids\n",
    "  mcare = set(patient[patient['id'].isin(l2)]['patient_medicare_number'])\n",
    "  print(len(l1))\n",
    "\n",
    "  print(\"Patient Medicare Numbers:\")\n",
    "  print(mcare)\n",
    "  print()\n",
    "  print(\"Patient IDs\")\n",
    "  print(l2)"
   ]
  },
  {
   "cell_type": "code",
   "execution_count": 14,
   "id": "9bcf70a4",
   "metadata": {},
   "outputs": [
    {
     "name": "stdout",
     "output_type": "stream",
     "text": [
      "0\n",
      "Patient Medicare Numbers:\n",
      "set()\n",
      "\n",
      "Patient IDs\n",
      "set()\n"
     ]
    }
   ],
   "source": [
    "# These are patients that have data across all the data sets\n",
    "find_common_patients(claim_df, eob_df, patient_df)"
   ]
  }
 ],
 "metadata": {
  "kernelspec": {
   "display_name": ".venv",
   "language": "python",
   "name": "python3"
  },
  "language_info": {
   "codemirror_mode": {
    "name": "ipython",
    "version": 3
   },
   "file_extension": ".py",
   "mimetype": "text/x-python",
   "name": "python",
   "nbconvert_exporter": "python",
   "pygments_lexer": "ipython3",
   "version": "3.11.9"
  }
 },
 "nbformat": 4,
 "nbformat_minor": 5
}
