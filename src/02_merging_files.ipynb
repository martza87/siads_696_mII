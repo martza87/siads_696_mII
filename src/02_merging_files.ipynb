{
 "cells": [
  {
   "cell_type": "markdown",
   "id": "643bdd3d",
   "metadata": {},
   "source": [
    "# Merging Datasets\n",
    "# 02_EDA_merging_files"
   ]
  },
  {
   "cell_type": "markdown",
   "id": "ed2de28b",
   "metadata": {},
   "source": [
    "| Date | User | Change Type | Remarks |  \n",
    "| ---- | ---- | ----------- | ------- |\n",
    "| 22/09/25 | Adrienne | Update | Made significant changes to program | \n",
    "| 23/09/25 | Adrienne | Update | Restructured file to merge EOB and Claim |"
   ]
  },
  {
   "cell_type": "markdown",
   "id": "3d8f695f",
   "metadata": {},
   "source": [
    "### Content\n",
    "\n",
    "* [Introduction](#introduction)"
   ]
  },
  {
   "cell_type": "markdown",
   "id": "4479ed7d",
   "metadata": {},
   "source": [
    "\n",
    "### Summary \n",
    "Through EDA we have discovered that the coverage and claim response files do not contain any information that would be useful for our unsupervised learning task.  At this time, we are doing more EDA into the Patient file as we seem to be limited in the number of records we can pull from the API. This program attempts to merge some of the files to see if there are overlapping patients in both files.\n",
    "\n",
    "Some Notes on Idenfifiers:\n",
    "- EOB does not have Patient Medicare Number\n",
    "- Claim does not have Patient Number"
   ]
  },
  {
   "cell_type": "code",
   "execution_count": 2,
   "id": "fbebbd09",
   "metadata": {},
   "outputs": [],
   "source": [
    "import pandas as pd\n",
    "import numpy as np\n",
    "import matplotlib.pyplot as plt\n",
    "import re\n",
    "from datetime import datetime\n",
    "import json_lines"
   ]
  },
  {
   "cell_type": "code",
   "execution_count": 3,
   "id": "94238924",
   "metadata": {},
   "outputs": [],
   "source": [
    "# readin clean datafiles\n",
    "path = \"../data/clean/\"\n",
    "#eob_df = pd.read_pickle(path + 'explanation_of_benefit_clean.pkl')\n",
    "eob_df = pd.read_pickle(path + 'eob.pkl')\n",
    "#coverage_df = pd.read_pickle(path + 'coverage.pkl')\n",
    "claim_df = pd.read_pickle(path + 'claim_sample.pkl')\n",
    "#claim_df =  pd.read_pickle(path + 'claim.pkl')\n",
    "#claim_response_df =  pd.read_pickle(path + 'claim_response.pkl')\n",
    "patient_df = pd.read_pickle(path + 'patient.pkl')"
   ]
  },
  {
   "cell_type": "markdown",
   "id": "1934e037",
   "metadata": {},
   "source": [
    "Creating some common variables across datafiles"
   ]
  },
  {
   "cell_type": "code",
   "execution_count": 5,
   "id": "198e7453",
   "metadata": {},
   "outputs": [],
   "source": [
    "# Preprocess identifiers in EOB\n",
    "eob_df['patient_medicare_number'] = eob_df['contained_0_identifier_0_value']\n",
    "eob_df['patient_number'] = eob_df['id'].str.split('-').str[-1]\n",
    "#eob_df['unique_claim_ID'] = eob_df['claimId_2'].str.replace(r'[-]', '', regex=True)"
   ]
  },
  {
   "cell_type": "code",
   "execution_count": null,
   "id": "fb8c0226",
   "metadata": {},
   "outputs": [],
   "source": [
    "# needed to convert beneficiary to string to merge on\n",
    "coverage_df['patient_number'] = coverage_df['beneficiary'].apply(str)"
   ]
  },
  {
   "cell_type": "code",
   "execution_count": 6,
   "id": "4b50d6f3",
   "metadata": {},
   "outputs": [],
   "source": [
    "# Preprocess Identifier in Patient\n",
    "patient_df['patient_medicare_number'] = patient_df['identifier_1_value']\n",
    "patient_df['patient_number'] = patient_df['identifier_0_value'].str.replace(r'[-]', '', regex=True)\n",
    "patient_df['patient_first_name'] = patient_df['name_0_given'].str.replace(r'[ \\[ \\]\"]', '', regex=True)\n",
    "patient_df['patient_last_name'] = patient_df['name_0_family']"
   ]
  },
  {
   "cell_type": "markdown",
   "id": "d618d498",
   "metadata": {},
   "source": [
    "Checking unique values and column lengths for merging"
   ]
  },
  {
   "cell_type": "code",
   "execution_count": null,
   "id": "c0eef12b",
   "metadata": {},
   "outputs": [
    {
     "name": "stdout",
     "output_type": "stream",
     "text": [
      "num of unique patient numbers in EOB: 3233\n",
      "num of unique patient numbers in Patient: 5000\n",
      "num of unique patient medicare numbers in Patient: 5000\n",
      "num of unique patient first names in Patient: 2\n",
      "num of unique patient medicare numbers in Claim: 2719\n",
      "num of unique claim IDs in Claim: 19139\n"
     ]
    }
   ],
   "source": [
    "# EOB\n",
    "print(f\"num of unique patient numbers in EOB: {len(eob_df['patient_number'].unique())}\")\n",
    "#print(f\"num of unique claim IDs in EOB: {len(eob_df['unique_claim_ID'].unique())}\")\n",
    "\n",
    "# Patient\n",
    "print(f\"num of unique patient numbers in Patient: {len(patient_df['patient_number'].unique())}\")\n",
    "print(f\"num of unique patient medicare numbers in Patient: {len(patient_df['patient_medicare_number'].unique())}\")\n",
    "print(f\"num of unique patient first names in Patient: {len(patient_df['patient_first_name'].unique())}\")\n",
    "\n",
    "# Coverage\n",
    "print(f\"num of unique patient numbers in Coverage: {len(coverage_df['patient_number'].unique())}\")\n",
    "\n",
    "# Claim\n",
    "print(f\"num of unique patient medicare numbers in Claim: {len(claim_df['patient_medicare_number'].unique())}\")\n",
    "print(f\"num of unique claim IDs in Claim: {len(claim_df['unique_claim_ID'].unique())}\")\n",
    "#print(f\"num of unique patient medicare numbers in Claim Response: {len(claim_response_df['patient_medicare_number'].unique())}\")"
   ]
  },
  {
   "cell_type": "code",
   "execution_count": 9,
   "id": "c67a0634",
   "metadata": {},
   "outputs": [
    {
     "name": "stdout",
     "output_type": "stream",
     "text": [
      "[10 11  9  8  7]\n",
      "[14]\n",
      "[11]\n",
      "[11]\n",
      "[ 9 19 14]\n",
      "[10 13 23 15]\n"
     ]
    }
   ],
   "source": [
    "# Checking lengths of values in columns\n",
    "print(eob_df['patient_number'].str.len().unique())\n",
    "#print(eob_df['unique_claim_ID'].str.len().unique())\n",
    "print(patient_df['patient_number'].str.len().unique())\n",
    "print(patient_df['patient_medicare_number'].str.len().unique())\n",
    "print(claim_df['patient_medicare_number'].str.len().unique())\n",
    "print(claim_df['unique_claim_ID'].str.len().unique())\n",
    "print(claim_df['identifier_0_value'].str.len().unique())\n",
    "#print(claim_response_df['patient_medicare_number'].str.len().unique())"
   ]
  },
  {
   "cell_type": "markdown",
   "id": "a86a9b62",
   "metadata": {},
   "source": [
    "Counts by column length"
   ]
  },
  {
   "cell_type": "code",
   "execution_count": 10,
   "id": "5a5843ba",
   "metadata": {},
   "outputs": [
    {
     "data": {
      "text/plain": [
       "length_counts\n",
       "10    1914\n",
       "11    1138\n",
       "9      161\n",
       "8       19\n",
       "7        1\n",
       "Name: count, dtype: int64"
      ]
     },
     "execution_count": 10,
     "metadata": {},
     "output_type": "execute_result"
    }
   ],
   "source": [
    "eob_df['length_counts'] = eob_df['patient_number'].str.len()\n",
    "#claim_df['length_counts'] = claim_df['identifier_0_value'].str.len()\n",
    "length_distribution = eob_df['length_counts'].value_counts()\n",
    "length_distribution"
   ]
  },
  {
   "cell_type": "code",
   "execution_count": 11,
   "id": "714679ac",
   "metadata": {},
   "outputs": [
    {
     "data": {
      "text/plain": [
       "length_counts\n",
       "9     17986\n",
       "19     1146\n",
       "14      868\n",
       "Name: count, dtype: int64"
      ]
     },
     "execution_count": 11,
     "metadata": {},
     "output_type": "execute_result"
    }
   ],
   "source": [
    "claim_df['length_counts'] = claim_df['unique_claim_ID'].str.len()\n",
    "#claim_df['length_counts'] = claim_df['identifier_0_value'].str.len()\n",
    "length_distribution = claim_df['length_counts'].value_counts()\n",
    "length_distribution"
   ]
  },
  {
   "cell_type": "markdown",
   "id": "505f9e2d",
   "metadata": {},
   "source": [
    "## Merging files"
   ]
  },
  {
   "cell_type": "code",
   "execution_count": null,
   "id": "730d335e",
   "metadata": {},
   "outputs": [],
   "source": [
    "# For ease of merging initially limiting dataset columns\n",
    "eob_df_part = eob_df[['patient_number','unique_claim_ID' ]]\n",
    "patient_df_part = patient_df[['patient_number', 'patient_medicare_number']]\n",
    "claim_df_part = claim_df[['patient_medicare_number', 'unique_claim_ID']]\n",
    "#claim_response_df_part = claim_response_df[['patient_medicare_number', 'unique_claim_ID']]\n"
   ]
  },
  {
   "cell_type": "markdown",
   "id": "f6aa1958",
   "metadata": {},
   "source": [
    "Checking to see if there are identifiers found in each dataset"
   ]
  },
  {
   "cell_type": "code",
   "execution_count": 12,
   "id": "7c03d45c",
   "metadata": {},
   "outputs": [
    {
     "data": {
      "text/plain": [
       "0"
      ]
     },
     "execution_count": 12,
     "metadata": {},
     "output_type": "execute_result"
    }
   ],
   "source": [
    "l1 = set(eob_df['patient_number'].unique()).intersection(patient_df['patient_number'])\n",
    "len(l1)"
   ]
  },
  {
   "cell_type": "code",
   "execution_count": null,
   "id": "12055e30",
   "metadata": {},
   "outputs": [],
   "source": [
    "df = pd.merge(eob_df_part, patient_df_part, how = 'outer', on = 'patient_number')"
   ]
  },
  {
   "cell_type": "code",
   "execution_count": null,
   "id": "9572bfd7",
   "metadata": {},
   "outputs": [],
   "source": [
    "df1 = pd.merge(eob_df_part, claim_df_part, how = 'outer', on = 'unique_claim_ID')"
   ]
  },
  {
   "cell_type": "code",
   "execution_count": 28,
   "id": "26fe8ba3",
   "metadata": {},
   "outputs": [],
   "source": [
    "df2 = pd.merge(coverage_df_part, patient_df_part, how = 'outer', on = 'patient_number')\n"
   ]
  }
 ],
 "metadata": {
  "kernelspec": {
   "display_name": ".venv (3.13.7)",
   "language": "python",
   "name": "python3"
  },
  "language_info": {
   "codemirror_mode": {
    "name": "ipython",
    "version": 3
   },
   "file_extension": ".py",
   "mimetype": "text/x-python",
   "name": "python",
   "nbconvert_exporter": "python",
   "pygments_lexer": "ipython3",
   "version": "3.13.7"
  }
 },
 "nbformat": 4,
 "nbformat_minor": 5
}
