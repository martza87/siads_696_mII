{
 "cells": [
  {
   "cell_type": "code",
   "execution_count": null,
   "id": "d1fb4656",
   "metadata": {},
   "outputs": [],
   "source": []
  },
  {
   "cell_type": "code",
   "execution_count": null,
   "id": "a2f980d9",
   "metadata": {},
   "outputs": [],
   "source": []
  },
  {
   "cell_type": "code",
   "execution_count": null,
   "id": "6947a06b",
   "metadata": {},
   "outputs": [],
   "source": [
    "# kmeans code\n",
    "kmeans = KMeans(init = 'k-means++', n_clusters=9, n_init= 5, random_state = 42) \n",
    "km = kmeans.fit(X_pca) \n",
    "labels = km.predict(X_pca)\n",
    "\n",
    "# add cluster results to dataset\n",
    "df['cluster'] = labels"
   ]
  },
  {
   "cell_type": "code",
   "execution_count": null,
   "id": "95ca2eeb",
   "metadata": {},
   "outputs": [],
   "source": [
    "# quick look at cluster values\n",
    "vals = df['cluster'].value_counts(normalize=True) * 100\n",
    "pd.DataFrame({\n",
    "  'cluster': vals\n",
    "}).head(12)"
   ]
  },
  {
   "cell_type": "code",
   "execution_count": null,
   "id": "178e2347",
   "metadata": {},
   "outputs": [],
   "source": []
  },
  {
   "cell_type": "code",
   "execution_count": null,
   "id": "02ca7adf",
   "metadata": {},
   "outputs": [],
   "source": [
    "# LSA/Truncated SVD Dimension Reduction\n",
    "maxDimensions = min(df.shape)-1\n",
    "\n",
    "# The \"arpack\" algorithm is typically more efficient for large sparse matrices compared to the default \"randomized\" algorithm\n",
    "lsa = TruncatedSVD(n_components=maxDimensions, algorithm=\"arpack\") \n",
    "X_lsa = lsa.fit_transform(df)\n",
    "\n",
    "explained_variance_ = lsa.explained_variance_"
   ]
  },
  {
   "cell_type": "code",
   "execution_count": null,
   "id": "9f211e3e",
   "metadata": {},
   "outputs": [],
   "source": [
    "X = df\n",
    "k = 10  # number of singular vectors to keep\n",
    "U, S, Vt = np.linalg.svd(X)\n",
    "X_approx = U[:, :k] @ np.diag(S[:k]) @ Vt[:k, :]"
   ]
  },
  {
   "cell_type": "code",
   "execution_count": null,
   "id": "1fb170d1",
   "metadata": {},
   "outputs": [],
   "source": [
    "approx_error = np.linalg.norm(X - X_approx) / np.linalg.norm(X)\n",
    "print(f'Relative approximation error: {approx_error:.2f}')"
   ]
  },
  {
   "cell_type": "code",
   "execution_count": null,
   "id": "72374f48",
   "metadata": {},
   "outputs": [],
   "source": [
    "feature_names = X_approx.columns\n",
    "Vk = Vt[:k, :]\n",
    "feature_importance = np.abs(Vk).sum(axis=0)\n",
    "sorted_idx = np.argsort(feature_importance)[::-1]\n",
    "\n",
    "# Save the names of the top 10 most frequent features in a list\n",
    "top_features = [feature_names[i] for i in sorted_idx[:10]]"
   ]
  },
  {
   "cell_type": "code",
   "execution_count": null,
   "id": "66db65b6",
   "metadata": {},
   "outputs": [],
   "source": [
    "plt.barh(range(10), feature_importance[sorted_idx[:10]])\n",
    "plt.yticks(range(10), top_features)\n",
    "plt.xlabel('Importance Score')\n",
    "plt.title('Most Frequent Features in Truncated SVD')\n",
    "plt.show()\n"
   ]
  },
  {
   "cell_type": "code",
   "execution_count": null,
   "id": "f6d8d700",
   "metadata": {},
   "outputs": [],
   "source": [
    "# example grid search\n",
    "\n",
    "param_grid = {'eps': [0.5, 0.75, 1, 1.25], 'min_samples': [5, 10, 15]} # easily add another parameter to this structure\n",
    "\n",
    "grid_search = GridSearchCV(\n",
    "    estimator=DBSCAN(metric='euclidean'),\n",
    "    param_grid=param_grid,\n",
    "    scoring='explained_variance',\n",
    "    cv = 5,\n",
    "    n_jobs=-1\n",
    ")\n",
    "\n",
    "grid_search.fit(X_pca)\n",
    "\n",
    "print(f\"Best parameters: {grid_search.best_params_}\")\n",
    "print(f\"Best score: {grid_search.best_score_}\")"
   ]
  },
  {
   "cell_type": "code",
   "execution_count": null,
   "id": "b60c16e4",
   "metadata": {},
   "outputs": [],
   "source": []
  },
  {
   "cell_type": "code",
   "execution_count": null,
   "id": "ac30ffec",
   "metadata": {},
   "outputs": [],
   "source": []
  }
 ],
 "metadata": {
  "language_info": {
   "name": "python"
  }
 },
 "nbformat": 4,
 "nbformat_minor": 5
}
