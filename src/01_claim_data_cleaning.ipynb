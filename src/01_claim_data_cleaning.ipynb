{
 "cells": [
  {
   "cell_type": "markdown",
   "id": "dd9011f9",
   "metadata": {},
   "source": [
    "# 01_claim_data_cleaning"
   ]
  },
  {
   "cell_type": "code",
   "execution_count": null,
   "id": "66304f9e",
   "metadata": {},
   "outputs": [],
   "source": [
    "import pandas as pd\n",
    "import numpy as np\n",
    "import matplotlib.pyplot as plt\n",
    "import re\n",
    "from datetime import datetime"
   ]
  },
  {
   "cell_type": "code",
   "execution_count": null,
   "id": "6519b151",
   "metadata": {},
   "outputs": [],
   "source": [
    "path = \"../data/raw\"\n",
    "claim_df = pd.read_json(f\"{path}/Claim.ndjson\", lines=True)\n",
    "claim_response_df = pd.read_json(f\"{path}/ClaimResponse.ndjson\", lines=True)\n"
   ]
  },
  {
   "cell_type": "code",
   "execution_count": null,
   "id": "783feeda",
   "metadata": {},
   "outputs": [],
   "source": []
  },
  {
   "cell_type": "code",
   "execution_count": null,
   "id": "d938bf31",
   "metadata": {},
   "outputs": [],
   "source": []
  },
  {
   "cell_type": "code",
   "execution_count": null,
   "id": "a3d5f36c",
   "metadata": {},
   "outputs": [],
   "source": []
  }
 ],
 "metadata": {
  "language_info": {
   "name": "python"
  }
 },
 "nbformat": 4,
 "nbformat_minor": 5
}
