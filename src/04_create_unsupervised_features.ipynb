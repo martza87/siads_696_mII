{
 "cells": [
  {
   "cell_type": "markdown",
   "metadata": {},
   "source": [
    "# Unsupervised Learning"
   ]
  },
  {
   "cell_type": "markdown",
   "metadata": {},
   "source": [
    "# 04_create_unsupervised_features"
   ]
  },
  {
   "cell_type": "markdown",
   "metadata": {},
   "source": [
    "| Date | User | Change Type | Remarks |  \n",
    "| ---- | ---- | ----------- | ------- |\n",
    "| 28/09/2025   | Adrienne | Created   | Created file for unsupervised learning | \n",
    "| 29/09/2025   | Martin | New   | Processing to apply the HCPCS code descriptions + EDA on the new descriptions | "
   ]
  },
  {
   "cell_type": "markdown",
   "metadata": {},
   "source": [
    "# Notes\n",
    "\n",
    "- base model just a set of procedures - bare services to treat condition\n",
    "- model with all procedures (so if you have 3 blood draws it it in there three times)\n",
    "- Preventative care indicator\n",
    "- columns for each hcpcs code range\n",
    "- time between procedures?"
   ]
  },
  {
   "cell_type": "markdown",
   "metadata": {
    "vscode": {
     "languageId": "plaintext"
    }
   },
   "source": [
    "# Content\n",
    "\n",
    "* [Introduction](#introduction)\n",
    "* [Load Data](#load-data)\n",
    "* [Additional Features](#additional-features)\n",
    "* [EDA](#eda)"
   ]
  },
  {
   "cell_type": "markdown",
   "metadata": {},
   "source": [
    "# Introduction"
   ]
  },
  {
   "cell_type": "code",
   "execution_count": 3,
   "metadata": {},
   "outputs": [],
   "source": [
    "%load_ext watermark"
   ]
  },
  {
   "cell_type": "code",
   "execution_count": 1,
   "metadata": {},
   "outputs": [],
   "source": [
    "import pandas as pd\n",
    "import numpy as np\n",
    "import matplotlib.pyplot as plt\n",
    "import seaborn as sns"
   ]
  },
  {
   "cell_type": "markdown",
   "metadata": {},
   "source": [
    "# Load Data"
   ]
  },
  {
   "cell_type": "code",
   "execution_count": 2,
   "metadata": {},
   "outputs": [],
   "source": [
    "path = \"../data/clean\"\n",
    "df = pd.read_pickle(f\"{path}/patient_level.pkl\")"
   ]
  },
  {
   "cell_type": "code",
   "execution_count": 5,
   "metadata": {},
   "outputs": [
    {
     "data": {
      "text/html": [
       "<div>\n",
       "<style scoped>\n",
       "    .dataframe tbody tr th:only-of-type {\n",
       "        vertical-align: middle;\n",
       "    }\n",
       "\n",
       "    .dataframe tbody tr th {\n",
       "        vertical-align: top;\n",
       "    }\n",
       "\n",
       "    .dataframe thead th {\n",
       "        text-align: right;\n",
       "    }\n",
       "</style>\n",
       "<table border=\"1\" class=\"dataframe\">\n",
       "  <thead>\n",
       "    <tr style=\"text-align: right;\">\n",
       "      <th></th>\n",
       "      <th>patient_medicare_number</th>\n",
       "      <th>patient_first_name</th>\n",
       "      <th>patient_last_name</th>\n",
       "      <th>gender</th>\n",
       "      <th>birthdate</th>\n",
       "      <th>number_of_claims</th>\n",
       "      <th>drg_ls</th>\n",
       "      <th>combined_diagnosis_ls</th>\n",
       "      <th>combined_hcpcs_ls</th>\n",
       "      <th>billablePeriod_start_ls</th>\n",
       "      <th>billablePeriod_end_ls</th>\n",
       "      <th>location_of_bill_ls</th>\n",
       "    </tr>\n",
       "  </thead>\n",
       "  <tbody>\n",
       "    <tr>\n",
       "      <th>0</th>\n",
       "      <td>1S00E00AD09</td>\n",
       "      <td>Oralia106</td>\n",
       "      <td>Ward668</td>\n",
       "      <td>female</td>\n",
       "      <td>1948-06-14</td>\n",
       "      <td>7</td>\n",
       "      <td>[948, 003, 001]</td>\n",
       "      <td>[K011, G43719, R52, E669, E785, K3520, K37, Z9...</td>\n",
       "      <td>[99241, 00777310502, G0444, 00777310502, 99221...</td>\n",
       "      <td>[2019-05-17, 2019-10-14, 1991-01-11, 2014-01-1...</td>\n",
       "      <td>[2019-05-17, 2019-10-14, 1991-01-12, 2014-01-1...</td>\n",
       "      <td>[002, 002, 002, 002, 002]</td>\n",
       "    </tr>\n",
       "    <tr>\n",
       "      <th>1</th>\n",
       "      <td>1S00E00AG56</td>\n",
       "      <td>Filomena21</td>\n",
       "      <td>Rice937</td>\n",
       "      <td>female</td>\n",
       "      <td>1947-05-04</td>\n",
       "      <td>3</td>\n",
       "      <td>[]</td>\n",
       "      <td>[E669, J329, E034, D649, E785, B349, E669, J32...</td>\n",
       "      <td>[99241, 00777310502, G0444, 00777310502, 99241...</td>\n",
       "      <td>[2019-07-07, 2017-08-27, 2020-07-06]</td>\n",
       "      <td>[2019-07-07, 2017-08-27, 2020-07-06]</td>\n",
       "      <td>[002, 002]</td>\n",
       "    </tr>\n",
       "    <tr>\n",
       "      <th>2</th>\n",
       "      <td>1S00E00MP51</td>\n",
       "      <td>Errol226</td>\n",
       "      <td>Hilpert278</td>\n",
       "      <td>male</td>\n",
       "      <td>1948-01-01</td>\n",
       "      <td>2</td>\n",
       "      <td>[]</td>\n",
       "      <td>[C189, K621, D649, M810, I639, P292, K635, C18...</td>\n",
       "      <td>[G0152, 99241]</td>\n",
       "      <td>[2019-07-03, 2019-10-23]</td>\n",
       "      <td>[2019-07-03, 2019-10-23]</td>\n",
       "      <td>[004, 002]</td>\n",
       "    </tr>\n",
       "    <tr>\n",
       "      <th>3</th>\n",
       "      <td>1S00E00JD02</td>\n",
       "      <td>Jacquetta1</td>\n",
       "      <td>Koepp521</td>\n",
       "      <td>female</td>\n",
       "      <td>1952-04-16</td>\n",
       "      <td>1</td>\n",
       "      <td>[]</td>\n",
       "      <td>[R739, E781, E8881, D649, M179, J329, E669, E119]</td>\n",
       "      <td>[99241]</td>\n",
       "      <td>[2012-03-01]</td>\n",
       "      <td>[2012-03-01]</td>\n",
       "      <td>[002]</td>\n",
       "    </tr>\n",
       "    <tr>\n",
       "      <th>4</th>\n",
       "      <td>1S00E00HF72</td>\n",
       "      <td>Darlene91</td>\n",
       "      <td>Carter549</td>\n",
       "      <td>female</td>\n",
       "      <td>1947-08-12</td>\n",
       "      <td>3</td>\n",
       "      <td>[]</td>\n",
       "      <td>[O039, O039, B9789, O039]</td>\n",
       "      <td>[Q5001, 99241, G0444]</td>\n",
       "      <td>[2012-09-19, 2017-08-11, 2017-12-05]</td>\n",
       "      <td>[2012-09-19, 2017-08-11, 2017-12-05]</td>\n",
       "      <td>[004, 002]</td>\n",
       "    </tr>\n",
       "  </tbody>\n",
       "</table>\n",
       "</div>"
      ],
      "text/plain": [
       "  patient_medicare_number patient_first_name patient_last_name  gender  \\\n",
       "0             1S00E00AD09          Oralia106           Ward668  female   \n",
       "1             1S00E00AG56         Filomena21           Rice937  female   \n",
       "2             1S00E00MP51           Errol226        Hilpert278    male   \n",
       "3             1S00E00JD02         Jacquetta1          Koepp521  female   \n",
       "4             1S00E00HF72          Darlene91         Carter549  female   \n",
       "\n",
       "    birthdate  number_of_claims           drg_ls  \\\n",
       "0  1948-06-14                 7  [948, 003, 001]   \n",
       "1  1947-05-04                 3               []   \n",
       "2  1948-01-01                 2               []   \n",
       "3  1952-04-16                 1               []   \n",
       "4  1947-08-12                 3               []   \n",
       "\n",
       "                               combined_diagnosis_ls  \\\n",
       "0  [K011, G43719, R52, E669, E785, K3520, K37, Z9...   \n",
       "1  [E669, J329, E034, D649, E785, B349, E669, J32...   \n",
       "2  [C189, K621, D649, M810, I639, P292, K635, C18...   \n",
       "3  [R739, E781, E8881, D649, M179, J329, E669, E119]   \n",
       "4                          [O039, O039, B9789, O039]   \n",
       "\n",
       "                                   combined_hcpcs_ls  \\\n",
       "0  [99241, 00777310502, G0444, 00777310502, 99221...   \n",
       "1  [99241, 00777310502, G0444, 00777310502, 99241...   \n",
       "2                                     [G0152, 99241]   \n",
       "3                                            [99241]   \n",
       "4                              [Q5001, 99241, G0444]   \n",
       "\n",
       "                             billablePeriod_start_ls  \\\n",
       "0  [2019-05-17, 2019-10-14, 1991-01-11, 2014-01-1...   \n",
       "1               [2019-07-07, 2017-08-27, 2020-07-06]   \n",
       "2                           [2019-07-03, 2019-10-23]   \n",
       "3                                       [2012-03-01]   \n",
       "4               [2012-09-19, 2017-08-11, 2017-12-05]   \n",
       "\n",
       "                               billablePeriod_end_ls  \\\n",
       "0  [2019-05-17, 2019-10-14, 1991-01-12, 2014-01-1...   \n",
       "1               [2019-07-07, 2017-08-27, 2020-07-06]   \n",
       "2                           [2019-07-03, 2019-10-23]   \n",
       "3                                       [2012-03-01]   \n",
       "4               [2012-09-19, 2017-08-11, 2017-12-05]   \n",
       "\n",
       "         location_of_bill_ls  \n",
       "0  [002, 002, 002, 002, 002]  \n",
       "1                 [002, 002]  \n",
       "2                 [004, 002]  \n",
       "3                      [002]  \n",
       "4                 [004, 002]  "
      ]
     },
     "execution_count": 5,
     "metadata": {},
     "output_type": "execute_result"
    }
   ],
   "source": [
    "df.head()"
   ]
  },
  {
   "cell_type": "code",
   "execution_count": 197,
   "metadata": {},
   "outputs": [
    {
     "data": {
      "text/plain": [
       "(5158, 12)"
      ]
     },
     "execution_count": 197,
     "metadata": {},
     "output_type": "execute_result"
    }
   ],
   "source": [
    "df.shape"
   ]
  },
  {
   "cell_type": "markdown",
   "metadata": {},
   "source": [
    "# Additional Features\n",
    "\n",
    "Focusing on transforming the HCPCS codes into a useable format for unsupervised learning.\n",
    "\n",
    "- HCPCS\n",
    "  - code\n",
    "  - category\n",
    "  - description"
   ]
  },
  {
   "cell_type": "markdown",
   "metadata": {},
   "source": [
    "## Create the mappers\n",
    "\n",
    "The mapper combines the various HCPCS encodings (compiled by Adrienne) in a single dataframe. It expands the coding range from `code_range_start` to `code_range_end` and maps it to the corresponding description."
   ]
  },
  {
   "cell_type": "code",
   "execution_count": 137,
   "metadata": {},
   "outputs": [],
   "source": [
    "mapper_path = \"../data/mappers\"\n",
    "cpt_map = pd.read_csv(f\"{mapper_path}/CPT_Category_II.csv\")\n",
    "hcpcs_1_map = pd.read_csv(f\"{mapper_path}/HCPCS_Level_I.csv\")\n",
    "hcpcs_2_map = pd.read_csv(f\"{mapper_path}/HCPCS_Level_II.csv\")\n",
    "hcpcs_detailed_map = pd.read_csv(f\"{mapper_path}/HCPCS_Detailed.csv\")"
   ]
  },
  {
   "cell_type": "code",
   "execution_count": 138,
   "metadata": {},
   "outputs": [
    {
     "data": {
      "text/html": [
       "<div>\n",
       "<style scoped>\n",
       "    .dataframe tbody tr th:only-of-type {\n",
       "        vertical-align: middle;\n",
       "    }\n",
       "\n",
       "    .dataframe tbody tr th {\n",
       "        vertical-align: top;\n",
       "    }\n",
       "\n",
       "    .dataframe thead th {\n",
       "        text-align: right;\n",
       "    }\n",
       "</style>\n",
       "<table border=\"1\" class=\"dataframe\">\n",
       "  <thead>\n",
       "    <tr style=\"text-align: right;\">\n",
       "      <th></th>\n",
       "      <th>code_range_start</th>\n",
       "      <th>code_range_end</th>\n",
       "      <th>range_description</th>\n",
       "    </tr>\n",
       "  </thead>\n",
       "  <tbody>\n",
       "    <tr>\n",
       "      <th>0</th>\n",
       "      <td>99201</td>\n",
       "      <td>99499</td>\n",
       "      <td>Evaluation and Management (E/M) Codes</td>\n",
       "    </tr>\n",
       "    <tr>\n",
       "      <th>1</th>\n",
       "      <td>100</td>\n",
       "      <td>1999</td>\n",
       "      <td>Anesthesia Codes</td>\n",
       "    </tr>\n",
       "    <tr>\n",
       "      <th>2</th>\n",
       "      <td>99100</td>\n",
       "      <td>99140</td>\n",
       "      <td>Anesthesia Codes</td>\n",
       "    </tr>\n",
       "    <tr>\n",
       "      <th>3</th>\n",
       "      <td>10021</td>\n",
       "      <td>69990</td>\n",
       "      <td>Surgery Codes</td>\n",
       "    </tr>\n",
       "    <tr>\n",
       "      <th>4</th>\n",
       "      <td>70010</td>\n",
       "      <td>79999</td>\n",
       "      <td>Radiology Codes</td>\n",
       "    </tr>\n",
       "  </tbody>\n",
       "</table>\n",
       "</div>"
      ],
      "text/plain": [
       "   code_range_start  code_range_end                       range_description\n",
       "0             99201           99499  Evaluation and Management (E/M) Codes \n",
       "1               100            1999                        Anesthesia Codes\n",
       "2             99100           99140                        Anesthesia Codes\n",
       "3             10021           69990                           Surgery Codes\n",
       "4             70010           79999                         Radiology Codes"
      ]
     },
     "execution_count": 138,
     "metadata": {},
     "output_type": "execute_result"
    }
   ],
   "source": [
    "hcpcs_1_map.head()"
   ]
  },
  {
   "cell_type": "code",
   "execution_count": 139,
   "metadata": {},
   "outputs": [],
   "source": [
    "def extend_values(val: int, maxlen):\n",
    "  if len(str(val)) < maxlen:\n",
    "    return (maxlen - len(str(val))) * \"0\" + str(val)\n",
    "  else:\n",
    "    return str(val)"
   ]
  },
  {
   "cell_type": "code",
   "execution_count": 140,
   "metadata": {},
   "outputs": [],
   "source": [
    "def create_mapper(raw: pd.DataFrame):\n",
    "  out = {\n",
    "    'code': [],\n",
    "    'category': [],\n",
    "    'description': []\n",
    "  }\n",
    "  for idx, row in raw.iterrows():\n",
    "    if isinstance(row['code_range_start'], int):\n",
    "      value = np.arange(row['code_range_start'], row['code_range_end']+1)\n",
    "      value = list(map(lambda x: extend_values(x, 5), value))\n",
    "      out['code'].append(value)\n",
    "      out['category'].append(len(value) * [\"HCPCS_level_1\"])\n",
    "      out['description'].append(len(value) * [row['range_description']])\n",
    "    \n",
    "    elif row['code_range_start'][0].isalpha():\n",
    "      if pd.isna(row['code_range_end']):\n",
    "        out['code'].append([row['code_range_start']])\n",
    "        out['category'].append([\"HCPCS_level_2\"])\n",
    "        out['description'].append([row['range_description']])\n",
    "      else:\n",
    "        try:\n",
    "          start_letter = row['code_range_start'][0]\n",
    "          start_num, end_num = int(row['code_range_start'][1:]), int(row['code_range_end'][1:])\n",
    "          value = np.arange(start_num, end_num+1)\n",
    "          value = list(map(lambda x: extend_values(x, 4), value))\n",
    "          value = [f\"{start_letter}{i}\" for i in value]\n",
    "          out['code'].append(value)\n",
    "          out['category'].append(len(value) * [\"HCPCS_level_2\"])\n",
    "          out['description'].append(len(value) * [row['range_description']])\n",
    "        except:\n",
    "          pass\n",
    "    \n",
    "    elif row['code_range_start'][-1].isalpha():\n",
    "      try:\n",
    "        end_letter = row['code_range_start'][-1]\n",
    "        start_num, end_num = int(row['code_range_start'][:-1]), int(row['code_range_end'][:-1])\n",
    "        value = np.arange(start_num, end_num+1)\n",
    "        value = list(map(lambda x: extend_values(x, 4), value))\n",
    "        value = [f\"{i}{end_letter}\" for i in value]\n",
    "        out['code'].append(value)\n",
    "        out['category'].append(len(value) * [\"CPT\"])\n",
    "        out['description'].append(len(value) * [row['range_description']])\n",
    "      except:\n",
    "        pass\n",
    "\n",
    "  out = {k: [i for sublist in v for i in sublist] for k, v in out.items()}\n",
    "  out = pd.DataFrame(out)\n",
    "  \n",
    "  return out"
   ]
  },
  {
   "cell_type": "code",
   "execution_count": 141,
   "metadata": {},
   "outputs": [],
   "source": [
    "hcpcs_1_map = create_mapper(hcpcs_1_map)\n",
    "hcpcs_2_map = create_mapper(hcpcs_2_map)\n",
    "cpt_map = create_mapper(cpt_map)"
   ]
  },
  {
   "cell_type": "code",
   "execution_count": 142,
   "metadata": {},
   "outputs": [
    {
     "data": {
      "text/html": [
       "<div>\n",
       "<style scoped>\n",
       "    .dataframe tbody tr th:only-of-type {\n",
       "        vertical-align: middle;\n",
       "    }\n",
       "\n",
       "    .dataframe tbody tr th {\n",
       "        vertical-align: top;\n",
       "    }\n",
       "\n",
       "    .dataframe thead th {\n",
       "        text-align: right;\n",
       "    }\n",
       "</style>\n",
       "<table border=\"1\" class=\"dataframe\">\n",
       "  <thead>\n",
       "    <tr style=\"text-align: right;\">\n",
       "      <th></th>\n",
       "      <th>code</th>\n",
       "      <th>category</th>\n",
       "      <th>description</th>\n",
       "    </tr>\n",
       "  </thead>\n",
       "  <tbody>\n",
       "    <tr>\n",
       "      <th>0</th>\n",
       "      <td>99201</td>\n",
       "      <td>HCPCS_level_1</td>\n",
       "      <td>Evaluation and Management (E/M) Codes</td>\n",
       "    </tr>\n",
       "    <tr>\n",
       "      <th>1</th>\n",
       "      <td>99202</td>\n",
       "      <td>HCPCS_level_1</td>\n",
       "      <td>Evaluation and Management (E/M) Codes</td>\n",
       "    </tr>\n",
       "    <tr>\n",
       "      <th>2</th>\n",
       "      <td>99203</td>\n",
       "      <td>HCPCS_level_1</td>\n",
       "      <td>Evaluation and Management (E/M) Codes</td>\n",
       "    </tr>\n",
       "    <tr>\n",
       "      <th>3</th>\n",
       "      <td>99204</td>\n",
       "      <td>HCPCS_level_1</td>\n",
       "      <td>Evaluation and Management (E/M) Codes</td>\n",
       "    </tr>\n",
       "    <tr>\n",
       "      <th>4</th>\n",
       "      <td>99205</td>\n",
       "      <td>HCPCS_level_1</td>\n",
       "      <td>Evaluation and Management (E/M) Codes</td>\n",
       "    </tr>\n",
       "  </tbody>\n",
       "</table>\n",
       "</div>"
      ],
      "text/plain": [
       "    code       category                             description\n",
       "0  99201  HCPCS_level_1  Evaluation and Management (E/M) Codes \n",
       "1  99202  HCPCS_level_1  Evaluation and Management (E/M) Codes \n",
       "2  99203  HCPCS_level_1  Evaluation and Management (E/M) Codes \n",
       "3  99204  HCPCS_level_1  Evaluation and Management (E/M) Codes \n",
       "4  99205  HCPCS_level_1  Evaluation and Management (E/M) Codes "
      ]
     },
     "execution_count": 142,
     "metadata": {},
     "output_type": "execute_result"
    }
   ],
   "source": [
    "combined_mapper = pd.concat([hcpcs_1_map, hcpcs_2_map, cpt_map], axis=0)\n",
    "combined_mapper.head()"
   ]
  },
  {
   "cell_type": "markdown",
   "metadata": {},
   "source": [
    "## Apply mapper to HCPCS lists\n",
    "\n",
    "Using the mapper we can apply the additional columns with category and description to each column of HCPCS"
   ]
  },
  {
   "cell_type": "code",
   "execution_count": 143,
   "metadata": {},
   "outputs": [
    {
     "data": {
      "text/html": [
       "<div>\n",
       "<style scoped>\n",
       "    .dataframe tbody tr th:only-of-type {\n",
       "        vertical-align: middle;\n",
       "    }\n",
       "\n",
       "    .dataframe tbody tr th {\n",
       "        vertical-align: top;\n",
       "    }\n",
       "\n",
       "    .dataframe thead th {\n",
       "        text-align: right;\n",
       "    }\n",
       "</style>\n",
       "<table border=\"1\" class=\"dataframe\">\n",
       "  <thead>\n",
       "    <tr style=\"text-align: right;\">\n",
       "      <th></th>\n",
       "      <th>hcpcs_0</th>\n",
       "      <th>hcpcs_1</th>\n",
       "      <th>hcpcs_2</th>\n",
       "      <th>hcpcs_3</th>\n",
       "      <th>hcpcs_4</th>\n",
       "      <th>hcpcs_5</th>\n",
       "      <th>hcpcs_6</th>\n",
       "      <th>hcpcs_7</th>\n",
       "      <th>hcpcs_8</th>\n",
       "      <th>hcpcs_9</th>\n",
       "      <th>...</th>\n",
       "      <th>hcpcs_331</th>\n",
       "      <th>hcpcs_332</th>\n",
       "      <th>hcpcs_333</th>\n",
       "      <th>hcpcs_334</th>\n",
       "      <th>hcpcs_335</th>\n",
       "      <th>hcpcs_336</th>\n",
       "      <th>hcpcs_337</th>\n",
       "      <th>hcpcs_338</th>\n",
       "      <th>hcpcs_339</th>\n",
       "      <th>hcpcs_340</th>\n",
       "    </tr>\n",
       "  </thead>\n",
       "  <tbody>\n",
       "    <tr>\n",
       "      <th>0</th>\n",
       "      <td>99241</td>\n",
       "      <td>00777310502</td>\n",
       "      <td>G0444</td>\n",
       "      <td>00777310502</td>\n",
       "      <td>99221</td>\n",
       "      <td>00777310502</td>\n",
       "      <td>99241</td>\n",
       "      <td>00777310502</td>\n",
       "      <td>99221</td>\n",
       "      <td>00777310502</td>\n",
       "      <td>...</td>\n",
       "      <td>None</td>\n",
       "      <td>None</td>\n",
       "      <td>None</td>\n",
       "      <td>None</td>\n",
       "      <td>None</td>\n",
       "      <td>None</td>\n",
       "      <td>None</td>\n",
       "      <td>None</td>\n",
       "      <td>None</td>\n",
       "      <td>None</td>\n",
       "    </tr>\n",
       "    <tr>\n",
       "      <th>1</th>\n",
       "      <td>99241</td>\n",
       "      <td>00777310502</td>\n",
       "      <td>G0444</td>\n",
       "      <td>00777310502</td>\n",
       "      <td>99241</td>\n",
       "      <td>00777310502</td>\n",
       "      <td>None</td>\n",
       "      <td>None</td>\n",
       "      <td>None</td>\n",
       "      <td>None</td>\n",
       "      <td>...</td>\n",
       "      <td>None</td>\n",
       "      <td>None</td>\n",
       "      <td>None</td>\n",
       "      <td>None</td>\n",
       "      <td>None</td>\n",
       "      <td>None</td>\n",
       "      <td>None</td>\n",
       "      <td>None</td>\n",
       "      <td>None</td>\n",
       "      <td>None</td>\n",
       "    </tr>\n",
       "    <tr>\n",
       "      <th>2</th>\n",
       "      <td>G0152</td>\n",
       "      <td>99241</td>\n",
       "      <td>None</td>\n",
       "      <td>None</td>\n",
       "      <td>None</td>\n",
       "      <td>None</td>\n",
       "      <td>None</td>\n",
       "      <td>None</td>\n",
       "      <td>None</td>\n",
       "      <td>None</td>\n",
       "      <td>...</td>\n",
       "      <td>None</td>\n",
       "      <td>None</td>\n",
       "      <td>None</td>\n",
       "      <td>None</td>\n",
       "      <td>None</td>\n",
       "      <td>None</td>\n",
       "      <td>None</td>\n",
       "      <td>None</td>\n",
       "      <td>None</td>\n",
       "      <td>None</td>\n",
       "    </tr>\n",
       "    <tr>\n",
       "      <th>3</th>\n",
       "      <td>99241</td>\n",
       "      <td>None</td>\n",
       "      <td>None</td>\n",
       "      <td>None</td>\n",
       "      <td>None</td>\n",
       "      <td>None</td>\n",
       "      <td>None</td>\n",
       "      <td>None</td>\n",
       "      <td>None</td>\n",
       "      <td>None</td>\n",
       "      <td>...</td>\n",
       "      <td>None</td>\n",
       "      <td>None</td>\n",
       "      <td>None</td>\n",
       "      <td>None</td>\n",
       "      <td>None</td>\n",
       "      <td>None</td>\n",
       "      <td>None</td>\n",
       "      <td>None</td>\n",
       "      <td>None</td>\n",
       "      <td>None</td>\n",
       "    </tr>\n",
       "    <tr>\n",
       "      <th>4</th>\n",
       "      <td>Q5001</td>\n",
       "      <td>99241</td>\n",
       "      <td>G0444</td>\n",
       "      <td>None</td>\n",
       "      <td>None</td>\n",
       "      <td>None</td>\n",
       "      <td>None</td>\n",
       "      <td>None</td>\n",
       "      <td>None</td>\n",
       "      <td>None</td>\n",
       "      <td>...</td>\n",
       "      <td>None</td>\n",
       "      <td>None</td>\n",
       "      <td>None</td>\n",
       "      <td>None</td>\n",
       "      <td>None</td>\n",
       "      <td>None</td>\n",
       "      <td>None</td>\n",
       "      <td>None</td>\n",
       "      <td>None</td>\n",
       "      <td>None</td>\n",
       "    </tr>\n",
       "  </tbody>\n",
       "</table>\n",
       "<p>5 rows × 341 columns</p>\n",
       "</div>"
      ],
      "text/plain": [
       "  hcpcs_0      hcpcs_1 hcpcs_2      hcpcs_3 hcpcs_4      hcpcs_5 hcpcs_6  \\\n",
       "0   99241  00777310502   G0444  00777310502   99221  00777310502   99241   \n",
       "1   99241  00777310502   G0444  00777310502   99241  00777310502    None   \n",
       "2   G0152        99241    None         None    None         None    None   \n",
       "3   99241         None    None         None    None         None    None   \n",
       "4   Q5001        99241   G0444         None    None         None    None   \n",
       "\n",
       "       hcpcs_7 hcpcs_8      hcpcs_9  ... hcpcs_331 hcpcs_332 hcpcs_333  \\\n",
       "0  00777310502   99221  00777310502  ...      None      None      None   \n",
       "1         None    None         None  ...      None      None      None   \n",
       "2         None    None         None  ...      None      None      None   \n",
       "3         None    None         None  ...      None      None      None   \n",
       "4         None    None         None  ...      None      None      None   \n",
       "\n",
       "  hcpcs_334 hcpcs_335 hcpcs_336 hcpcs_337 hcpcs_338 hcpcs_339 hcpcs_340  \n",
       "0      None      None      None      None      None      None      None  \n",
       "1      None      None      None      None      None      None      None  \n",
       "2      None      None      None      None      None      None      None  \n",
       "3      None      None      None      None      None      None      None  \n",
       "4      None      None      None      None      None      None      None  \n",
       "\n",
       "[5 rows x 341 columns]"
      ]
     },
     "execution_count": 143,
     "metadata": {},
     "output_type": "execute_result"
    }
   ],
   "source": [
    "maxlen = max(df['combined_hcpcs_ls'].str.len())\n",
    "df_hcpcs = pd.DataFrame(df['combined_hcpcs_ls'].to_list(), columns=[f\"hcpcs_{i}\" for i in range(maxlen)])\n",
    "df_hcpcs.head()"
   ]
  },
  {
   "cell_type": "code",
   "execution_count": 144,
   "metadata": {},
   "outputs": [],
   "source": [
    "df_hcpcs_combined = []\n",
    "for i in range(maxlen):\n",
    "  combined = df_hcpcs[[f\"hcpcs_{i}\"]].merge(\n",
    "    combined_mapper,\n",
    "    left_on=f\"hcpcs_{i}\",\n",
    "    right_on=\"code\",\n",
    "    how='left'\n",
    "  )\n",
    "  combined = combined.drop(['code'], axis=1)\n",
    "  combined = combined.rename({\n",
    "    'category': f\"category_{i}\",\n",
    "    'description': f\"description_{i}\",\n",
    "  }, axis=1)\n",
    "  df_hcpcs_combined.append(combined)\n",
    "\n",
    "df_hcpcs_combined = pd.concat(df_hcpcs_combined, axis=1)\n",
    "df_hcpcs_combined = df_hcpcs_combined.fillna(np.nan)"
   ]
  },
  {
   "cell_type": "code",
   "execution_count": 145,
   "metadata": {},
   "outputs": [
    {
     "data": {
      "text/html": [
       "<div>\n",
       "<style scoped>\n",
       "    .dataframe tbody tr th:only-of-type {\n",
       "        vertical-align: middle;\n",
       "    }\n",
       "\n",
       "    .dataframe tbody tr th {\n",
       "        vertical-align: top;\n",
       "    }\n",
       "\n",
       "    .dataframe thead th {\n",
       "        text-align: right;\n",
       "    }\n",
       "</style>\n",
       "<table border=\"1\" class=\"dataframe\">\n",
       "  <thead>\n",
       "    <tr style=\"text-align: right;\">\n",
       "      <th></th>\n",
       "      <th>hcpcs_0</th>\n",
       "      <th>category_0</th>\n",
       "      <th>description_0</th>\n",
       "      <th>hcpcs_1</th>\n",
       "      <th>category_1</th>\n",
       "      <th>description_1</th>\n",
       "      <th>hcpcs_2</th>\n",
       "      <th>category_2</th>\n",
       "      <th>description_2</th>\n",
       "      <th>hcpcs_3</th>\n",
       "      <th>...</th>\n",
       "      <th>description_337</th>\n",
       "      <th>hcpcs_338</th>\n",
       "      <th>category_338</th>\n",
       "      <th>description_338</th>\n",
       "      <th>hcpcs_339</th>\n",
       "      <th>category_339</th>\n",
       "      <th>description_339</th>\n",
       "      <th>hcpcs_340</th>\n",
       "      <th>category_340</th>\n",
       "      <th>description_340</th>\n",
       "    </tr>\n",
       "  </thead>\n",
       "  <tbody>\n",
       "    <tr>\n",
       "      <th>0</th>\n",
       "      <td>99241</td>\n",
       "      <td>HCPCS_level_1</td>\n",
       "      <td>Evaluation and Management (E/M) Codes</td>\n",
       "      <td>00777310502</td>\n",
       "      <td>NaN</td>\n",
       "      <td>NaN</td>\n",
       "      <td>G0444</td>\n",
       "      <td>HCPCS_level_2</td>\n",
       "      <td>Procedures/Professional Services</td>\n",
       "      <td>00777310502</td>\n",
       "      <td>...</td>\n",
       "      <td>NaN</td>\n",
       "      <td>NaN</td>\n",
       "      <td>NaN</td>\n",
       "      <td>NaN</td>\n",
       "      <td>NaN</td>\n",
       "      <td>NaN</td>\n",
       "      <td>NaN</td>\n",
       "      <td>NaN</td>\n",
       "      <td>NaN</td>\n",
       "      <td>NaN</td>\n",
       "    </tr>\n",
       "    <tr>\n",
       "      <th>1</th>\n",
       "      <td>99241</td>\n",
       "      <td>HCPCS_level_1</td>\n",
       "      <td>Evaluation and Management (E/M) Codes</td>\n",
       "      <td>00777310502</td>\n",
       "      <td>NaN</td>\n",
       "      <td>NaN</td>\n",
       "      <td>G0444</td>\n",
       "      <td>HCPCS_level_2</td>\n",
       "      <td>Procedures/Professional Services</td>\n",
       "      <td>00777310502</td>\n",
       "      <td>...</td>\n",
       "      <td>NaN</td>\n",
       "      <td>NaN</td>\n",
       "      <td>NaN</td>\n",
       "      <td>NaN</td>\n",
       "      <td>NaN</td>\n",
       "      <td>NaN</td>\n",
       "      <td>NaN</td>\n",
       "      <td>NaN</td>\n",
       "      <td>NaN</td>\n",
       "      <td>NaN</td>\n",
       "    </tr>\n",
       "    <tr>\n",
       "      <th>2</th>\n",
       "      <td>G0152</td>\n",
       "      <td>HCPCS_level_2</td>\n",
       "      <td>Procedures/Professional Services</td>\n",
       "      <td>99241</td>\n",
       "      <td>HCPCS_level_1</td>\n",
       "      <td>Evaluation and Management (E/M) Codes</td>\n",
       "      <td>NaN</td>\n",
       "      <td>NaN</td>\n",
       "      <td>NaN</td>\n",
       "      <td>NaN</td>\n",
       "      <td>...</td>\n",
       "      <td>NaN</td>\n",
       "      <td>NaN</td>\n",
       "      <td>NaN</td>\n",
       "      <td>NaN</td>\n",
       "      <td>NaN</td>\n",
       "      <td>NaN</td>\n",
       "      <td>NaN</td>\n",
       "      <td>NaN</td>\n",
       "      <td>NaN</td>\n",
       "      <td>NaN</td>\n",
       "    </tr>\n",
       "    <tr>\n",
       "      <th>3</th>\n",
       "      <td>99241</td>\n",
       "      <td>HCPCS_level_1</td>\n",
       "      <td>Evaluation and Management (E/M) Codes</td>\n",
       "      <td>NaN</td>\n",
       "      <td>NaN</td>\n",
       "      <td>NaN</td>\n",
       "      <td>NaN</td>\n",
       "      <td>NaN</td>\n",
       "      <td>NaN</td>\n",
       "      <td>NaN</td>\n",
       "      <td>...</td>\n",
       "      <td>NaN</td>\n",
       "      <td>NaN</td>\n",
       "      <td>NaN</td>\n",
       "      <td>NaN</td>\n",
       "      <td>NaN</td>\n",
       "      <td>NaN</td>\n",
       "      <td>NaN</td>\n",
       "      <td>NaN</td>\n",
       "      <td>NaN</td>\n",
       "      <td>NaN</td>\n",
       "    </tr>\n",
       "    <tr>\n",
       "      <th>4</th>\n",
       "      <td>Q5001</td>\n",
       "      <td>HCPCS_level_2</td>\n",
       "      <td>Temporary Codes</td>\n",
       "      <td>99241</td>\n",
       "      <td>HCPCS_level_1</td>\n",
       "      <td>Evaluation and Management (E/M) Codes</td>\n",
       "      <td>G0444</td>\n",
       "      <td>HCPCS_level_2</td>\n",
       "      <td>Procedures/Professional Services</td>\n",
       "      <td>NaN</td>\n",
       "      <td>...</td>\n",
       "      <td>NaN</td>\n",
       "      <td>NaN</td>\n",
       "      <td>NaN</td>\n",
       "      <td>NaN</td>\n",
       "      <td>NaN</td>\n",
       "      <td>NaN</td>\n",
       "      <td>NaN</td>\n",
       "      <td>NaN</td>\n",
       "      <td>NaN</td>\n",
       "      <td>NaN</td>\n",
       "    </tr>\n",
       "  </tbody>\n",
       "</table>\n",
       "<p>5 rows × 1023 columns</p>\n",
       "</div>"
      ],
      "text/plain": [
       "  hcpcs_0     category_0                           description_0      hcpcs_1  \\\n",
       "0   99241  HCPCS_level_1  Evaluation and Management (E/M) Codes   00777310502   \n",
       "1   99241  HCPCS_level_1  Evaluation and Management (E/M) Codes   00777310502   \n",
       "2   G0152  HCPCS_level_2        Procedures/Professional Services        99241   \n",
       "3   99241  HCPCS_level_1  Evaluation and Management (E/M) Codes           NaN   \n",
       "4   Q5001  HCPCS_level_2                         Temporary Codes        99241   \n",
       "\n",
       "      category_1                           description_1 hcpcs_2  \\\n",
       "0            NaN                                     NaN   G0444   \n",
       "1            NaN                                     NaN   G0444   \n",
       "2  HCPCS_level_1  Evaluation and Management (E/M) Codes      NaN   \n",
       "3            NaN                                     NaN     NaN   \n",
       "4  HCPCS_level_1  Evaluation and Management (E/M) Codes    G0444   \n",
       "\n",
       "      category_2                     description_2      hcpcs_3  ...  \\\n",
       "0  HCPCS_level_2  Procedures/Professional Services  00777310502  ...   \n",
       "1  HCPCS_level_2  Procedures/Professional Services  00777310502  ...   \n",
       "2            NaN                               NaN          NaN  ...   \n",
       "3            NaN                               NaN          NaN  ...   \n",
       "4  HCPCS_level_2  Procedures/Professional Services          NaN  ...   \n",
       "\n",
       "  description_337 hcpcs_338 category_338 description_338 hcpcs_339  \\\n",
       "0             NaN       NaN          NaN             NaN       NaN   \n",
       "1             NaN       NaN          NaN             NaN       NaN   \n",
       "2             NaN       NaN          NaN             NaN       NaN   \n",
       "3             NaN       NaN          NaN             NaN       NaN   \n",
       "4             NaN       NaN          NaN             NaN       NaN   \n",
       "\n",
       "  category_339 description_339 hcpcs_340 category_340 description_340  \n",
       "0          NaN             NaN       NaN          NaN             NaN  \n",
       "1          NaN             NaN       NaN          NaN             NaN  \n",
       "2          NaN             NaN       NaN          NaN             NaN  \n",
       "3          NaN             NaN       NaN          NaN             NaN  \n",
       "4          NaN             NaN       NaN          NaN             NaN  \n",
       "\n",
       "[5 rows x 1023 columns]"
      ]
     },
     "execution_count": 145,
     "metadata": {},
     "output_type": "execute_result"
    }
   ],
   "source": [
    "df_hcpcs_combined.head()"
   ]
  },
  {
   "cell_type": "markdown",
   "metadata": {},
   "source": [
    "# Time interval between claims\n",
    "\n",
    "Using `billablePeriod_end_ls`, sort and compare the time interval of days between each claim. Then expand it out into individual columns"
   ]
  },
  {
   "cell_type": "code",
   "execution_count": 146,
   "metadata": {},
   "outputs": [],
   "source": [
    "def days_between_claim(item):\n",
    "  sorted_dates = pd.to_datetime(pd.Series(item)).sort_values().reset_index(drop=True)\n",
    "  return sorted_dates.diff().dt.days.dropna().astype(int).tolist()"
   ]
  },
  {
   "cell_type": "code",
   "execution_count": 200,
   "metadata": {},
   "outputs": [
    {
     "data": {
      "text/html": [
       "<div>\n",
       "<style scoped>\n",
       "    .dataframe tbody tr th:only-of-type {\n",
       "        vertical-align: middle;\n",
       "    }\n",
       "\n",
       "    .dataframe tbody tr th {\n",
       "        vertical-align: top;\n",
       "    }\n",
       "\n",
       "    .dataframe thead th {\n",
       "        text-align: right;\n",
       "    }\n",
       "</style>\n",
       "<table border=\"1\" class=\"dataframe\">\n",
       "  <thead>\n",
       "    <tr style=\"text-align: right;\">\n",
       "      <th></th>\n",
       "      <th>day_interval_0</th>\n",
       "      <th>day_interval_1</th>\n",
       "      <th>day_interval_2</th>\n",
       "      <th>day_interval_3</th>\n",
       "      <th>day_interval_4</th>\n",
       "      <th>day_interval_5</th>\n",
       "      <th>day_interval_6</th>\n",
       "      <th>day_interval_7</th>\n",
       "      <th>day_interval_8</th>\n",
       "      <th>day_interval_9</th>\n",
       "      <th>...</th>\n",
       "      <th>day_interval_73</th>\n",
       "      <th>day_interval_74</th>\n",
       "      <th>day_interval_75</th>\n",
       "      <th>day_interval_76</th>\n",
       "      <th>day_interval_77</th>\n",
       "      <th>day_interval_78</th>\n",
       "      <th>day_interval_79</th>\n",
       "      <th>day_interval_80</th>\n",
       "      <th>day_interval_81</th>\n",
       "      <th>day_interval_82</th>\n",
       "    </tr>\n",
       "  </thead>\n",
       "  <tbody>\n",
       "    <tr>\n",
       "      <th>0</th>\n",
       "      <td>2318.0</td>\n",
       "      <td>81.0</td>\n",
       "      <td>8408.0</td>\n",
       "      <td>239.0</td>\n",
       "      <td>1705.0</td>\n",
       "      <td>150.0</td>\n",
       "      <td>NaN</td>\n",
       "      <td>NaN</td>\n",
       "      <td>NaN</td>\n",
       "      <td>NaN</td>\n",
       "      <td>...</td>\n",
       "      <td>NaN</td>\n",
       "      <td>NaN</td>\n",
       "      <td>NaN</td>\n",
       "      <td>NaN</td>\n",
       "      <td>NaN</td>\n",
       "      <td>NaN</td>\n",
       "      <td>NaN</td>\n",
       "      <td>NaN</td>\n",
       "      <td>NaN</td>\n",
       "      <td>NaN</td>\n",
       "    </tr>\n",
       "    <tr>\n",
       "      <th>1</th>\n",
       "      <td>679.0</td>\n",
       "      <td>365.0</td>\n",
       "      <td>NaN</td>\n",
       "      <td>NaN</td>\n",
       "      <td>NaN</td>\n",
       "      <td>NaN</td>\n",
       "      <td>NaN</td>\n",
       "      <td>NaN</td>\n",
       "      <td>NaN</td>\n",
       "      <td>NaN</td>\n",
       "      <td>...</td>\n",
       "      <td>NaN</td>\n",
       "      <td>NaN</td>\n",
       "      <td>NaN</td>\n",
       "      <td>NaN</td>\n",
       "      <td>NaN</td>\n",
       "      <td>NaN</td>\n",
       "      <td>NaN</td>\n",
       "      <td>NaN</td>\n",
       "      <td>NaN</td>\n",
       "      <td>NaN</td>\n",
       "    </tr>\n",
       "    <tr>\n",
       "      <th>2</th>\n",
       "      <td>112.0</td>\n",
       "      <td>NaN</td>\n",
       "      <td>NaN</td>\n",
       "      <td>NaN</td>\n",
       "      <td>NaN</td>\n",
       "      <td>NaN</td>\n",
       "      <td>NaN</td>\n",
       "      <td>NaN</td>\n",
       "      <td>NaN</td>\n",
       "      <td>NaN</td>\n",
       "      <td>...</td>\n",
       "      <td>NaN</td>\n",
       "      <td>NaN</td>\n",
       "      <td>NaN</td>\n",
       "      <td>NaN</td>\n",
       "      <td>NaN</td>\n",
       "      <td>NaN</td>\n",
       "      <td>NaN</td>\n",
       "      <td>NaN</td>\n",
       "      <td>NaN</td>\n",
       "      <td>NaN</td>\n",
       "    </tr>\n",
       "    <tr>\n",
       "      <th>3</th>\n",
       "      <td>NaN</td>\n",
       "      <td>NaN</td>\n",
       "      <td>NaN</td>\n",
       "      <td>NaN</td>\n",
       "      <td>NaN</td>\n",
       "      <td>NaN</td>\n",
       "      <td>NaN</td>\n",
       "      <td>NaN</td>\n",
       "      <td>NaN</td>\n",
       "      <td>NaN</td>\n",
       "      <td>...</td>\n",
       "      <td>NaN</td>\n",
       "      <td>NaN</td>\n",
       "      <td>NaN</td>\n",
       "      <td>NaN</td>\n",
       "      <td>NaN</td>\n",
       "      <td>NaN</td>\n",
       "      <td>NaN</td>\n",
       "      <td>NaN</td>\n",
       "      <td>NaN</td>\n",
       "      <td>NaN</td>\n",
       "    </tr>\n",
       "    <tr>\n",
       "      <th>4</th>\n",
       "      <td>1787.0</td>\n",
       "      <td>116.0</td>\n",
       "      <td>NaN</td>\n",
       "      <td>NaN</td>\n",
       "      <td>NaN</td>\n",
       "      <td>NaN</td>\n",
       "      <td>NaN</td>\n",
       "      <td>NaN</td>\n",
       "      <td>NaN</td>\n",
       "      <td>NaN</td>\n",
       "      <td>...</td>\n",
       "      <td>NaN</td>\n",
       "      <td>NaN</td>\n",
       "      <td>NaN</td>\n",
       "      <td>NaN</td>\n",
       "      <td>NaN</td>\n",
       "      <td>NaN</td>\n",
       "      <td>NaN</td>\n",
       "      <td>NaN</td>\n",
       "      <td>NaN</td>\n",
       "      <td>NaN</td>\n",
       "    </tr>\n",
       "  </tbody>\n",
       "</table>\n",
       "<p>5 rows × 83 columns</p>\n",
       "</div>"
      ],
      "text/plain": [
       "   day_interval_0  day_interval_1  day_interval_2  day_interval_3  \\\n",
       "0          2318.0            81.0          8408.0           239.0   \n",
       "1           679.0           365.0             NaN             NaN   \n",
       "2           112.0             NaN             NaN             NaN   \n",
       "3             NaN             NaN             NaN             NaN   \n",
       "4          1787.0           116.0             NaN             NaN   \n",
       "\n",
       "   day_interval_4  day_interval_5  day_interval_6  day_interval_7  \\\n",
       "0          1705.0           150.0             NaN             NaN   \n",
       "1             NaN             NaN             NaN             NaN   \n",
       "2             NaN             NaN             NaN             NaN   \n",
       "3             NaN             NaN             NaN             NaN   \n",
       "4             NaN             NaN             NaN             NaN   \n",
       "\n",
       "   day_interval_8  day_interval_9  ...  day_interval_73  day_interval_74  \\\n",
       "0             NaN             NaN  ...              NaN              NaN   \n",
       "1             NaN             NaN  ...              NaN              NaN   \n",
       "2             NaN             NaN  ...              NaN              NaN   \n",
       "3             NaN             NaN  ...              NaN              NaN   \n",
       "4             NaN             NaN  ...              NaN              NaN   \n",
       "\n",
       "   day_interval_75  day_interval_76  day_interval_77  day_interval_78  \\\n",
       "0              NaN              NaN              NaN              NaN   \n",
       "1              NaN              NaN              NaN              NaN   \n",
       "2              NaN              NaN              NaN              NaN   \n",
       "3              NaN              NaN              NaN              NaN   \n",
       "4              NaN              NaN              NaN              NaN   \n",
       "\n",
       "   day_interval_79  day_interval_80  day_interval_81  day_interval_82  \n",
       "0              NaN              NaN              NaN              NaN  \n",
       "1              NaN              NaN              NaN              NaN  \n",
       "2              NaN              NaN              NaN              NaN  \n",
       "3              NaN              NaN              NaN              NaN  \n",
       "4              NaN              NaN              NaN              NaN  \n",
       "\n",
       "[5 rows x 83 columns]"
      ]
     },
     "execution_count": 200,
     "metadata": {},
     "output_type": "execute_result"
    }
   ],
   "source": [
    "day_interval = pd.DataFrame(df['billablePeriod_end_ls'].apply(days_between_claim))\n",
    "day_maxlen = max(day_interval['billablePeriod_end_ls'].str.len())\n",
    "df_day_interval = pd.DataFrame(day_interval['billablePeriod_end_ls'].to_list(), columns=[f\"day_interval_{i}\" for i in range(day_maxlen)])\n",
    "df_day_interval.head()"
   ]
  },
  {
   "cell_type": "code",
   "execution_count": null,
   "metadata": {},
   "outputs": [],
   "source": []
  },
  {
   "cell_type": "code",
   "execution_count": null,
   "metadata": {},
   "outputs": [],
   "source": []
  },
  {
   "cell_type": "markdown",
   "metadata": {},
   "source": [
    "# EDA"
   ]
  },
  {
   "cell_type": "markdown",
   "metadata": {},
   "source": [
    "## Breakdown of procedures\n",
    "\n",
    "NOTE: This is on the `claim_mini_sample` dataset (10,000 entries)\n",
    "\n",
    "- Most common description of procedures done are:\n",
    "  1. Evaluation and Management (E/M) Codes (HCPCS Level I)\n",
    "  2. Procedures/Professional Services (HCPCS Level II)\n",
    "- Other codes include\n",
    "  1. Alcohol and Drug Abuse Treatment\n",
    "  2. National Codes Established for State Medicaid Agencies"
   ]
  },
  {
   "cell_type": "code",
   "execution_count": 181,
   "metadata": {},
   "outputs": [],
   "source": [
    "def countplot_with_labels(l, title):\n",
    "  ax = sns.countplot(l, palette='pastel')\n",
    "\n",
    "  for p in ax.patches:\n",
    "    ax.text(\n",
    "      p.get_width() + 1,\n",
    "      p.get_y() + p.get_height() / 2,\n",
    "      int(p.get_width()),\n",
    "      ha=\"center\",\n",
    "      va=\"center\",\n",
    "      color=\"black\",\n",
    "      fontsize=12,\n",
    "      fontweight=\"bold\"\n",
    "    )\n",
    "  \n",
    "  plt.title(title)\n",
    "\n",
    "  return plt"
   ]
  },
  {
   "cell_type": "markdown",
   "metadata": {},
   "source": [
    "In totality, what is the distribution of HCPCS codes across all claims"
   ]
  },
  {
   "cell_type": "code",
   "execution_count": null,
   "metadata": {},
   "outputs": [],
   "source": [
    "all_hcpcs = df['combined_hcpcs_ls'].explode().reset_index()\n",
    "all_hcpcs = all_hcpcs.merge(\n",
    "  combined_mapper,\n",
    "  left_on='combined_hcpcs_ls',\n",
    "  right_on='code',\n",
    "  how='left'\n",
    ")\n",
    "all_hcpcs = all_hcpcs.drop(['index', 'code'], axis=1)\n",
    "all_hcpcs = all_hcpcs.fillna(\"Unknown\")"
   ]
  },
  {
   "cell_type": "code",
   "execution_count": 183,
   "metadata": {},
   "outputs": [
    {
     "name": "stderr",
     "output_type": "stream",
     "text": [
      "C:\\Users\\User\\AppData\\Local\\Temp\\ipykernel_1032\\2240585470.py:2: FutureWarning: \n",
      "\n",
      "Passing `palette` without assigning `hue` is deprecated and will be removed in v0.14.0. Assign the `y` variable to `hue` and set `legend=False` for the same effect.\n",
      "\n",
      "  ax = sns.countplot(l, palette='pastel')\n"
     ]
    },
    {
     "data": {
      "text/plain": [
       "<module 'matplotlib.pyplot' from 'd:\\\\MADS\\\\SIADS 696 - Milestone II\\\\siads_696_mII\\\\.venv\\\\Lib\\\\site-packages\\\\matplotlib\\\\pyplot.py'>"
      ]
     },
     "execution_count": 183,
     "metadata": {},
     "output_type": "execute_result"
    },
    {
     "data": {
      "image/png": "[encoded data removed]",
      "text/plain": [
       "<Figure size 640x480 with 1 Axes>"
      ]
     },
     "metadata": {},
     "output_type": "display_data"
    }
   ],
   "source": [
    "countplot_with_labels(all_hcpcs['category'], \"Breakdown of Category for HCPCS\")"
   ]
  },
  {
   "cell_type": "code",
   "execution_count": 184,
   "metadata": {},
   "outputs": [
    {
     "name": "stderr",
     "output_type": "stream",
     "text": [
      "C:\\Users\\User\\AppData\\Local\\Temp\\ipykernel_1032\\2240585470.py:2: FutureWarning: \n",
      "\n",
      "Passing `palette` without assigning `hue` is deprecated and will be removed in v0.14.0. Assign the `y` variable to `hue` and set `legend=False` for the same effect.\n",
      "\n",
      "  ax = sns.countplot(l, palette='pastel')\n"
     ]
    },
    {
     "data": {
      "text/plain": [
       "<module 'matplotlib.pyplot' from 'd:\\\\MADS\\\\SIADS 696 - Milestone II\\\\siads_696_mII\\\\.venv\\\\Lib\\\\site-packages\\\\matplotlib\\\\pyplot.py'>"
      ]
     },
     "execution_count": 184,
     "metadata": {},
     "output_type": "execute_result"
    },
    {
     "data": {
      "image/png": "[encoded data removed]",
      "text/plain": [
       "<Figure size 640x480 with 1 Axes>"
      ]
     },
     "metadata": {},
     "output_type": "display_data"
    }
   ],
   "source": [
    "countplot_with_labels(all_hcpcs['description'], \"Breakdown of Descriptions for HCPCS\")"
   ]
  },
  {
   "cell_type": "markdown",
   "metadata": {},
   "source": [
    "Compare for the first and second HCPCS, what are the most common category of procedures done"
   ]
  },
  {
   "cell_type": "code",
   "execution_count": 148,
   "metadata": {},
   "outputs": [
    {
     "data": {
      "text/html": [
       "<div>\n",
       "<style scoped>\n",
       "    .dataframe tbody tr th:only-of-type {\n",
       "        vertical-align: middle;\n",
       "    }\n",
       "\n",
       "    .dataframe tbody tr th {\n",
       "        vertical-align: top;\n",
       "    }\n",
       "\n",
       "    .dataframe thead th {\n",
       "        text-align: right;\n",
       "    }\n",
       "</style>\n",
       "<table border=\"1\" class=\"dataframe\">\n",
       "  <thead>\n",
       "    <tr style=\"text-align: right;\">\n",
       "      <th></th>\n",
       "      <th>description_0</th>\n",
       "      <th>description_1</th>\n",
       "    </tr>\n",
       "  </thead>\n",
       "  <tbody>\n",
       "    <tr>\n",
       "      <th>0</th>\n",
       "      <td>Evaluation and Management (E/M) Codes</td>\n",
       "      <td>NaN</td>\n",
       "    </tr>\n",
       "    <tr>\n",
       "      <th>1</th>\n",
       "      <td>Evaluation and Management (E/M) Codes</td>\n",
       "      <td>NaN</td>\n",
       "    </tr>\n",
       "    <tr>\n",
       "      <th>2</th>\n",
       "      <td>Procedures/Professional Services</td>\n",
       "      <td>Evaluation and Management (E/M) Codes</td>\n",
       "    </tr>\n",
       "    <tr>\n",
       "      <th>3</th>\n",
       "      <td>Evaluation and Management (E/M) Codes</td>\n",
       "      <td>NaN</td>\n",
       "    </tr>\n",
       "    <tr>\n",
       "      <th>4</th>\n",
       "      <td>Temporary Codes</td>\n",
       "      <td>Evaluation and Management (E/M) Codes</td>\n",
       "    </tr>\n",
       "  </tbody>\n",
       "</table>\n",
       "</div>"
      ],
      "text/plain": [
       "                            description_0  \\\n",
       "0  Evaluation and Management (E/M) Codes    \n",
       "1  Evaluation and Management (E/M) Codes    \n",
       "2        Procedures/Professional Services   \n",
       "3  Evaluation and Management (E/M) Codes    \n",
       "4                         Temporary Codes   \n",
       "\n",
       "                            description_1  \n",
       "0                                     NaN  \n",
       "1                                     NaN  \n",
       "2  Evaluation and Management (E/M) Codes   \n",
       "3                                     NaN  \n",
       "4  Evaluation and Management (E/M) Codes   "
      ]
     },
     "execution_count": 148,
     "metadata": {},
     "output_type": "execute_result"
    }
   ],
   "source": [
    "df_plot = df_hcpcs_combined[['description_0', 'description_1']]\n",
    "df_plot.head()"
   ]
  },
  {
   "cell_type": "code",
   "execution_count": 185,
   "metadata": {},
   "outputs": [
    {
     "name": "stderr",
     "output_type": "stream",
     "text": [
      "C:\\Users\\User\\AppData\\Local\\Temp\\ipykernel_1032\\2240585470.py:2: FutureWarning: \n",
      "\n",
      "Passing `palette` without assigning `hue` is deprecated and will be removed in v0.14.0. Assign the `y` variable to `hue` and set `legend=False` for the same effect.\n",
      "\n",
      "  ax = sns.countplot(l, palette='pastel')\n"
     ]
    },
    {
     "data": {
      "text/plain": [
       "<module 'matplotlib.pyplot' from 'd:\\\\MADS\\\\SIADS 696 - Milestone II\\\\siads_696_mII\\\\.venv\\\\Lib\\\\site-packages\\\\matplotlib\\\\pyplot.py'>"
      ]
     },
     "execution_count": 185,
     "metadata": {},
     "output_type": "execute_result"
    },
    {
     "data": {
      "image/png": "[encoded data removed]",
      "text/plain": [
       "<Figure size 640x480 with 1 Axes>"
      ]
     },
     "metadata": {},
     "output_type": "display_data"
    }
   ],
   "source": [
    "countplot_with_labels(df_plot['description_0'], \"Breakdown of First Procedure\")"
   ]
  },
  {
   "cell_type": "code",
   "execution_count": 196,
   "metadata": {},
   "outputs": [
    {
     "name": "stderr",
     "output_type": "stream",
     "text": [
      "C:\\Users\\User\\AppData\\Local\\Temp\\ipykernel_1032\\2240585470.py:2: FutureWarning: \n",
      "\n",
      "Passing `palette` without assigning `hue` is deprecated and will be removed in v0.14.0. Assign the `y` variable to `hue` and set `legend=False` for the same effect.\n",
      "\n",
      "  ax = sns.countplot(l, palette='pastel')\n"
     ]
    },
    {
     "data": {
      "text/plain": [
       "<module 'matplotlib.pyplot' from 'd:\\\\MADS\\\\SIADS 696 - Milestone II\\\\siads_696_mII\\\\.venv\\\\Lib\\\\site-packages\\\\matplotlib\\\\pyplot.py'>"
      ]
     },
     "execution_count": 196,
     "metadata": {},
     "output_type": "execute_result"
    },
    {
     "data": {
      "image/png": "[encoded data removed]",
      "text/plain": [
       "<Figure size 640x480 with 1 Axes>"
      ]
     },
     "metadata": {},
     "output_type": "display_data"
    }
   ],
   "source": [
    "countplot_with_labels(df_hcpcs_combined['description_3'], \"Breakdown of Second Procedure\")"
   ]
  },
  {
   "cell_type": "markdown",
   "metadata": {},
   "source": [
    "## How long between claim submissions"
   ]
  },
  {
   "cell_type": "code",
   "execution_count": 209,
   "metadata": {},
   "outputs": [
    {
     "name": "stderr",
     "output_type": "stream",
     "text": [
      "d:\\MADS\\SIADS 696 - Milestone II\\siads_696_mII\\.venv\\Lib\\site-packages\\numpy\\lib\\_histograms_impl.py:837: RuntimeWarning: invalid value encountered in greater_equal\n",
      "  keep = (tmp_a >= first_edge)\n",
      "d:\\MADS\\SIADS 696 - Milestone II\\siads_696_mII\\.venv\\Lib\\site-packages\\numpy\\lib\\_histograms_impl.py:838: RuntimeWarning: invalid value encountered in less_equal\n",
      "  keep &= (tmp_a <= last_edge)\n"
     ]
    },
    {
     "data": {
      "image/png": "[encoded data removed]",
      "text/plain": [
       "<Figure size 640x480 with 1 Axes>"
      ]
     },
     "metadata": {},
     "output_type": "display_data"
    }
   ],
   "source": [
    "plt.hist(day_interval.explode('billablePeriod_end_ls'), bins=50)\n",
    "plt.title(\"Histogram of all Day Intervals between Claim Submissions\")\n",
    "plt.show()"
   ]
  },
  {
   "cell_type": "code",
   "execution_count": 211,
   "metadata": {},
   "outputs": [
    {
     "data": {
      "text/plain": [
       "Text(0.5, 1.0, 'How long between the first and second claim submissions in Days')"
      ]
     },
     "execution_count": 211,
     "metadata": {},
     "output_type": "execute_result"
    },
    {
     "data": {
      "image/png": "[encoded data removed]",
      "text/plain": [
       "<Figure size 640x480 with 1 Axes>"
      ]
     },
     "metadata": {},
     "output_type": "display_data"
    }
   ],
   "source": [
    "plt.hist(df_day_interval['day_interval_0'])\n",
    "plt.title('How long between the first and second claim submissions in Days')"
   ]
  },
  {
   "cell_type": "code",
   "execution_count": null,
   "metadata": {},
   "outputs": [],
   "source": []
  },
  {
   "cell_type": "code",
   "execution_count": null,
   "metadata": {},
   "outputs": [],
   "source": []
  },
  {
   "cell_type": "code",
   "execution_count": null,
   "metadata": {},
   "outputs": [],
   "source": []
  },
  {
   "cell_type": "code",
   "execution_count": null,
   "metadata": {},
   "outputs": [],
   "source": []
  },
  {
   "cell_type": "code",
   "execution_count": null,
   "metadata": {},
   "outputs": [],
   "source": [
    "%watermark"
   ]
  }
 ],
 "metadata": {
  "kernelspec": {
   "display_name": ".venv (3.13.7)",
   "language": "python",
   "name": "python3"
  },
  "language_info": {
   "codemirror_mode": {
    "name": "ipython",
    "version": 3
   },
   "file_extension": ".py",
   "mimetype": "text/x-python",
   "name": "python",
   "nbconvert_exporter": "python",
   "pygments_lexer": "ipython3",
   "version": "3.13.7"
  }
 },
 "nbformat": 4,
 "nbformat_minor": 2
}
