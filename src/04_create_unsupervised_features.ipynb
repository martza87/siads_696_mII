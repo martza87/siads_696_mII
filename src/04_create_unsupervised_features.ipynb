{
 "cells": [
  {
   "cell_type": "code",
   "execution_count": null,
   "id": "10f30b99",
   "metadata": {},
   "outputs": [],
   "source": [
    "# base model just a set of procedures - bare services to treat condition\n",
    "# model with all procedures (so if you have 3 blood draws it it in there three times)\n"
   ]
  },
  {
   "cell_type": "code",
   "execution_count": null,
   "id": "a070eb94",
   "metadata": {},
   "outputs": [],
   "source": [
    "# Preventative care indicator"
   ]
  },
  {
   "cell_type": "code",
   "execution_count": null,
   "id": "2501273a",
   "metadata": {},
   "outputs": [],
   "source": [
    "# columns for each hcpcs code range"
   ]
  },
  {
   "cell_type": "code",
   "execution_count": null,
   "id": "775f8900",
   "metadata": {},
   "outputs": [],
   "source": [
    "# time between procedures?"
   ]
  }
 ],
 "metadata": {
  "language_info": {
   "name": "python"
  }
 },
 "nbformat": 4,
 "nbformat_minor": 5
}
