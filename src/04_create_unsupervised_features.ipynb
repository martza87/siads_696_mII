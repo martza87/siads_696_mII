{
 "cells": [
  {
   "cell_type": "markdown",
   "metadata": {},
   "source": [
    "# Unsupervised Learning"
   ]
  },
  {
   "cell_type": "markdown",
   "metadata": {},
   "source": [
    "# 04_create_unsupervised_features"
   ]
  },
  {
   "cell_type": "markdown",
   "metadata": {},
   "source": [
    "| Date | User | Change Type | Remarks |  \n",
    "| ---- | ---- | ----------- | ------- |\n",
    "| 28/09/2025   | Adrienne | Created | Created file for unsupervised learning | \n",
    "| 29/09/2025   | Martin | New   | Processing to apply the HCPCS code descriptions + EDA on the new descriptions | \n",
    "| 02/10/2025 | Adrienne | Update | Built out models"
   ]
  },
  {
   "cell_type": "markdown",
   "metadata": {},
   "source": [
    "# Notes\n",
    "\n",
    "- base model just a set of procedures - bare services to treat condition\n",
    "- model with all procedures (so if you have 3 blood draws it it in there three times)\n",
    "- Preventative care indicator\n",
    "- columns for each hcpcs code range\n",
    "- time between procedures?"
   ]
  },
  {
   "cell_type": "markdown",
   "metadata": {
    "vscode": {
     "languageId": "plaintext"
    }
   },
   "source": [
    "# Content\n",
    "\n",
    "* [Introduction](#introduction)\n",
    "* [Load Data](#load-data)\n",
    "* [Additional Features](#additional-features)\n",
    "* [EDA](#eda)"
   ]
  },
  {
   "cell_type": "markdown",
   "metadata": {},
   "source": [
    "# Introduction"
   ]
  },
  {
   "cell_type": "code",
   "execution_count": 3,
   "metadata": {},
   "outputs": [],
   "source": [
    "%load_ext watermark"
   ]
  },
  {
   "cell_type": "code",
   "execution_count": 5,
   "metadata": {},
   "outputs": [],
   "source": [
    "import pandas as pd\n",
    "import numpy as np\n",
    "import matplotlib.pyplot as plt\n",
    "import seaborn as sns\n",
    "from sklearn.preprocessing import LabelEncoder"
   ]
  },
  {
   "cell_type": "markdown",
   "metadata": {},
   "source": [
    "# Load Data"
   ]
  },
  {
   "cell_type": "code",
   "execution_count": null,
   "metadata": {},
   "outputs": [],
   "source": [
    "path = \"../data/clean\"\n",
    "#df = pd.read_pickle(f\"{path}/patient_level.pkl\")\n",
    "df = pd.read_pickle(f\"{path}/patient_level_mini_sample.pkl\")"
   ]
  },
  {
   "cell_type": "code",
   "execution_count": 225,
   "metadata": {},
   "outputs": [],
   "source": [
    "\n",
    "mapper_path = \"../data/mappers\"\n",
    "combined_mapper = pd.read_pickle(f\"{mapper_path}/combined_mapper.pkl\")"
   ]
  },
  {
   "cell_type": "markdown",
   "metadata": {},
   "source": [
    "# Additional Features\n",
    "\n",
    "Focusing on transforming the HCPCS codes into a useable format for unsupervised learning.\n",
    "\n",
    "- HCPCS\n",
    "  - code\n",
    "  - category\n",
    "  - description"
   ]
  },
  {
   "cell_type": "markdown",
   "metadata": {},
   "source": [
    "## Apply mapper to HCPCS lists\n",
    "\n",
    "Using the mapper we can apply the additional columns with category and description to each column of HCPCS"
   ]
  },
  {
   "cell_type": "code",
   "execution_count": 224,
   "metadata": {},
   "outputs": [
    {
     "name": "stdout",
     "output_type": "stream",
     "text": [
      "187303\n",
      "187303\n"
     ]
    }
   ],
   "source": [
    "# drop hcpcs columns that are all NaN\n",
    "print(len(df))\n",
    "df.dropna(axis=1, how='all', inplace=True)\n",
    "print(len(df))"
   ]
  },
  {
   "cell_type": "code",
   "execution_count": 162,
   "metadata": {},
   "outputs": [
    {
     "data": {
      "text/html": [
       "<div>\n",
       "<style scoped>\n",
       "    .dataframe tbody tr th:only-of-type {\n",
       "        vertical-align: middle;\n",
       "    }\n",
       "\n",
       "    .dataframe tbody tr th {\n",
       "        vertical-align: top;\n",
       "    }\n",
       "\n",
       "    .dataframe thead th {\n",
       "        text-align: right;\n",
       "    }\n",
       "</style>\n",
       "<table border=\"1\" class=\"dataframe\">\n",
       "  <thead>\n",
       "    <tr style=\"text-align: right;\">\n",
       "      <th></th>\n",
       "      <th>patient_medicare_number</th>\n",
       "      <th>patient_first_name</th>\n",
       "      <th>patient_last_name</th>\n",
       "      <th>gender</th>\n",
       "      <th>birthdate</th>\n",
       "      <th>number_of_claims</th>\n",
       "      <th>drg_ls</th>\n",
       "      <th>combined_diagnosis_ls</th>\n",
       "      <th>combined_hcpcs_ls</th>\n",
       "      <th>billablePeriod_start_ls</th>\n",
       "      <th>...</th>\n",
       "      <th>hcpcs_331</th>\n",
       "      <th>hcpcs_332</th>\n",
       "      <th>hcpcs_333</th>\n",
       "      <th>hcpcs_334</th>\n",
       "      <th>hcpcs_335</th>\n",
       "      <th>hcpcs_336</th>\n",
       "      <th>hcpcs_337</th>\n",
       "      <th>hcpcs_338</th>\n",
       "      <th>hcpcs_339</th>\n",
       "      <th>hcpcs_340</th>\n",
       "    </tr>\n",
       "  </thead>\n",
       "  <tbody>\n",
       "    <tr>\n",
       "      <th>1</th>\n",
       "      <td>1S00E00AA10</td>\n",
       "      <td>Brandon214</td>\n",
       "      <td>Roob72</td>\n",
       "      <td>female</td>\n",
       "      <td>1946-01-15</td>\n",
       "      <td>3</td>\n",
       "      <td>[]</td>\n",
       "      <td>[O039, O039, B085, B002, O039, J029]</td>\n",
       "      <td>[G0444, 99241, G0444, G9572]</td>\n",
       "      <td>[2013-04-23, 2016-01-15, 2020-06-02]</td>\n",
       "      <td>...</td>\n",
       "      <td>NaN</td>\n",
       "      <td>NaN</td>\n",
       "      <td>NaN</td>\n",
       "      <td>NaN</td>\n",
       "      <td>NaN</td>\n",
       "      <td>NaN</td>\n",
       "      <td>NaN</td>\n",
       "      <td>NaN</td>\n",
       "      <td>NaN</td>\n",
       "      <td>NaN</td>\n",
       "    </tr>\n",
       "    <tr>\n",
       "      <th>3</th>\n",
       "      <td>1S00E00AA23</td>\n",
       "      <td>B.</td>\n",
       "      <td>Hagene</td>\n",
       "      <td>female</td>\n",
       "      <td>NaN</td>\n",
       "      <td>1</td>\n",
       "      <td>[]</td>\n",
       "      <td>[J329, E785, P292]</td>\n",
       "      <td>[G0444, G9572]</td>\n",
       "      <td>[2014-04-13]</td>\n",
       "      <td>...</td>\n",
       "      <td>NaN</td>\n",
       "      <td>NaN</td>\n",
       "      <td>NaN</td>\n",
       "      <td>NaN</td>\n",
       "      <td>NaN</td>\n",
       "      <td>NaN</td>\n",
       "      <td>NaN</td>\n",
       "      <td>NaN</td>\n",
       "      <td>NaN</td>\n",
       "      <td>NaN</td>\n",
       "    </tr>\n",
       "    <tr>\n",
       "      <th>5</th>\n",
       "      <td>1S00E00AA25</td>\n",
       "      <td>Carlota980</td>\n",
       "      <td>Gamez720</td>\n",
       "      <td>female</td>\n",
       "      <td>1947-04-15</td>\n",
       "      <td>2</td>\n",
       "      <td>[]</td>\n",
       "      <td>[E669, D649, K635, O039, M810, J329, E669, D64...</td>\n",
       "      <td>[G0444, 99241]</td>\n",
       "      <td>[2012-07-18, 2021-11-23]</td>\n",
       "      <td>...</td>\n",
       "      <td>NaN</td>\n",
       "      <td>NaN</td>\n",
       "      <td>NaN</td>\n",
       "      <td>NaN</td>\n",
       "      <td>NaN</td>\n",
       "      <td>NaN</td>\n",
       "      <td>NaN</td>\n",
       "      <td>NaN</td>\n",
       "      <td>NaN</td>\n",
       "      <td>NaN</td>\n",
       "    </tr>\n",
       "    <tr>\n",
       "      <th>6</th>\n",
       "      <td>1S00E00AA32</td>\n",
       "      <td>Denny560</td>\n",
       "      <td>Watsica258</td>\n",
       "      <td>male</td>\n",
       "      <td>1945-06-09</td>\n",
       "      <td>3</td>\n",
       "      <td>[]</td>\n",
       "      <td>[P292, E669, I2510, B349, J329, I10, E669, I25...</td>\n",
       "      <td>[99241, 99241, 99241]</td>\n",
       "      <td>[2015-05-12, 2021-02-20, 2021-03-20]</td>\n",
       "      <td>...</td>\n",
       "      <td>NaN</td>\n",
       "      <td>NaN</td>\n",
       "      <td>NaN</td>\n",
       "      <td>NaN</td>\n",
       "      <td>NaN</td>\n",
       "      <td>NaN</td>\n",
       "      <td>NaN</td>\n",
       "      <td>NaN</td>\n",
       "      <td>NaN</td>\n",
       "      <td>NaN</td>\n",
       "    </tr>\n",
       "    <tr>\n",
       "      <th>10</th>\n",
       "      <td>1S00E00AA54</td>\n",
       "      <td>Lashawnda5</td>\n",
       "      <td>Greenfelder433</td>\n",
       "      <td>female</td>\n",
       "      <td>1950-12-23</td>\n",
       "      <td>11</td>\n",
       "      <td>[]</td>\n",
       "      <td>[E119, R739, E781, E8881, D649, E11319, P292, ...</td>\n",
       "      <td>[G0444, 99241, 99241, 99241, 99241, G0444, 992...</td>\n",
       "      <td>[2012-10-27, 2013-01-26, 2014-06-21, 2014-07-2...</td>\n",
       "      <td>...</td>\n",
       "      <td>NaN</td>\n",
       "      <td>NaN</td>\n",
       "      <td>NaN</td>\n",
       "      <td>NaN</td>\n",
       "      <td>NaN</td>\n",
       "      <td>NaN</td>\n",
       "      <td>NaN</td>\n",
       "      <td>NaN</td>\n",
       "      <td>NaN</td>\n",
       "      <td>NaN</td>\n",
       "    </tr>\n",
       "  </tbody>\n",
       "</table>\n",
       "<p>5 rows × 354 columns</p>\n",
       "</div>"
      ],
      "text/plain": [
       "   patient_medicare_number patient_first_name patient_last_name  gender  \\\n",
       "1              1S00E00AA10         Brandon214            Roob72  female   \n",
       "3              1S00E00AA23                 B.            Hagene  female   \n",
       "5              1S00E00AA25         Carlota980          Gamez720  female   \n",
       "6              1S00E00AA32           Denny560        Watsica258    male   \n",
       "10             1S00E00AA54         Lashawnda5    Greenfelder433  female   \n",
       "\n",
       "     birthdate  number_of_claims drg_ls  \\\n",
       "1   1946-01-15                 3     []   \n",
       "3          NaN                 1     []   \n",
       "5   1947-04-15                 2     []   \n",
       "6   1945-06-09                 3     []   \n",
       "10  1950-12-23                11     []   \n",
       "\n",
       "                                combined_diagnosis_ls  \\\n",
       "1                [O039, O039, B085, B002, O039, J029]   \n",
       "3                                  [J329, E785, P292]   \n",
       "5   [E669, D649, K635, O039, M810, J329, E669, D64...   \n",
       "6   [P292, E669, I2510, B349, J329, I10, E669, I25...   \n",
       "10  [E119, R739, E781, E8881, D649, E11319, P292, ...   \n",
       "\n",
       "                                    combined_hcpcs_ls  \\\n",
       "1                        [G0444, 99241, G0444, G9572]   \n",
       "3                                      [G0444, G9572]   \n",
       "5                                      [G0444, 99241]   \n",
       "6                               [99241, 99241, 99241]   \n",
       "10  [G0444, 99241, 99241, 99241, 99241, G0444, 992...   \n",
       "\n",
       "                              billablePeriod_start_ls  ... hcpcs_331  \\\n",
       "1                [2013-04-23, 2016-01-15, 2020-06-02]  ...       NaN   \n",
       "3                                        [2014-04-13]  ...       NaN   \n",
       "5                            [2012-07-18, 2021-11-23]  ...       NaN   \n",
       "6                [2015-05-12, 2021-02-20, 2021-03-20]  ...       NaN   \n",
       "10  [2012-10-27, 2013-01-26, 2014-06-21, 2014-07-2...  ...       NaN   \n",
       "\n",
       "   hcpcs_332  hcpcs_333 hcpcs_334 hcpcs_335 hcpcs_336 hcpcs_337 hcpcs_338  \\\n",
       "1        NaN        NaN       NaN       NaN       NaN       NaN       NaN   \n",
       "3        NaN        NaN       NaN       NaN       NaN       NaN       NaN   \n",
       "5        NaN        NaN       NaN       NaN       NaN       NaN       NaN   \n",
       "6        NaN        NaN       NaN       NaN       NaN       NaN       NaN   \n",
       "10       NaN        NaN       NaN       NaN       NaN       NaN       NaN   \n",
       "\n",
       "   hcpcs_339 hcpcs_340  \n",
       "1        NaN       NaN  \n",
       "3        NaN       NaN  \n",
       "5        NaN       NaN  \n",
       "6        NaN       NaN  \n",
       "10       NaN       NaN  \n",
       "\n",
       "[5 rows x 354 columns]"
      ]
     },
     "execution_count": 162,
     "metadata": {},
     "output_type": "execute_result"
    }
   ],
   "source": [
    "maxlen = max(df['combined_hcpcs_ls'].str.len())\n",
    "df_hcpcs = df['combined_hcpcs_ls'].apply(pd.Series)\n",
    "df_hcpcs = df_hcpcs.add_prefix('hcpcs_')\n",
    "df_hcpcs = pd.concat([df, df_hcpcs], axis = 1)\n",
    "df_hcpcs.head()"
   ]
  },
  {
   "cell_type": "code",
   "execution_count": 160,
   "metadata": {},
   "outputs": [
    {
     "data": {
      "text/html": [
       "<div>\n",
       "<style scoped>\n",
       "    .dataframe tbody tr th:only-of-type {\n",
       "        vertical-align: middle;\n",
       "    }\n",
       "\n",
       "    .dataframe tbody tr th {\n",
       "        vertical-align: top;\n",
       "    }\n",
       "\n",
       "    .dataframe thead th {\n",
       "        text-align: right;\n",
       "    }\n",
       "</style>\n",
       "<table border=\"1\" class=\"dataframe\">\n",
       "  <thead>\n",
       "    <tr style=\"text-align: right;\">\n",
       "      <th></th>\n",
       "      <th>hcpcs_0</th>\n",
       "      <th>hcpcs_1</th>\n",
       "      <th>hcpcs_2</th>\n",
       "      <th>hcpcs_3</th>\n",
       "      <th>hcpcs_4</th>\n",
       "      <th>hcpcs_5</th>\n",
       "      <th>hcpcs_6</th>\n",
       "      <th>hcpcs_7</th>\n",
       "      <th>hcpcs_8</th>\n",
       "      <th>hcpcs_9</th>\n",
       "      <th>...</th>\n",
       "      <th>hcpcs_331</th>\n",
       "      <th>hcpcs_332</th>\n",
       "      <th>hcpcs_333</th>\n",
       "      <th>hcpcs_334</th>\n",
       "      <th>hcpcs_335</th>\n",
       "      <th>hcpcs_336</th>\n",
       "      <th>hcpcs_337</th>\n",
       "      <th>hcpcs_338</th>\n",
       "      <th>hcpcs_339</th>\n",
       "      <th>hcpcs_340</th>\n",
       "    </tr>\n",
       "  </thead>\n",
       "  <tbody>\n",
       "    <tr>\n",
       "      <th>1</th>\n",
       "      <td>G0444</td>\n",
       "      <td>99241</td>\n",
       "      <td>G0444</td>\n",
       "      <td>G9572</td>\n",
       "      <td>NaN</td>\n",
       "      <td>NaN</td>\n",
       "      <td>NaN</td>\n",
       "      <td>NaN</td>\n",
       "      <td>NaN</td>\n",
       "      <td>NaN</td>\n",
       "      <td>...</td>\n",
       "      <td>NaN</td>\n",
       "      <td>NaN</td>\n",
       "      <td>NaN</td>\n",
       "      <td>NaN</td>\n",
       "      <td>NaN</td>\n",
       "      <td>NaN</td>\n",
       "      <td>NaN</td>\n",
       "      <td>NaN</td>\n",
       "      <td>NaN</td>\n",
       "      <td>NaN</td>\n",
       "    </tr>\n",
       "    <tr>\n",
       "      <th>3</th>\n",
       "      <td>G0444</td>\n",
       "      <td>G9572</td>\n",
       "      <td>NaN</td>\n",
       "      <td>NaN</td>\n",
       "      <td>NaN</td>\n",
       "      <td>NaN</td>\n",
       "      <td>NaN</td>\n",
       "      <td>NaN</td>\n",
       "      <td>NaN</td>\n",
       "      <td>NaN</td>\n",
       "      <td>...</td>\n",
       "      <td>NaN</td>\n",
       "      <td>NaN</td>\n",
       "      <td>NaN</td>\n",
       "      <td>NaN</td>\n",
       "      <td>NaN</td>\n",
       "      <td>NaN</td>\n",
       "      <td>NaN</td>\n",
       "      <td>NaN</td>\n",
       "      <td>NaN</td>\n",
       "      <td>NaN</td>\n",
       "    </tr>\n",
       "    <tr>\n",
       "      <th>5</th>\n",
       "      <td>G0444</td>\n",
       "      <td>99241</td>\n",
       "      <td>NaN</td>\n",
       "      <td>NaN</td>\n",
       "      <td>NaN</td>\n",
       "      <td>NaN</td>\n",
       "      <td>NaN</td>\n",
       "      <td>NaN</td>\n",
       "      <td>NaN</td>\n",
       "      <td>NaN</td>\n",
       "      <td>...</td>\n",
       "      <td>NaN</td>\n",
       "      <td>NaN</td>\n",
       "      <td>NaN</td>\n",
       "      <td>NaN</td>\n",
       "      <td>NaN</td>\n",
       "      <td>NaN</td>\n",
       "      <td>NaN</td>\n",
       "      <td>NaN</td>\n",
       "      <td>NaN</td>\n",
       "      <td>NaN</td>\n",
       "    </tr>\n",
       "    <tr>\n",
       "      <th>6</th>\n",
       "      <td>99241</td>\n",
       "      <td>99241</td>\n",
       "      <td>99241</td>\n",
       "      <td>NaN</td>\n",
       "      <td>NaN</td>\n",
       "      <td>NaN</td>\n",
       "      <td>NaN</td>\n",
       "      <td>NaN</td>\n",
       "      <td>NaN</td>\n",
       "      <td>NaN</td>\n",
       "      <td>...</td>\n",
       "      <td>NaN</td>\n",
       "      <td>NaN</td>\n",
       "      <td>NaN</td>\n",
       "      <td>NaN</td>\n",
       "      <td>NaN</td>\n",
       "      <td>NaN</td>\n",
       "      <td>NaN</td>\n",
       "      <td>NaN</td>\n",
       "      <td>NaN</td>\n",
       "      <td>NaN</td>\n",
       "    </tr>\n",
       "    <tr>\n",
       "      <th>10</th>\n",
       "      <td>G0444</td>\n",
       "      <td>99241</td>\n",
       "      <td>99241</td>\n",
       "      <td>99241</td>\n",
       "      <td>99241</td>\n",
       "      <td>G0444</td>\n",
       "      <td>99241</td>\n",
       "      <td>99241</td>\n",
       "      <td>99241</td>\n",
       "      <td>99241</td>\n",
       "      <td>...</td>\n",
       "      <td>NaN</td>\n",
       "      <td>NaN</td>\n",
       "      <td>NaN</td>\n",
       "      <td>NaN</td>\n",
       "      <td>NaN</td>\n",
       "      <td>NaN</td>\n",
       "      <td>NaN</td>\n",
       "      <td>NaN</td>\n",
       "      <td>NaN</td>\n",
       "      <td>NaN</td>\n",
       "    </tr>\n",
       "  </tbody>\n",
       "</table>\n",
       "<p>5 rows × 341 columns</p>\n",
       "</div>"
      ],
      "text/plain": [
       "   hcpcs_0 hcpcs_1 hcpcs_2 hcpcs_3 hcpcs_4 hcpcs_5 hcpcs_6 hcpcs_7 hcpcs_8  \\\n",
       "1    G0444   99241   G0444   G9572     NaN     NaN     NaN     NaN     NaN   \n",
       "3    G0444   G9572     NaN     NaN     NaN     NaN     NaN     NaN     NaN   \n",
       "5    G0444   99241     NaN     NaN     NaN     NaN     NaN     NaN     NaN   \n",
       "6    99241   99241   99241     NaN     NaN     NaN     NaN     NaN     NaN   \n",
       "10   G0444   99241   99241   99241   99241   G0444   99241   99241   99241   \n",
       "\n",
       "   hcpcs_9  ... hcpcs_331 hcpcs_332 hcpcs_333 hcpcs_334 hcpcs_335 hcpcs_336  \\\n",
       "1      NaN  ...       NaN       NaN       NaN       NaN       NaN       NaN   \n",
       "3      NaN  ...       NaN       NaN       NaN       NaN       NaN       NaN   \n",
       "5      NaN  ...       NaN       NaN       NaN       NaN       NaN       NaN   \n",
       "6      NaN  ...       NaN       NaN       NaN       NaN       NaN       NaN   \n",
       "10   99241  ...       NaN       NaN       NaN       NaN       NaN       NaN   \n",
       "\n",
       "   hcpcs_337 hcpcs_338 hcpcs_339 hcpcs_340  \n",
       "1        NaN       NaN       NaN       NaN  \n",
       "3        NaN       NaN       NaN       NaN  \n",
       "5        NaN       NaN       NaN       NaN  \n",
       "6        NaN       NaN       NaN       NaN  \n",
       "10       NaN       NaN       NaN       NaN  \n",
       "\n",
       "[5 rows x 341 columns]"
      ]
     },
     "execution_count": 160,
     "metadata": {},
     "output_type": "execute_result"
    }
   ],
   "source": [
    "df_hcpcs.head()"
   ]
  },
  {
   "cell_type": "code",
   "execution_count": 163,
   "metadata": {},
   "outputs": [],
   "source": [
    "for i in range(maxlen):\n",
    "  df_hcpcs = pd.merge( df_hcpcs, \n",
    "    combined_mapper,\n",
    "    left_on=f\"hcpcs_{i}\",\n",
    "    right_on=\"code\",\n",
    "    how='left'\n",
    "  )\n",
    "  df_hcpcs = df_hcpcs.drop(['code'], axis=1)\n",
    "  df_hcpcs = df_hcpcs.rename({\n",
    "    'category': f\"category_{i}\",\n",
    "    'description': f\"description_{i}\",\n",
    "  }, axis=1)\n",
    "\n",
    "df_hcpcs_combined = df_hcpcs.fillna(np.nan)"
   ]
  },
  {
   "cell_type": "code",
   "execution_count": 154,
   "metadata": {},
   "outputs": [
    {
     "data": {
      "text/html": [
       "<div>\n",
       "<style scoped>\n",
       "    .dataframe tbody tr th:only-of-type {\n",
       "        vertical-align: middle;\n",
       "    }\n",
       "\n",
       "    .dataframe tbody tr th {\n",
       "        vertical-align: top;\n",
       "    }\n",
       "\n",
       "    .dataframe thead th {\n",
       "        text-align: right;\n",
       "    }\n",
       "</style>\n",
       "<table border=\"1\" class=\"dataframe\">\n",
       "  <thead>\n",
       "    <tr style=\"text-align: right;\">\n",
       "      <th></th>\n",
       "      <th>hcpcs_1</th>\n",
       "      <th>category_1</th>\n",
       "      <th>description_1</th>\n",
       "      <th>hcpcs_2</th>\n",
       "      <th>category_2</th>\n",
       "      <th>description_2</th>\n",
       "    </tr>\n",
       "  </thead>\n",
       "  <tbody>\n",
       "    <tr>\n",
       "      <th>0</th>\n",
       "      <td>99241</td>\n",
       "      <td>HCPCS_level_1</td>\n",
       "      <td>Evaluation and Management (E/M) Codes</td>\n",
       "      <td>G0444</td>\n",
       "      <td>HCPCS_level_2</td>\n",
       "      <td>Procedures/Professional Services</td>\n",
       "    </tr>\n",
       "    <tr>\n",
       "      <th>1</th>\n",
       "      <td>G9572</td>\n",
       "      <td>HCPCS_level_2</td>\n",
       "      <td>Procedures/Professional Services</td>\n",
       "      <td>NaN</td>\n",
       "      <td>NaN</td>\n",
       "      <td>NaN</td>\n",
       "    </tr>\n",
       "    <tr>\n",
       "      <th>2</th>\n",
       "      <td>99241</td>\n",
       "      <td>HCPCS_level_1</td>\n",
       "      <td>Evaluation and Management (E/M) Codes</td>\n",
       "      <td>NaN</td>\n",
       "      <td>NaN</td>\n",
       "      <td>NaN</td>\n",
       "    </tr>\n",
       "    <tr>\n",
       "      <th>3</th>\n",
       "      <td>99241</td>\n",
       "      <td>HCPCS_level_1</td>\n",
       "      <td>Evaluation and Management (E/M) Codes</td>\n",
       "      <td>99241</td>\n",
       "      <td>HCPCS_level_1</td>\n",
       "      <td>Evaluation and Management (E/M) Codes</td>\n",
       "    </tr>\n",
       "    <tr>\n",
       "      <th>4</th>\n",
       "      <td>99241</td>\n",
       "      <td>HCPCS_level_1</td>\n",
       "      <td>Evaluation and Management (E/M) Codes</td>\n",
       "      <td>99241</td>\n",
       "      <td>HCPCS_level_1</td>\n",
       "      <td>Evaluation and Management (E/M) Codes</td>\n",
       "    </tr>\n",
       "  </tbody>\n",
       "</table>\n",
       "</div>"
      ],
      "text/plain": [
       "  hcpcs_1     category_1                           description_1 hcpcs_2  \\\n",
       "0   99241  HCPCS_level_1  Evaluation and Management (E/M) Codes    G0444   \n",
       "1   G9572  HCPCS_level_2        Procedures/Professional Services     NaN   \n",
       "2   99241  HCPCS_level_1  Evaluation and Management (E/M) Codes      NaN   \n",
       "3   99241  HCPCS_level_1  Evaluation and Management (E/M) Codes    99241   \n",
       "4   99241  HCPCS_level_1  Evaluation and Management (E/M) Codes    99241   \n",
       "\n",
       "      category_2                           description_2  \n",
       "0  HCPCS_level_2        Procedures/Professional Services  \n",
       "1            NaN                                     NaN  \n",
       "2            NaN                                     NaN  \n",
       "3  HCPCS_level_1  Evaluation and Management (E/M) Codes   \n",
       "4  HCPCS_level_1  Evaluation and Management (E/M) Codes   "
      ]
     },
     "execution_count": 154,
     "metadata": {},
     "output_type": "execute_result"
    }
   ],
   "source": [
    "df_hcpcs_combined[['hcpcs_1', 'category_1', 'description_1', 'hcpcs_2', 'category_2',  'description_2']].head()"
   ]
  },
  {
   "cell_type": "code",
   "execution_count": 164,
   "metadata": {},
   "outputs": [
    {
     "data": {
      "text/html": [
       "<div>\n",
       "<style scoped>\n",
       "    .dataframe tbody tr th:only-of-type {\n",
       "        vertical-align: middle;\n",
       "    }\n",
       "\n",
       "    .dataframe tbody tr th {\n",
       "        vertical-align: top;\n",
       "    }\n",
       "\n",
       "    .dataframe thead th {\n",
       "        text-align: right;\n",
       "    }\n",
       "</style>\n",
       "<table border=\"1\" class=\"dataframe\">\n",
       "  <thead>\n",
       "    <tr style=\"text-align: right;\">\n",
       "      <th></th>\n",
       "      <th>patient_medicare_number</th>\n",
       "      <th>patient_first_name</th>\n",
       "      <th>patient_last_name</th>\n",
       "      <th>gender</th>\n",
       "      <th>birthdate</th>\n",
       "      <th>number_of_claims</th>\n",
       "      <th>drg_ls</th>\n",
       "      <th>combined_diagnosis_ls</th>\n",
       "      <th>combined_hcpcs_ls</th>\n",
       "      <th>billablePeriod_start_ls</th>\n",
       "      <th>...</th>\n",
       "      <th>category_336</th>\n",
       "      <th>description_336</th>\n",
       "      <th>category_337</th>\n",
       "      <th>description_337</th>\n",
       "      <th>category_338</th>\n",
       "      <th>description_338</th>\n",
       "      <th>category_339</th>\n",
       "      <th>description_339</th>\n",
       "      <th>category_340</th>\n",
       "      <th>description_340</th>\n",
       "    </tr>\n",
       "  </thead>\n",
       "  <tbody>\n",
       "    <tr>\n",
       "      <th>0</th>\n",
       "      <td>1S00E00AA10</td>\n",
       "      <td>Brandon214</td>\n",
       "      <td>Roob72</td>\n",
       "      <td>female</td>\n",
       "      <td>1946-01-15</td>\n",
       "      <td>3</td>\n",
       "      <td>[]</td>\n",
       "      <td>[O039, O039, B085, B002, O039, J029]</td>\n",
       "      <td>[G0444, 99241, G0444, G9572]</td>\n",
       "      <td>[2013-04-23, 2016-01-15, 2020-06-02]</td>\n",
       "      <td>...</td>\n",
       "      <td>NaN</td>\n",
       "      <td>NaN</td>\n",
       "      <td>NaN</td>\n",
       "      <td>NaN</td>\n",
       "      <td>NaN</td>\n",
       "      <td>NaN</td>\n",
       "      <td>NaN</td>\n",
       "      <td>NaN</td>\n",
       "      <td>NaN</td>\n",
       "      <td>NaN</td>\n",
       "    </tr>\n",
       "    <tr>\n",
       "      <th>1</th>\n",
       "      <td>1S00E00AA23</td>\n",
       "      <td>B.</td>\n",
       "      <td>Hagene</td>\n",
       "      <td>female</td>\n",
       "      <td>NaN</td>\n",
       "      <td>1</td>\n",
       "      <td>[]</td>\n",
       "      <td>[J329, E785, P292]</td>\n",
       "      <td>[G0444, G9572]</td>\n",
       "      <td>[2014-04-13]</td>\n",
       "      <td>...</td>\n",
       "      <td>NaN</td>\n",
       "      <td>NaN</td>\n",
       "      <td>NaN</td>\n",
       "      <td>NaN</td>\n",
       "      <td>NaN</td>\n",
       "      <td>NaN</td>\n",
       "      <td>NaN</td>\n",
       "      <td>NaN</td>\n",
       "      <td>NaN</td>\n",
       "      <td>NaN</td>\n",
       "    </tr>\n",
       "    <tr>\n",
       "      <th>2</th>\n",
       "      <td>1S00E00AA25</td>\n",
       "      <td>Carlota980</td>\n",
       "      <td>Gamez720</td>\n",
       "      <td>female</td>\n",
       "      <td>1947-04-15</td>\n",
       "      <td>2</td>\n",
       "      <td>[]</td>\n",
       "      <td>[E669, D649, K635, O039, M810, J329, E669, D64...</td>\n",
       "      <td>[G0444, 99241]</td>\n",
       "      <td>[2012-07-18, 2021-11-23]</td>\n",
       "      <td>...</td>\n",
       "      <td>NaN</td>\n",
       "      <td>NaN</td>\n",
       "      <td>NaN</td>\n",
       "      <td>NaN</td>\n",
       "      <td>NaN</td>\n",
       "      <td>NaN</td>\n",
       "      <td>NaN</td>\n",
       "      <td>NaN</td>\n",
       "      <td>NaN</td>\n",
       "      <td>NaN</td>\n",
       "    </tr>\n",
       "    <tr>\n",
       "      <th>3</th>\n",
       "      <td>1S00E00AA32</td>\n",
       "      <td>Denny560</td>\n",
       "      <td>Watsica258</td>\n",
       "      <td>male</td>\n",
       "      <td>1945-06-09</td>\n",
       "      <td>3</td>\n",
       "      <td>[]</td>\n",
       "      <td>[P292, E669, I2510, B349, J329, I10, E669, I25...</td>\n",
       "      <td>[99241, 99241, 99241]</td>\n",
       "      <td>[2015-05-12, 2021-02-20, 2021-03-20]</td>\n",
       "      <td>...</td>\n",
       "      <td>NaN</td>\n",
       "      <td>NaN</td>\n",
       "      <td>NaN</td>\n",
       "      <td>NaN</td>\n",
       "      <td>NaN</td>\n",
       "      <td>NaN</td>\n",
       "      <td>NaN</td>\n",
       "      <td>NaN</td>\n",
       "      <td>NaN</td>\n",
       "      <td>NaN</td>\n",
       "    </tr>\n",
       "    <tr>\n",
       "      <th>4</th>\n",
       "      <td>1S00E00AA54</td>\n",
       "      <td>Lashawnda5</td>\n",
       "      <td>Greenfelder433</td>\n",
       "      <td>female</td>\n",
       "      <td>1950-12-23</td>\n",
       "      <td>11</td>\n",
       "      <td>[]</td>\n",
       "      <td>[E119, R739, E781, E8881, D649, E11319, P292, ...</td>\n",
       "      <td>[G0444, 99241, 99241, 99241, 99241, G0444, 992...</td>\n",
       "      <td>[2012-10-27, 2013-01-26, 2014-06-21, 2014-07-2...</td>\n",
       "      <td>...</td>\n",
       "      <td>NaN</td>\n",
       "      <td>NaN</td>\n",
       "      <td>NaN</td>\n",
       "      <td>NaN</td>\n",
       "      <td>NaN</td>\n",
       "      <td>NaN</td>\n",
       "      <td>NaN</td>\n",
       "      <td>NaN</td>\n",
       "      <td>NaN</td>\n",
       "      <td>NaN</td>\n",
       "    </tr>\n",
       "  </tbody>\n",
       "</table>\n",
       "<p>5 rows × 1036 columns</p>\n",
       "</div>"
      ],
      "text/plain": [
       "  patient_medicare_number patient_first_name patient_last_name  gender  \\\n",
       "0             1S00E00AA10         Brandon214            Roob72  female   \n",
       "1             1S00E00AA23                 B.            Hagene  female   \n",
       "2             1S00E00AA25         Carlota980          Gamez720  female   \n",
       "3             1S00E00AA32           Denny560        Watsica258    male   \n",
       "4             1S00E00AA54         Lashawnda5    Greenfelder433  female   \n",
       "\n",
       "    birthdate  number_of_claims drg_ls  \\\n",
       "0  1946-01-15                 3     []   \n",
       "1         NaN                 1     []   \n",
       "2  1947-04-15                 2     []   \n",
       "3  1945-06-09                 3     []   \n",
       "4  1950-12-23                11     []   \n",
       "\n",
       "                               combined_diagnosis_ls  \\\n",
       "0               [O039, O039, B085, B002, O039, J029]   \n",
       "1                                 [J329, E785, P292]   \n",
       "2  [E669, D649, K635, O039, M810, J329, E669, D64...   \n",
       "3  [P292, E669, I2510, B349, J329, I10, E669, I25...   \n",
       "4  [E119, R739, E781, E8881, D649, E11319, P292, ...   \n",
       "\n",
       "                                   combined_hcpcs_ls  \\\n",
       "0                       [G0444, 99241, G0444, G9572]   \n",
       "1                                     [G0444, G9572]   \n",
       "2                                     [G0444, 99241]   \n",
       "3                              [99241, 99241, 99241]   \n",
       "4  [G0444, 99241, 99241, 99241, 99241, G0444, 992...   \n",
       "\n",
       "                             billablePeriod_start_ls  ... category_336  \\\n",
       "0               [2013-04-23, 2016-01-15, 2020-06-02]  ...          NaN   \n",
       "1                                       [2014-04-13]  ...          NaN   \n",
       "2                           [2012-07-18, 2021-11-23]  ...          NaN   \n",
       "3               [2015-05-12, 2021-02-20, 2021-03-20]  ...          NaN   \n",
       "4  [2012-10-27, 2013-01-26, 2014-06-21, 2014-07-2...  ...          NaN   \n",
       "\n",
       "  description_336  category_337 description_337 category_338 description_338  \\\n",
       "0             NaN           NaN             NaN          NaN             NaN   \n",
       "1             NaN           NaN             NaN          NaN             NaN   \n",
       "2             NaN           NaN             NaN          NaN             NaN   \n",
       "3             NaN           NaN             NaN          NaN             NaN   \n",
       "4             NaN           NaN             NaN          NaN             NaN   \n",
       "\n",
       "  category_339 description_339 category_340 description_340  \n",
       "0          NaN             NaN          NaN             NaN  \n",
       "1          NaN             NaN          NaN             NaN  \n",
       "2          NaN             NaN          NaN             NaN  \n",
       "3          NaN             NaN          NaN             NaN  \n",
       "4          NaN             NaN          NaN             NaN  \n",
       "\n",
       "[5 rows x 1036 columns]"
      ]
     },
     "execution_count": 164,
     "metadata": {},
     "output_type": "execute_result"
    }
   ],
   "source": [
    "df_hcpcs_combined.head()"
   ]
  },
  {
   "cell_type": "markdown",
   "metadata": {},
   "source": [
    "# Time interval between claims\n",
    "\n",
    "Using `billablePeriod_end_ls`, sort and compare the time interval of days between each claim. Then expand it out into individual columns"
   ]
  },
  {
   "cell_type": "code",
   "execution_count": 47,
   "metadata": {},
   "outputs": [],
   "source": [
    "def days_between_claim(item):\n",
    "  sorted_dates = pd.to_datetime(pd.Series(item)).sort_values().reset_index(drop=True)\n",
    "  return sorted_dates.diff().dt.days.dropna().astype(int).tolist()"
   ]
  },
  {
   "cell_type": "code",
   "execution_count": 48,
   "metadata": {},
   "outputs": [
    {
     "data": {
      "text/html": [
       "<div>\n",
       "<style scoped>\n",
       "    .dataframe tbody tr th:only-of-type {\n",
       "        vertical-align: middle;\n",
       "    }\n",
       "\n",
       "    .dataframe tbody tr th {\n",
       "        vertical-align: top;\n",
       "    }\n",
       "\n",
       "    .dataframe thead th {\n",
       "        text-align: right;\n",
       "    }\n",
       "</style>\n",
       "<table border=\"1\" class=\"dataframe\">\n",
       "  <thead>\n",
       "    <tr style=\"text-align: right;\">\n",
       "      <th></th>\n",
       "      <th>day_interval_0</th>\n",
       "      <th>day_interval_1</th>\n",
       "      <th>day_interval_2</th>\n",
       "      <th>day_interval_3</th>\n",
       "      <th>day_interval_4</th>\n",
       "      <th>day_interval_5</th>\n",
       "      <th>day_interval_6</th>\n",
       "      <th>day_interval_7</th>\n",
       "      <th>day_interval_8</th>\n",
       "      <th>day_interval_9</th>\n",
       "      <th>...</th>\n",
       "      <th>day_interval_73</th>\n",
       "      <th>day_interval_74</th>\n",
       "      <th>day_interval_75</th>\n",
       "      <th>day_interval_76</th>\n",
       "      <th>day_interval_77</th>\n",
       "      <th>day_interval_78</th>\n",
       "      <th>day_interval_79</th>\n",
       "      <th>day_interval_80</th>\n",
       "      <th>day_interval_81</th>\n",
       "      <th>day_interval_82</th>\n",
       "    </tr>\n",
       "  </thead>\n",
       "  <tbody>\n",
       "    <tr>\n",
       "      <th>0</th>\n",
       "      <td>997.0</td>\n",
       "      <td>1600.0</td>\n",
       "      <td>NaN</td>\n",
       "      <td>NaN</td>\n",
       "      <td>NaN</td>\n",
       "      <td>NaN</td>\n",
       "      <td>NaN</td>\n",
       "      <td>NaN</td>\n",
       "      <td>NaN</td>\n",
       "      <td>NaN</td>\n",
       "      <td>...</td>\n",
       "      <td>NaN</td>\n",
       "      <td>NaN</td>\n",
       "      <td>NaN</td>\n",
       "      <td>NaN</td>\n",
       "      <td>NaN</td>\n",
       "      <td>NaN</td>\n",
       "      <td>NaN</td>\n",
       "      <td>NaN</td>\n",
       "      <td>NaN</td>\n",
       "      <td>NaN</td>\n",
       "    </tr>\n",
       "    <tr>\n",
       "      <th>1</th>\n",
       "      <td>NaN</td>\n",
       "      <td>NaN</td>\n",
       "      <td>NaN</td>\n",
       "      <td>NaN</td>\n",
       "      <td>NaN</td>\n",
       "      <td>NaN</td>\n",
       "      <td>NaN</td>\n",
       "      <td>NaN</td>\n",
       "      <td>NaN</td>\n",
       "      <td>NaN</td>\n",
       "      <td>...</td>\n",
       "      <td>NaN</td>\n",
       "      <td>NaN</td>\n",
       "      <td>NaN</td>\n",
       "      <td>NaN</td>\n",
       "      <td>NaN</td>\n",
       "      <td>NaN</td>\n",
       "      <td>NaN</td>\n",
       "      <td>NaN</td>\n",
       "      <td>NaN</td>\n",
       "      <td>NaN</td>\n",
       "    </tr>\n",
       "    <tr>\n",
       "      <th>2</th>\n",
       "      <td>3415.0</td>\n",
       "      <td>NaN</td>\n",
       "      <td>NaN</td>\n",
       "      <td>NaN</td>\n",
       "      <td>NaN</td>\n",
       "      <td>NaN</td>\n",
       "      <td>NaN</td>\n",
       "      <td>NaN</td>\n",
       "      <td>NaN</td>\n",
       "      <td>NaN</td>\n",
       "      <td>...</td>\n",
       "      <td>NaN</td>\n",
       "      <td>NaN</td>\n",
       "      <td>NaN</td>\n",
       "      <td>NaN</td>\n",
       "      <td>NaN</td>\n",
       "      <td>NaN</td>\n",
       "      <td>NaN</td>\n",
       "      <td>NaN</td>\n",
       "      <td>NaN</td>\n",
       "      <td>NaN</td>\n",
       "    </tr>\n",
       "    <tr>\n",
       "      <th>3</th>\n",
       "      <td>2111.0</td>\n",
       "      <td>28.0</td>\n",
       "      <td>NaN</td>\n",
       "      <td>NaN</td>\n",
       "      <td>NaN</td>\n",
       "      <td>NaN</td>\n",
       "      <td>NaN</td>\n",
       "      <td>NaN</td>\n",
       "      <td>NaN</td>\n",
       "      <td>NaN</td>\n",
       "      <td>...</td>\n",
       "      <td>NaN</td>\n",
       "      <td>NaN</td>\n",
       "      <td>NaN</td>\n",
       "      <td>NaN</td>\n",
       "      <td>NaN</td>\n",
       "      <td>NaN</td>\n",
       "      <td>NaN</td>\n",
       "      <td>NaN</td>\n",
       "      <td>NaN</td>\n",
       "      <td>NaN</td>\n",
       "    </tr>\n",
       "    <tr>\n",
       "      <th>4</th>\n",
       "      <td>91.0</td>\n",
       "      <td>511.0</td>\n",
       "      <td>35.0</td>\n",
       "      <td>931.0</td>\n",
       "      <td>595.0</td>\n",
       "      <td>462.0</td>\n",
       "      <td>147.0</td>\n",
       "      <td>21.0</td>\n",
       "      <td>273.0</td>\n",
       "      <td>91.0</td>\n",
       "      <td>...</td>\n",
       "      <td>NaN</td>\n",
       "      <td>NaN</td>\n",
       "      <td>NaN</td>\n",
       "      <td>NaN</td>\n",
       "      <td>NaN</td>\n",
       "      <td>NaN</td>\n",
       "      <td>NaN</td>\n",
       "      <td>NaN</td>\n",
       "      <td>NaN</td>\n",
       "      <td>NaN</td>\n",
       "    </tr>\n",
       "  </tbody>\n",
       "</table>\n",
       "<p>5 rows × 83 columns</p>\n",
       "</div>"
      ],
      "text/plain": [
       "   day_interval_0  day_interval_1  day_interval_2  day_interval_3  \\\n",
       "0           997.0          1600.0             NaN             NaN   \n",
       "1             NaN             NaN             NaN             NaN   \n",
       "2          3415.0             NaN             NaN             NaN   \n",
       "3          2111.0            28.0             NaN             NaN   \n",
       "4            91.0           511.0            35.0           931.0   \n",
       "\n",
       "   day_interval_4  day_interval_5  day_interval_6  day_interval_7  \\\n",
       "0             NaN             NaN             NaN             NaN   \n",
       "1             NaN             NaN             NaN             NaN   \n",
       "2             NaN             NaN             NaN             NaN   \n",
       "3             NaN             NaN             NaN             NaN   \n",
       "4           595.0           462.0           147.0            21.0   \n",
       "\n",
       "   day_interval_8  day_interval_9  ...  day_interval_73  day_interval_74  \\\n",
       "0             NaN             NaN  ...              NaN              NaN   \n",
       "1             NaN             NaN  ...              NaN              NaN   \n",
       "2             NaN             NaN  ...              NaN              NaN   \n",
       "3             NaN             NaN  ...              NaN              NaN   \n",
       "4           273.0            91.0  ...              NaN              NaN   \n",
       "\n",
       "   day_interval_75  day_interval_76  day_interval_77  day_interval_78  \\\n",
       "0              NaN              NaN              NaN              NaN   \n",
       "1              NaN              NaN              NaN              NaN   \n",
       "2              NaN              NaN              NaN              NaN   \n",
       "3              NaN              NaN              NaN              NaN   \n",
       "4              NaN              NaN              NaN              NaN   \n",
       "\n",
       "   day_interval_79  day_interval_80  day_interval_81  day_interval_82  \n",
       "0              NaN              NaN              NaN              NaN  \n",
       "1              NaN              NaN              NaN              NaN  \n",
       "2              NaN              NaN              NaN              NaN  \n",
       "3              NaN              NaN              NaN              NaN  \n",
       "4              NaN              NaN              NaN              NaN  \n",
       "\n",
       "[5 rows x 83 columns]"
      ]
     },
     "execution_count": 48,
     "metadata": {},
     "output_type": "execute_result"
    }
   ],
   "source": [
    "day_interval = pd.DataFrame(df['billablePeriod_end_ls'].apply(days_between_claim))\n",
    "day_maxlen = max(day_interval['billablePeriod_end_ls'].str.len())\n",
    "df_day_interval = pd.DataFrame(day_interval['billablePeriod_end_ls'].to_list(), columns=[f\"day_interval_{i}\" for i in range(day_maxlen)])\n",
    "df_day_interval.head()"
   ]
  },
  {
   "cell_type": "markdown",
   "metadata": {},
   "source": [
    "## EDA"
   ]
  },
  {
   "cell_type": "markdown",
   "metadata": {},
   "source": [
    "## Breakdown of procedures\n",
    "\n",
    "NOTE: This is on the `claim_mini_sample` dataset (10,000 entries)\n",
    "\n",
    "- Most common description of procedures done are:\n",
    "  1. Evaluation and Management (E/M) Codes (HCPCS Level I)\n",
    "  2. Procedures/Professional Services (HCPCS Level II)\n",
    "- Other codes include\n",
    "  1. Alcohol and Drug Abuse Treatment\n",
    "  2. National Codes Established for State Medicaid Agencies"
   ]
  },
  {
   "cell_type": "code",
   "execution_count": 23,
   "metadata": {},
   "outputs": [],
   "source": [
    "def countplot_with_labels(l, title):\n",
    "  ax = sns.countplot(l, palette='pastel')\n",
    "\n",
    "  for p in ax.patches:\n",
    "    ax.text(\n",
    "      p.get_width() + 1,\n",
    "      p.get_y() + p.get_height() / 2,\n",
    "      int(p.get_width()),\n",
    "      ha=\"center\",\n",
    "      va=\"center\",\n",
    "      color=\"black\",\n",
    "      fontsize=12,\n",
    "      fontweight=\"bold\"\n",
    "    )\n",
    "  \n",
    "  plt.title(title)\n",
    "\n",
    "  return plt"
   ]
  },
  {
   "cell_type": "markdown",
   "metadata": {},
   "source": [
    "In totality, what is the distribution of HCPCS codes across all claims"
   ]
  },
  {
   "cell_type": "code",
   "execution_count": 24,
   "metadata": {},
   "outputs": [],
   "source": [
    "all_hcpcs = df['combined_hcpcs_ls'].explode().reset_index()\n",
    "all_hcpcs = all_hcpcs.merge(\n",
    "  combined_mapper,\n",
    "  left_on='combined_hcpcs_ls',\n",
    "  right_on='code',\n",
    "  how='left'\n",
    ")\n",
    "all_hcpcs = all_hcpcs.drop(['index', 'code'], axis=1)\n",
    "all_hcpcs = all_hcpcs.fillna(\"Unknown\")"
   ]
  },
  {
   "cell_type": "code",
   "execution_count": 183,
   "metadata": {},
   "outputs": [
    {
     "name": "stderr",
     "output_type": "stream",
     "text": [
      "C:\\Users\\User\\AppData\\Local\\Temp\\ipykernel_1032\\2240585470.py:2: FutureWarning: \n",
      "\n",
      "Passing `palette` without assigning `hue` is deprecated and will be removed in v0.14.0. Assign the `y` variable to `hue` and set `legend=False` for the same effect.\n",
      "\n",
      "  ax = sns.countplot(l, palette='pastel')\n"
     ]
    },
    {
     "data": {
      "text/plain": [
       "<module 'matplotlib.pyplot' from 'd:\\\\MADS\\\\SIADS 696 - Milestone II\\\\siads_696_mII\\\\.venv\\\\Lib\\\\site-packages\\\\matplotlib\\\\pyplot.py'>"
      ]
     },
     "execution_count": 183,
     "metadata": {},
     "output_type": "execute_result"
    },
    {
     "data": {
      "image/png": "[encoded data removed]",
      "text/plain": [
       "<Figure size 640x480 with 1 Axes>"
      ]
     },
     "metadata": {},
     "output_type": "display_data"
    }
   ],
   "source": [
    "countplot_with_labels(all_hcpcs['category'], \"Breakdown of Category for HCPCS\")"
   ]
  },
  {
   "cell_type": "code",
   "execution_count": 25,
   "metadata": {},
   "outputs": [
    {
     "name": "stderr",
     "output_type": "stream",
     "text": [
      "/var/folders/h7/vnb5cqf52l31_n7r6zv3j6z80000gn/T/ipykernel_63434/2240585470.py:2: FutureWarning: \n",
      "\n",
      "Passing `palette` without assigning `hue` is deprecated and will be removed in v0.14.0. Assign the `y` variable to `hue` and set `legend=False` for the same effect.\n",
      "\n",
      "  ax = sns.countplot(l, palette='pastel')\n"
     ]
    },
    {
     "data": {
      "text/plain": [
       "<module 'matplotlib.pyplot' from '/Users/adriennemartz/Library/Mobile Documents/com~apple~CloudDocs/MADS/SIADS 696 Milestone II/git_repo/siads_696_mII/.venv/lib/python3.13/site-packages/matplotlib/pyplot.py'>"
      ]
     },
     "execution_count": 25,
     "metadata": {},
     "output_type": "execute_result"
    },
    {
     "data": {
      "image/png": "[encoded data removed]",
      "text/plain": [
       "<Figure size 640x480 with 1 Axes>"
      ]
     },
     "metadata": {},
     "output_type": "display_data"
    }
   ],
   "source": [
    "countplot_with_labels(all_hcpcs['description'], \"Breakdown of Descriptions for HCPCS\")"
   ]
  },
  {
   "cell_type": "markdown",
   "metadata": {},
   "source": [
    "Compare for the first and second HCPCS, what are the most common category of procedures done"
   ]
  },
  {
   "cell_type": "code",
   "execution_count": 26,
   "metadata": {},
   "outputs": [
    {
     "data": {
      "text/html": [
       "<div>\n",
       "<style scoped>\n",
       "    .dataframe tbody tr th:only-of-type {\n",
       "        vertical-align: middle;\n",
       "    }\n",
       "\n",
       "    .dataframe tbody tr th {\n",
       "        vertical-align: top;\n",
       "    }\n",
       "\n",
       "    .dataframe thead th {\n",
       "        text-align: right;\n",
       "    }\n",
       "</style>\n",
       "<table border=\"1\" class=\"dataframe\">\n",
       "  <thead>\n",
       "    <tr style=\"text-align: right;\">\n",
       "      <th></th>\n",
       "      <th>description_0</th>\n",
       "      <th>description_1</th>\n",
       "    </tr>\n",
       "  </thead>\n",
       "  <tbody>\n",
       "    <tr>\n",
       "      <th>0</th>\n",
       "      <td>Procedures/Professional Services</td>\n",
       "      <td>NaN</td>\n",
       "    </tr>\n",
       "    <tr>\n",
       "      <th>1</th>\n",
       "      <td>Procedures/Professional Services</td>\n",
       "      <td>Procedures/Professional Services</td>\n",
       "    </tr>\n",
       "    <tr>\n",
       "      <th>2</th>\n",
       "      <td>Procedures/Professional Services</td>\n",
       "      <td>NaN</td>\n",
       "    </tr>\n",
       "    <tr>\n",
       "      <th>3</th>\n",
       "      <td>NaN</td>\n",
       "      <td>NaN</td>\n",
       "    </tr>\n",
       "    <tr>\n",
       "      <th>4</th>\n",
       "      <td>Procedures/Professional Services</td>\n",
       "      <td>NaN</td>\n",
       "    </tr>\n",
       "  </tbody>\n",
       "</table>\n",
       "</div>"
      ],
      "text/plain": [
       "                      description_0                     description_1\n",
       "0  Procedures/Professional Services                               NaN\n",
       "1  Procedures/Professional Services  Procedures/Professional Services\n",
       "2  Procedures/Professional Services                               NaN\n",
       "3                               NaN                               NaN\n",
       "4  Procedures/Professional Services                               NaN"
      ]
     },
     "execution_count": 26,
     "metadata": {},
     "output_type": "execute_result"
    }
   ],
   "source": [
    "df_plot = df_hcpcs_combined[['description_0', 'description_1']]\n",
    "df_plot.head()"
   ]
  },
  {
   "cell_type": "code",
   "execution_count": 27,
   "metadata": {},
   "outputs": [
    {
     "name": "stderr",
     "output_type": "stream",
     "text": [
      "/var/folders/h7/vnb5cqf52l31_n7r6zv3j6z80000gn/T/ipykernel_63434/2240585470.py:2: FutureWarning: \n",
      "\n",
      "Passing `palette` without assigning `hue` is deprecated and will be removed in v0.14.0. Assign the `y` variable to `hue` and set `legend=False` for the same effect.\n",
      "\n",
      "  ax = sns.countplot(l, palette='pastel')\n"
     ]
    },
    {
     "data": {
      "text/plain": [
       "<module 'matplotlib.pyplot' from '/Users/adriennemartz/Library/Mobile Documents/com~apple~CloudDocs/MADS/SIADS 696 Milestone II/git_repo/siads_696_mII/.venv/lib/python3.13/site-packages/matplotlib/pyplot.py'>"
      ]
     },
     "execution_count": 27,
     "metadata": {},
     "output_type": "execute_result"
    },
    {
     "data": {
      "image/png": "[encoded data removed]",
      "text/plain": [
       "<Figure size 640x480 with 1 Axes>"
      ]
     },
     "metadata": {},
     "output_type": "display_data"
    }
   ],
   "source": [
    "countplot_with_labels(df_plot['description_0'], \"Breakdown of First Procedure\")"
   ]
  },
  {
   "cell_type": "code",
   "execution_count": 28,
   "metadata": {},
   "outputs": [
    {
     "name": "stderr",
     "output_type": "stream",
     "text": [
      "/var/folders/h7/vnb5cqf52l31_n7r6zv3j6z80000gn/T/ipykernel_63434/2240585470.py:2: FutureWarning: \n",
      "\n",
      "Passing `palette` without assigning `hue` is deprecated and will be removed in v0.14.0. Assign the `y` variable to `hue` and set `legend=False` for the same effect.\n",
      "\n",
      "  ax = sns.countplot(l, palette='pastel')\n"
     ]
    },
    {
     "data": {
      "text/plain": [
       "<module 'matplotlib.pyplot' from '/Users/adriennemartz/Library/Mobile Documents/com~apple~CloudDocs/MADS/SIADS 696 Milestone II/git_repo/siads_696_mII/.venv/lib/python3.13/site-packages/matplotlib/pyplot.py'>"
      ]
     },
     "execution_count": 28,
     "metadata": {},
     "output_type": "execute_result"
    },
    {
     "data": {
      "image/png": "[encoded data removed]",
      "text/plain": [
       "<Figure size 640x480 with 1 Axes>"
      ]
     },
     "metadata": {},
     "output_type": "display_data"
    }
   ],
   "source": [
    "countplot_with_labels(df_hcpcs_combined['description_3'], \"Breakdown of Second Procedure\")"
   ]
  },
  {
   "cell_type": "markdown",
   "metadata": {},
   "source": [
    "## How long between claim submissions"
   ]
  },
  {
   "cell_type": "code",
   "execution_count": 29,
   "metadata": {},
   "outputs": [
    {
     "data": {
      "image/png": "[encoded data removed]",
      "text/plain": [
       "<Figure size 640x480 with 1 Axes>"
      ]
     },
     "metadata": {},
     "output_type": "display_data"
    }
   ],
   "source": [
    "plt.hist(day_interval.explode('billablePeriod_end_ls'), bins=50)\n",
    "plt.title(\"Histogram of all Day Intervals between Claim Submissions\")\n",
    "plt.show()"
   ]
  },
  {
   "cell_type": "code",
   "execution_count": 211,
   "metadata": {},
   "outputs": [
    {
     "data": {
      "text/plain": [
       "Text(0.5, 1.0, 'How long between the first and second claim submissions in Days')"
      ]
     },
     "execution_count": 211,
     "metadata": {},
     "output_type": "execute_result"
    },
    {
     "data": {
      "image/png": "[encoded data removed]",
      "text/plain": [
       "<Figure size 640x480 with 1 Axes>"
      ]
     },
     "metadata": {},
     "output_type": "display_data"
    }
   ],
   "source": [
    "plt.hist(df_day_interval['day_interval_0'])\n",
    "plt.title('How long between the first and second claim submissions in Days')"
   ]
  },
  {
   "cell_type": "markdown",
   "metadata": {},
   "source": [
    "## Variable Encoding"
   ]
  },
  {
   "cell_type": "markdown",
   "metadata": {},
   "source": [
    "Will make three datasets with three different versions of the features:\n",
    "- df_lab_enc: will have the hcpcs columns encoded using label encoding\n",
    "- df_freq_enc: will have the hcpcs columns encoded using frequency encoding\n",
    "- df_TD_enc: will use the combined_hcpcs_ls column and treat it like a bag of words problem and use a TD-IDF transformation"
   ]
  },
  {
   "cell_type": "code",
   "execution_count": 204,
   "metadata": {},
   "outputs": [],
   "source": [
    "# create copies of the dataset\n",
    "df_lab_enc = df_hcpcs_combined.copy()\n",
    "df_freq_enc = df_hcpcs_combined.copy()\n",
    "df_TD_enc = df_hcpcs_combined.copy()"
   ]
  },
  {
   "cell_type": "code",
   "execution_count": null,
   "metadata": {},
   "outputs": [],
   "source": [
    "# create a list of hcpcs columns\n",
    "# first col in list needs to be dropped\n",
    "hcpcs_cols = df_lab_enc.columns[df_lab_enc.columns.str.contains(\"hcpcs\")][1:]\n",
    "\n",
    "# create a dataframe of unique hcpcs values for encoding\n",
    "ls = list(set(value for sublist in df_hcpcs_combined['combined_hcpcs_ls'] for value in sublist))\n",
    "# new hcpcs columns are filled with nan\n",
    "ls.append(np.nan)\n",
    "df_unique_hcpcs = pd.DataFrame( {'unique_hcpcs': ls})\n"
   ]
  },
  {
   "cell_type": "markdown",
   "metadata": {},
   "source": [
    "Label Encoding"
   ]
  },
  {
   "cell_type": "code",
   "execution_count": 208,
   "metadata": {},
   "outputs": [],
   "source": [
    "# create instance of label encoder\n",
    "le = LabelEncoder()\n",
    "# perform label encoding on first hcpcs column\n",
    "le.fit(df_unique_hcpcs['unique_hcpcs'])\n",
    " \n",
    "# apply same encoder to rest of columns\n",
    "for col in hcpcs_cols:\n",
    "    df_lab_enc[col + '_enc'] = le.transform(df_lab_enc[col])\n"
   ]
  },
  {
   "cell_type": "code",
   "execution_count": 226,
   "metadata": {},
   "outputs": [
    {
     "data": {
      "text/html": [
       "<div>\n",
       "<style scoped>\n",
       "    .dataframe tbody tr th:only-of-type {\n",
       "        vertical-align: middle;\n",
       "    }\n",
       "\n",
       "    .dataframe tbody tr th {\n",
       "        vertical-align: top;\n",
       "    }\n",
       "\n",
       "    .dataframe thead th {\n",
       "        text-align: right;\n",
       "    }\n",
       "</style>\n",
       "<table border=\"1\" class=\"dataframe\">\n",
       "  <thead>\n",
       "    <tr style=\"text-align: right;\">\n",
       "      <th></th>\n",
       "      <th>hcpcs_0</th>\n",
       "      <th>hcpcs_0_enc</th>\n",
       "      <th>hcpcs_1</th>\n",
       "      <th>hcpcs_1_enc</th>\n",
       "      <th>hcpcs_2</th>\n",
       "      <th>hcpcs_2_enc</th>\n",
       "    </tr>\n",
       "  </thead>\n",
       "  <tbody>\n",
       "    <tr>\n",
       "      <th>0</th>\n",
       "      <td>G0444</td>\n",
       "      <td>17</td>\n",
       "      <td>99241</td>\n",
       "      <td>1</td>\n",
       "      <td>G0444</td>\n",
       "      <td>17</td>\n",
       "    </tr>\n",
       "    <tr>\n",
       "      <th>1</th>\n",
       "      <td>G0444</td>\n",
       "      <td>17</td>\n",
       "      <td>G9572</td>\n",
       "      <td>21</td>\n",
       "      <td>NaN</td>\n",
       "      <td>39</td>\n",
       "    </tr>\n",
       "    <tr>\n",
       "      <th>2</th>\n",
       "      <td>G0444</td>\n",
       "      <td>17</td>\n",
       "      <td>99241</td>\n",
       "      <td>1</td>\n",
       "      <td>NaN</td>\n",
       "      <td>39</td>\n",
       "    </tr>\n",
       "    <tr>\n",
       "      <th>3</th>\n",
       "      <td>99241</td>\n",
       "      <td>1</td>\n",
       "      <td>99241</td>\n",
       "      <td>1</td>\n",
       "      <td>99241</td>\n",
       "      <td>1</td>\n",
       "    </tr>\n",
       "    <tr>\n",
       "      <th>4</th>\n",
       "      <td>G0444</td>\n",
       "      <td>17</td>\n",
       "      <td>99241</td>\n",
       "      <td>1</td>\n",
       "      <td>99241</td>\n",
       "      <td>1</td>\n",
       "    </tr>\n",
       "  </tbody>\n",
       "</table>\n",
       "</div>"
      ],
      "text/plain": [
       "  hcpcs_0  hcpcs_0_enc hcpcs_1  hcpcs_1_enc hcpcs_2  hcpcs_2_enc\n",
       "0   G0444           17   99241            1   G0444           17\n",
       "1   G0444           17   G9572           21     NaN           39\n",
       "2   G0444           17   99241            1     NaN           39\n",
       "3   99241            1   99241            1   99241            1\n",
       "4   G0444           17   99241            1   99241            1"
      ]
     },
     "execution_count": 226,
     "metadata": {},
     "output_type": "execute_result"
    }
   ],
   "source": [
    "# check encodings\n",
    "df_lab_enc[['hcpcs_0', 'hcpcs_0_enc', 'hcpcs_1', 'hcpcs_1_enc', 'hcpcs_2', 'hcpcs_2_enc']].head()"
   ]
  },
  {
   "cell_type": "code",
   "execution_count": null,
   "metadata": {},
   "outputs": [],
   "source": [
    "df_lab_enc = df_lab_enc.drop(hcpcs_cols, axis = 1)"
   ]
  },
  {
   "cell_type": "code",
   "execution_count": 220,
   "metadata": {},
   "outputs": [],
   "source": [
    "df_lab_enc.to_pickle(\"../data/clean/patient_level_lab_enc.pkl\")"
   ]
  },
  {
   "cell_type": "markdown",
   "metadata": {},
   "source": [
    "Frequency Encoded"
   ]
  },
  {
   "cell_type": "code",
   "execution_count": null,
   "metadata": {},
   "outputs": [],
   "source": []
  },
  {
   "cell_type": "code",
   "execution_count": null,
   "metadata": {},
   "outputs": [],
   "source": []
  },
  {
   "cell_type": "code",
   "execution_count": null,
   "metadata": {},
   "outputs": [],
   "source": []
  },
  {
   "cell_type": "code",
   "execution_count": null,
   "metadata": {},
   "outputs": [],
   "source": [
    "%watermark"
   ]
  }
 ],
 "metadata": {
  "kernelspec": {
   "display_name": ".venv (3.13.7)",
   "language": "python",
   "name": "python3"
  },
  "language_info": {
   "codemirror_mode": {
    "name": "ipython",
    "version": 3
   },
   "file_extension": ".py",
   "mimetype": "text/x-python",
   "name": "python",
   "nbconvert_exporter": "python",
   "pygments_lexer": "ipython3",
   "version": "3.13.7"
  }
 },
 "nbformat": 4,
 "nbformat_minor": 2
}
